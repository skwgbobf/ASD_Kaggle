{
 "cells": [
  {
   "cell_type": "markdown",
   "metadata": {},
   "source": [
    "6. Kaggle2_RoBERTa_Transfer_learning_Classification\n",
    "•\tFinetuned RoBERTa on Data2 children\n",
    "\n",
    "\n",
    "- Soo Kyung Bae(Scarlett), Ph.D. Student\n",
    "- Dept. of Integrated Medicine(Major in Digital Healthcare)\n",
    "- Yonsei University College of Medicine"
   ]
  },
  {
   "cell_type": "code",
   "execution_count": 1,
   "metadata": {},
   "outputs": [],
   "source": [
    "## Import Data\n",
    "\n",
    "import pandas as pd\n",
    "import matplotlib.pyplot as plt"
   ]
  },
  {
   "cell_type": "code",
   "execution_count": null,
   "metadata": {},
   "outputs": [],
   "source": [
    "##############Kaggel2 to apply kaggle1_model finedtuned RoBERTa##############"
   ]
  },
  {
   "cell_type": "code",
   "execution_count": 2,
   "metadata": {},
   "outputs": [
    {
     "data": {
      "text/plain": [
       "'/home/skbae/Documents/skbae/ASD/paper/Pgm/Final/Submitted'"
      ]
     },
     "execution_count": 2,
     "metadata": {},
     "output_type": "execute_result"
    }
   ],
   "source": [
    "import os\n",
    "os.getcwd()"
   ]
  },
  {
   "cell_type": "code",
   "execution_count": 92,
   "metadata": {},
   "outputs": [],
   "source": [
    "pt = '/home/skbae/Documents/skbae/ASD/paper/Data/'"
   ]
  },
  {
   "cell_type": "code",
   "execution_count": null,
   "metadata": {},
   "outputs": [],
   "source": [
    "# For 2nd Kaggla ASD data "
   ]
  },
  {
   "cell_type": "code",
   "execution_count": null,
   "metadata": {},
   "outputs": [],
   "source": [
    "# preprocessed Kagge2 data import"
   ]
  },
  {
   "cell_type": "code",
   "execution_count": 37,
   "metadata": {},
   "outputs": [],
   "source": [
    "import pandas as pd\n",
    "\n",
    "T_ASD2 = pd.read_csv('./output/ASD_CSV_T_ASD2_Feb23.csv')"
   ]
  },
  {
   "cell_type": "code",
   "execution_count": 38,
   "metadata": {},
   "outputs": [
    {
     "data": {
      "text/plain": [
       "Index(['CASE_NO_PATIENT'S', 'A1', 'A2', 'A3', 'A4', 'A5', 'A6', 'A7', 'A8',\n",
       "       'A9', 'A10_Autism_Spectrum_Quotient', 'Social_Responsiveness_Scale',\n",
       "       'Age_Years', 'Qchat_10_Score', 'Speech Delay/Language Disorder',\n",
       "       'Learning disorder', 'Genetic_Disorders', 'Depression',\n",
       "       'Global developmental delay/intellectual disability',\n",
       "       'Social/Behavioural Issues', 'Childhood Autism Rating Scale',\n",
       "       'Anxiety_disorder', 'Sex', 'Ethnicity', 'Jaundice',\n",
       "       'Family_mem_with_ASD', 'Who_completed_the_test', 'ASD_traits',\n",
       "       'A1_C2977673', 'A2_C0870532', 'A3_C4036288', 'A4_C0424091',\n",
       "       'A5_C2371970', 'A6_C2370875', 'A7_C4064035', 'A8_C1854882',\n",
       "       'A9_C0566243', 'A10_C4064319', 'combined'],\n",
       "      dtype='object')"
      ]
     },
     "execution_count": 38,
     "metadata": {},
     "output_type": "execute_result"
    }
   ],
   "source": [
    "T_ASD2.columns"
   ]
  },
  {
   "cell_type": "code",
   "execution_count": 39,
   "metadata": {},
   "outputs": [],
   "source": [
    "# option1 : without augmentation\n",
    "df_m2=T_ASD2[['ASD_traits','combined']]"
   ]
  },
  {
   "cell_type": "code",
   "execution_count": 40,
   "metadata": {},
   "outputs": [],
   "source": [
    "df_m2.columns =['Class','text']"
   ]
  },
  {
   "cell_type": "code",
   "execution_count": 41,
   "metadata": {},
   "outputs": [
    {
     "data": {
      "text/plain": [
       "Yes    1074\n",
       "No      911\n",
       "Name: Class, dtype: int64"
      ]
     },
     "execution_count": 41,
     "metadata": {},
     "output_type": "execute_result"
    }
   ],
   "source": [
    "df_m2.Class.value_counts()"
   ]
  },
  {
   "cell_type": "code",
   "execution_count": 42,
   "metadata": {},
   "outputs": [
    {
     "name": "stderr",
     "output_type": "stream",
     "text": [
      "/tmp/ipykernel_1654741/3207708694.py:6: SettingWithCopyWarning: \n",
      "A value is trying to be set on a copy of a slice from a DataFrame.\n",
      "Try using .loc[row_indexer,col_indexer] = value instead\n",
      "\n",
      "See the caveats in the documentation: https://pandas.pydata.org/pandas-docs/stable/user_guide/indexing.html#returning-a-view-versus-a-copy\n",
      "  df_m2['label'] = df_m2['Class'].replace(ASD_mapping)\n"
     ]
    },
    {
     "data": {
      "text/plain": [
       "1    1074\n",
       "0     911\n",
       "Name: label, dtype: int64"
      ]
     },
     "execution_count": 42,
     "metadata": {},
     "output_type": "execute_result"
    }
   ],
   "source": [
    "ASD_mapping = {\n",
    "    'No': 0, # TD\n",
    "    'Yes' : 1, # ASD\n",
    "}\n",
    "\n",
    "df_m2['label'] = df_m2['Class'].replace(ASD_mapping)\n",
    "df_m2.label.value_counts()"
   ]
  },
  {
   "cell_type": "code",
   "execution_count": null,
   "metadata": {},
   "outputs": [],
   "source": [
    "# Step 1: Load the Pre-Trained RoBERTa Model"
   ]
  },
  {
   "cell_type": "code",
   "execution_count": 43,
   "metadata": {},
   "outputs": [],
   "source": [
    "import pandas as pd\n",
    "import torch\n",
    "import numpy as np\n",
    "import matplotlib.pyplot as plt\n",
    "import random\n",
    "from imblearn.over_sampling import RandomOverSampler\n",
    "from sklearn.model_selection import train_test_split\n",
    "from torch.utils.data import DataLoader\n",
    "from transformers import Trainer\n",
    "from transformers import DebertaTokenizer, AlbertTokenizer, BertTokenizer, RobertaTokenizer\n",
    "from transformers import DebertaForSequenceClassification, AlbertForSequenceClassification, BertForSequenceClassification, RobertaForSequenceClassification\n",
    "from transformers import TrainingArguments\n",
    "from sklearn.metrics import f1_score, precision_score, recall_score, accuracy_score, roc_auc_score, average_precision_score\n"
   ]
  },
  {
   "cell_type": "code",
   "execution_count": 44,
   "metadata": {},
   "outputs": [],
   "source": [
    "#set random seed \n",
    "def set_seed(random_seed):\n",
    "    torch.manual_seed(random_seed)\n",
    "    torch.cuda.manual_seed(random_seed)\n",
    "    # torch.cuda.manual_seed_all(random_seed)  # if use multi-GPU\n",
    "    torch.backends.cudnn.deterministic = True\n",
    "    torch.backends.cudnn.benchmark = False\n",
    "    np.random.seed(random_seed)\n",
    "    random.seed(random_seed)\n",
    "    \n",
    "random_seed = 42\n",
    "set_seed(random_seed)"
   ]
  },
  {
   "cell_type": "code",
   "execution_count": 45,
   "metadata": {},
   "outputs": [],
   "source": [
    "from transformers import RobertaForSequenceClassification\n",
    "\n",
    "# Load the pre-trained RoBERTa model\n",
    "#trainer.save_model(\"./Roberta/ROBERTA_qchatmodel_Feb2024\")\n",
    "model = RobertaForSequenceClassification.from_pretrained('./output/Roberta/new/ROBERTA_qchatmodel_Feb2024_2', num_labels=2)\n"
   ]
  },
  {
   "cell_type": "code",
   "execution_count": null,
   "metadata": {},
   "outputs": [],
   "source": [
    "# transfer learning"
   ]
  },
  {
   "cell_type": "code",
   "execution_count": 46,
   "metadata": {},
   "outputs": [],
   "source": [
    "from sklearn.model_selection import train_test_split\n",
    "from torch.utils.data import DataLoader\n",
    "\n",
    "train_df = df_m2\n",
    "X = train_df.drop('label', axis=1)\n",
    "y =  train_df['label']\n",
    "\n",
    "# Split the data into training and validation sets\n",
    "X_train, X_test, y_train, y_test = train_test_split(X, y, test_size=0.3, stratify=y)\n",
    "\n",
    "# Combine X_train and y_train, and reset the index\n",
    "train_data = pd.concat([X_train, y_train], axis=1).reset_index(drop=True)\n",
    "\n",
    "# # Create Dataset and DataLoader for training set\n",
    "# Dset = NextVisit(token2idx=BertVocab, label2idx=labelVocab, age2idx=ageVocab, dataframe=train_data, max_len=global_params['max_len_seq'], code='disease_sequenceF', age='age2_sequenceF', label='d138')\n",
    "# trainload = DataLoader(dataset=Dset, batch_size=global_params['batch_size'], shuffle=False, num_workers=3)\n",
    "\n",
    "# Combine X_test and y_test, and reset the index\n",
    "test_data_unseen = pd.concat([X_test, y_test], axis=1).reset_index(drop=True)"
   ]
  },
  {
   "cell_type": "code",
   "execution_count": 47,
   "metadata": {},
   "outputs": [
    {
     "data": {
      "text/html": [
       "<div>\n",
       "<style scoped>\n",
       "    .dataframe tbody tr th:only-of-type {\n",
       "        vertical-align: middle;\n",
       "    }\n",
       "\n",
       "    .dataframe tbody tr th {\n",
       "        vertical-align: top;\n",
       "    }\n",
       "\n",
       "    .dataframe thead th {\n",
       "        text-align: right;\n",
       "    }\n",
       "</style>\n",
       "<table border=\"1\" class=\"dataframe\">\n",
       "  <thead>\n",
       "    <tr style=\"text-align: right;\">\n",
       "      <th></th>\n",
       "      <th>Class</th>\n",
       "      <th>text</th>\n",
       "      <th>label</th>\n",
       "    </tr>\n",
       "  </thead>\n",
       "  <tbody>\n",
       "    <tr>\n",
       "      <th>0</th>\n",
       "      <td>Yes</td>\n",
       "      <td>, , , , , , , , ,</td>\n",
       "      <td>1</td>\n",
       "    </tr>\n",
       "    <tr>\n",
       "      <th>1</th>\n",
       "      <td>Yes</td>\n",
       "      <td>attention and concentration deficit , , , , , ...</td>\n",
       "      <td>1</td>\n",
       "    </tr>\n",
       "    <tr>\n",
       "      <th>2</th>\n",
       "      <td>Yes</td>\n",
       "      <td>attention and concentration deficit , ,spontan...</td>\n",
       "      <td>1</td>\n",
       "    </tr>\n",
       "    <tr>\n",
       "      <th>3</th>\n",
       "      <td>Yes</td>\n",
       "      <td>, , , , , , , , ,</td>\n",
       "      <td>1</td>\n",
       "    </tr>\n",
       "    <tr>\n",
       "      <th>4</th>\n",
       "      <td>Yes</td>\n",
       "      <td>attention and concentration deficit , , , ,doe...</td>\n",
       "      <td>1</td>\n",
       "    </tr>\n",
       "  </tbody>\n",
       "</table>\n",
       "</div>"
      ],
      "text/plain": [
       "  Class                                               text  label\n",
       "0   Yes                                  , , , , , , , , ,      1\n",
       "1   Yes  attention and concentration deficit , , , , , ...      1\n",
       "2   Yes  attention and concentration deficit , ,spontan...      1\n",
       "3   Yes                                  , , , , , , , , ,      1\n",
       "4   Yes  attention and concentration deficit , , , ,doe...      1"
      ]
     },
     "execution_count": 47,
     "metadata": {},
     "output_type": "execute_result"
    }
   ],
   "source": [
    "test_data_unseen.head()"
   ]
  },
  {
   "cell_type": "code",
   "execution_count": 48,
   "metadata": {},
   "outputs": [
    {
     "data": {
      "text/plain": [
       "1    322\n",
       "0    274\n",
       "Name: label, dtype: int64"
      ]
     },
     "execution_count": 48,
     "metadata": {},
     "output_type": "execute_result"
    }
   ],
   "source": [
    "test_data_unseen.label.value_counts()"
   ]
  },
  {
   "cell_type": "code",
   "execution_count": 49,
   "metadata": {},
   "outputs": [
    {
     "data": {
      "text/plain": [
       "1    752\n",
       "0    637\n",
       "Name: label, dtype: int64"
      ]
     },
     "execution_count": 49,
     "metadata": {},
     "output_type": "execute_result"
    }
   ],
   "source": [
    "train_data.label.value_counts()"
   ]
  },
  {
   "cell_type": "code",
   "execution_count": 50,
   "metadata": {},
   "outputs": [],
   "source": [
    "#Train and valid from train_data\n",
    "df_m2=train_data"
   ]
  },
  {
   "cell_type": "code",
   "execution_count": null,
   "metadata": {},
   "outputs": [],
   "source": [
    "#Step 2: Adapt the Model for ASD_TD data "
   ]
  },
  {
   "cell_type": "code",
   "execution_count": 51,
   "metadata": {},
   "outputs": [],
   "source": [
    "import pandas as pd\n",
    "from sklearn.model_selection import train_test_split\n",
    "from transformers import RobertaTokenizerFast\n",
    "tokenizer = RobertaTokenizerFast.from_pretrained('roberta-base')\n",
    "\n",
    "# Tokenize the dataset (with attention mask)\n",
    "encodings = tokenizer(df_m2['text'].tolist(), truncation=True, padding=True, max_length=512)\n",
    "labels = df_m2['label'].tolist()\n",
    "\n",
    "# Extract 'input_ids' and 'attention_mask' from the encodings\n",
    "input_ids = encodings['input_ids']\n",
    "attention_masks = encodings['attention_mask']\n",
    "\n",
    "# Split the 'input_ids', 'attention_mask', and labels into training and testing sets\n",
    "m_train_input_ids, m_test_input_ids, m_train_attention_masks, m_test_attention_masks, m_train_labels, m_test_labels = train_test_split(\n",
    "    input_ids, attention_masks, labels, test_size=0.2\n",
    ")"
   ]
  },
  {
   "cell_type": "code",
   "execution_count": 52,
   "metadata": {},
   "outputs": [
    {
     "name": "stdout",
     "output_type": "stream",
     "text": [
      "0 : 504 / 1 : 607\n",
      "0 : 133 / 1 : 145\n"
     ]
    }
   ],
   "source": [
    "# print(f\"0 : {m_train_labels.count(0)} / 1 : {m_train_labels.count(1)} / 2 : {m_train_labels.count(2)} / 3 : {m_train_labels.count(3)}\")\n",
    "# print(f\"0 : {m_test_labels.count(0)} / 1 : {m_test_labels.count(1)} / 2 : {m_test_labels.count(2)} / 3 : {m_test_labels.count(3)}\")\n",
    "print(f\"0 : {m_train_labels.count(0)} / 1 : {m_train_labels.count(1)}\")\n",
    "print(f\"0 : {m_test_labels.count(0)} / 1 : {m_test_labels.count(1)}\")"
   ]
  },
  {
   "cell_type": "code",
   "execution_count": 53,
   "metadata": {},
   "outputs": [],
   "source": [
    "import torch\n",
    "\n",
    "class QCHATDataset(torch.utils.data.Dataset):\n",
    "    def __init__(self, input_ids, attention_masks, labels):\n",
    "        self.input_ids = input_ids\n",
    "        self.attention_masks = attention_masks\n",
    "        self.labels = labels\n",
    "\n",
    "    def __getitem__(self, idx):\n",
    "        return {\n",
    "            'input_ids': torch.tensor(self.input_ids[idx], dtype=torch.long),\n",
    "            'attention_mask': torch.tensor(self.attention_masks[idx], dtype=torch.long),\n",
    "            'labels': torch.tensor(self.labels[idx], dtype=torch.long)\n",
    "        }\n",
    "\n",
    "    def __len__(self):\n",
    "        return len(self.labels)\n",
    "\n",
    "# Create training and validation datasets\n",
    "train_dataset = QCHATDataset(m_train_input_ids, m_train_attention_masks, m_train_labels)\n",
    "test_dataset = QCHATDataset(m_test_input_ids, m_test_attention_masks, m_test_labels)\n"
   ]
  },
  {
   "cell_type": "code",
   "execution_count": 54,
   "metadata": {},
   "outputs": [],
   "source": [
    "import torch\n",
    "from torch.utils.data import Dataset\n",
    "\n",
    "\n",
    "class QCHAT2Dataset(Dataset):\n",
    "    def __init__(self, input_ids, attention_masks, labels):\n",
    "        self.input_ids = input_ids\n",
    "        self.attention_masks = attention_masks\n",
    "        self.labels = labels\n",
    "\n",
    "    def __len__(self):\n",
    "        return len(self.input_ids)\n",
    "\n",
    "    def __getitem__(self, idx):\n",
    "        return {\n",
    "            'input_ids': self.input_ids[idx],\n",
    "            'attention_mask': self.attention_masks[idx],\n",
    "            'labels': self.labels[idx]\n",
    "        }\n",
    "\n",
    "# # Text semantics and attention mask generation\n",
    "inputs_unseen = tokenizer(test_data_unseen['text'].tolist(), padding=True, truncation=True, return_tensors=\"pt\")\n",
    "input_ids_unseen = inputs_unseen['input_ids']\n",
    "attention_masks_unseen = inputs_unseen['attention_mask']\n",
    "\n",
    "# test dataset\n",
    "test_data_unseen = QCHAT2Dataset(input_ids_unseen, attention_masks_unseen, test_data_unseen['label'].tolist())"
   ]
  },
  {
   "cell_type": "code",
   "execution_count": 108,
   "metadata": {},
   "outputs": [],
   "source": [
    "# model.classifier.dense = nn.Linear(model.classifier.dense.in_features, 2)\n",
    "# model.classifier.out_proj = nn.Linear(2, model.num_labels)"
   ]
  },
  {
   "cell_type": "code",
   "execution_count": 55,
   "metadata": {},
   "outputs": [],
   "source": [
    "from sklearn.metrics import f1_score, precision_score, recall_score\n",
    "from sklearn.metrics import accuracy_score, roc_auc_score, average_precision_score\n",
    "from sklearn.preprocessing import label_binarize\n",
    "import numpy as np\n",
    "\n",
    "def compute_metrics_multiclass2(p, num_classes=2):  # num_classes is now set to 2\n",
    "    predictions, labels = p\n",
    "    predictions = np.argmax(predictions, axis=1)\n",
    "\n",
    "    # Multiclass\n",
    "    f1 = f1_score(labels, predictions, average='macro')\n",
    "    precision = precision_score(labels, predictions, average='macro')\n",
    "    recall = recall_score(labels, predictions, average='macro')\n",
    "    acc = accuracy_score(labels, predictions)\n",
    "\n",
    "     # Treat each class as a binary classification\n",
    "    labels_binarized = label_binarize(labels, classes=range(num_classes))\n",
    "    predictions_binarized = label_binarize(predictions, classes=range(num_classes))\n",
    "\n",
    "    # Multiclass AUROC , Average Precision\n",
    "    auroc = roc_auc_score(labels_binarized, predictions_binarized, multi_class='ovr')\n",
    "    avgprc = average_precision_score(labels_binarized, predictions_binarized)\n",
    "\n",
    "    return {\n",
    "        \"acc\": acc, \n",
    "        \"f1\": f1, \n",
    "        \"precision\": precision, \n",
    "        \"recall\": recall, \n",
    "        \"auroc\": auroc, \n",
    "        \"avgprc\": avgprc\n",
    "    }"
   ]
  },
  {
   "cell_type": "code",
   "execution_count": 56,
   "metadata": {},
   "outputs": [],
   "source": [
    "from transformers import Trainer, TrainingArguments\n",
    "\n",
    "# Training arguments\n",
    "training_args1 = TrainingArguments(\n",
    "    output_dir='./results_ASD2',\n",
    "    per_device_train_batch_size = 8,  # batch size for training\n",
    "    per_device_eval_batch_size=8,   # batch size for evaluation\n",
    "    warmup_steps=0,                # number of warmup steps\n",
    "    weight_decay=1e-8,               # strength of weight decay\n",
    "    logging_dir='./log',            # directory for storing logs\n",
    "    logging_steps=10,              # log saving step. 100\n",
    "    evaluation_strategy=\"epoch\",     # evaluate each `logging_steps`,\n",
    "    learning_rate=3e-5,              # learning rate\n",
    ")"
   ]
  },
  {
   "cell_type": "code",
   "execution_count": 57,
   "metadata": {},
   "outputs": [
    {
     "data": {
      "application/vnd.jupyter.widget-view+json": {
       "model_id": "649669851fe6480f97878816471fdc7f",
       "version_major": 2,
       "version_minor": 0
      },
      "text/plain": [
       "  0%|          | 0/417 [00:00<?, ?it/s]"
      ]
     },
     "metadata": {},
     "output_type": "display_data"
    },
    {
     "name": "stdout",
     "output_type": "stream",
     "text": [
      "{'loss': 0.6704, 'learning_rate': 2.9280575539568346e-05, 'epoch': 0.07}\n",
      "{'loss': 0.4466, 'learning_rate': 2.8561151079136692e-05, 'epoch': 0.14}\n",
      "{'loss': 0.6523, 'learning_rate': 2.7841726618705038e-05, 'epoch': 0.22}\n",
      "{'loss': 0.4906, 'learning_rate': 2.7122302158273383e-05, 'epoch': 0.29}\n",
      "{'loss': 0.6227, 'learning_rate': 2.6402877697841725e-05, 'epoch': 0.36}\n",
      "{'loss': 0.4533, 'learning_rate': 2.5683453237410074e-05, 'epoch': 0.43}\n",
      "{'loss': 0.5962, 'learning_rate': 2.496402877697842e-05, 'epoch': 0.5}\n",
      "{'loss': 0.3324, 'learning_rate': 2.4244604316546762e-05, 'epoch': 0.58}\n",
      "{'loss': 0.4267, 'learning_rate': 2.3525179856115108e-05, 'epoch': 0.65}\n",
      "{'loss': 0.3812, 'learning_rate': 2.2805755395683457e-05, 'epoch': 0.72}\n",
      "{'loss': 0.408, 'learning_rate': 2.20863309352518e-05, 'epoch': 0.79}\n",
      "{'loss': 0.3798, 'learning_rate': 2.1366906474820145e-05, 'epoch': 0.86}\n",
      "{'loss': 0.3957, 'learning_rate': 2.064748201438849e-05, 'epoch': 0.94}\n"
     ]
    },
    {
     "data": {
      "application/vnd.jupyter.widget-view+json": {
       "model_id": "79bff90b94144448bb50e332349eb265",
       "version_major": 2,
       "version_minor": 0
      },
      "text/plain": [
       "  0%|          | 0/35 [00:00<?, ?it/s]"
      ]
     },
     "metadata": {},
     "output_type": "display_data"
    },
    {
     "name": "stdout",
     "output_type": "stream",
     "text": [
      "{'eval_loss': 0.399201899766922, 'eval_acc': 0.7913669064748201, 'eval_f1': 0.7864936440677965, 'eval_precision': 0.8392783686901334, 'eval_recall': 0.7993777547316567, 'eval_auroc': 0.7993777547316567, 'eval_avgprc': 0.8017419940515946, 'eval_runtime': 8.3658, 'eval_samples_per_second': 33.231, 'eval_steps_per_second': 4.184, 'epoch': 1.0}\n",
      "{'loss': 0.4082, 'learning_rate': 1.9928057553956836e-05, 'epoch': 1.01}\n",
      "{'loss': 0.3959, 'learning_rate': 1.920863309352518e-05, 'epoch': 1.08}\n",
      "{'loss': 0.2503, 'learning_rate': 1.8489208633093527e-05, 'epoch': 1.15}\n",
      "{'loss': 0.4988, 'learning_rate': 1.776978417266187e-05, 'epoch': 1.22}\n",
      "{'loss': 0.3873, 'learning_rate': 1.7050359712230218e-05, 'epoch': 1.29}\n",
      "{'loss': 0.4101, 'learning_rate': 1.633093525179856e-05, 'epoch': 1.37}\n",
      "{'loss': 0.4251, 'learning_rate': 1.5611510791366906e-05, 'epoch': 1.44}\n",
      "{'loss': 0.2508, 'learning_rate': 1.4892086330935253e-05, 'epoch': 1.51}\n",
      "{'loss': 0.6206, 'learning_rate': 1.4172661870503597e-05, 'epoch': 1.58}\n",
      "{'loss': 0.5454, 'learning_rate': 1.3453237410071943e-05, 'epoch': 1.65}\n",
      "{'loss': 0.4094, 'learning_rate': 1.2733812949640289e-05, 'epoch': 1.73}\n",
      "{'loss': 0.3517, 'learning_rate': 1.2014388489208634e-05, 'epoch': 1.8}\n",
      "{'loss': 0.3284, 'learning_rate': 1.1294964028776978e-05, 'epoch': 1.87}\n",
      "{'loss': 0.3377, 'learning_rate': 1.0575539568345324e-05, 'epoch': 1.94}\n"
     ]
    },
    {
     "data": {
      "application/vnd.jupyter.widget-view+json": {
       "model_id": "7a36fe8c4b1b47569a2f0eec4a28b0b2",
       "version_major": 2,
       "version_minor": 0
      },
      "text/plain": [
       "  0%|          | 0/35 [00:00<?, ?it/s]"
      ]
     },
     "metadata": {},
     "output_type": "display_data"
    },
    {
     "name": "stdout",
     "output_type": "stream",
     "text": [
      "{'eval_loss': 0.4432423412799835, 'eval_acc': 0.7410071942446043, 'eval_f1': 0.7274509803921568, 'eval_precision': 0.7773246833487797, 'eval_recall': 0.7327456572465647, 'eval_auroc': 0.7327456572465646, 'eval_avgprc': 0.6746169748551291, 'eval_runtime': 8.1947, 'eval_samples_per_second': 33.924, 'eval_steps_per_second': 4.271, 'epoch': 2.0}\n",
      "{'loss': 0.4743, 'learning_rate': 9.85611510791367e-06, 'epoch': 2.01}\n",
      "{'loss': 0.4302, 'learning_rate': 9.136690647482015e-06, 'epoch': 2.09}\n",
      "{'loss': 0.4744, 'learning_rate': 8.417266187050359e-06, 'epoch': 2.16}\n",
      "{'loss': 0.3368, 'learning_rate': 7.697841726618706e-06, 'epoch': 2.23}\n",
      "{'loss': 0.2909, 'learning_rate': 6.978417266187051e-06, 'epoch': 2.3}\n",
      "{'loss': 0.2751, 'learning_rate': 6.2589928057553964e-06, 'epoch': 2.37}\n",
      "{'loss': 0.3533, 'learning_rate': 5.539568345323741e-06, 'epoch': 2.45}\n",
      "{'loss': 0.3597, 'learning_rate': 4.820143884892087e-06, 'epoch': 2.52}\n",
      "{'loss': 0.2938, 'learning_rate': 4.100719424460432e-06, 'epoch': 2.59}\n",
      "{'loss': 0.3375, 'learning_rate': 3.3812949640287768e-06, 'epoch': 2.66}\n",
      "{'loss': 0.413, 'learning_rate': 2.6618705035971224e-06, 'epoch': 2.73}\n",
      "{'loss': 0.2404, 'learning_rate': 1.9424460431654675e-06, 'epoch': 2.81}\n",
      "{'loss': 0.2722, 'learning_rate': 1.2230215827338131e-06, 'epoch': 2.88}\n",
      "{'loss': 0.2964, 'learning_rate': 5.035971223021583e-07, 'epoch': 2.95}\n"
     ]
    },
    {
     "data": {
      "application/vnd.jupyter.widget-view+json": {
       "model_id": "955783f685f043deb15b1d0da3ebc6a0",
       "version_major": 2,
       "version_minor": 0
      },
      "text/plain": [
       "  0%|          | 0/35 [00:00<?, ?it/s]"
      ]
     },
     "metadata": {},
     "output_type": "display_data"
    },
    {
     "name": "stdout",
     "output_type": "stream",
     "text": [
      "{'eval_loss': 0.4040168821811676, 'eval_acc': 0.7985611510791367, 'eval_f1': 0.79338535860275, 'eval_precision': 0.8518518518518519, 'eval_recall': 0.806896551724138, 'eval_auroc': 0.806896551724138, 'eval_avgprc': 0.8152319523691391, 'eval_runtime': 7.8922, 'eval_samples_per_second': 35.225, 'eval_steps_per_second': 4.435, 'epoch': 3.0}\n",
      "{'train_runtime': 470.1349, 'train_samples_per_second': 7.089, 'train_steps_per_second': 0.887, 'train_loss': 0.4073521239008549, 'epoch': 3.0}\n"
     ]
    },
    {
     "data": {
      "text/plain": [
       "TrainOutput(global_step=417, training_loss=0.4073521239008549, metrics={'train_runtime': 470.1349, 'train_samples_per_second': 7.089, 'train_steps_per_second': 0.887, 'train_loss': 0.4073521239008549, 'epoch': 3.0})"
      ]
     },
     "execution_count": 57,
     "metadata": {},
     "output_type": "execute_result"
    }
   ],
   "source": [
    "def compute_metrics_wrapper(p):\n",
    "    return compute_metrics_multiclass2(p, num_classes=2) #0,1\n",
    "\n",
    "trainer = Trainer(\n",
    "    model=model,\n",
    "    args=training_args1,\n",
    "    train_dataset=train_dataset,\n",
    "    eval_dataset=test_dataset,\n",
    "    compute_metrics=compute_metrics_wrapper  # We will define compute_metrics function later\n",
    ")\n",
    "trainer.train() "
   ]
  },
  {
   "cell_type": "code",
   "execution_count": 59,
   "metadata": {},
   "outputs": [],
   "source": [
    "trainer.save_model(\"./Roberta2/ROBERTA_qchatmodel_transfered_Feb2024\")"
   ]
  },
  {
   "cell_type": "code",
   "execution_count": 58,
   "metadata": {},
   "outputs": [
    {
     "data": {
      "text/plain": [
       "[{'loss': 0.6704,\n",
       "  'learning_rate': 2.9280575539568346e-05,\n",
       "  'epoch': 0.07,\n",
       "  'step': 10},\n",
       " {'loss': 0.4466,\n",
       "  'learning_rate': 2.8561151079136692e-05,\n",
       "  'epoch': 0.14,\n",
       "  'step': 20},\n",
       " {'loss': 0.6523,\n",
       "  'learning_rate': 2.7841726618705038e-05,\n",
       "  'epoch': 0.22,\n",
       "  'step': 30},\n",
       " {'loss': 0.4906,\n",
       "  'learning_rate': 2.7122302158273383e-05,\n",
       "  'epoch': 0.29,\n",
       "  'step': 40},\n",
       " {'loss': 0.6227,\n",
       "  'learning_rate': 2.6402877697841725e-05,\n",
       "  'epoch': 0.36,\n",
       "  'step': 50},\n",
       " {'loss': 0.4533,\n",
       "  'learning_rate': 2.5683453237410074e-05,\n",
       "  'epoch': 0.43,\n",
       "  'step': 60},\n",
       " {'loss': 0.5962,\n",
       "  'learning_rate': 2.496402877697842e-05,\n",
       "  'epoch': 0.5,\n",
       "  'step': 70},\n",
       " {'loss': 0.3324,\n",
       "  'learning_rate': 2.4244604316546762e-05,\n",
       "  'epoch': 0.58,\n",
       "  'step': 80},\n",
       " {'loss': 0.4267,\n",
       "  'learning_rate': 2.3525179856115108e-05,\n",
       "  'epoch': 0.65,\n",
       "  'step': 90},\n",
       " {'loss': 0.3812,\n",
       "  'learning_rate': 2.2805755395683457e-05,\n",
       "  'epoch': 0.72,\n",
       "  'step': 100},\n",
       " {'loss': 0.408,\n",
       "  'learning_rate': 2.20863309352518e-05,\n",
       "  'epoch': 0.79,\n",
       "  'step': 110},\n",
       " {'loss': 0.3798,\n",
       "  'learning_rate': 2.1366906474820145e-05,\n",
       "  'epoch': 0.86,\n",
       "  'step': 120},\n",
       " {'loss': 0.3957,\n",
       "  'learning_rate': 2.064748201438849e-05,\n",
       "  'epoch': 0.94,\n",
       "  'step': 130},\n",
       " {'eval_loss': 0.399201899766922,\n",
       "  'eval_acc': 0.7913669064748201,\n",
       "  'eval_f1': 0.7864936440677965,\n",
       "  'eval_precision': 0.8392783686901334,\n",
       "  'eval_recall': 0.7993777547316567,\n",
       "  'eval_auroc': 0.7993777547316567,\n",
       "  'eval_avgprc': 0.8017419940515946,\n",
       "  'eval_runtime': 8.3658,\n",
       "  'eval_samples_per_second': 33.231,\n",
       "  'eval_steps_per_second': 4.184,\n",
       "  'epoch': 1.0,\n",
       "  'step': 139},\n",
       " {'loss': 0.4082,\n",
       "  'learning_rate': 1.9928057553956836e-05,\n",
       "  'epoch': 1.01,\n",
       "  'step': 140},\n",
       " {'loss': 0.3959,\n",
       "  'learning_rate': 1.920863309352518e-05,\n",
       "  'epoch': 1.08,\n",
       "  'step': 150},\n",
       " {'loss': 0.2503,\n",
       "  'learning_rate': 1.8489208633093527e-05,\n",
       "  'epoch': 1.15,\n",
       "  'step': 160},\n",
       " {'loss': 0.4988,\n",
       "  'learning_rate': 1.776978417266187e-05,\n",
       "  'epoch': 1.22,\n",
       "  'step': 170},\n",
       " {'loss': 0.3873,\n",
       "  'learning_rate': 1.7050359712230218e-05,\n",
       "  'epoch': 1.29,\n",
       "  'step': 180},\n",
       " {'loss': 0.4101,\n",
       "  'learning_rate': 1.633093525179856e-05,\n",
       "  'epoch': 1.37,\n",
       "  'step': 190},\n",
       " {'loss': 0.4251,\n",
       "  'learning_rate': 1.5611510791366906e-05,\n",
       "  'epoch': 1.44,\n",
       "  'step': 200},\n",
       " {'loss': 0.2508,\n",
       "  'learning_rate': 1.4892086330935253e-05,\n",
       "  'epoch': 1.51,\n",
       "  'step': 210},\n",
       " {'loss': 0.6206,\n",
       "  'learning_rate': 1.4172661870503597e-05,\n",
       "  'epoch': 1.58,\n",
       "  'step': 220},\n",
       " {'loss': 0.5454,\n",
       "  'learning_rate': 1.3453237410071943e-05,\n",
       "  'epoch': 1.65,\n",
       "  'step': 230},\n",
       " {'loss': 0.4094,\n",
       "  'learning_rate': 1.2733812949640289e-05,\n",
       "  'epoch': 1.73,\n",
       "  'step': 240},\n",
       " {'loss': 0.3517,\n",
       "  'learning_rate': 1.2014388489208634e-05,\n",
       "  'epoch': 1.8,\n",
       "  'step': 250},\n",
       " {'loss': 0.3284,\n",
       "  'learning_rate': 1.1294964028776978e-05,\n",
       "  'epoch': 1.87,\n",
       "  'step': 260},\n",
       " {'loss': 0.3377,\n",
       "  'learning_rate': 1.0575539568345324e-05,\n",
       "  'epoch': 1.94,\n",
       "  'step': 270},\n",
       " {'eval_loss': 0.4432423412799835,\n",
       "  'eval_acc': 0.7410071942446043,\n",
       "  'eval_f1': 0.7274509803921568,\n",
       "  'eval_precision': 0.7773246833487797,\n",
       "  'eval_recall': 0.7327456572465647,\n",
       "  'eval_auroc': 0.7327456572465646,\n",
       "  'eval_avgprc': 0.6746169748551291,\n",
       "  'eval_runtime': 8.1947,\n",
       "  'eval_samples_per_second': 33.924,\n",
       "  'eval_steps_per_second': 4.271,\n",
       "  'epoch': 2.0,\n",
       "  'step': 278},\n",
       " {'loss': 0.4743,\n",
       "  'learning_rate': 9.85611510791367e-06,\n",
       "  'epoch': 2.01,\n",
       "  'step': 280},\n",
       " {'loss': 0.4302,\n",
       "  'learning_rate': 9.136690647482015e-06,\n",
       "  'epoch': 2.09,\n",
       "  'step': 290},\n",
       " {'loss': 0.4744,\n",
       "  'learning_rate': 8.417266187050359e-06,\n",
       "  'epoch': 2.16,\n",
       "  'step': 300},\n",
       " {'loss': 0.3368,\n",
       "  'learning_rate': 7.697841726618706e-06,\n",
       "  'epoch': 2.23,\n",
       "  'step': 310},\n",
       " {'loss': 0.2909,\n",
       "  'learning_rate': 6.978417266187051e-06,\n",
       "  'epoch': 2.3,\n",
       "  'step': 320},\n",
       " {'loss': 0.2751,\n",
       "  'learning_rate': 6.2589928057553964e-06,\n",
       "  'epoch': 2.37,\n",
       "  'step': 330},\n",
       " {'loss': 0.3533,\n",
       "  'learning_rate': 5.539568345323741e-06,\n",
       "  'epoch': 2.45,\n",
       "  'step': 340},\n",
       " {'loss': 0.3597,\n",
       "  'learning_rate': 4.820143884892087e-06,\n",
       "  'epoch': 2.52,\n",
       "  'step': 350},\n",
       " {'loss': 0.2938,\n",
       "  'learning_rate': 4.100719424460432e-06,\n",
       "  'epoch': 2.59,\n",
       "  'step': 360},\n",
       " {'loss': 0.3375,\n",
       "  'learning_rate': 3.3812949640287768e-06,\n",
       "  'epoch': 2.66,\n",
       "  'step': 370},\n",
       " {'loss': 0.413,\n",
       "  'learning_rate': 2.6618705035971224e-06,\n",
       "  'epoch': 2.73,\n",
       "  'step': 380},\n",
       " {'loss': 0.2404,\n",
       "  'learning_rate': 1.9424460431654675e-06,\n",
       "  'epoch': 2.81,\n",
       "  'step': 390},\n",
       " {'loss': 0.2722,\n",
       "  'learning_rate': 1.2230215827338131e-06,\n",
       "  'epoch': 2.88,\n",
       "  'step': 400},\n",
       " {'loss': 0.2964,\n",
       "  'learning_rate': 5.035971223021583e-07,\n",
       "  'epoch': 2.95,\n",
       "  'step': 410},\n",
       " {'eval_loss': 0.4040168821811676,\n",
       "  'eval_acc': 0.7985611510791367,\n",
       "  'eval_f1': 0.79338535860275,\n",
       "  'eval_precision': 0.8518518518518519,\n",
       "  'eval_recall': 0.806896551724138,\n",
       "  'eval_auroc': 0.806896551724138,\n",
       "  'eval_avgprc': 0.8152319523691391,\n",
       "  'eval_runtime': 7.8922,\n",
       "  'eval_samples_per_second': 35.225,\n",
       "  'eval_steps_per_second': 4.435,\n",
       "  'epoch': 3.0,\n",
       "  'step': 417},\n",
       " {'train_runtime': 470.1349,\n",
       "  'train_samples_per_second': 7.089,\n",
       "  'train_steps_per_second': 0.887,\n",
       "  'total_flos': 109618643439360.0,\n",
       "  'train_loss': 0.4073521239008549,\n",
       "  'epoch': 3.0,\n",
       "  'step': 417}]"
      ]
     },
     "execution_count": 58,
     "metadata": {},
     "output_type": "execute_result"
    }
   ],
   "source": [
    "trainer.state.log_history"
   ]
  },
  {
   "cell_type": "code",
   "execution_count": 61,
   "metadata": {},
   "outputs": [
    {
     "data": {
      "application/vnd.jupyter.widget-view+json": {
       "model_id": "ead065ce071e41349a96efd7a57a3f38",
       "version_major": 2,
       "version_minor": 0
      },
      "text/plain": [
       "  0%|          | 0/35 [00:00<?, ?it/s]"
      ]
     },
     "metadata": {},
     "output_type": "display_data"
    },
    {
     "data": {
      "text/plain": [
       "{'eval_loss': 0.4040168821811676,\n",
       " 'eval_acc': 0.7985611510791367,\n",
       " 'eval_f1': 0.79338535860275,\n",
       " 'eval_precision': 0.8518518518518519,\n",
       " 'eval_recall': 0.806896551724138,\n",
       " 'eval_auroc': 0.806896551724138,\n",
       " 'eval_avgprc': 0.8152319523691391,\n",
       " 'eval_runtime': 7.7366,\n",
       " 'eval_samples_per_second': 35.933,\n",
       " 'eval_steps_per_second': 4.524,\n",
       " 'epoch': 3.0}"
      ]
     },
     "execution_count": 61,
     "metadata": {},
     "output_type": "execute_result"
    }
   ],
   "source": [
    "# Evaluation \n",
    "trainer.evaluate()"
   ]
  },
  {
   "cell_type": "code",
   "execution_count": 62,
   "metadata": {},
   "outputs": [
    {
     "name": "stdout",
     "output_type": "stream",
     "text": [
      "[{'loss': 0.6704, 'learning_rate': 2.9280575539568346e-05, 'epoch': 0.07, 'step': 10}, {'loss': 0.4466, 'learning_rate': 2.8561151079136692e-05, 'epoch': 0.14, 'step': 20}, {'loss': 0.6523, 'learning_rate': 2.7841726618705038e-05, 'epoch': 0.22, 'step': 30}, {'loss': 0.4906, 'learning_rate': 2.7122302158273383e-05, 'epoch': 0.29, 'step': 40}, {'loss': 0.6227, 'learning_rate': 2.6402877697841725e-05, 'epoch': 0.36, 'step': 50}, {'loss': 0.4533, 'learning_rate': 2.5683453237410074e-05, 'epoch': 0.43, 'step': 60}, {'loss': 0.5962, 'learning_rate': 2.496402877697842e-05, 'epoch': 0.5, 'step': 70}, {'loss': 0.3324, 'learning_rate': 2.4244604316546762e-05, 'epoch': 0.58, 'step': 80}, {'loss': 0.4267, 'learning_rate': 2.3525179856115108e-05, 'epoch': 0.65, 'step': 90}, {'loss': 0.3812, 'learning_rate': 2.2805755395683457e-05, 'epoch': 0.72, 'step': 100}, {'loss': 0.408, 'learning_rate': 2.20863309352518e-05, 'epoch': 0.79, 'step': 110}, {'loss': 0.3798, 'learning_rate': 2.1366906474820145e-05, 'epoch': 0.86, 'step': 120}, {'loss': 0.3957, 'learning_rate': 2.064748201438849e-05, 'epoch': 0.94, 'step': 130}, {'eval_loss': 0.399201899766922, 'eval_acc': 0.7913669064748201, 'eval_f1': 0.7864936440677965, 'eval_precision': 0.8392783686901334, 'eval_recall': 0.7993777547316567, 'eval_auroc': 0.7993777547316567, 'eval_avgprc': 0.8017419940515946, 'eval_runtime': 8.3658, 'eval_samples_per_second': 33.231, 'eval_steps_per_second': 4.184, 'epoch': 1.0, 'step': 139}, {'loss': 0.4082, 'learning_rate': 1.9928057553956836e-05, 'epoch': 1.01, 'step': 140}, {'loss': 0.3959, 'learning_rate': 1.920863309352518e-05, 'epoch': 1.08, 'step': 150}, {'loss': 0.2503, 'learning_rate': 1.8489208633093527e-05, 'epoch': 1.15, 'step': 160}, {'loss': 0.4988, 'learning_rate': 1.776978417266187e-05, 'epoch': 1.22, 'step': 170}, {'loss': 0.3873, 'learning_rate': 1.7050359712230218e-05, 'epoch': 1.29, 'step': 180}, {'loss': 0.4101, 'learning_rate': 1.633093525179856e-05, 'epoch': 1.37, 'step': 190}, {'loss': 0.4251, 'learning_rate': 1.5611510791366906e-05, 'epoch': 1.44, 'step': 200}, {'loss': 0.2508, 'learning_rate': 1.4892086330935253e-05, 'epoch': 1.51, 'step': 210}, {'loss': 0.6206, 'learning_rate': 1.4172661870503597e-05, 'epoch': 1.58, 'step': 220}, {'loss': 0.5454, 'learning_rate': 1.3453237410071943e-05, 'epoch': 1.65, 'step': 230}, {'loss': 0.4094, 'learning_rate': 1.2733812949640289e-05, 'epoch': 1.73, 'step': 240}, {'loss': 0.3517, 'learning_rate': 1.2014388489208634e-05, 'epoch': 1.8, 'step': 250}, {'loss': 0.3284, 'learning_rate': 1.1294964028776978e-05, 'epoch': 1.87, 'step': 260}, {'loss': 0.3377, 'learning_rate': 1.0575539568345324e-05, 'epoch': 1.94, 'step': 270}, {'eval_loss': 0.4432423412799835, 'eval_acc': 0.7410071942446043, 'eval_f1': 0.7274509803921568, 'eval_precision': 0.7773246833487797, 'eval_recall': 0.7327456572465647, 'eval_auroc': 0.7327456572465646, 'eval_avgprc': 0.6746169748551291, 'eval_runtime': 8.1947, 'eval_samples_per_second': 33.924, 'eval_steps_per_second': 4.271, 'epoch': 2.0, 'step': 278}, {'loss': 0.4743, 'learning_rate': 9.85611510791367e-06, 'epoch': 2.01, 'step': 280}, {'loss': 0.4302, 'learning_rate': 9.136690647482015e-06, 'epoch': 2.09, 'step': 290}, {'loss': 0.4744, 'learning_rate': 8.417266187050359e-06, 'epoch': 2.16, 'step': 300}, {'loss': 0.3368, 'learning_rate': 7.697841726618706e-06, 'epoch': 2.23, 'step': 310}, {'loss': 0.2909, 'learning_rate': 6.978417266187051e-06, 'epoch': 2.3, 'step': 320}, {'loss': 0.2751, 'learning_rate': 6.2589928057553964e-06, 'epoch': 2.37, 'step': 330}, {'loss': 0.3533, 'learning_rate': 5.539568345323741e-06, 'epoch': 2.45, 'step': 340}, {'loss': 0.3597, 'learning_rate': 4.820143884892087e-06, 'epoch': 2.52, 'step': 350}, {'loss': 0.2938, 'learning_rate': 4.100719424460432e-06, 'epoch': 2.59, 'step': 360}, {'loss': 0.3375, 'learning_rate': 3.3812949640287768e-06, 'epoch': 2.66, 'step': 370}, {'loss': 0.413, 'learning_rate': 2.6618705035971224e-06, 'epoch': 2.73, 'step': 380}, {'loss': 0.2404, 'learning_rate': 1.9424460431654675e-06, 'epoch': 2.81, 'step': 390}, {'loss': 0.2722, 'learning_rate': 1.2230215827338131e-06, 'epoch': 2.88, 'step': 400}, {'loss': 0.2964, 'learning_rate': 5.035971223021583e-07, 'epoch': 2.95, 'step': 410}, {'eval_loss': 0.4040168821811676, 'eval_acc': 0.7985611510791367, 'eval_f1': 0.79338535860275, 'eval_precision': 0.8518518518518519, 'eval_recall': 0.806896551724138, 'eval_auroc': 0.806896551724138, 'eval_avgprc': 0.8152319523691391, 'eval_runtime': 7.8922, 'eval_samples_per_second': 35.225, 'eval_steps_per_second': 4.435, 'epoch': 3.0, 'step': 417}, {'train_runtime': 470.1349, 'train_samples_per_second': 7.089, 'train_steps_per_second': 0.887, 'total_flos': 109618643439360.0, 'train_loss': 0.4073521239008549, 'epoch': 3.0, 'step': 417}, {'eval_loss': 0.4040168821811676, 'eval_acc': 0.7985611510791367, 'eval_f1': 0.79338535860275, 'eval_precision': 0.8518518518518519, 'eval_recall': 0.806896551724138, 'eval_auroc': 0.806896551724138, 'eval_avgprc': 0.8152319523691391, 'eval_runtime': 7.7366, 'eval_samples_per_second': 35.933, 'eval_steps_per_second': 4.524, 'epoch': 3.0, 'step': 417}]\n"
     ]
    }
   ],
   "source": [
    "# log result\n",
    "log_result = trainer.state.log_history\n",
    "print(log_result)"
   ]
  },
  {
   "cell_type": "code",
   "execution_count": 63,
   "metadata": {},
   "outputs": [
    {
     "data": {
      "application/vnd.jupyter.widget-view+json": {
       "model_id": "ae9b2f99b4704f8a9e1275cf82fce364",
       "version_major": 2,
       "version_minor": 0
      },
      "text/plain": [
       "  0%|          | 0/35 [00:00<?, ?it/s]"
      ]
     },
     "metadata": {},
     "output_type": "display_data"
    },
    {
     "name": "stdout",
     "output_type": "stream",
     "text": [
      "{'eval_loss': 0.4040168821811676, 'eval_acc': 0.7985611510791367, 'eval_f1': 0.79338535860275, 'eval_precision': 0.8518518518518519, 'eval_recall': 0.806896551724138, 'eval_auroc': 0.806896551724138, 'eval_avgprc': 0.8152319523691391, 'eval_runtime': 7.719, 'eval_samples_per_second': 36.015, 'eval_steps_per_second': 4.534, 'epoch': 3.0}\n"
     ]
    }
   ],
   "source": [
    "# Evaluate the model\n",
    "results = trainer.evaluate(test_dataset)\n",
    "print(results)"
   ]
  },
  {
   "cell_type": "code",
   "execution_count": 64,
   "metadata": {},
   "outputs": [
    {
     "data": {
      "application/vnd.jupyter.widget-view+json": {
       "model_id": "38bf708361b74c7a8963eeee714c4e88",
       "version_major": 2,
       "version_minor": 0
      },
      "text/plain": [
       "  0%|          | 0/75 [00:00<?, ?it/s]"
      ]
     },
     "metadata": {},
     "output_type": "display_data"
    },
    {
     "name": "stdout",
     "output_type": "stream",
     "text": [
      "{'eval_loss': 0.3307802379131317, 'eval_acc': 0.8204697986577181, 'eval_f1': 0.8186930501656076, 'eval_precision': 0.8595800524934383, 'eval_recall': 0.8338509316770186, 'eval_auroc': 0.8338509316770186, 'eval_avgprc': 0.8472320646963192, 'eval_runtime': 16.9254, 'eval_samples_per_second': 35.213, 'eval_steps_per_second': 4.431, 'epoch': 3.0}\n"
     ]
    }
   ],
   "source": [
    "# Evaluate the model\n",
    "results = trainer.evaluate(test_data_unseen)\n",
    "\n",
    "print(results)"
   ]
  },
  {
   "cell_type": "code",
   "execution_count": 65,
   "metadata": {},
   "outputs": [
    {
     "data": {
      "application/vnd.jupyter.widget-view+json": {
       "model_id": "b27a6b8a6806447da7266681996d75ba",
       "version_major": 2,
       "version_minor": 0
      },
      "text/plain": [
       "  0%|          | 0/75 [00:00<?, ?it/s]"
      ]
     },
     "metadata": {},
     "output_type": "display_data"
    },
    {
     "data": {
      "image/png": "[encoded data removed]",
      "text/plain": [
       "<Figure size 640x480 with 1 Axes>"
      ]
     },
     "metadata": {},
     "output_type": "display_data"
    }
   ],
   "source": [
    "from transformers import AutoModelForSequenceClassification\n",
    "from sklearn.metrics import roc_curve, auc\n",
    "import matplotlib.pyplot as plt\n",
    "from transformers import Trainer\n",
    "\n",
    "# load model\n",
    "# model = AutoModelForSequenceClassification.from_pretrained(\"./Roberta/ROBERTA_qchatmodel_Feb2024\")\n",
    "\n",
    "# Generate predictions for the evaluation dataset:test_data_unseen\n",
    "predictions_output = trainer.predict(test_data_unseen)\n",
    "\n",
    "# prediciton and lable\n",
    "predictions = np.argmax(predictions_output.predictions, axis=-1)\n",
    "true_labels = predictions_output.label_ids\n",
    "\n",
    "# ROC curve , ROC area calculation\n",
    "fpr, tpr, _ = roc_curve(true_labels, predictions)\n",
    "roc_auc = auc(fpr, tpr)\n",
    "\n",
    "# ROC curve \n",
    "plt.figure()\n",
    "lw = 2\n",
    "plt.plot(fpr, tpr, color='darkorange', lw=lw, label='ROC curve (area = %0.2f)' % roc_auc)\n",
    "plt.plot([0, 1], [0, 1], color='navy', lw=lw, linestyle='--')\n",
    "plt.xlim([0.0, 1.0])\n",
    "plt.ylim([0.0, 1.05])\n",
    "plt.xlabel('False Positive Rate')\n",
    "plt.ylabel('True Positive Rate')\n",
    "plt.title('Receiver Operating Characteristic')\n",
    "plt.legend(loc=\"lower right\")\n",
    "plt.show()"
   ]
  },
  {
   "cell_type": "code",
   "execution_count": null,
   "metadata": {},
   "outputs": [],
   "source": [
    "# 2. need to aply to the unseen data "
   ]
  },
  {
   "cell_type": "code",
   "execution_count": 66,
   "metadata": {},
   "outputs": [
    {
     "name": "stdout",
     "output_type": "stream",
     "text": [
      "{'loss': 0.6704, 'learning_rate': 2.9280575539568346e-05, 'epoch': 0.07, 'step': 10}\n",
      "{'loss': 0.4466, 'learning_rate': 2.8561151079136692e-05, 'epoch': 0.14, 'step': 20}\n",
      "{'loss': 0.6523, 'learning_rate': 2.7841726618705038e-05, 'epoch': 0.22, 'step': 30}\n",
      "{'loss': 0.4906, 'learning_rate': 2.7122302158273383e-05, 'epoch': 0.29, 'step': 40}\n",
      "{'loss': 0.6227, 'learning_rate': 2.6402877697841725e-05, 'epoch': 0.36, 'step': 50}\n",
      "{'loss': 0.4533, 'learning_rate': 2.5683453237410074e-05, 'epoch': 0.43, 'step': 60}\n",
      "{'loss': 0.5962, 'learning_rate': 2.496402877697842e-05, 'epoch': 0.5, 'step': 70}\n",
      "{'loss': 0.3324, 'learning_rate': 2.4244604316546762e-05, 'epoch': 0.58, 'step': 80}\n",
      "{'loss': 0.4267, 'learning_rate': 2.3525179856115108e-05, 'epoch': 0.65, 'step': 90}\n",
      "{'loss': 0.3812, 'learning_rate': 2.2805755395683457e-05, 'epoch': 0.72, 'step': 100}\n",
      "{'loss': 0.408, 'learning_rate': 2.20863309352518e-05, 'epoch': 0.79, 'step': 110}\n",
      "{'loss': 0.3798, 'learning_rate': 2.1366906474820145e-05, 'epoch': 0.86, 'step': 120}\n",
      "{'loss': 0.3957, 'learning_rate': 2.064748201438849e-05, 'epoch': 0.94, 'step': 130}\n",
      "{'eval_loss': 0.399201899766922, 'eval_acc': 0.7913669064748201, 'eval_f1': 0.7864936440677965, 'eval_precision': 0.8392783686901334, 'eval_recall': 0.7993777547316567, 'eval_auroc': 0.7993777547316567, 'eval_avgprc': 0.8017419940515946, 'eval_runtime': 8.3658, 'eval_samples_per_second': 33.231, 'eval_steps_per_second': 4.184, 'epoch': 1.0, 'step': 139}\n",
      "{'loss': 0.4082, 'learning_rate': 1.9928057553956836e-05, 'epoch': 1.01, 'step': 140}\n",
      "{'loss': 0.3959, 'learning_rate': 1.920863309352518e-05, 'epoch': 1.08, 'step': 150}\n",
      "{'loss': 0.2503, 'learning_rate': 1.8489208633093527e-05, 'epoch': 1.15, 'step': 160}\n",
      "{'loss': 0.4988, 'learning_rate': 1.776978417266187e-05, 'epoch': 1.22, 'step': 170}\n",
      "{'loss': 0.3873, 'learning_rate': 1.7050359712230218e-05, 'epoch': 1.29, 'step': 180}\n",
      "{'loss': 0.4101, 'learning_rate': 1.633093525179856e-05, 'epoch': 1.37, 'step': 190}\n",
      "{'loss': 0.4251, 'learning_rate': 1.5611510791366906e-05, 'epoch': 1.44, 'step': 200}\n",
      "{'loss': 0.2508, 'learning_rate': 1.4892086330935253e-05, 'epoch': 1.51, 'step': 210}\n",
      "{'loss': 0.6206, 'learning_rate': 1.4172661870503597e-05, 'epoch': 1.58, 'step': 220}\n",
      "{'loss': 0.5454, 'learning_rate': 1.3453237410071943e-05, 'epoch': 1.65, 'step': 230}\n",
      "{'loss': 0.4094, 'learning_rate': 1.2733812949640289e-05, 'epoch': 1.73, 'step': 240}\n",
      "{'loss': 0.3517, 'learning_rate': 1.2014388489208634e-05, 'epoch': 1.8, 'step': 250}\n",
      "{'loss': 0.3284, 'learning_rate': 1.1294964028776978e-05, 'epoch': 1.87, 'step': 260}\n",
      "{'loss': 0.3377, 'learning_rate': 1.0575539568345324e-05, 'epoch': 1.94, 'step': 270}\n",
      "{'eval_loss': 0.4432423412799835, 'eval_acc': 0.7410071942446043, 'eval_f1': 0.7274509803921568, 'eval_precision': 0.7773246833487797, 'eval_recall': 0.7327456572465647, 'eval_auroc': 0.7327456572465646, 'eval_avgprc': 0.6746169748551291, 'eval_runtime': 8.1947, 'eval_samples_per_second': 33.924, 'eval_steps_per_second': 4.271, 'epoch': 2.0, 'step': 278}\n",
      "{'loss': 0.4743, 'learning_rate': 9.85611510791367e-06, 'epoch': 2.01, 'step': 280}\n",
      "{'loss': 0.4302, 'learning_rate': 9.136690647482015e-06, 'epoch': 2.09, 'step': 290}\n",
      "{'loss': 0.4744, 'learning_rate': 8.417266187050359e-06, 'epoch': 2.16, 'step': 300}\n",
      "{'loss': 0.3368, 'learning_rate': 7.697841726618706e-06, 'epoch': 2.23, 'step': 310}\n",
      "{'loss': 0.2909, 'learning_rate': 6.978417266187051e-06, 'epoch': 2.3, 'step': 320}\n",
      "{'loss': 0.2751, 'learning_rate': 6.2589928057553964e-06, 'epoch': 2.37, 'step': 330}\n",
      "{'loss': 0.3533, 'learning_rate': 5.539568345323741e-06, 'epoch': 2.45, 'step': 340}\n",
      "{'loss': 0.3597, 'learning_rate': 4.820143884892087e-06, 'epoch': 2.52, 'step': 350}\n",
      "{'loss': 0.2938, 'learning_rate': 4.100719424460432e-06, 'epoch': 2.59, 'step': 360}\n",
      "{'loss': 0.3375, 'learning_rate': 3.3812949640287768e-06, 'epoch': 2.66, 'step': 370}\n",
      "{'loss': 0.413, 'learning_rate': 2.6618705035971224e-06, 'epoch': 2.73, 'step': 380}\n",
      "{'loss': 0.2404, 'learning_rate': 1.9424460431654675e-06, 'epoch': 2.81, 'step': 390}\n",
      "{'loss': 0.2722, 'learning_rate': 1.2230215827338131e-06, 'epoch': 2.88, 'step': 400}\n",
      "{'loss': 0.2964, 'learning_rate': 5.035971223021583e-07, 'epoch': 2.95, 'step': 410}\n",
      "{'eval_loss': 0.4040168821811676, 'eval_acc': 0.7985611510791367, 'eval_f1': 0.79338535860275, 'eval_precision': 0.8518518518518519, 'eval_recall': 0.806896551724138, 'eval_auroc': 0.806896551724138, 'eval_avgprc': 0.8152319523691391, 'eval_runtime': 7.8922, 'eval_samples_per_second': 35.225, 'eval_steps_per_second': 4.435, 'epoch': 3.0, 'step': 417}\n",
      "{'train_runtime': 470.1349, 'train_samples_per_second': 7.089, 'train_steps_per_second': 0.887, 'total_flos': 109618643439360.0, 'train_loss': 0.4073521239008549, 'epoch': 3.0, 'step': 417}\n",
      "{'eval_loss': 0.4040168821811676, 'eval_acc': 0.7985611510791367, 'eval_f1': 0.79338535860275, 'eval_precision': 0.8518518518518519, 'eval_recall': 0.806896551724138, 'eval_auroc': 0.806896551724138, 'eval_avgprc': 0.8152319523691391, 'eval_runtime': 7.7366, 'eval_samples_per_second': 35.933, 'eval_steps_per_second': 4.524, 'epoch': 3.0, 'step': 417}\n",
      "{'eval_loss': 0.4040168821811676, 'eval_acc': 0.7985611510791367, 'eval_f1': 0.79338535860275, 'eval_precision': 0.8518518518518519, 'eval_recall': 0.806896551724138, 'eval_auroc': 0.806896551724138, 'eval_avgprc': 0.8152319523691391, 'eval_runtime': 7.719, 'eval_samples_per_second': 36.015, 'eval_steps_per_second': 4.534, 'epoch': 3.0, 'step': 417}\n",
      "{'eval_loss': 0.3307802379131317, 'eval_acc': 0.8204697986577181, 'eval_f1': 0.8186930501656076, 'eval_precision': 0.8595800524934383, 'eval_recall': 0.8338509316770186, 'eval_auroc': 0.8338509316770186, 'eval_avgprc': 0.8472320646963192, 'eval_runtime': 16.9254, 'eval_samples_per_second': 35.213, 'eval_steps_per_second': 4.431, 'epoch': 3.0, 'step': 417}\n"
     ]
    },
    {
     "data": {
      "image/png": "[encoded data removed]",
      "text/plain": [
       "<Figure size 640x480 with 1 Axes>"
      ]
     },
     "metadata": {},
     "output_type": "display_data"
    }
   ],
   "source": [
    "train_losses = []\n",
    "eval_losses = []\n",
    "for elem in trainer.state.log_history:\n",
    "      print(elem)\n",
    "      if 'loss' in elem.keys():\n",
    "        train_losses.append(elem['loss'])\n",
    "\n",
    "# Plot the training and validation losses\n",
    "import matplotlib.pyplot as plt\n",
    "plt.plot(train_losses, label='Training Loss')\n",
    "plt.xlabel('Steps')\n",
    "plt.ylabel('Loss')\n",
    "plt.title('Training Losses')\n",
    "plt.legend()\n",
    "plt.show()"
   ]
  },
  {
   "cell_type": "code",
   "execution_count": 68,
   "metadata": {},
   "outputs": [
    {
     "data": {
      "application/vnd.jupyter.widget-view+json": {
       "model_id": "cbf3843bfb3f44cab206ebd95c6839e9",
       "version_major": 2,
       "version_minor": 0
      },
      "text/plain": [
       "  0%|          | 0/75 [00:00<?, ?it/s]"
      ]
     },
     "metadata": {},
     "output_type": "display_data"
    }
   ],
   "source": [
    "# Generate predictions\n",
    "predictions_output = trainer.predict(test_data_unseen)\n",
    "\n",
    "# Extract the predictions and true labels\n",
    "predictions = np.argmax(predictions_output.predictions, axis=-1)\n",
    "true_labels = predictions_output.label_ids"
   ]
  },
  {
   "cell_type": "code",
   "execution_count": 69,
   "metadata": {},
   "outputs": [
    {
     "name": "stdout",
     "output_type": "stream",
     "text": [
      "   True_Labels  Predictions\n",
      "0            1            0\n",
      "1            1            1\n",
      "2            1            1\n",
      "3            1            0\n",
      "4            1            1\n"
     ]
    }
   ],
   "source": [
    "df_results2 = pd.DataFrame({'True_Labels': true_labels, 'Predictions': predictions})\n",
    "\n",
    "# Display the DataFrame\n",
    "print(df_results2.head())"
   ]
  },
  {
   "cell_type": "code",
   "execution_count": 70,
   "metadata": {},
   "outputs": [
    {
     "data": {
      "image/png": "[encoded data removed]",
      "text/plain": [
       "<Figure size 640x480 with 1 Axes>"
      ]
     },
     "metadata": {},
     "output_type": "display_data"
    }
   ],
   "source": [
    "from sklearn.metrics import roc_curve, auc\n",
    "import matplotlib.pyplot as plt\n",
    "\n",
    "# Compute ROC curve and ROC area\n",
    "fpr, tpr, _ = roc_curve(df_results2['True_Labels'], df_results2['Predictions'])\n",
    "roc_auc = auc(fpr, tpr)\n",
    "\n",
    "# Plot\n",
    "plt.figure()\n",
    "lw = 2\n",
    "plt.plot(fpr, tpr, color='darkorange', lw=lw, label='ROC curve (area = %0.2f)' % roc_auc)\n",
    "plt.plot([0, 1], [0, 1], color='navy', lw=lw, linestyle='--')\n",
    "plt.xlim([0.0, 1.0])\n",
    "plt.ylim([0.0, 1.05])\n",
    "plt.xlabel('False Positive Rate')\n",
    "plt.ylabel('True Positive Rate')\n",
    "plt.title('Receiver Operating Characteristic')\n",
    "plt.legend(loc=\"lower right\")\n",
    "plt.show()"
   ]
  },
  {
   "cell_type": "code",
   "execution_count": 71,
   "metadata": {},
   "outputs": [
    {
     "data": {
      "image/png": "[encoded data removed]",
      "text/plain": [
       "<Figure size 640x480 with 2 Axes>"
      ]
     },
     "metadata": {},
     "output_type": "display_data"
    }
   ],
   "source": [
    "from sklearn.metrics import confusion_matrix\n",
    "import seaborn as sns\n",
    "import matplotlib.pyplot as plt\n",
    "\n",
    "# Compute confusion matrix\n",
    "conf_matrix = confusion_matrix(df_results2['True_Labels'], df_results2['Predictions'])\n",
    "\n",
    "# Plot the confusion matrix\n",
    "sns.heatmap(conf_matrix, annot=True, fmt='g')\n",
    "plt.xlabel('Predicted Labels')\n",
    "plt.ylabel('True Labels')\n",
    "plt.show()"
   ]
  },
  {
   "cell_type": "code",
   "execution_count": 73,
   "metadata": {},
   "outputs": [
    {
     "name": "stdout",
     "output_type": "stream",
     "text": [
      "Precision: 0.8708890415543694\n",
      "Recall: 0.8204697986577181\n",
      "F1 Score: 0.8172475598669414\n"
     ]
    }
   ],
   "source": [
    "from sklearn.metrics import precision_score, recall_score, f1_score\n",
    "\n",
    "# precesion\n",
    "precision = precision_score(df_results2['True_Labels'], df_results2['Predictions'], average='weighted')\n",
    "\n",
    "# recall\n",
    "recall = recall_score(df_results2['True_Labels'], df_results2['Predictions'], average='weighted')\n",
    "\n",
    "# F1 \n",
    "f1 = f1_score(df_results2['True_Labels'], df_results2['Predictions'], average='weighted')\n",
    "\n",
    "print(f'Precision: {precision}')\n",
    "print(f'Recall: {recall}')\n",
    "print(f'F1 Score: {f1}')"
   ]
  }
 ],
 "metadata": {
  "kernelspec": {
   "display_name": "Python 3",
   "language": "python",
   "name": "python3"
  },
  "language_info": {
   "codemirror_mode": {
    "name": "ipython",
    "version": 3
   },
   "file_extension": ".py",
   "mimetype": "text/x-python",
   "name": "python",
   "nbconvert_exporter": "python",
   "pygments_lexer": "ipython3",
   "version": "3.9.12"
  },
  "orig_nbformat": 4
 },
 "nbformat": 4,
 "nbformat_minor": 2
}
