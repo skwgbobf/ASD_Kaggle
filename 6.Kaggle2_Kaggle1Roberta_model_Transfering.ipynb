{
 "cells": [
  {
   "cell_type": "code",
   "execution_count": 1,
   "metadata": {},
   "outputs": [],
   "source": [
    "## Import Data\n",
    "\n",
    "import pandas as pd\n",
    "import matplotlib.pyplot as plt"
   ]
  },
  {
   "cell_type": "code",
   "execution_count": null,
   "metadata": {},
   "outputs": [],
   "source": [
    "##############Kaggel2 to apply kaggle1_model finedtuned RoBERTa##############"
   ]
  },
  {
   "cell_type": "code",
   "execution_count": 91,
   "metadata": {},
   "outputs": [
    {
     "data": {
      "text/plain": [
       "'/home/skbae/Documents/skbae/ASD/paper/Pgm/Final'"
      ]
     },
     "execution_count": 91,
     "metadata": {},
     "output_type": "execute_result"
    }
   ],
   "source": [
    "import os\n",
    "os.getcwd()"
   ]
  },
  {
   "cell_type": "code",
   "execution_count": 92,
   "metadata": {},
   "outputs": [],
   "source": [
    "pt = '/home/skbae/Documents/skbae/ASD/paper/Data/'"
   ]
  },
  {
   "cell_type": "code",
   "execution_count": null,
   "metadata": {},
   "outputs": [],
   "source": [
    "# For 2nd Kaggla ASD data "
   ]
  },
  {
   "cell_type": "code",
   "execution_count": null,
   "metadata": {},
   "outputs": [],
   "source": [
    "# preprocessed Kagge2 data import"
   ]
  },
  {
   "cell_type": "code",
   "execution_count": 1,
   "metadata": {},
   "outputs": [],
   "source": [
    "import pandas as pd\n",
    "\n",
    "T_ASD2 = pd.read_csv('./ASD_CSV_T_ASD2_Feb23.csv')"
   ]
  },
  {
   "cell_type": "code",
   "execution_count": 2,
   "metadata": {},
   "outputs": [
    {
     "data": {
      "text/plain": [
       "Index(['CASE_NO_PATIENT'S', 'A1', 'A2', 'A3', 'A4', 'A5', 'A6', 'A7', 'A8',\n",
       "       'A9', 'A10_Autism_Spectrum_Quotient', 'Social_Responsiveness_Scale',\n",
       "       'Age_Years', 'Qchat_10_Score', 'Speech Delay/Language Disorder',\n",
       "       'Learning disorder', 'Genetic_Disorders', 'Depression',\n",
       "       'Global developmental delay/intellectual disability',\n",
       "       'Social/Behavioural Issues', 'Childhood Autism Rating Scale',\n",
       "       'Anxiety_disorder', 'Sex', 'Ethnicity', 'Jaundice',\n",
       "       'Family_mem_with_ASD', 'Who_completed_the_test', 'ASD_traits',\n",
       "       'A1_C2977673', 'A2_C0870532', 'A3_C4036288', 'A4_C0424091',\n",
       "       'A5_C2371970', 'A6_C2370875', 'A7_C4064035', 'A8_C1854882',\n",
       "       'A9_C0566243', 'A10_C4064319', 'combined'],\n",
       "      dtype='object')"
      ]
     },
     "execution_count": 2,
     "metadata": {},
     "output_type": "execute_result"
    }
   ],
   "source": [
    "T_ASD2.columns"
   ]
  },
  {
   "cell_type": "code",
   "execution_count": 3,
   "metadata": {},
   "outputs": [],
   "source": [
    "# option1 : without augmentation\n",
    "df_m2=T_ASD2[['ASD_traits','combined']]"
   ]
  },
  {
   "cell_type": "code",
   "execution_count": 4,
   "metadata": {},
   "outputs": [],
   "source": [
    "df_m2.columns =['Class','text']"
   ]
  },
  {
   "cell_type": "code",
   "execution_count": 5,
   "metadata": {},
   "outputs": [
    {
     "data": {
      "text/plain": [
       "Yes    1074\n",
       "No      911\n",
       "Name: Class, dtype: int64"
      ]
     },
     "execution_count": 5,
     "metadata": {},
     "output_type": "execute_result"
    }
   ],
   "source": [
    "df_m2.Class.value_counts()"
   ]
  },
  {
   "cell_type": "code",
   "execution_count": 6,
   "metadata": {},
   "outputs": [
    {
     "name": "stderr",
     "output_type": "stream",
     "text": [
      "/tmp/ipykernel_1161748/3106382212.py:8: SettingWithCopyWarning: \n",
      "A value is trying to be set on a copy of a slice from a DataFrame.\n",
      "Try using .loc[row_indexer,col_indexer] = value instead\n",
      "\n",
      "See the caveats in the documentation: https://pandas.pydata.org/pandas-docs/stable/user_guide/indexing.html#returning-a-view-versus-a-copy\n",
      "  df_m2['label'] = df_m2['Class'].replace(ASD_mapping)\n"
     ]
    },
    {
     "data": {
      "text/plain": [
       "1    1074\n",
       "0     911\n",
       "Name: label, dtype: int64"
      ]
     },
     "execution_count": 6,
     "metadata": {},
     "output_type": "execute_result"
    }
   ],
   "source": [
    "ASD_mapping = {\n",
    "    'No': 0, # TD\n",
    "    'Yes' : 1, # ASD\n",
    "}\n",
    "\n",
    "df_m2['label'] = df_m2['Class'].replace(ASD_mapping)\n",
    "df_m2.label.value_counts()"
   ]
  },
  {
   "cell_type": "code",
   "execution_count": null,
   "metadata": {},
   "outputs": [],
   "source": [
    "# Step 1: Load the Pre-Trained RoBERTa Model"
   ]
  },
  {
   "cell_type": "code",
   "execution_count": 10,
   "metadata": {},
   "outputs": [
    {
     "name": "stderr",
     "output_type": "stream",
     "text": [
      "2024-02-27 17:01:04.128478: I tensorflow/core/util/port.cc:110] oneDNN custom operations are on. You may see slightly different numerical results due to floating-point round-off errors from different computation orders. To turn them off, set the environment variable `TF_ENABLE_ONEDNN_OPTS=0`.\n",
      "2024-02-27 17:01:04.155956: I tensorflow/core/platform/cpu_feature_guard.cc:182] This TensorFlow binary is optimized to use available CPU instructions in performance-critical operations.\n",
      "To enable the following instructions: AVX2 AVX_VNNI FMA, in other operations, rebuild TensorFlow with the appropriate compiler flags.\n",
      "2024-02-27 17:01:04.761892: W tensorflow/compiler/tf2tensorrt/utils/py_utils.cc:38] TF-TRT Warning: Could not find TensorRT\n",
      "/home/skbae/anaconda3/envs/myNLP/lib/python3.9/site-packages/bitsandbytes/cextension.py:34: UserWarning: The installed version of bitsandbytes was compiled without GPU support. 8-bit optimizers, 8-bit multiplication, and GPU quantization are unavailable.\n",
      "  warn(\"The installed version of bitsandbytes was compiled without GPU support. \"\n"
     ]
    },
    {
     "name": "stdout",
     "output_type": "stream",
     "text": [
      "/home/skbae/anaconda3/envs/myNLP/lib/python3.9/site-packages/bitsandbytes/libbitsandbytes_cpu.so: undefined symbol: cadam32bit_grad_fp32\n"
     ]
    }
   ],
   "source": [
    "import pandas as pd\n",
    "import torch\n",
    "import numpy as np\n",
    "import matplotlib.pyplot as plt\n",
    "import random\n",
    "from imblearn.over_sampling import RandomOverSampler\n",
    "from sklearn.model_selection import train_test_split\n",
    "from torch.utils.data import DataLoader\n",
    "from transformers import Trainer\n",
    "from transformers import DebertaTokenizer, AlbertTokenizer, BertTokenizer, RobertaTokenizer\n",
    "from transformers import DebertaForSequenceClassification, AlbertForSequenceClassification, BertForSequenceClassification, RobertaForSequenceClassification\n",
    "from transformers import TrainingArguments\n",
    "from sklearn.metrics import f1_score, precision_score, recall_score, accuracy_score, roc_auc_score, average_precision_score\n"
   ]
  },
  {
   "cell_type": "code",
   "execution_count": 11,
   "metadata": {},
   "outputs": [],
   "source": [
    "#set random seed \n",
    "def set_seed(random_seed):\n",
    "    torch.manual_seed(random_seed)\n",
    "    torch.cuda.manual_seed(random_seed)\n",
    "    # torch.cuda.manual_seed_all(random_seed)  # if use multi-GPU\n",
    "    torch.backends.cudnn.deterministic = True\n",
    "    torch.backends.cudnn.benchmark = False\n",
    "    np.random.seed(random_seed)\n",
    "    random.seed(random_seed)\n",
    "    \n",
    "random_seed = 42\n",
    "set_seed(random_seed)"
   ]
  },
  {
   "cell_type": "code",
   "execution_count": 7,
   "metadata": {},
   "outputs": [
    {
     "name": "stderr",
     "output_type": "stream",
     "text": [
      "/home/skbae/anaconda3/envs/myNLP/lib/python3.9/site-packages/torch/cuda/__init__.py:546: UserWarning: Can't initialize NVML\n",
      "  warnings.warn(\"Can't initialize NVML\")\n"
     ]
    }
   ],
   "source": [
    "from transformers import RobertaForSequenceClassification\n",
    "\n",
    "# Load the pre-trained RoBERTa model\n",
    "#trainer.save_model(\"./Roberta/ROBERTA_qchatmodel_Feb2024\")\n",
    "model = RobertaForSequenceClassification.from_pretrained('./Roberta/ROBERTA_qchatmodel_Feb2024', num_labels=2)\n"
   ]
  },
  {
   "cell_type": "code",
   "execution_count": null,
   "metadata": {},
   "outputs": [],
   "source": [
    "# # Load the model\n",
    "# load_path = 'model_epoch_5.pth'  # Change the path based on your saved model file\n",
    "# loaded_model = BertClassifier()\n",
    "# loaded_model.load_state_dict(torch.load(load_path))\n",
    "# loaded_model.eval()"
   ]
  },
  {
   "cell_type": "code",
   "execution_count": null,
   "metadata": {},
   "outputs": [],
   "source": [
    "# transfer learning"
   ]
  },
  {
   "cell_type": "code",
   "execution_count": 34,
   "metadata": {},
   "outputs": [],
   "source": [
    "from sklearn.model_selection import train_test_split\n",
    "from torch.utils.data import DataLoader\n",
    "\n",
    "train_df = df_m2\n",
    "X = train_df.drop('label', axis=1)\n",
    "y =  train_df['label']\n",
    "\n",
    "# Split the data into training and validation sets\n",
    "X_train, X_test, y_train, y_test = train_test_split(X, y, test_size=0.3, stratify=y)\n",
    "\n",
    "# Combine X_train and y_train, and reset the index\n",
    "train_data = pd.concat([X_train, y_train], axis=1).reset_index(drop=True)\n",
    "\n",
    "# # Create Dataset and DataLoader for training set\n",
    "# Dset = NextVisit(token2idx=BertVocab, label2idx=labelVocab, age2idx=ageVocab, dataframe=train_data, max_len=global_params['max_len_seq'], code='disease_sequenceF', age='age2_sequenceF', label='d138')\n",
    "# trainload = DataLoader(dataset=Dset, batch_size=global_params['batch_size'], shuffle=False, num_workers=3)\n",
    "\n",
    "# Combine X_test and y_test, and reset the index\n",
    "test_data_unseen = pd.concat([X_test, y_test], axis=1).reset_index(drop=True)"
   ]
  },
  {
   "cell_type": "code",
   "execution_count": 35,
   "metadata": {},
   "outputs": [
    {
     "data": {
      "text/html": [
       "<div>\n",
       "<style scoped>\n",
       "    .dataframe tbody tr th:only-of-type {\n",
       "        vertical-align: middle;\n",
       "    }\n",
       "\n",
       "    .dataframe tbody tr th {\n",
       "        vertical-align: top;\n",
       "    }\n",
       "\n",
       "    .dataframe thead th {\n",
       "        text-align: right;\n",
       "    }\n",
       "</style>\n",
       "<table border=\"1\" class=\"dataframe\">\n",
       "  <thead>\n",
       "    <tr style=\"text-align: right;\">\n",
       "      <th></th>\n",
       "      <th>Class</th>\n",
       "      <th>text</th>\n",
       "      <th>label</th>\n",
       "    </tr>\n",
       "  </thead>\n",
       "  <tbody>\n",
       "    <tr>\n",
       "      <th>0</th>\n",
       "      <td>No</td>\n",
       "      <td>attention and concentration deficit , , , , , ...</td>\n",
       "      <td>0</td>\n",
       "    </tr>\n",
       "    <tr>\n",
       "      <th>1</th>\n",
       "      <td>Yes</td>\n",
       "      <td>attention and concentration deficit ,contacts ...</td>\n",
       "      <td>1</td>\n",
       "    </tr>\n",
       "    <tr>\n",
       "      <th>2</th>\n",
       "      <td>No</td>\n",
       "      <td>, , , , , , , , ,play impairment stares blank...</td>\n",
       "      <td>0</td>\n",
       "    </tr>\n",
       "    <tr>\n",
       "      <th>3</th>\n",
       "      <td>No</td>\n",
       "      <td>, , , , , , , , ,</td>\n",
       "      <td>0</td>\n",
       "    </tr>\n",
       "    <tr>\n",
       "      <th>4</th>\n",
       "      <td>Yes</td>\n",
       "      <td>, , , , , , , , ,</td>\n",
       "      <td>1</td>\n",
       "    </tr>\n",
       "  </tbody>\n",
       "</table>\n",
       "</div>"
      ],
      "text/plain": [
       "  Class                                               text  label\n",
       "0    No  attention and concentration deficit , , , , , ...      0\n",
       "1   Yes  attention and concentration deficit ,contacts ...      1\n",
       "2    No   , , , , , , , , ,play impairment stares blank...      0\n",
       "3    No                                  , , , , , , , , ,      0\n",
       "4   Yes                                  , , , , , , , , ,      1"
      ]
     },
     "execution_count": 35,
     "metadata": {},
     "output_type": "execute_result"
    }
   ],
   "source": [
    "test_data_unseen.head()"
   ]
  },
  {
   "cell_type": "code",
   "execution_count": null,
   "metadata": {},
   "outputs": [],
   "source": [
    "#Step 2: Adapt the Model for ASD_TD data "
   ]
  },
  {
   "cell_type": "code",
   "execution_count": 17,
   "metadata": {},
   "outputs": [],
   "source": [
    "import pandas as pd\n",
    "from sklearn.model_selection import train_test_split\n",
    "from transformers import RobertaTokenizerFast\n",
    "tokenizer = RobertaTokenizerFast.from_pretrained('roberta-base')\n",
    "\n",
    "# Tokenize the dataset (with attention mask)\n",
    "encodings = tokenizer(df_m2['text'].tolist(), truncation=True, padding=True, max_length=512)\n",
    "labels = df_m2['label'].tolist()\n",
    "\n",
    "# Extract 'input_ids' and 'attention_mask' from the encodings\n",
    "input_ids = encodings['input_ids']\n",
    "attention_masks = encodings['attention_mask']\n",
    "\n",
    "# Split the 'input_ids', 'attention_mask', and labels into training and testing sets\n",
    "m_train_input_ids, m_test_input_ids, m_train_attention_masks, m_test_attention_masks, m_train_labels, m_test_labels = train_test_split(\n",
    "    input_ids, attention_masks, labels, test_size=0.2\n",
    ")"
   ]
  },
  {
   "cell_type": "code",
   "execution_count": 19,
   "metadata": {},
   "outputs": [
    {
     "name": "stdout",
     "output_type": "stream",
     "text": [
      "0 : 734 / 1 : 854\n",
      "0 : 177 / 1 : 220\n"
     ]
    }
   ],
   "source": [
    "# print(f\"0 : {m_train_labels.count(0)} / 1 : {m_train_labels.count(1)} / 2 : {m_train_labels.count(2)} / 3 : {m_train_labels.count(3)}\")\n",
    "# print(f\"0 : {m_test_labels.count(0)} / 1 : {m_test_labels.count(1)} / 2 : {m_test_labels.count(2)} / 3 : {m_test_labels.count(3)}\")\n",
    "print(f\"0 : {m_train_labels.count(0)} / 1 : {m_train_labels.count(1)}\")\n",
    "print(f\"0 : {m_test_labels.count(0)} / 1 : {m_test_labels.count(1)}\")"
   ]
  },
  {
   "cell_type": "code",
   "execution_count": 31,
   "metadata": {},
   "outputs": [],
   "source": [
    "import torch\n",
    "\n",
    "class QCHATDataset(torch.utils.data.Dataset):\n",
    "    def __init__(self, input_ids, attention_masks, labels):\n",
    "        self.input_ids = input_ids\n",
    "        self.attention_masks = attention_masks\n",
    "        self.labels = labels\n",
    "\n",
    "    def __getitem__(self, idx):\n",
    "        return {\n",
    "            'input_ids': torch.tensor(self.input_ids[idx], dtype=torch.long),\n",
    "            'attention_mask': torch.tensor(self.attention_masks[idx], dtype=torch.long),\n",
    "            'labels': torch.tensor(self.labels[idx], dtype=torch.long)\n",
    "        }\n",
    "\n",
    "    def __len__(self):\n",
    "        return len(self.labels)\n",
    "\n",
    "# Create training and validation datasets\n",
    "train_dataset = QCHATDataset(m_train_input_ids, m_train_attention_masks, m_train_labels)\n",
    "test_dataset = QCHATDataset(m_test_input_ids, m_test_attention_masks, m_test_labels)\n"
   ]
  },
  {
   "cell_type": "code",
   "execution_count": 36,
   "metadata": {},
   "outputs": [],
   "source": [
    "import torch\n",
    "from torch.utils.data import Dataset\n",
    "\n",
    "\n",
    "class QCHAT2Dataset(Dataset):\n",
    "    def __init__(self, input_ids, attention_masks, labels):\n",
    "        self.input_ids = input_ids\n",
    "        self.attention_masks = attention_masks\n",
    "        self.labels = labels\n",
    "\n",
    "    def __len__(self):\n",
    "        return len(self.input_ids)\n",
    "\n",
    "    def __getitem__(self, idx):\n",
    "        return {\n",
    "            'input_ids': self.input_ids[idx],\n",
    "            'attention_mask': self.attention_masks[idx],\n",
    "            'labels': self.labels[idx]\n",
    "        }\n",
    "\n",
    "# # Text semantics and attention mask generation\n",
    "inputs_unseen = tokenizer(test_data_unseen['text'].tolist(), padding=True, truncation=True, return_tensors=\"pt\")\n",
    "input_ids_unseen = inputs_unseen['input_ids']\n",
    "attention_masks_unseen = inputs_unseen['attention_mask']\n",
    "\n",
    "# test dataset\n",
    "test_data_unseen = QCHAT2Dataset(input_ids_unseen, attention_masks_unseen, test_data_unseen['label'].tolist())"
   ]
  },
  {
   "cell_type": "code",
   "execution_count": 108,
   "metadata": {},
   "outputs": [],
   "source": [
    "# model.classifier.dense = nn.Linear(model.classifier.dense.in_features, 2)\n",
    "# model.classifier.out_proj = nn.Linear(2, model.num_labels)"
   ]
  },
  {
   "cell_type": "code",
   "execution_count": 37,
   "metadata": {},
   "outputs": [],
   "source": [
    "from sklearn.metrics import f1_score, precision_score, recall_score\n",
    "from sklearn.metrics import accuracy_score, roc_auc_score, average_precision_score\n",
    "from sklearn.preprocessing import label_binarize\n",
    "import numpy as np\n",
    "\n",
    "def compute_metrics_multiclass2(p, num_classes=2):  # num_classes is now set to 2\n",
    "    predictions, labels = p\n",
    "    predictions = np.argmax(predictions, axis=1)\n",
    "\n",
    "    # Multiclass\n",
    "    f1 = f1_score(labels, predictions, average='macro')\n",
    "    precision = precision_score(labels, predictions, average='macro')\n",
    "    recall = recall_score(labels, predictions, average='macro')\n",
    "    acc = accuracy_score(labels, predictions)\n",
    "\n",
    "     # Treat each class as a binary classification\n",
    "    labels_binarized = label_binarize(labels, classes=range(num_classes))\n",
    "    predictions_binarized = label_binarize(predictions, classes=range(num_classes))\n",
    "\n",
    "    # Multiclass AUROC , Average Precision\n",
    "    auroc = roc_auc_score(labels_binarized, predictions_binarized, multi_class='ovr')\n",
    "    avgprc = average_precision_score(labels_binarized, predictions_binarized)\n",
    "\n",
    "    return {\n",
    "        \"acc\": acc, \n",
    "        \"f1\": f1, \n",
    "        \"precision\": precision, \n",
    "        \"recall\": recall, \n",
    "        \"auroc\": auroc, \n",
    "        \"avgprc\": avgprc\n",
    "    }"
   ]
  },
  {
   "cell_type": "code",
   "execution_count": 38,
   "metadata": {},
   "outputs": [],
   "source": [
    "from transformers import Trainer, TrainingArguments\n",
    "\n",
    "# Training arguments\n",
    "training_args1 = TrainingArguments(\n",
    "    output_dir='./results_ASD2',\n",
    "    per_device_train_batch_size = 8,  # batch size for training\n",
    "    per_device_eval_batch_size=8,   # batch size for evaluation\n",
    "    warmup_steps=0,                # number of warmup steps\n",
    "    weight_decay=1e-8,               # strength of weight decay\n",
    "    logging_dir='./log',            # directory for storing logs\n",
    "    logging_steps=10,              # log saving step. 100\n",
    "    evaluation_strategy=\"epoch\",     # evaluate each `logging_steps`,\n",
    "    learning_rate=3e-5,              # learning rate\n",
    ")"
   ]
  },
  {
   "cell_type": "code",
   "execution_count": 39,
   "metadata": {},
   "outputs": [
    {
     "name": "stderr",
     "output_type": "stream",
     "text": [
      "huggingface/tokenizers: The current process just got forked, after parallelism has already been used. Disabling parallelism to avoid deadlocks...\n",
      "To disable this warning, you can either:\n",
      "\t- Avoid using `tokenizers` before the fork if possible\n",
      "\t- Explicitly set the environment variable TOKENIZERS_PARALLELISM=(true | false)\n",
      "huggingface/tokenizers: The current process just got forked, after parallelism has already been used. Disabling parallelism to avoid deadlocks...\n",
      "To disable this warning, you can either:\n",
      "\t- Avoid using `tokenizers` before the fork if possible\n",
      "\t- Explicitly set the environment variable TOKENIZERS_PARALLELISM=(true | false)\n",
      "huggingface/tokenizers: The current process just got forked, after parallelism has already been used. Disabling parallelism to avoid deadlocks...\n",
      "To disable this warning, you can either:\n",
      "\t- Avoid using `tokenizers` before the fork if possible\n",
      "\t- Explicitly set the environment variable TOKENIZERS_PARALLELISM=(true | false)\n",
      "huggingface/tokenizers: The current process just got forked, after parallelism has already been used. Disabling parallelism to avoid deadlocks...\n",
      "To disable this warning, you can either:\n",
      "\t- Avoid using `tokenizers` before the fork if possible\n",
      "\t- Explicitly set the environment variable TOKENIZERS_PARALLELISM=(true | false)\n",
      "Failed to detect the name of this notebook, you can set it manually with the WANDB_NOTEBOOK_NAME environment variable to enable code saving.\n",
      "huggingface/tokenizers: The current process just got forked, after parallelism has already been used. Disabling parallelism to avoid deadlocks...\n",
      "To disable this warning, you can either:\n",
      "\t- Avoid using `tokenizers` before the fork if possible\n",
      "\t- Explicitly set the environment variable TOKENIZERS_PARALLELISM=(true | false)\n",
      "\u001b[34m\u001b[1mwandb\u001b[0m: Currently logged in as: \u001b[33msookyungbae\u001b[0m. Use \u001b[1m`wandb login --relogin`\u001b[0m to force relogin\n"
     ]
    },
    {
     "data": {
      "text/html": [
       "wandb version 0.16.3 is available!  To upgrade, please run:\n",
       " $ pip install wandb --upgrade"
      ],
      "text/plain": [
       "<IPython.core.display.HTML object>"
      ]
     },
     "metadata": {},
     "output_type": "display_data"
    },
    {
     "data": {
      "text/html": [
       "Tracking run with wandb version 0.16.0"
      ],
      "text/plain": [
       "<IPython.core.display.HTML object>"
      ]
     },
     "metadata": {},
     "output_type": "display_data"
    },
    {
     "data": {
      "text/html": [
       "Run data is saved locally in <code>/home/skbae/Documents/skbae/ASD/paper/Pgm/Final/wandb/run-20240227_171510-xujidgtu</code>"
      ],
      "text/plain": [
       "<IPython.core.display.HTML object>"
      ]
     },
     "metadata": {},
     "output_type": "display_data"
    },
    {
     "data": {
      "text/html": [
       "Syncing run <strong><a href='https://wandb.ai/sookyungbae/huggingface/runs/xujidgtu' target=\"_blank\">rich-flower-25</a></strong> to <a href='https://wandb.ai/sookyungbae/huggingface' target=\"_blank\">Weights & Biases</a> (<a href='https://wandb.me/run' target=\"_blank\">docs</a>)<br/>"
      ],
      "text/plain": [
       "<IPython.core.display.HTML object>"
      ]
     },
     "metadata": {},
     "output_type": "display_data"
    },
    {
     "data": {
      "text/html": [
       " View project at <a href='https://wandb.ai/sookyungbae/huggingface' target=\"_blank\">https://wandb.ai/sookyungbae/huggingface</a>"
      ],
      "text/plain": [
       "<IPython.core.display.HTML object>"
      ]
     },
     "metadata": {},
     "output_type": "display_data"
    },
    {
     "data": {
      "text/html": [
       " View run at <a href='https://wandb.ai/sookyungbae/huggingface/runs/xujidgtu' target=\"_blank\">https://wandb.ai/sookyungbae/huggingface/runs/xujidgtu</a>"
      ],
      "text/plain": [
       "<IPython.core.display.HTML object>"
      ]
     },
     "metadata": {},
     "output_type": "display_data"
    },
    {
     "data": {
      "application/vnd.jupyter.widget-view+json": {
       "model_id": "79ecb34684d04071a506555ca73b3a9c",
       "version_major": 2,
       "version_minor": 0
      },
      "text/plain": [
       "  0%|          | 0/597 [00:00<?, ?it/s]"
      ]
     },
     "metadata": {},
     "output_type": "display_data"
    },
    {
     "name": "stdout",
     "output_type": "stream",
     "text": [
      "{'loss': 0.5674, 'learning_rate': 2.949748743718593e-05, 'epoch': 0.05}\n",
      "{'loss': 0.352, 'learning_rate': 2.899497487437186e-05, 'epoch': 0.1}\n",
      "{'loss': 0.5166, 'learning_rate': 2.849246231155779e-05, 'epoch': 0.15}\n",
      "{'loss': 0.5144, 'learning_rate': 2.798994974874372e-05, 'epoch': 0.2}\n",
      "{'loss': 0.4302, 'learning_rate': 2.748743718592965e-05, 'epoch': 0.25}\n",
      "{'loss': 0.5073, 'learning_rate': 2.698492462311558e-05, 'epoch': 0.3}\n",
      "{'loss': 0.3455, 'learning_rate': 2.6482412060301507e-05, 'epoch': 0.35}\n",
      "{'loss': 0.4288, 'learning_rate': 2.597989949748744e-05, 'epoch': 0.4}\n",
      "{'loss': 0.3904, 'learning_rate': 2.547738693467337e-05, 'epoch': 0.45}\n",
      "{'loss': 0.361, 'learning_rate': 2.4974874371859298e-05, 'epoch': 0.5}\n",
      "{'loss': 0.4287, 'learning_rate': 2.4472361809045227e-05, 'epoch': 0.55}\n",
      "{'loss': 0.4542, 'learning_rate': 2.3969849246231156e-05, 'epoch': 0.6}\n",
      "{'loss': 0.2927, 'learning_rate': 2.3467336683417088e-05, 'epoch': 0.65}\n",
      "{'loss': 0.4172, 'learning_rate': 2.2964824120603017e-05, 'epoch': 0.7}\n",
      "{'loss': 0.2915, 'learning_rate': 2.2462311557788946e-05, 'epoch': 0.75}\n",
      "{'loss': 0.5107, 'learning_rate': 2.1959798994974875e-05, 'epoch': 0.8}\n",
      "{'loss': 0.3457, 'learning_rate': 2.1457286432160804e-05, 'epoch': 0.85}\n",
      "{'loss': 0.3718, 'learning_rate': 2.0954773869346733e-05, 'epoch': 0.9}\n",
      "{'loss': 0.4997, 'learning_rate': 2.0452261306532666e-05, 'epoch': 0.95}\n"
     ]
    },
    {
     "data": {
      "application/vnd.jupyter.widget-view+json": {
       "model_id": "75035dd3db1a45b382fc2d564200f9e1",
       "version_major": 2,
       "version_minor": 0
      },
      "text/plain": [
       "  0%|          | 0/50 [00:00<?, ?it/s]"
      ]
     },
     "metadata": {},
     "output_type": "display_data"
    },
    {
     "name": "stdout",
     "output_type": "stream",
     "text": [
      "{'eval_loss': 0.4367083013057709, 'eval_acc': 0.801007556675063, 'eval_f1': 0.7993576989757729, 'eval_precision': 0.845703125, 'eval_recall': 0.8204545454545454, 'eval_auroc': 0.8204545454545454, 'eval_avgprc': 0.8399015342340279, 'eval_runtime': 11.4432, 'eval_samples_per_second': 34.693, 'eval_steps_per_second': 4.369, 'epoch': 1.0}\n",
      "{'loss': 0.3674, 'learning_rate': 1.9949748743718595e-05, 'epoch': 1.01}\n",
      "{'loss': 0.272, 'learning_rate': 1.9447236180904524e-05, 'epoch': 1.06}\n",
      "{'loss': 0.3131, 'learning_rate': 1.8944723618090453e-05, 'epoch': 1.11}\n",
      "{'loss': 0.2971, 'learning_rate': 1.8442211055276382e-05, 'epoch': 1.16}\n",
      "{'loss': 0.4784, 'learning_rate': 1.7939698492462314e-05, 'epoch': 1.21}\n",
      "{'loss': 0.3394, 'learning_rate': 1.7437185929648243e-05, 'epoch': 1.26}\n",
      "{'loss': 0.419, 'learning_rate': 1.6934673366834172e-05, 'epoch': 1.31}\n",
      "{'loss': 0.4399, 'learning_rate': 1.64321608040201e-05, 'epoch': 1.36}\n",
      "{'loss': 0.197, 'learning_rate': 1.592964824120603e-05, 'epoch': 1.41}\n",
      "{'loss': 0.6443, 'learning_rate': 1.5427135678391963e-05, 'epoch': 1.46}\n",
      "{'loss': 0.3832, 'learning_rate': 1.492462311557789e-05, 'epoch': 1.51}\n",
      "{'loss': 0.5276, 'learning_rate': 1.442211055276382e-05, 'epoch': 1.56}\n",
      "{'loss': 0.2741, 'learning_rate': 1.3919597989949748e-05, 'epoch': 1.61}\n",
      "{'loss': 0.3558, 'learning_rate': 1.3417085427135679e-05, 'epoch': 1.66}\n",
      "{'loss': 0.3202, 'learning_rate': 1.2914572864321608e-05, 'epoch': 1.71}\n",
      "{'loss': 0.3541, 'learning_rate': 1.2412060301507537e-05, 'epoch': 1.76}\n",
      "{'loss': 0.3644, 'learning_rate': 1.1909547738693468e-05, 'epoch': 1.81}\n",
      "{'loss': 0.434, 'learning_rate': 1.1407035175879397e-05, 'epoch': 1.86}\n",
      "{'loss': 0.455, 'learning_rate': 1.0904522613065328e-05, 'epoch': 1.91}\n",
      "{'loss': 0.351, 'learning_rate': 1.0402010050251257e-05, 'epoch': 1.96}\n"
     ]
    },
    {
     "data": {
      "application/vnd.jupyter.widget-view+json": {
       "model_id": "0555d974108a49328d4e30c845d9a22f",
       "version_major": 2,
       "version_minor": 0
      },
      "text/plain": [
       "  0%|          | 0/50 [00:00<?, ?it/s]"
      ]
     },
     "metadata": {},
     "output_type": "display_data"
    },
    {
     "name": "stdout",
     "output_type": "stream",
     "text": [
      "{'eval_loss': 0.3748052418231964, 'eval_acc': 0.8211586901763224, 'eval_f1': 0.8202646261756734, 'eval_precision': 0.8568548387096775, 'eval_recall': 0.8386363636363636, 'eval_auroc': 0.8386363636363636, 'eval_avgprc': 0.8561140370964049, 'eval_runtime': 11.8578, 'eval_samples_per_second': 33.48, 'eval_steps_per_second': 4.217, 'epoch': 2.0}\n",
      "{'loss': 0.4104, 'learning_rate': 9.899497487437186e-06, 'epoch': 2.01}\n",
      "{'loss': 0.3703, 'learning_rate': 9.396984924623116e-06, 'epoch': 2.06}\n",
      "{'loss': 0.3649, 'learning_rate': 8.894472361809045e-06, 'epoch': 2.11}\n",
      "{'loss': 0.2904, 'learning_rate': 8.391959798994976e-06, 'epoch': 2.16}\n",
      "{'loss': 0.2972, 'learning_rate': 7.889447236180905e-06, 'epoch': 2.21}\n",
      "{'loss': 0.2972, 'learning_rate': 7.386934673366835e-06, 'epoch': 2.26}\n",
      "{'loss': 0.47, 'learning_rate': 6.884422110552764e-06, 'epoch': 2.31}\n",
      "{'loss': 0.386, 'learning_rate': 6.381909547738693e-06, 'epoch': 2.36}\n",
      "{'loss': 0.2749, 'learning_rate': 5.879396984924623e-06, 'epoch': 2.41}\n",
      "{'loss': 0.3229, 'learning_rate': 5.376884422110553e-06, 'epoch': 2.46}\n"
     ]
    },
    {
     "name": "stderr",
     "output_type": "stream",
     "text": [
      "Checkpoint destination directory ./results_ASD2/checkpoint-500 already exists and is non-empty.Saving will proceed but saved results may be invalid.\n"
     ]
    },
    {
     "name": "stdout",
     "output_type": "stream",
     "text": [
      "{'loss': 0.2732, 'learning_rate': 4.874371859296483e-06, 'epoch': 2.51}\n",
      "{'loss': 0.3055, 'learning_rate': 4.371859296482412e-06, 'epoch': 2.56}\n",
      "{'loss': 0.3585, 'learning_rate': 3.8693467336683416e-06, 'epoch': 2.61}\n",
      "{'loss': 0.4047, 'learning_rate': 3.3668341708542714e-06, 'epoch': 2.66}\n",
      "{'loss': 0.3127, 'learning_rate': 2.864321608040201e-06, 'epoch': 2.71}\n",
      "{'loss': 0.2365, 'learning_rate': 2.3618090452261308e-06, 'epoch': 2.76}\n",
      "{'loss': 0.3692, 'learning_rate': 1.8592964824120604e-06, 'epoch': 2.81}\n",
      "{'loss': 0.246, 'learning_rate': 1.35678391959799e-06, 'epoch': 2.86}\n",
      "{'loss': 0.3432, 'learning_rate': 8.542713567839197e-07, 'epoch': 2.91}\n",
      "{'loss': 0.2869, 'learning_rate': 3.517587939698492e-07, 'epoch': 2.96}\n"
     ]
    },
    {
     "data": {
      "application/vnd.jupyter.widget-view+json": {
       "model_id": "4deb72d7401a471195a14402eb53cb8b",
       "version_major": 2,
       "version_minor": 0
      },
      "text/plain": [
       "  0%|          | 0/50 [00:00<?, ?it/s]"
      ]
     },
     "metadata": {},
     "output_type": "display_data"
    },
    {
     "name": "stdout",
     "output_type": "stream",
     "text": [
      "{'eval_loss': 0.39109617471694946, 'eval_acc': 0.8211586901763224, 'eval_f1': 0.8202646261756734, 'eval_precision': 0.8568548387096775, 'eval_recall': 0.8386363636363636, 'eval_auroc': 0.8386363636363636, 'eval_avgprc': 0.8561140370964049, 'eval_runtime': 12.2247, 'eval_samples_per_second': 32.475, 'eval_steps_per_second': 4.09, 'epoch': 3.0}\n",
      "{'train_runtime': 676.3803, 'train_samples_per_second': 7.043, 'train_steps_per_second': 0.883, 'train_loss': 0.3779982144708809, 'epoch': 3.0}\n"
     ]
    },
    {
     "data": {
      "text/plain": [
       "TrainOutput(global_step=597, training_loss=0.3779982144708809, metrics={'train_runtime': 676.3803, 'train_samples_per_second': 7.043, 'train_steps_per_second': 0.883, 'train_loss': 0.3779982144708809, 'epoch': 3.0})"
      ]
     },
     "execution_count": 39,
     "metadata": {},
     "output_type": "execute_result"
    }
   ],
   "source": [
    "def compute_metrics_wrapper(p):\n",
    "    return compute_metrics_multiclass2(p, num_classes=2) #0,1\n",
    "\n",
    "trainer = Trainer(\n",
    "    model=model,\n",
    "    args=training_args1,\n",
    "    train_dataset=train_dataset,\n",
    "    eval_dataset=test_dataset,\n",
    "    compute_metrics=compute_metrics_wrapper  # We will define compute_metrics function later\n",
    ")\n",
    "trainer.train() "
   ]
  },
  {
   "cell_type": "code",
   "execution_count": 40,
   "metadata": {},
   "outputs": [
    {
     "data": {
      "application/vnd.jupyter.widget-view+json": {
       "model_id": "ab0e50aff00242ed936c080a70caa8e3",
       "version_major": 2,
       "version_minor": 0
      },
      "text/plain": [
       "  0%|          | 0/50 [00:00<?, ?it/s]"
      ]
     },
     "metadata": {},
     "output_type": "display_data"
    },
    {
     "data": {
      "image/png": "[encoded data removed]",
      "text/plain": [
       "<Figure size 640x480 with 1 Axes>"
      ]
     },
     "metadata": {},
     "output_type": "display_data"
    }
   ],
   "source": [
    "from sklearn.metrics import roc_curve, auc\n",
    "import matplotlib.pyplot as plt\n",
    "\n",
    "# Generate predictions for the evaluation dataset\n",
    "predictions = trainer.predict(test_dataset)\n",
    "\n",
    "# Convert predictions to probabilities\n",
    "y_score = predictions.predictions[:, 1]\n",
    "\n",
    "# Actual lable\n",
    "y_true = predictions.label_ids\n",
    "\n",
    "# ROC\n",
    "fpr, tpr, _ = roc_curve(y_true, y_score)\n",
    "\n",
    "# AUROC\n",
    "roc_auc = auc(fpr, tpr)\n",
    "\n",
    "# ROC curve\n",
    "plt.figure()\n",
    "lw = 2\n",
    "plt.plot(fpr, tpr, color='darkorange', lw=lw, label='ROC curve (area = %0.2f)' % roc_auc)\n",
    "plt.plot([0, 1], [0, 1], color='navy', lw=lw, linestyle='--')\n",
    "plt.xlim([0.0, 1.0])\n",
    "plt.ylim([0.0, 1.05])\n",
    "plt.xlabel('False Positive Rate')\n",
    "plt.ylabel('True Positive Rate')\n",
    "plt.title('Receiver Operating Characteristic')\n",
    "plt.legend(loc=\"lower right\")\n",
    "plt.show()"
   ]
  },
  {
   "cell_type": "code",
   "execution_count": 42,
   "metadata": {},
   "outputs": [
    {
     "data": {
      "text/plain": [
       "[{'loss': 0.5674,\n",
       "  'learning_rate': 2.949748743718593e-05,\n",
       "  'epoch': 0.05,\n",
       "  'step': 10},\n",
       " {'loss': 0.352,\n",
       "  'learning_rate': 2.899497487437186e-05,\n",
       "  'epoch': 0.1,\n",
       "  'step': 20},\n",
       " {'loss': 0.5166,\n",
       "  'learning_rate': 2.849246231155779e-05,\n",
       "  'epoch': 0.15,\n",
       "  'step': 30},\n",
       " {'loss': 0.5144,\n",
       "  'learning_rate': 2.798994974874372e-05,\n",
       "  'epoch': 0.2,\n",
       "  'step': 40},\n",
       " {'loss': 0.4302,\n",
       "  'learning_rate': 2.748743718592965e-05,\n",
       "  'epoch': 0.25,\n",
       "  'step': 50},\n",
       " {'loss': 0.5073,\n",
       "  'learning_rate': 2.698492462311558e-05,\n",
       "  'epoch': 0.3,\n",
       "  'step': 60},\n",
       " {'loss': 0.3455,\n",
       "  'learning_rate': 2.6482412060301507e-05,\n",
       "  'epoch': 0.35,\n",
       "  'step': 70},\n",
       " {'loss': 0.4288,\n",
       "  'learning_rate': 2.597989949748744e-05,\n",
       "  'epoch': 0.4,\n",
       "  'step': 80},\n",
       " {'loss': 0.3904,\n",
       "  'learning_rate': 2.547738693467337e-05,\n",
       "  'epoch': 0.45,\n",
       "  'step': 90},\n",
       " {'loss': 0.361,\n",
       "  'learning_rate': 2.4974874371859298e-05,\n",
       "  'epoch': 0.5,\n",
       "  'step': 100},\n",
       " {'loss': 0.4287,\n",
       "  'learning_rate': 2.4472361809045227e-05,\n",
       "  'epoch': 0.55,\n",
       "  'step': 110},\n",
       " {'loss': 0.4542,\n",
       "  'learning_rate': 2.3969849246231156e-05,\n",
       "  'epoch': 0.6,\n",
       "  'step': 120},\n",
       " {'loss': 0.2927,\n",
       "  'learning_rate': 2.3467336683417088e-05,\n",
       "  'epoch': 0.65,\n",
       "  'step': 130},\n",
       " {'loss': 0.4172,\n",
       "  'learning_rate': 2.2964824120603017e-05,\n",
       "  'epoch': 0.7,\n",
       "  'step': 140},\n",
       " {'loss': 0.2915,\n",
       "  'learning_rate': 2.2462311557788946e-05,\n",
       "  'epoch': 0.75,\n",
       "  'step': 150},\n",
       " {'loss': 0.5107,\n",
       "  'learning_rate': 2.1959798994974875e-05,\n",
       "  'epoch': 0.8,\n",
       "  'step': 160},\n",
       " {'loss': 0.3457,\n",
       "  'learning_rate': 2.1457286432160804e-05,\n",
       "  'epoch': 0.85,\n",
       "  'step': 170},\n",
       " {'loss': 0.3718,\n",
       "  'learning_rate': 2.0954773869346733e-05,\n",
       "  'epoch': 0.9,\n",
       "  'step': 180},\n",
       " {'loss': 0.4997,\n",
       "  'learning_rate': 2.0452261306532666e-05,\n",
       "  'epoch': 0.95,\n",
       "  'step': 190},\n",
       " {'eval_loss': 0.4367083013057709,\n",
       "  'eval_acc': 0.801007556675063,\n",
       "  'eval_f1': 0.7993576989757729,\n",
       "  'eval_precision': 0.845703125,\n",
       "  'eval_recall': 0.8204545454545454,\n",
       "  'eval_auroc': 0.8204545454545454,\n",
       "  'eval_avgprc': 0.8399015342340279,\n",
       "  'eval_runtime': 11.4432,\n",
       "  'eval_samples_per_second': 34.693,\n",
       "  'eval_steps_per_second': 4.369,\n",
       "  'epoch': 1.0,\n",
       "  'step': 199},\n",
       " {'loss': 0.3674,\n",
       "  'learning_rate': 1.9949748743718595e-05,\n",
       "  'epoch': 1.01,\n",
       "  'step': 200},\n",
       " {'loss': 0.272,\n",
       "  'learning_rate': 1.9447236180904524e-05,\n",
       "  'epoch': 1.06,\n",
       "  'step': 210},\n",
       " {'loss': 0.3131,\n",
       "  'learning_rate': 1.8944723618090453e-05,\n",
       "  'epoch': 1.11,\n",
       "  'step': 220},\n",
       " {'loss': 0.2971,\n",
       "  'learning_rate': 1.8442211055276382e-05,\n",
       "  'epoch': 1.16,\n",
       "  'step': 230},\n",
       " {'loss': 0.4784,\n",
       "  'learning_rate': 1.7939698492462314e-05,\n",
       "  'epoch': 1.21,\n",
       "  'step': 240},\n",
       " {'loss': 0.3394,\n",
       "  'learning_rate': 1.7437185929648243e-05,\n",
       "  'epoch': 1.26,\n",
       "  'step': 250},\n",
       " {'loss': 0.419,\n",
       "  'learning_rate': 1.6934673366834172e-05,\n",
       "  'epoch': 1.31,\n",
       "  'step': 260},\n",
       " {'loss': 0.4399,\n",
       "  'learning_rate': 1.64321608040201e-05,\n",
       "  'epoch': 1.36,\n",
       "  'step': 270},\n",
       " {'loss': 0.197,\n",
       "  'learning_rate': 1.592964824120603e-05,\n",
       "  'epoch': 1.41,\n",
       "  'step': 280},\n",
       " {'loss': 0.6443,\n",
       "  'learning_rate': 1.5427135678391963e-05,\n",
       "  'epoch': 1.46,\n",
       "  'step': 290},\n",
       " {'loss': 0.3832,\n",
       "  'learning_rate': 1.492462311557789e-05,\n",
       "  'epoch': 1.51,\n",
       "  'step': 300},\n",
       " {'loss': 0.5276,\n",
       "  'learning_rate': 1.442211055276382e-05,\n",
       "  'epoch': 1.56,\n",
       "  'step': 310},\n",
       " {'loss': 0.2741,\n",
       "  'learning_rate': 1.3919597989949748e-05,\n",
       "  'epoch': 1.61,\n",
       "  'step': 320},\n",
       " {'loss': 0.3558,\n",
       "  'learning_rate': 1.3417085427135679e-05,\n",
       "  'epoch': 1.66,\n",
       "  'step': 330},\n",
       " {'loss': 0.3202,\n",
       "  'learning_rate': 1.2914572864321608e-05,\n",
       "  'epoch': 1.71,\n",
       "  'step': 340},\n",
       " {'loss': 0.3541,\n",
       "  'learning_rate': 1.2412060301507537e-05,\n",
       "  'epoch': 1.76,\n",
       "  'step': 350},\n",
       " {'loss': 0.3644,\n",
       "  'learning_rate': 1.1909547738693468e-05,\n",
       "  'epoch': 1.81,\n",
       "  'step': 360},\n",
       " {'loss': 0.434,\n",
       "  'learning_rate': 1.1407035175879397e-05,\n",
       "  'epoch': 1.86,\n",
       "  'step': 370},\n",
       " {'loss': 0.455,\n",
       "  'learning_rate': 1.0904522613065328e-05,\n",
       "  'epoch': 1.91,\n",
       "  'step': 380},\n",
       " {'loss': 0.351,\n",
       "  'learning_rate': 1.0402010050251257e-05,\n",
       "  'epoch': 1.96,\n",
       "  'step': 390},\n",
       " {'eval_loss': 0.3748052418231964,\n",
       "  'eval_acc': 0.8211586901763224,\n",
       "  'eval_f1': 0.8202646261756734,\n",
       "  'eval_precision': 0.8568548387096775,\n",
       "  'eval_recall': 0.8386363636363636,\n",
       "  'eval_auroc': 0.8386363636363636,\n",
       "  'eval_avgprc': 0.8561140370964049,\n",
       "  'eval_runtime': 11.8578,\n",
       "  'eval_samples_per_second': 33.48,\n",
       "  'eval_steps_per_second': 4.217,\n",
       "  'epoch': 2.0,\n",
       "  'step': 398},\n",
       " {'loss': 0.4104,\n",
       "  'learning_rate': 9.899497487437186e-06,\n",
       "  'epoch': 2.01,\n",
       "  'step': 400},\n",
       " {'loss': 0.3703,\n",
       "  'learning_rate': 9.396984924623116e-06,\n",
       "  'epoch': 2.06,\n",
       "  'step': 410},\n",
       " {'loss': 0.3649,\n",
       "  'learning_rate': 8.894472361809045e-06,\n",
       "  'epoch': 2.11,\n",
       "  'step': 420},\n",
       " {'loss': 0.2904,\n",
       "  'learning_rate': 8.391959798994976e-06,\n",
       "  'epoch': 2.16,\n",
       "  'step': 430},\n",
       " {'loss': 0.2972,\n",
       "  'learning_rate': 7.889447236180905e-06,\n",
       "  'epoch': 2.21,\n",
       "  'step': 440},\n",
       " {'loss': 0.2972,\n",
       "  'learning_rate': 7.386934673366835e-06,\n",
       "  'epoch': 2.26,\n",
       "  'step': 450},\n",
       " {'loss': 0.47,\n",
       "  'learning_rate': 6.884422110552764e-06,\n",
       "  'epoch': 2.31,\n",
       "  'step': 460},\n",
       " {'loss': 0.386,\n",
       "  'learning_rate': 6.381909547738693e-06,\n",
       "  'epoch': 2.36,\n",
       "  'step': 470},\n",
       " {'loss': 0.2749,\n",
       "  'learning_rate': 5.879396984924623e-06,\n",
       "  'epoch': 2.41,\n",
       "  'step': 480},\n",
       " {'loss': 0.3229,\n",
       "  'learning_rate': 5.376884422110553e-06,\n",
       "  'epoch': 2.46,\n",
       "  'step': 490},\n",
       " {'loss': 0.2732,\n",
       "  'learning_rate': 4.874371859296483e-06,\n",
       "  'epoch': 2.51,\n",
       "  'step': 500},\n",
       " {'loss': 0.3055,\n",
       "  'learning_rate': 4.371859296482412e-06,\n",
       "  'epoch': 2.56,\n",
       "  'step': 510},\n",
       " {'loss': 0.3585,\n",
       "  'learning_rate': 3.8693467336683416e-06,\n",
       "  'epoch': 2.61,\n",
       "  'step': 520},\n",
       " {'loss': 0.4047,\n",
       "  'learning_rate': 3.3668341708542714e-06,\n",
       "  'epoch': 2.66,\n",
       "  'step': 530},\n",
       " {'loss': 0.3127,\n",
       "  'learning_rate': 2.864321608040201e-06,\n",
       "  'epoch': 2.71,\n",
       "  'step': 540},\n",
       " {'loss': 0.2365,\n",
       "  'learning_rate': 2.3618090452261308e-06,\n",
       "  'epoch': 2.76,\n",
       "  'step': 550},\n",
       " {'loss': 0.3692,\n",
       "  'learning_rate': 1.8592964824120604e-06,\n",
       "  'epoch': 2.81,\n",
       "  'step': 560},\n",
       " {'loss': 0.246,\n",
       "  'learning_rate': 1.35678391959799e-06,\n",
       "  'epoch': 2.86,\n",
       "  'step': 570},\n",
       " {'loss': 0.3432,\n",
       "  'learning_rate': 8.542713567839197e-07,\n",
       "  'epoch': 2.91,\n",
       "  'step': 580},\n",
       " {'loss': 0.2869,\n",
       "  'learning_rate': 3.517587939698492e-07,\n",
       "  'epoch': 2.96,\n",
       "  'step': 590},\n",
       " {'eval_loss': 0.39109617471694946,\n",
       "  'eval_acc': 0.8211586901763224,\n",
       "  'eval_f1': 0.8202646261756734,\n",
       "  'eval_precision': 0.8568548387096775,\n",
       "  'eval_recall': 0.8386363636363636,\n",
       "  'eval_auroc': 0.8386363636363636,\n",
       "  'eval_avgprc': 0.8561140370964049,\n",
       "  'eval_runtime': 12.2247,\n",
       "  'eval_samples_per_second': 32.475,\n",
       "  'eval_steps_per_second': 4.09,\n",
       "  'epoch': 3.0,\n",
       "  'step': 597},\n",
       " {'train_runtime': 676.3803,\n",
       "  'train_samples_per_second': 7.043,\n",
       "  'train_steps_per_second': 0.883,\n",
       "  'total_flos': 156682633466880.0,\n",
       "  'train_loss': 0.3779982144708809,\n",
       "  'epoch': 3.0,\n",
       "  'step': 597}]"
      ]
     },
     "execution_count": 42,
     "metadata": {},
     "output_type": "execute_result"
    }
   ],
   "source": [
    "trainer.state.log_history"
   ]
  },
  {
   "cell_type": "code",
   "execution_count": 43,
   "metadata": {},
   "outputs": [
    {
     "data": {
      "application/vnd.jupyter.widget-view+json": {
       "model_id": "605593cb429f46e0bf3378378b80e783",
       "version_major": 2,
       "version_minor": 0
      },
      "text/plain": [
       "  0%|          | 0/50 [00:00<?, ?it/s]"
      ]
     },
     "metadata": {},
     "output_type": "display_data"
    },
    {
     "data": {
      "text/plain": [
       "{'eval_loss': 0.39109617471694946,\n",
       " 'eval_acc': 0.8211586901763224,\n",
       " 'eval_f1': 0.8202646261756734,\n",
       " 'eval_precision': 0.8568548387096775,\n",
       " 'eval_recall': 0.8386363636363636,\n",
       " 'eval_auroc': 0.8386363636363636,\n",
       " 'eval_avgprc': 0.8561140370964049,\n",
       " 'eval_runtime': 11.006,\n",
       " 'eval_samples_per_second': 36.071,\n",
       " 'eval_steps_per_second': 4.543,\n",
       " 'epoch': 3.0}"
      ]
     },
     "execution_count": 43,
     "metadata": {},
     "output_type": "execute_result"
    }
   ],
   "source": [
    "# Evaluation \n",
    "trainer.evaluate()"
   ]
  },
  {
   "cell_type": "code",
   "execution_count": 44,
   "metadata": {},
   "outputs": [
    {
     "name": "stdout",
     "output_type": "stream",
     "text": [
      "[{'loss': 0.5674, 'learning_rate': 2.949748743718593e-05, 'epoch': 0.05, 'step': 10}, {'loss': 0.352, 'learning_rate': 2.899497487437186e-05, 'epoch': 0.1, 'step': 20}, {'loss': 0.5166, 'learning_rate': 2.849246231155779e-05, 'epoch': 0.15, 'step': 30}, {'loss': 0.5144, 'learning_rate': 2.798994974874372e-05, 'epoch': 0.2, 'step': 40}, {'loss': 0.4302, 'learning_rate': 2.748743718592965e-05, 'epoch': 0.25, 'step': 50}, {'loss': 0.5073, 'learning_rate': 2.698492462311558e-05, 'epoch': 0.3, 'step': 60}, {'loss': 0.3455, 'learning_rate': 2.6482412060301507e-05, 'epoch': 0.35, 'step': 70}, {'loss': 0.4288, 'learning_rate': 2.597989949748744e-05, 'epoch': 0.4, 'step': 80}, {'loss': 0.3904, 'learning_rate': 2.547738693467337e-05, 'epoch': 0.45, 'step': 90}, {'loss': 0.361, 'learning_rate': 2.4974874371859298e-05, 'epoch': 0.5, 'step': 100}, {'loss': 0.4287, 'learning_rate': 2.4472361809045227e-05, 'epoch': 0.55, 'step': 110}, {'loss': 0.4542, 'learning_rate': 2.3969849246231156e-05, 'epoch': 0.6, 'step': 120}, {'loss': 0.2927, 'learning_rate': 2.3467336683417088e-05, 'epoch': 0.65, 'step': 130}, {'loss': 0.4172, 'learning_rate': 2.2964824120603017e-05, 'epoch': 0.7, 'step': 140}, {'loss': 0.2915, 'learning_rate': 2.2462311557788946e-05, 'epoch': 0.75, 'step': 150}, {'loss': 0.5107, 'learning_rate': 2.1959798994974875e-05, 'epoch': 0.8, 'step': 160}, {'loss': 0.3457, 'learning_rate': 2.1457286432160804e-05, 'epoch': 0.85, 'step': 170}, {'loss': 0.3718, 'learning_rate': 2.0954773869346733e-05, 'epoch': 0.9, 'step': 180}, {'loss': 0.4997, 'learning_rate': 2.0452261306532666e-05, 'epoch': 0.95, 'step': 190}, {'eval_loss': 0.4367083013057709, 'eval_acc': 0.801007556675063, 'eval_f1': 0.7993576989757729, 'eval_precision': 0.845703125, 'eval_recall': 0.8204545454545454, 'eval_auroc': 0.8204545454545454, 'eval_avgprc': 0.8399015342340279, 'eval_runtime': 11.4432, 'eval_samples_per_second': 34.693, 'eval_steps_per_second': 4.369, 'epoch': 1.0, 'step': 199}, {'loss': 0.3674, 'learning_rate': 1.9949748743718595e-05, 'epoch': 1.01, 'step': 200}, {'loss': 0.272, 'learning_rate': 1.9447236180904524e-05, 'epoch': 1.06, 'step': 210}, {'loss': 0.3131, 'learning_rate': 1.8944723618090453e-05, 'epoch': 1.11, 'step': 220}, {'loss': 0.2971, 'learning_rate': 1.8442211055276382e-05, 'epoch': 1.16, 'step': 230}, {'loss': 0.4784, 'learning_rate': 1.7939698492462314e-05, 'epoch': 1.21, 'step': 240}, {'loss': 0.3394, 'learning_rate': 1.7437185929648243e-05, 'epoch': 1.26, 'step': 250}, {'loss': 0.419, 'learning_rate': 1.6934673366834172e-05, 'epoch': 1.31, 'step': 260}, {'loss': 0.4399, 'learning_rate': 1.64321608040201e-05, 'epoch': 1.36, 'step': 270}, {'loss': 0.197, 'learning_rate': 1.592964824120603e-05, 'epoch': 1.41, 'step': 280}, {'loss': 0.6443, 'learning_rate': 1.5427135678391963e-05, 'epoch': 1.46, 'step': 290}, {'loss': 0.3832, 'learning_rate': 1.492462311557789e-05, 'epoch': 1.51, 'step': 300}, {'loss': 0.5276, 'learning_rate': 1.442211055276382e-05, 'epoch': 1.56, 'step': 310}, {'loss': 0.2741, 'learning_rate': 1.3919597989949748e-05, 'epoch': 1.61, 'step': 320}, {'loss': 0.3558, 'learning_rate': 1.3417085427135679e-05, 'epoch': 1.66, 'step': 330}, {'loss': 0.3202, 'learning_rate': 1.2914572864321608e-05, 'epoch': 1.71, 'step': 340}, {'loss': 0.3541, 'learning_rate': 1.2412060301507537e-05, 'epoch': 1.76, 'step': 350}, {'loss': 0.3644, 'learning_rate': 1.1909547738693468e-05, 'epoch': 1.81, 'step': 360}, {'loss': 0.434, 'learning_rate': 1.1407035175879397e-05, 'epoch': 1.86, 'step': 370}, {'loss': 0.455, 'learning_rate': 1.0904522613065328e-05, 'epoch': 1.91, 'step': 380}, {'loss': 0.351, 'learning_rate': 1.0402010050251257e-05, 'epoch': 1.96, 'step': 390}, {'eval_loss': 0.3748052418231964, 'eval_acc': 0.8211586901763224, 'eval_f1': 0.8202646261756734, 'eval_precision': 0.8568548387096775, 'eval_recall': 0.8386363636363636, 'eval_auroc': 0.8386363636363636, 'eval_avgprc': 0.8561140370964049, 'eval_runtime': 11.8578, 'eval_samples_per_second': 33.48, 'eval_steps_per_second': 4.217, 'epoch': 2.0, 'step': 398}, {'loss': 0.4104, 'learning_rate': 9.899497487437186e-06, 'epoch': 2.01, 'step': 400}, {'loss': 0.3703, 'learning_rate': 9.396984924623116e-06, 'epoch': 2.06, 'step': 410}, {'loss': 0.3649, 'learning_rate': 8.894472361809045e-06, 'epoch': 2.11, 'step': 420}, {'loss': 0.2904, 'learning_rate': 8.391959798994976e-06, 'epoch': 2.16, 'step': 430}, {'loss': 0.2972, 'learning_rate': 7.889447236180905e-06, 'epoch': 2.21, 'step': 440}, {'loss': 0.2972, 'learning_rate': 7.386934673366835e-06, 'epoch': 2.26, 'step': 450}, {'loss': 0.47, 'learning_rate': 6.884422110552764e-06, 'epoch': 2.31, 'step': 460}, {'loss': 0.386, 'learning_rate': 6.381909547738693e-06, 'epoch': 2.36, 'step': 470}, {'loss': 0.2749, 'learning_rate': 5.879396984924623e-06, 'epoch': 2.41, 'step': 480}, {'loss': 0.3229, 'learning_rate': 5.376884422110553e-06, 'epoch': 2.46, 'step': 490}, {'loss': 0.2732, 'learning_rate': 4.874371859296483e-06, 'epoch': 2.51, 'step': 500}, {'loss': 0.3055, 'learning_rate': 4.371859296482412e-06, 'epoch': 2.56, 'step': 510}, {'loss': 0.3585, 'learning_rate': 3.8693467336683416e-06, 'epoch': 2.61, 'step': 520}, {'loss': 0.4047, 'learning_rate': 3.3668341708542714e-06, 'epoch': 2.66, 'step': 530}, {'loss': 0.3127, 'learning_rate': 2.864321608040201e-06, 'epoch': 2.71, 'step': 540}, {'loss': 0.2365, 'learning_rate': 2.3618090452261308e-06, 'epoch': 2.76, 'step': 550}, {'loss': 0.3692, 'learning_rate': 1.8592964824120604e-06, 'epoch': 2.81, 'step': 560}, {'loss': 0.246, 'learning_rate': 1.35678391959799e-06, 'epoch': 2.86, 'step': 570}, {'loss': 0.3432, 'learning_rate': 8.542713567839197e-07, 'epoch': 2.91, 'step': 580}, {'loss': 0.2869, 'learning_rate': 3.517587939698492e-07, 'epoch': 2.96, 'step': 590}, {'eval_loss': 0.39109617471694946, 'eval_acc': 0.8211586901763224, 'eval_f1': 0.8202646261756734, 'eval_precision': 0.8568548387096775, 'eval_recall': 0.8386363636363636, 'eval_auroc': 0.8386363636363636, 'eval_avgprc': 0.8561140370964049, 'eval_runtime': 12.2247, 'eval_samples_per_second': 32.475, 'eval_steps_per_second': 4.09, 'epoch': 3.0, 'step': 597}, {'train_runtime': 676.3803, 'train_samples_per_second': 7.043, 'train_steps_per_second': 0.883, 'total_flos': 156682633466880.0, 'train_loss': 0.3779982144708809, 'epoch': 3.0, 'step': 597}, {'eval_loss': 0.39109617471694946, 'eval_acc': 0.8211586901763224, 'eval_f1': 0.8202646261756734, 'eval_precision': 0.8568548387096775, 'eval_recall': 0.8386363636363636, 'eval_auroc': 0.8386363636363636, 'eval_avgprc': 0.8561140370964049, 'eval_runtime': 11.006, 'eval_samples_per_second': 36.071, 'eval_steps_per_second': 4.543, 'epoch': 3.0, 'step': 597}]\n"
     ]
    }
   ],
   "source": [
    "# log result\n",
    "log_result = trainer.state.log_history\n",
    "print(log_result)"
   ]
  },
  {
   "cell_type": "code",
   "execution_count": 45,
   "metadata": {},
   "outputs": [
    {
     "data": {
      "application/vnd.jupyter.widget-view+json": {
       "model_id": "a16de8229ebb496590c4c7b3fc03bd42",
       "version_major": 2,
       "version_minor": 0
      },
      "text/plain": [
       "  0%|          | 0/50 [00:00<?, ?it/s]"
      ]
     },
     "metadata": {},
     "output_type": "display_data"
    },
    {
     "name": "stdout",
     "output_type": "stream",
     "text": [
      "{'eval_loss': 0.39109617471694946, 'eval_acc': 0.8211586901763224, 'eval_f1': 0.8202646261756734, 'eval_precision': 0.8568548387096775, 'eval_recall': 0.8386363636363636, 'eval_auroc': 0.8386363636363636, 'eval_avgprc': 0.8561140370964049, 'eval_runtime': 10.5606, 'eval_samples_per_second': 37.593, 'eval_steps_per_second': 4.735, 'epoch': 3.0}\n"
     ]
    }
   ],
   "source": [
    "# Evaluate the model\n",
    "results = trainer.evaluate(test_dataset)\n",
    "print(results)"
   ]
  },
  {
   "cell_type": "code",
   "execution_count": 46,
   "metadata": {},
   "outputs": [
    {
     "data": {
      "application/vnd.jupyter.widget-view+json": {
       "model_id": "71d74c3a78124627ae86874bcf5d6aa4",
       "version_major": 2,
       "version_minor": 0
      },
      "text/plain": [
       "  0%|          | 0/50 [00:00<?, ?it/s]"
      ]
     },
     "metadata": {},
     "output_type": "display_data"
    },
    {
     "data": {
      "image/png": "[encoded data removed]",
      "text/plain": [
       "<Figure size 640x480 with 1 Axes>"
      ]
     },
     "metadata": {},
     "output_type": "display_data"
    }
   ],
   "source": [
    "from sklearn.metrics import roc_curve, auc\n",
    "import matplotlib.pyplot as plt\n",
    "\n",
    "# Get the predictions\n",
    "predictions = trainer.predict(test_dataset)\n",
    "\n",
    "# Get the predicted labels\n",
    "y_pred = np.argmax(predictions.predictions, axis=1)\n",
    "\n",
    "# Get the true labels\n",
    "y_true = predictions.label_ids\n",
    "\n",
    "# Compute ROC curve and ROC area\n",
    "fpr, tpr, _ = roc_curve(y_true, y_pred)\n",
    "roc_auc = auc(fpr, tpr)\n",
    "\n",
    "# Plot\n",
    "plt.figure()\n",
    "lw = 2\n",
    "plt.plot(fpr, tpr, color='darkorange', lw=lw, label='ROC curve (area = %0.2f)' % roc_auc)\n",
    "plt.plot([0, 1], [0, 1], color='navy', lw=lw, linestyle='--')\n",
    "plt.xlim([0.0, 1.0])\n",
    "plt.ylim([0.0, 1.05])\n",
    "plt.xlabel('False Positive Rate')\n",
    "plt.ylabel('True Positive Rate')\n",
    "plt.title('Receiver Operating Characteristic')\n",
    "plt.legend(loc=\"lower right\")\n",
    "plt.show()"
   ]
  },
  {
   "cell_type": "code",
   "execution_count": 47,
   "metadata": {},
   "outputs": [
    {
     "name": "stdout",
     "output_type": "stream",
     "text": [
      "{'loss': 0.5674, 'learning_rate': 2.949748743718593e-05, 'epoch': 0.05, 'step': 10}\n",
      "{'loss': 0.352, 'learning_rate': 2.899497487437186e-05, 'epoch': 0.1, 'step': 20}\n",
      "{'loss': 0.5166, 'learning_rate': 2.849246231155779e-05, 'epoch': 0.15, 'step': 30}\n",
      "{'loss': 0.5144, 'learning_rate': 2.798994974874372e-05, 'epoch': 0.2, 'step': 40}\n",
      "{'loss': 0.4302, 'learning_rate': 2.748743718592965e-05, 'epoch': 0.25, 'step': 50}\n",
      "{'loss': 0.5073, 'learning_rate': 2.698492462311558e-05, 'epoch': 0.3, 'step': 60}\n",
      "{'loss': 0.3455, 'learning_rate': 2.6482412060301507e-05, 'epoch': 0.35, 'step': 70}\n",
      "{'loss': 0.4288, 'learning_rate': 2.597989949748744e-05, 'epoch': 0.4, 'step': 80}\n",
      "{'loss': 0.3904, 'learning_rate': 2.547738693467337e-05, 'epoch': 0.45, 'step': 90}\n",
      "{'loss': 0.361, 'learning_rate': 2.4974874371859298e-05, 'epoch': 0.5, 'step': 100}\n",
      "{'loss': 0.4287, 'learning_rate': 2.4472361809045227e-05, 'epoch': 0.55, 'step': 110}\n",
      "{'loss': 0.4542, 'learning_rate': 2.3969849246231156e-05, 'epoch': 0.6, 'step': 120}\n",
      "{'loss': 0.2927, 'learning_rate': 2.3467336683417088e-05, 'epoch': 0.65, 'step': 130}\n",
      "{'loss': 0.4172, 'learning_rate': 2.2964824120603017e-05, 'epoch': 0.7, 'step': 140}\n",
      "{'loss': 0.2915, 'learning_rate': 2.2462311557788946e-05, 'epoch': 0.75, 'step': 150}\n",
      "{'loss': 0.5107, 'learning_rate': 2.1959798994974875e-05, 'epoch': 0.8, 'step': 160}\n",
      "{'loss': 0.3457, 'learning_rate': 2.1457286432160804e-05, 'epoch': 0.85, 'step': 170}\n",
      "{'loss': 0.3718, 'learning_rate': 2.0954773869346733e-05, 'epoch': 0.9, 'step': 180}\n",
      "{'loss': 0.4997, 'learning_rate': 2.0452261306532666e-05, 'epoch': 0.95, 'step': 190}\n",
      "{'eval_loss': 0.4367083013057709, 'eval_acc': 0.801007556675063, 'eval_f1': 0.7993576989757729, 'eval_precision': 0.845703125, 'eval_recall': 0.8204545454545454, 'eval_auroc': 0.8204545454545454, 'eval_avgprc': 0.8399015342340279, 'eval_runtime': 11.4432, 'eval_samples_per_second': 34.693, 'eval_steps_per_second': 4.369, 'epoch': 1.0, 'step': 199}\n",
      "{'loss': 0.3674, 'learning_rate': 1.9949748743718595e-05, 'epoch': 1.01, 'step': 200}\n",
      "{'loss': 0.272, 'learning_rate': 1.9447236180904524e-05, 'epoch': 1.06, 'step': 210}\n",
      "{'loss': 0.3131, 'learning_rate': 1.8944723618090453e-05, 'epoch': 1.11, 'step': 220}\n",
      "{'loss': 0.2971, 'learning_rate': 1.8442211055276382e-05, 'epoch': 1.16, 'step': 230}\n",
      "{'loss': 0.4784, 'learning_rate': 1.7939698492462314e-05, 'epoch': 1.21, 'step': 240}\n",
      "{'loss': 0.3394, 'learning_rate': 1.7437185929648243e-05, 'epoch': 1.26, 'step': 250}\n",
      "{'loss': 0.419, 'learning_rate': 1.6934673366834172e-05, 'epoch': 1.31, 'step': 260}\n",
      "{'loss': 0.4399, 'learning_rate': 1.64321608040201e-05, 'epoch': 1.36, 'step': 270}\n",
      "{'loss': 0.197, 'learning_rate': 1.592964824120603e-05, 'epoch': 1.41, 'step': 280}\n",
      "{'loss': 0.6443, 'learning_rate': 1.5427135678391963e-05, 'epoch': 1.46, 'step': 290}\n",
      "{'loss': 0.3832, 'learning_rate': 1.492462311557789e-05, 'epoch': 1.51, 'step': 300}\n",
      "{'loss': 0.5276, 'learning_rate': 1.442211055276382e-05, 'epoch': 1.56, 'step': 310}\n",
      "{'loss': 0.2741, 'learning_rate': 1.3919597989949748e-05, 'epoch': 1.61, 'step': 320}\n",
      "{'loss': 0.3558, 'learning_rate': 1.3417085427135679e-05, 'epoch': 1.66, 'step': 330}\n",
      "{'loss': 0.3202, 'learning_rate': 1.2914572864321608e-05, 'epoch': 1.71, 'step': 340}\n",
      "{'loss': 0.3541, 'learning_rate': 1.2412060301507537e-05, 'epoch': 1.76, 'step': 350}\n",
      "{'loss': 0.3644, 'learning_rate': 1.1909547738693468e-05, 'epoch': 1.81, 'step': 360}\n",
      "{'loss': 0.434, 'learning_rate': 1.1407035175879397e-05, 'epoch': 1.86, 'step': 370}\n",
      "{'loss': 0.455, 'learning_rate': 1.0904522613065328e-05, 'epoch': 1.91, 'step': 380}\n",
      "{'loss': 0.351, 'learning_rate': 1.0402010050251257e-05, 'epoch': 1.96, 'step': 390}\n",
      "{'eval_loss': 0.3748052418231964, 'eval_acc': 0.8211586901763224, 'eval_f1': 0.8202646261756734, 'eval_precision': 0.8568548387096775, 'eval_recall': 0.8386363636363636, 'eval_auroc': 0.8386363636363636, 'eval_avgprc': 0.8561140370964049, 'eval_runtime': 11.8578, 'eval_samples_per_second': 33.48, 'eval_steps_per_second': 4.217, 'epoch': 2.0, 'step': 398}\n",
      "{'loss': 0.4104, 'learning_rate': 9.899497487437186e-06, 'epoch': 2.01, 'step': 400}\n",
      "{'loss': 0.3703, 'learning_rate': 9.396984924623116e-06, 'epoch': 2.06, 'step': 410}\n",
      "{'loss': 0.3649, 'learning_rate': 8.894472361809045e-06, 'epoch': 2.11, 'step': 420}\n",
      "{'loss': 0.2904, 'learning_rate': 8.391959798994976e-06, 'epoch': 2.16, 'step': 430}\n",
      "{'loss': 0.2972, 'learning_rate': 7.889447236180905e-06, 'epoch': 2.21, 'step': 440}\n",
      "{'loss': 0.2972, 'learning_rate': 7.386934673366835e-06, 'epoch': 2.26, 'step': 450}\n",
      "{'loss': 0.47, 'learning_rate': 6.884422110552764e-06, 'epoch': 2.31, 'step': 460}\n",
      "{'loss': 0.386, 'learning_rate': 6.381909547738693e-06, 'epoch': 2.36, 'step': 470}\n",
      "{'loss': 0.2749, 'learning_rate': 5.879396984924623e-06, 'epoch': 2.41, 'step': 480}\n",
      "{'loss': 0.3229, 'learning_rate': 5.376884422110553e-06, 'epoch': 2.46, 'step': 490}\n",
      "{'loss': 0.2732, 'learning_rate': 4.874371859296483e-06, 'epoch': 2.51, 'step': 500}\n",
      "{'loss': 0.3055, 'learning_rate': 4.371859296482412e-06, 'epoch': 2.56, 'step': 510}\n",
      "{'loss': 0.3585, 'learning_rate': 3.8693467336683416e-06, 'epoch': 2.61, 'step': 520}\n",
      "{'loss': 0.4047, 'learning_rate': 3.3668341708542714e-06, 'epoch': 2.66, 'step': 530}\n",
      "{'loss': 0.3127, 'learning_rate': 2.864321608040201e-06, 'epoch': 2.71, 'step': 540}\n",
      "{'loss': 0.2365, 'learning_rate': 2.3618090452261308e-06, 'epoch': 2.76, 'step': 550}\n",
      "{'loss': 0.3692, 'learning_rate': 1.8592964824120604e-06, 'epoch': 2.81, 'step': 560}\n",
      "{'loss': 0.246, 'learning_rate': 1.35678391959799e-06, 'epoch': 2.86, 'step': 570}\n",
      "{'loss': 0.3432, 'learning_rate': 8.542713567839197e-07, 'epoch': 2.91, 'step': 580}\n",
      "{'loss': 0.2869, 'learning_rate': 3.517587939698492e-07, 'epoch': 2.96, 'step': 590}\n",
      "{'eval_loss': 0.39109617471694946, 'eval_acc': 0.8211586901763224, 'eval_f1': 0.8202646261756734, 'eval_precision': 0.8568548387096775, 'eval_recall': 0.8386363636363636, 'eval_auroc': 0.8386363636363636, 'eval_avgprc': 0.8561140370964049, 'eval_runtime': 12.2247, 'eval_samples_per_second': 32.475, 'eval_steps_per_second': 4.09, 'epoch': 3.0, 'step': 597}\n",
      "{'train_runtime': 676.3803, 'train_samples_per_second': 7.043, 'train_steps_per_second': 0.883, 'total_flos': 156682633466880.0, 'train_loss': 0.3779982144708809, 'epoch': 3.0, 'step': 597}\n",
      "{'eval_loss': 0.39109617471694946, 'eval_acc': 0.8211586901763224, 'eval_f1': 0.8202646261756734, 'eval_precision': 0.8568548387096775, 'eval_recall': 0.8386363636363636, 'eval_auroc': 0.8386363636363636, 'eval_avgprc': 0.8561140370964049, 'eval_runtime': 11.006, 'eval_samples_per_second': 36.071, 'eval_steps_per_second': 4.543, 'epoch': 3.0, 'step': 597}\n",
      "{'eval_loss': 0.39109617471694946, 'eval_acc': 0.8211586901763224, 'eval_f1': 0.8202646261756734, 'eval_precision': 0.8568548387096775, 'eval_recall': 0.8386363636363636, 'eval_auroc': 0.8386363636363636, 'eval_avgprc': 0.8561140370964049, 'eval_runtime': 10.5606, 'eval_samples_per_second': 37.593, 'eval_steps_per_second': 4.735, 'epoch': 3.0, 'step': 597}\n"
     ]
    },
    {
     "data": {
      "image/png": "[encoded data removed]",
      "text/plain": [
       "<Figure size 640x480 with 1 Axes>"
      ]
     },
     "metadata": {},
     "output_type": "display_data"
    }
   ],
   "source": [
    "train_losses = []\n",
    "eval_losses = []\n",
    "for elem in trainer.state.log_history:\n",
    "      print(elem)\n",
    "      if 'loss' in elem.keys():\n",
    "        train_losses.append(elem['loss'])\n",
    "\n",
    "# Plot the training and validation losses\n",
    "import matplotlib.pyplot as plt\n",
    "plt.plot(train_losses, label='Training Loss')\n",
    "plt.xlabel('Steps')\n",
    "plt.ylabel('Loss')\n",
    "plt.title('Training Losses')\n",
    "plt.legend()\n",
    "plt.show()"
   ]
  },
  {
   "cell_type": "code",
   "execution_count": 48,
   "metadata": {},
   "outputs": [
    {
     "data": {
      "application/vnd.jupyter.widget-view+json": {
       "model_id": "af4fd7a246574b9ba8fbe39daa5f9f10",
       "version_major": 2,
       "version_minor": 0
      },
      "text/plain": [
       "  0%|          | 0/50 [00:00<?, ?it/s]"
      ]
     },
     "metadata": {},
     "output_type": "display_data"
    },
    {
     "name": "stdout",
     "output_type": "stream",
     "text": [
      "   True_Labels  Predictions\n",
      "0            1            1\n",
      "1            1            1\n",
      "2            0            0\n",
      "3            1            1\n",
      "4            1            1\n"
     ]
    }
   ],
   "source": [
    "# Generate predictions\n",
    "predictions_output = trainer.predict(test_dataset)\n",
    "\n",
    "# Extract the predictions and true labels\n",
    "predictions2 = np.argmax(predictions_output.predictions, axis=-1)\n",
    "true_labels2 = predictions_output.label_ids\n",
    "\n",
    "df_results2 = pd.DataFrame({'True_Labels': true_labels2, 'Predictions': predictions2})\n",
    "\n",
    "# Display the DataFrame\n",
    "print(df_results2.head())"
   ]
  },
  {
   "cell_type": "code",
   "execution_count": 51,
   "metadata": {},
   "outputs": [
    {
     "data": {
      "image/png": "[encoded data removed]",
      "text/plain": [
       "<Figure size 640x480 with 1 Axes>"
      ]
     },
     "metadata": {},
     "output_type": "display_data"
    }
   ],
   "source": [
    "from sklearn.metrics import roc_curve, auc\n",
    "import matplotlib.pyplot as plt\n",
    "\n",
    "# Compute ROC curve and ROC area\n",
    "fpr, tpr, _ = roc_curve(df_results2['True_Labels'], df_results2['Predictions'])\n",
    "roc_auc = auc(fpr, tpr)\n",
    "\n",
    "# Plot\n",
    "plt.figure()\n",
    "lw = 2\n",
    "plt.plot(fpr, tpr, color='darkorange', lw=lw, label='ROC curve (area = %0.2f)' % roc_auc)\n",
    "plt.plot([0, 1], [0, 1], color='navy', lw=lw, linestyle='--')\n",
    "plt.xlim([0.0, 1.0])\n",
    "plt.ylim([0.0, 1.05])\n",
    "plt.xlabel('False Positive Rate')\n",
    "plt.ylabel('True Positive Rate')\n",
    "plt.title('Receiver Operating Characteristic')\n",
    "plt.legend(loc=\"lower right\")\n",
    "plt.show()"
   ]
  },
  {
   "cell_type": "code",
   "execution_count": 52,
   "metadata": {},
   "outputs": [
    {
     "data": {
      "image/png": "[encoded data removed]",
      "text/plain": [
       "<Figure size 640x480 with 2 Axes>"
      ]
     },
     "metadata": {},
     "output_type": "display_data"
    }
   ],
   "source": [
    "from sklearn.metrics import confusion_matrix\n",
    "import seaborn as sns\n",
    "import matplotlib.pyplot as plt\n",
    "\n",
    "# Compute confusion matrix\n",
    "conf_matrix = confusion_matrix(df_results2['True_Labels'], df_results2['Predictions'])\n",
    "\n",
    "# Plot the confusion matrix\n",
    "sns.heatmap(conf_matrix, annot=True, fmt='g')\n",
    "plt.xlabel('Predicted Labels')\n",
    "plt.ylabel('True Labels')\n",
    "plt.show()"
   ]
  },
  {
   "cell_type": "code",
   "execution_count": 53,
   "metadata": {},
   "outputs": [
    {
     "name": "stdout",
     "output_type": "stream",
     "text": [
      "Precision: 0.8723592264564881\n",
      "Recall: 0.8211586901763224\n",
      "F1 Score: 0.818891599317534\n"
     ]
    }
   ],
   "source": [
    "from sklearn.metrics import precision_score, recall_score, f1_score\n",
    "\n",
    "# 정밀도 계산\n",
    "precision = precision_score(df_results2['True_Labels'], df_results2['Predictions'], average='weighted')\n",
    "\n",
    "# 재현율 계산\n",
    "recall = recall_score(df_results2['True_Labels'], df_results2['Predictions'], average='weighted')\n",
    "\n",
    "# F1 점수 계산\n",
    "f1 = f1_score(df_results2['True_Labels'], df_results2['Predictions'], average='weighted')\n",
    "\n",
    "print(f'Precision: {precision}')\n",
    "print(f'Recall: {recall}')\n",
    "print(f'F1 Score: {f1}')"
   ]
  }
 ],
 "metadata": {
  "kernelspec": {
   "display_name": "Python 3",
   "language": "python",
   "name": "python3"
  },
  "language_info": {
   "codemirror_mode": {
    "name": "ipython",
    "version": 3
   },
   "file_extension": ".py",
   "mimetype": "text/x-python",
   "name": "python",
   "nbconvert_exporter": "python",
   "pygments_lexer": "ipython3",
   "version": "3.9.16"
  },
  "orig_nbformat": 4
 },
 "nbformat": 4,
 "nbformat_minor": 2
}
