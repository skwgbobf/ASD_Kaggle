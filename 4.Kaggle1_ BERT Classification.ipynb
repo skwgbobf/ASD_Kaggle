{
 "cells": [
  {
   "cell_type": "markdown",
   "metadata": {},
   "source": [
    "4. Kaggle1_BERT_Classification\n",
    "•\tBERT Fine-Tuned on Data1 Toddler \n",
    "\n",
    "\n",
    "- Soo Kyung Bae(Scarlett), Ph.D. Student\n",
    "- Dept. of Integrated Medicine(Major in Digital Healthcare)\n",
    "- Yonsei University College of Medicine"
   ]
  },
  {
   "cell_type": "code",
   "execution_count": 1,
   "metadata": {},
   "outputs": [],
   "source": [
    "## Import Data\n",
    "\n",
    "import pandas as pd\n",
    "import matplotlib.pyplot as plt"
   ]
  },
  {
   "cell_type": "code",
   "execution_count": 3,
   "metadata": {},
   "outputs": [
    {
     "data": {
      "text/plain": [
       "'/home/skbae/Documents/skbae/ASD/paper/Pgm'"
      ]
     },
     "execution_count": 3,
     "metadata": {},
     "output_type": "execute_result"
    }
   ],
   "source": [
    "import os\n",
    "pt=os.getcwd()\n",
    "pt"
   ]
  },
  {
   "cell_type": "code",
   "execution_count": 4,
   "metadata": {},
   "outputs": [],
   "source": [
    "import pandas as pd\n",
    "QT_ASD = pd.read_csv('../Data/QCHAT_T_ASD_total_Jan222024.csv')"
   ]
  },
  {
   "cell_type": "code",
   "execution_count": 5,
   "metadata": {},
   "outputs": [
    {
     "data": {
      "text/html": [
       "<div>\n",
       "<style scoped>\n",
       "    .dataframe tbody tr th:only-of-type {\n",
       "        vertical-align: middle;\n",
       "    }\n",
       "\n",
       "    .dataframe tbody tr th {\n",
       "        vertical-align: top;\n",
       "    }\n",
       "\n",
       "    .dataframe thead th {\n",
       "        text-align: right;\n",
       "    }\n",
       "</style>\n",
       "<table border=\"1\" class=\"dataframe\">\n",
       "  <thead>\n",
       "    <tr style=\"text-align: right;\">\n",
       "      <th></th>\n",
       "      <th>Case_No</th>\n",
       "      <th>A1</th>\n",
       "      <th>A2</th>\n",
       "      <th>A3</th>\n",
       "      <th>A4</th>\n",
       "      <th>A5</th>\n",
       "      <th>A6</th>\n",
       "      <th>A7</th>\n",
       "      <th>A8</th>\n",
       "      <th>A9</th>\n",
       "      <th>...</th>\n",
       "      <th>A2_C0870532</th>\n",
       "      <th>A3_C4036288</th>\n",
       "      <th>A4_C0424091</th>\n",
       "      <th>A5_C2371970</th>\n",
       "      <th>A6_C2370875</th>\n",
       "      <th>A7_C4064035</th>\n",
       "      <th>A8_C1854882</th>\n",
       "      <th>A9_C0566243</th>\n",
       "      <th>A10_C4064319</th>\n",
       "      <th>combined</th>\n",
       "    </tr>\n",
       "  </thead>\n",
       "  <tbody>\n",
       "    <tr>\n",
       "      <th>0</th>\n",
       "      <td>1</td>\n",
       "      <td>0</td>\n",
       "      <td>0</td>\n",
       "      <td>0</td>\n",
       "      <td>0</td>\n",
       "      <td>0</td>\n",
       "      <td>0</td>\n",
       "      <td>1</td>\n",
       "      <td>1</td>\n",
       "      <td>0</td>\n",
       "      <td>...</td>\n",
       "      <td>NaN</td>\n",
       "      <td>NaN</td>\n",
       "      <td>NaN</td>\n",
       "      <td>NaN</td>\n",
       "      <td>NaN</td>\n",
       "      <td>social interaction impairment in social/emotio...</td>\n",
       "      <td>absent speech</td>\n",
       "      <td>NaN</td>\n",
       "      <td>play impairment stares blankly at play objects...</td>\n",
       "      <td>, , , , , ,social interaction impairment in s...</td>\n",
       "    </tr>\n",
       "    <tr>\n",
       "      <th>1</th>\n",
       "      <td>2</td>\n",
       "      <td>1</td>\n",
       "      <td>1</td>\n",
       "      <td>0</td>\n",
       "      <td>0</td>\n",
       "      <td>0</td>\n",
       "      <td>1</td>\n",
       "      <td>1</td>\n",
       "      <td>0</td>\n",
       "      <td>0</td>\n",
       "      <td>...</td>\n",
       "      <td>contacts eye</td>\n",
       "      <td>NaN</td>\n",
       "      <td>NaN</td>\n",
       "      <td>NaN</td>\n",
       "      <td>shifting attention</td>\n",
       "      <td>social interaction impairment in social/emotio...</td>\n",
       "      <td>NaN</td>\n",
       "      <td>NaN</td>\n",
       "      <td>NaN</td>\n",
       "      <td>attention and concentration deficit ,contacts ...</td>\n",
       "    </tr>\n",
       "    <tr>\n",
       "      <th>2</th>\n",
       "      <td>3</td>\n",
       "      <td>1</td>\n",
       "      <td>0</td>\n",
       "      <td>0</td>\n",
       "      <td>0</td>\n",
       "      <td>0</td>\n",
       "      <td>0</td>\n",
       "      <td>1</td>\n",
       "      <td>1</td>\n",
       "      <td>0</td>\n",
       "      <td>...</td>\n",
       "      <td>NaN</td>\n",
       "      <td>NaN</td>\n",
       "      <td>NaN</td>\n",
       "      <td>NaN</td>\n",
       "      <td>NaN</td>\n",
       "      <td>social interaction impairment in social/emotio...</td>\n",
       "      <td>absent speech</td>\n",
       "      <td>NaN</td>\n",
       "      <td>play impairment stares blankly at play objects...</td>\n",
       "      <td>attention and concentration deficit , , , , , ...</td>\n",
       "    </tr>\n",
       "    <tr>\n",
       "      <th>3</th>\n",
       "      <td>4</td>\n",
       "      <td>1</td>\n",
       "      <td>1</td>\n",
       "      <td>1</td>\n",
       "      <td>1</td>\n",
       "      <td>1</td>\n",
       "      <td>1</td>\n",
       "      <td>1</td>\n",
       "      <td>1</td>\n",
       "      <td>1</td>\n",
       "      <td>...</td>\n",
       "      <td>contacts eye</td>\n",
       "      <td>spontaneously pointing</td>\n",
       "      <td>pointing to express interest</td>\n",
       "      <td>does pretend play</td>\n",
       "      <td>shifting attention</td>\n",
       "      <td>social interaction impairment in social/emotio...</td>\n",
       "      <td>absent speech</td>\n",
       "      <td>difficulty imitating gesture</td>\n",
       "      <td>play impairment stares blankly at play objects...</td>\n",
       "      <td>attention and concentration deficit ,contacts ...</td>\n",
       "    </tr>\n",
       "    <tr>\n",
       "      <th>4</th>\n",
       "      <td>5</td>\n",
       "      <td>1</td>\n",
       "      <td>1</td>\n",
       "      <td>0</td>\n",
       "      <td>1</td>\n",
       "      <td>1</td>\n",
       "      <td>1</td>\n",
       "      <td>1</td>\n",
       "      <td>1</td>\n",
       "      <td>1</td>\n",
       "      <td>...</td>\n",
       "      <td>contacts eye</td>\n",
       "      <td>NaN</td>\n",
       "      <td>pointing to express interest</td>\n",
       "      <td>does pretend play</td>\n",
       "      <td>shifting attention</td>\n",
       "      <td>social interaction impairment in social/emotio...</td>\n",
       "      <td>absent speech</td>\n",
       "      <td>difficulty imitating gesture</td>\n",
       "      <td>play impairment stares blankly at play objects...</td>\n",
       "      <td>attention and concentration deficit ,contacts ...</td>\n",
       "    </tr>\n",
       "  </tbody>\n",
       "</table>\n",
       "<p>5 rows × 30 columns</p>\n",
       "</div>"
      ],
      "text/plain": [
       "   Case_No  A1  A2  A3  A4  A5  A6  A7  A8  A9  ...   A2_C0870532  \\\n",
       "0        1   0   0   0   0   0   0   1   1   0  ...           NaN   \n",
       "1        2   1   1   0   0   0   1   1   0   0  ...  contacts eye   \n",
       "2        3   1   0   0   0   0   0   1   1   0  ...           NaN   \n",
       "3        4   1   1   1   1   1   1   1   1   1  ...  contacts eye   \n",
       "4        5   1   1   0   1   1   1   1   1   1  ...  contacts eye   \n",
       "\n",
       "              A3_C4036288                   A4_C0424091        A5_C2371970  \\\n",
       "0                     NaN                           NaN                NaN   \n",
       "1                     NaN                           NaN                NaN   \n",
       "2                     NaN                           NaN                NaN   \n",
       "3  spontaneously pointing  pointing to express interest  does pretend play   \n",
       "4                     NaN  pointing to express interest  does pretend play   \n",
       "\n",
       "          A6_C2370875                                        A7_C4064035  \\\n",
       "0                 NaN  social interaction impairment in social/emotio...   \n",
       "1  shifting attention  social interaction impairment in social/emotio...   \n",
       "2                 NaN  social interaction impairment in social/emotio...   \n",
       "3  shifting attention  social interaction impairment in social/emotio...   \n",
       "4  shifting attention  social interaction impairment in social/emotio...   \n",
       "\n",
       "     A8_C1854882                   A9_C0566243  \\\n",
       "0  absent speech                           NaN   \n",
       "1            NaN                           NaN   \n",
       "2  absent speech                           NaN   \n",
       "3  absent speech  difficulty imitating gesture   \n",
       "4  absent speech  difficulty imitating gesture   \n",
       "\n",
       "                                        A10_C4064319  \\\n",
       "0  play impairment stares blankly at play objects...   \n",
       "1                                                NaN   \n",
       "2  play impairment stares blankly at play objects...   \n",
       "3  play impairment stares blankly at play objects...   \n",
       "4  play impairment stares blankly at play objects...   \n",
       "\n",
       "                                            combined  \n",
       "0   , , , , , ,social interaction impairment in s...  \n",
       "1  attention and concentration deficit ,contacts ...  \n",
       "2  attention and concentration deficit , , , , , ...  \n",
       "3  attention and concentration deficit ,contacts ...  \n",
       "4  attention and concentration deficit ,contacts ...  \n",
       "\n",
       "[5 rows x 30 columns]"
      ]
     },
     "execution_count": 5,
     "metadata": {},
     "output_type": "execute_result"
    }
   ],
   "source": [
    "QT_ASD.head()"
   ]
  },
  {
   "cell_type": "code",
   "execution_count": 6,
   "metadata": {},
   "outputs": [
    {
     "data": {
      "text/plain": [
       "Index(['Case_No', 'A1', 'A2', 'A3', 'A4', 'A5', 'A6', 'A7', 'A8', 'A9', 'A10',\n",
       "       'Age_Mons', 'Qchat-10-Score', 'Sex', 'Ethnicity', 'Jaundice',\n",
       "       'Family_mem_with_ASD', 'Who completed the test', 'Class/ASD Traits ',\n",
       "       'A1_C2977673', 'A2_C0870532', 'A3_C4036288', 'A4_C0424091',\n",
       "       'A5_C2371970', 'A6_C2370875', 'A7_C4064035', 'A8_C1854882',\n",
       "       'A9_C0566243', 'A10_C4064319', 'combined'],\n",
       "      dtype='object')"
      ]
     },
     "execution_count": 6,
     "metadata": {},
     "output_type": "execute_result"
    }
   ],
   "source": [
    "QT_ASD.columns"
   ]
  },
  {
   "cell_type": "code",
   "execution_count": 8,
   "metadata": {},
   "outputs": [],
   "source": [
    "df=QT_ASD[['Class/ASD Traits ','combined']]"
   ]
  },
  {
   "cell_type": "code",
   "execution_count": 9,
   "metadata": {},
   "outputs": [
    {
     "data": {
      "text/html": [
       "<div>\n",
       "<style scoped>\n",
       "    .dataframe tbody tr th:only-of-type {\n",
       "        vertical-align: middle;\n",
       "    }\n",
       "\n",
       "    .dataframe tbody tr th {\n",
       "        vertical-align: top;\n",
       "    }\n",
       "\n",
       "    .dataframe thead th {\n",
       "        text-align: right;\n",
       "    }\n",
       "</style>\n",
       "<table border=\"1\" class=\"dataframe\">\n",
       "  <thead>\n",
       "    <tr style=\"text-align: right;\">\n",
       "      <th></th>\n",
       "      <th>Class/ASD Traits</th>\n",
       "      <th>combined</th>\n",
       "    </tr>\n",
       "  </thead>\n",
       "  <tbody>\n",
       "    <tr>\n",
       "      <th>0</th>\n",
       "      <td>No</td>\n",
       "      <td>, , , , , ,social interaction impairment in s...</td>\n",
       "    </tr>\n",
       "    <tr>\n",
       "      <th>1</th>\n",
       "      <td>Yes</td>\n",
       "      <td>attention and concentration deficit ,contacts ...</td>\n",
       "    </tr>\n",
       "    <tr>\n",
       "      <th>2</th>\n",
       "      <td>Yes</td>\n",
       "      <td>attention and concentration deficit , , , , , ...</td>\n",
       "    </tr>\n",
       "    <tr>\n",
       "      <th>3</th>\n",
       "      <td>Yes</td>\n",
       "      <td>attention and concentration deficit ,contacts ...</td>\n",
       "    </tr>\n",
       "    <tr>\n",
       "      <th>4</th>\n",
       "      <td>Yes</td>\n",
       "      <td>attention and concentration deficit ,contacts ...</td>\n",
       "    </tr>\n",
       "  </tbody>\n",
       "</table>\n",
       "</div>"
      ],
      "text/plain": [
       "  Class/ASD Traits                                            combined\n",
       "0                No   , , , , , ,social interaction impairment in s...\n",
       "1               Yes  attention and concentration deficit ,contacts ...\n",
       "2               Yes  attention and concentration deficit , , , , , ...\n",
       "3               Yes  attention and concentration deficit ,contacts ...\n",
       "4               Yes  attention and concentration deficit ,contacts ..."
      ]
     },
     "execution_count": 9,
     "metadata": {},
     "output_type": "execute_result"
    }
   ],
   "source": [
    "df.head()"
   ]
  },
  {
   "cell_type": "code",
   "execution_count": 10,
   "metadata": {},
   "outputs": [],
   "source": [
    "df.columns =['ASD_traits','text']"
   ]
  },
  {
   "cell_type": "code",
   "execution_count": null,
   "metadata": {},
   "outputs": [],
   "source": [
    "# BERT Classification"
   ]
  },
  {
   "cell_type": "code",
   "execution_count": 44,
   "metadata": {},
   "outputs": [],
   "source": [
    "# BertTokenizer , let’s build a Dataset class for our ASD dataset"
   ]
  },
  {
   "cell_type": "code",
   "execution_count": 41,
   "metadata": {},
   "outputs": [],
   "source": [
    "import torch\n",
    "import numpy as np\n",
    "from transformers import BertTokenizer\n",
    "\n",
    "tokenizer = BertTokenizer.from_pretrained('bert-base-cased')\n",
    "labels = {\n",
    "        'No':0,\n",
    "        'Yes':1,\n",
    "          }\n",
    "\n",
    "\n",
    "from torch.utils.data import Dataset\n",
    "\n",
    "# class MyDataset(Dataset):\n",
    "#     def __init__(self, data):\n",
    "#         self.data = data\n",
    "\n",
    "#     def __len__(self):\n",
    "#         return len(self.data)\n",
    "\n",
    "#     def __getitem__(self, idx):\n",
    "#         return self.data[idx]\n",
    "\n",
    "class Dataset(Dataset):\n",
    "\n",
    "    def __init__(self, df):\n",
    "\n",
    "        self.labels = [labels[label] for label in df['ASD_traits']]\n",
    "        self.texts = [tokenizer(text, \n",
    "                               padding='max_length', max_length = 512, truncation=True,\n",
    "                                return_tensors=\"pt\") for text in df['text']]\n",
    "\n",
    "    def classes(self):\n",
    "        return self.labels\n",
    "\n",
    "    def __len__(self):\n",
    "        return len(self.labels)\n",
    "\n",
    "    def get_batch_labels(self, idx):\n",
    "        # Fetch a batch of labels\n",
    "        return np.array(self.labels[idx])\n",
    "\n",
    "    def get_batch_texts(self, idx):\n",
    "        # Fetch a batch of inputs\n",
    "        return self.texts[idx]\n",
    "\n",
    "    def __getitem__(self, idx):\n",
    "\n",
    "        batch_texts = self.get_batch_texts(idx)\n",
    "        batch_y = self.get_batch_labels(idx)\n",
    "\n",
    "        return batch_texts, batch_y"
   ]
  },
  {
   "cell_type": "code",
   "execution_count": null,
   "metadata": {},
   "outputs": [],
   "source": [
    "#split our dataframe into training, validation, and test set with the proportion of 80:10:10."
   ]
  },
  {
   "cell_type": "code",
   "execution_count": 154,
   "metadata": {},
   "outputs": [
    {
     "data": {
      "text/html": [
       "<div>\n",
       "<style scoped>\n",
       "    .dataframe tbody tr th:only-of-type {\n",
       "        vertical-align: middle;\n",
       "    }\n",
       "\n",
       "    .dataframe tbody tr th {\n",
       "        vertical-align: top;\n",
       "    }\n",
       "\n",
       "    .dataframe thead th {\n",
       "        text-align: right;\n",
       "    }\n",
       "</style>\n",
       "<table border=\"1\" class=\"dataframe\">\n",
       "  <thead>\n",
       "    <tr style=\"text-align: right;\">\n",
       "      <th></th>\n",
       "      <th>ASD_traits</th>\n",
       "      <th>text</th>\n",
       "      <th>tokenized_text</th>\n",
       "    </tr>\n",
       "  </thead>\n",
       "  <tbody>\n",
       "    <tr>\n",
       "      <th>0</th>\n",
       "      <td>No</td>\n",
       "      <td>, , , , , ,social interaction impairment in s...</td>\n",
       "      <td>[input_ids, token_type_ids, attention_mask]</td>\n",
       "    </tr>\n",
       "    <tr>\n",
       "      <th>1</th>\n",
       "      <td>Yes</td>\n",
       "      <td>attention and concentration deficit ,contacts ...</td>\n",
       "      <td>[input_ids, token_type_ids, attention_mask]</td>\n",
       "    </tr>\n",
       "    <tr>\n",
       "      <th>2</th>\n",
       "      <td>Yes</td>\n",
       "      <td>attention and concentration deficit , , , , , ...</td>\n",
       "      <td>[input_ids, token_type_ids, attention_mask]</td>\n",
       "    </tr>\n",
       "    <tr>\n",
       "      <th>3</th>\n",
       "      <td>Yes</td>\n",
       "      <td>attention and concentration deficit ,contacts ...</td>\n",
       "      <td>[input_ids, token_type_ids, attention_mask]</td>\n",
       "    </tr>\n",
       "    <tr>\n",
       "      <th>4</th>\n",
       "      <td>Yes</td>\n",
       "      <td>attention and concentration deficit ,contacts ...</td>\n",
       "      <td>[input_ids, token_type_ids, attention_mask]</td>\n",
       "    </tr>\n",
       "  </tbody>\n",
       "</table>\n",
       "</div>"
      ],
      "text/plain": [
       "  ASD_traits                                               text  \\\n",
       "0         No   , , , , , ,social interaction impairment in s...   \n",
       "1        Yes  attention and concentration deficit ,contacts ...   \n",
       "2        Yes  attention and concentration deficit , , , , , ...   \n",
       "3        Yes  attention and concentration deficit ,contacts ...   \n",
       "4        Yes  attention and concentration deficit ,contacts ...   \n",
       "\n",
       "                                tokenized_text  \n",
       "0  [input_ids, token_type_ids, attention_mask]  \n",
       "1  [input_ids, token_type_ids, attention_mask]  \n",
       "2  [input_ids, token_type_ids, attention_mask]  \n",
       "3  [input_ids, token_type_ids, attention_mask]  \n",
       "4  [input_ids, token_type_ids, attention_mask]  "
      ]
     },
     "execution_count": 154,
     "metadata": {},
     "output_type": "execute_result"
    }
   ],
   "source": [
    "df.head()"
   ]
  },
  {
   "cell_type": "code",
   "execution_count": 37,
   "metadata": {},
   "outputs": [
    {
     "name": "stdout",
     "output_type": "stream",
     "text": [
      "843 105 106\n"
     ]
    }
   ],
   "source": [
    "#df out of T_ASD2\n",
    "np.random.seed(112)\n",
    "df_train, df_val, df_test = np.split(df.sample(frac=1, random_state=42), \n",
    "                                     [int(.8*len(df)), int(.9*len(df))])\n",
    "\n",
    "print(len(df_train),len(df_val), len(df_test))"
   ]
  },
  {
   "cell_type": "code",
   "execution_count": 14,
   "metadata": {},
   "outputs": [
    {
     "data": {
      "text/html": [
       "<div>\n",
       "<style scoped>\n",
       "    .dataframe tbody tr th:only-of-type {\n",
       "        vertical-align: middle;\n",
       "    }\n",
       "\n",
       "    .dataframe tbody tr th {\n",
       "        vertical-align: top;\n",
       "    }\n",
       "\n",
       "    .dataframe thead th {\n",
       "        text-align: right;\n",
       "    }\n",
       "</style>\n",
       "<table border=\"1\" class=\"dataframe\">\n",
       "  <thead>\n",
       "    <tr style=\"text-align: right;\">\n",
       "      <th></th>\n",
       "      <th>ASD_traits</th>\n",
       "      <th>text</th>\n",
       "    </tr>\n",
       "  </thead>\n",
       "  <tbody>\n",
       "    <tr>\n",
       "      <th>260</th>\n",
       "      <td>Yes</td>\n",
       "      <td>attention and concentration deficit ,contacts ...</td>\n",
       "    </tr>\n",
       "    <tr>\n",
       "      <th>1025</th>\n",
       "      <td>No</td>\n",
       "      <td>, , , , , ,social interaction impairment in s...</td>\n",
       "    </tr>\n",
       "    <tr>\n",
       "      <th>845</th>\n",
       "      <td>No</td>\n",
       "      <td>, , , , , ,social interaction impairment in s...</td>\n",
       "    </tr>\n",
       "    <tr>\n",
       "      <th>1005</th>\n",
       "      <td>Yes</td>\n",
       "      <td>attention and concentration deficit , ,spontan...</td>\n",
       "    </tr>\n",
       "    <tr>\n",
       "      <th>88</th>\n",
       "      <td>Yes</td>\n",
       "      <td>attention and concentration deficit , , , ,doe...</td>\n",
       "    </tr>\n",
       "  </tbody>\n",
       "</table>\n",
       "</div>"
      ],
      "text/plain": [
       "     ASD_traits                                               text\n",
       "260         Yes  attention and concentration deficit ,contacts ...\n",
       "1025         No   , , , , , ,social interaction impairment in s...\n",
       "845          No   , , , , , ,social interaction impairment in s...\n",
       "1005        Yes  attention and concentration deficit , ,spontan...\n",
       "88          Yes  attention and concentration deficit , , , ,doe..."
      ]
     },
     "execution_count": 14,
     "metadata": {},
     "output_type": "execute_result"
    }
   ],
   "source": [
    "df_train.head()"
   ]
  },
  {
   "cell_type": "code",
   "execution_count": 15,
   "metadata": {},
   "outputs": [
    {
     "data": {
      "text/plain": [
       "Yes    579\n",
       "No     264\n",
       "Name: ASD_traits, dtype: int64"
      ]
     },
     "execution_count": 15,
     "metadata": {},
     "output_type": "execute_result"
    }
   ],
   "source": [
    "df_train['ASD_traits'].value_counts()"
   ]
  },
  {
   "cell_type": "code",
   "execution_count": 16,
   "metadata": {},
   "outputs": [
    {
     "data": {
      "text/plain": [
       "Yes    79\n",
       "No     26\n",
       "Name: ASD_traits, dtype: int64"
      ]
     },
     "execution_count": 16,
     "metadata": {},
     "output_type": "execute_result"
    }
   ],
   "source": [
    "df_val['ASD_traits'].value_counts()"
   ]
  },
  {
   "cell_type": "code",
   "execution_count": 17,
   "metadata": {},
   "outputs": [
    {
     "data": {
      "text/plain": [
       "Yes    70\n",
       "No     36\n",
       "Name: ASD_traits, dtype: int64"
      ]
     },
     "execution_count": 17,
     "metadata": {},
     "output_type": "execute_result"
    }
   ],
   "source": [
    "df_test['ASD_traits'].value_counts()"
   ]
  },
  {
   "cell_type": "code",
   "execution_count": null,
   "metadata": {},
   "outputs": [],
   "source": [
    "# Model Building"
   ]
  },
  {
   "cell_type": "code",
   "execution_count": 42,
   "metadata": {},
   "outputs": [],
   "source": [
    "\n",
    "from torch import nn\n",
    "from transformers import BertModel\n",
    "\n",
    "class BertClassifier(nn.Module):\n",
    "\n",
    "    def __init__(self, dropout=0.5):\n",
    "\n",
    "        super(BertClassifier, self).__init__()\n",
    "\n",
    "        self.bert = BertModel.from_pretrained('bert-base-cased')\n",
    "        self.dropout = nn.Dropout(dropout)\n",
    "        self.linear = nn.Linear(768, 2) # len(labels) =2 ASD YEs or not or 5\n",
    "        self.relu = nn.ReLU()\n",
    "\n",
    "    def forward(self, input_id, mask):\n",
    "\n",
    "        _, pooled_output = self.bert(input_ids= input_id, attention_mask=mask,return_dict=False)\n",
    "        dropout_output = self.dropout(pooled_output)\n",
    "        linear_output = self.linear(dropout_output)\n",
    "        final_layer = self.relu(linear_output)\n",
    "\n",
    "        return final_layer"
   ]
  },
  {
   "cell_type": "code",
   "execution_count": null,
   "metadata": {},
   "outputs": [],
   "source": [
    "\"\"\"\n",
    "BERT model outputs two variables:\n",
    "\n",
    "The first variable, which we named _ in the code above, \n",
    "contains the embedding vectors of all of the tokens in a sequence.\n",
    "The second variable, which we named pooled_output, contains the embedding vector of [CLS] token. \n",
    "For a text classification task, it is enough to use this embedding as an input for our classifier.\n",
    "\n",
    "\"\"\""
   ]
  },
  {
   "cell_type": "code",
   "execution_count": 204,
   "metadata": {},
   "outputs": [
    {
     "data": {
      "text/html": [
       "<div>\n",
       "<style scoped>\n",
       "    .dataframe tbody tr th:only-of-type {\n",
       "        vertical-align: middle;\n",
       "    }\n",
       "\n",
       "    .dataframe tbody tr th {\n",
       "        vertical-align: top;\n",
       "    }\n",
       "\n",
       "    .dataframe thead th {\n",
       "        text-align: right;\n",
       "    }\n",
       "</style>\n",
       "<table border=\"1\" class=\"dataframe\">\n",
       "  <thead>\n",
       "    <tr style=\"text-align: right;\">\n",
       "      <th></th>\n",
       "      <th>ASD_traits</th>\n",
       "      <th>text</th>\n",
       "    </tr>\n",
       "  </thead>\n",
       "  <tbody>\n",
       "    <tr>\n",
       "      <th>797</th>\n",
       "      <td>No</td>\n",
       "      <td>attention and concentration deficit , , , , , ...</td>\n",
       "    </tr>\n",
       "    <tr>\n",
       "      <th>1613</th>\n",
       "      <td>No</td>\n",
       "      <td>, , , , , , , , ,</td>\n",
       "    </tr>\n",
       "    <tr>\n",
       "      <th>225</th>\n",
       "      <td>Yes</td>\n",
       "      <td>, , , ,does pretend play , ,social interactio...</td>\n",
       "    </tr>\n",
       "    <tr>\n",
       "      <th>26</th>\n",
       "      <td>Yes</td>\n",
       "      <td>attention and concentration deficit ,contacts ...</td>\n",
       "    </tr>\n",
       "    <tr>\n",
       "      <th>1814</th>\n",
       "      <td>Yes</td>\n",
       "      <td>, , , , , , , , ,play impairment stares blank...</td>\n",
       "    </tr>\n",
       "    <tr>\n",
       "      <th>...</th>\n",
       "      <td>...</td>\n",
       "      <td>...</td>\n",
       "    </tr>\n",
       "    <tr>\n",
       "      <th>1722</th>\n",
       "      <td>No</td>\n",
       "      <td>, , , , , , , , ,</td>\n",
       "    </tr>\n",
       "    <tr>\n",
       "      <th>1183</th>\n",
       "      <td>Yes</td>\n",
       "      <td>, , , , , , , , ,</td>\n",
       "    </tr>\n",
       "    <tr>\n",
       "      <th>524</th>\n",
       "      <td>Yes</td>\n",
       "      <td>attention and concentration deficit ,contacts ...</td>\n",
       "    </tr>\n",
       "    <tr>\n",
       "      <th>1059</th>\n",
       "      <td>No</td>\n",
       "      <td>, , , , , , , , ,</td>\n",
       "    </tr>\n",
       "    <tr>\n",
       "      <th>540</th>\n",
       "      <td>Yes</td>\n",
       "      <td>attention and concentration deficit ,contacts ...</td>\n",
       "    </tr>\n",
       "  </tbody>\n",
       "</table>\n",
       "<p>198 rows × 2 columns</p>\n",
       "</div>"
      ],
      "text/plain": [
       "     ASD_traits                                               text\n",
       "797          No  attention and concentration deficit , , , , , ...\n",
       "1613         No                                  , , , , , , , , ,\n",
       "225         Yes   , , , ,does pretend play , ,social interactio...\n",
       "26          Yes  attention and concentration deficit ,contacts ...\n",
       "1814        Yes   , , , , , , , , ,play impairment stares blank...\n",
       "...         ...                                                ...\n",
       "1722         No                                  , , , , , , , , ,\n",
       "1183        Yes                                  , , , , , , , , ,\n",
       "524         Yes  attention and concentration deficit ,contacts ...\n",
       "1059         No                                  , , , , , , , , ,\n",
       "540         Yes  attention and concentration deficit ,contacts ...\n",
       "\n",
       "[198 rows x 2 columns]"
      ]
     },
     "execution_count": 204,
     "metadata": {},
     "output_type": "execute_result"
    }
   ],
   "source": [
    "df_val"
   ]
  },
  {
   "cell_type": "code",
   "execution_count": 39,
   "metadata": {},
   "outputs": [],
   "source": [
    "from torch.utils.data import DataLoader, Dataset\n",
    "from sklearn.metrics import roc_auc_score, average_precision_score\n",
    "import tqdm"
   ]
  },
  {
   "cell_type": "code",
   "execution_count": 43,
   "metadata": {},
   "outputs": [],
   "source": [
    "from torch.optim import Adam\n",
    "from tqdm import tqdm\n",
    "\n",
    "def train(model, train_data, val_data, learning_rate, epochs):\n",
    "\n",
    "    train, val = Dataset(train_data), Dataset(val_data)\n",
    "\n",
    "    train_dataloader = torch.utils.data.DataLoader(train, batch_size=2, shuffle=True)\n",
    "    val_dataloader = torch.utils.data.DataLoader(val, batch_size=2)\n",
    "\n",
    "    use_cuda = torch.cuda.is_available()\n",
    "    device = torch.device(\"cuda:0\" if use_cuda else \"cpu\")\n",
    "\n",
    "    criterion = nn.CrossEntropyLoss()\n",
    "    #criterion = nn.BCEWithLogitsLoss() #binary classification\n",
    "    optimizer = Adam(model.parameters(), lr= learning_rate)\n",
    "\n",
    "  #trainer\n",
    "    best_eval_auprc = 0\n",
    "    best_eval_auroc = 0\n",
    "    train_auprc_log = []\n",
    "    eval_auprc_log = []\n",
    "    train_auroc_log = []\n",
    "    eval_auroc_log = []\n",
    "    train_loss_log = []\n",
    "    eval_loss_log = []\n",
    " \n",
    "    if use_cuda:\n",
    "\n",
    "            model = model.cuda()\n",
    "            criterion = criterion.cuda()\n",
    "\n",
    "    for epoch_num in range(epochs):\n",
    "\n",
    "        total_acc_train = 0\n",
    "        total_loss_train = 0\n",
    "\n",
    "        preds_train = []\n",
    "        targets_train = []\n",
    "        avg_train_loss = 0.\n",
    "\n",
    "        for train_input, train_label in tqdm(train_dataloader):\n",
    "\n",
    "            train_label = train_label.to(device)\n",
    "            mask = train_input['attention_mask'].to(device)\n",
    "            input_id = train_input['input_ids'].squeeze(1).to(device)\n",
    "\n",
    "            output = model(input_id, mask)\n",
    "                \n",
    "            batch_loss = criterion(output, train_label.long())\n",
    "            total_loss_train += batch_loss.item()\n",
    "                \n",
    "            acc = (output.argmax(dim=1) == train_label).sum().item()\n",
    "            total_acc_train += acc\n",
    "\n",
    "            model.zero_grad()\n",
    "            batch_loss.backward()\n",
    "            optimizer.step()\n",
    "\n",
    "            #loss = criterion(output, test_label) #BCELoss, \n",
    "            #print(f'LOSS: {loss}')\n",
    "            avg_train_loss +=   batch_loss.item() / len(train_dataloader)\n",
    "            #print(f'Avg T LOSS: {avg_test_loss }')\n",
    "\n",
    "            #probs_test = output.detach().cpu().numpy()\n",
    "            probs_train  =output.argmax(dim=1)\n",
    "            #print(f'Prob_T: {probs_test}')\n",
    "            preds_train += list(probs_train .flatten())\n",
    "            #print(f'Pred_T: {preds_test}')\n",
    "            targets_train += list(train_label.detach().cpu().numpy().flatten())         \n",
    "            #print(f'Target_T:{targets_test}')\n",
    "        auroc_train = roc_auc_score(targets_train, preds_train) # sklearn auroc matrix \n",
    "        auprc_train = average_precision_score(targets_train, preds_train, average='micro') # sklearn auprc matrix       \n",
    "    \n",
    "        print('[Train]  loss: {:.3f},  auroc: {:.3f},   auprc: {:.3f}'.format(avg_train_loss, auroc_train, auprc_train))\n",
    "        train_auprc_log.append(auprc_train)\n",
    "        train_auroc_log.append(auroc_train)\n",
    "        train_loss_log.append(avg_train_loss)\n",
    "            \n",
    "        # total_acc_val = 0\n",
    "        # total_loss_val = 0\n",
    "        total_acc_val = 0\n",
    "        total_loss_val = 0\n",
    "        preds_eval = []\n",
    "        targets_eval = []\n",
    "        avg_eval_loss = 0.\n",
    "        #output_s=[]\n",
    "\n",
    "        with torch.no_grad():\n",
    "\n",
    "            for val_input, val_label in val_dataloader:\n",
    "\n",
    "                val_label = val_label.to(device)\n",
    "                mask = val_input['attention_mask'].to(device)\n",
    "                input_id = val_input['input_ids'].squeeze(1).to(device)\n",
    "\n",
    "                output = model(input_id, mask)\n",
    "\n",
    "                batch_loss = criterion(output, val_label.long())\n",
    "                total_loss_val += batch_loss.item()\n",
    "                    \n",
    "                acc = (output.argmax(dim=1) == val_label).sum().item()\n",
    "                total_acc_val += acc\n",
    "\n",
    "                avg_eval_loss += batch_loss.item() / len(val_dataloader)\n",
    "\n",
    "                probs_eval  =output.argmax(dim=1)\n",
    "                #print(f'Prob_T: {probs_test}')\n",
    "                preds_eval += list(probs_eval .flatten())\n",
    "            #print(f'Pred_T: {preds_test}')\n",
    "                targets_eval += list(val_label.detach().cpu().numpy().flatten())         \n",
    "            #print(f'Target_T:{targets_test}')\n",
    "            auroc_eval = roc_auc_score(targets_eval, preds_eval) # sklearn auroc matrix \n",
    "            auprc_eval = average_precision_score(targets_eval, preds_eval, average='micro') # sklearn auprc matrix \n",
    "\n",
    "        \n",
    "        print('[Valid]  loss: {:.3f},  auroc: {:.3f},   auprc: {:.3f}'.format(avg_eval_loss, auroc_eval, auprc_eval))\n",
    "        eval_auprc_log.append(auprc_eval)\n",
    "        eval_auroc_log.append(auroc_eval)\n",
    "        eval_loss_log.append(avg_eval_loss)\n",
    "        #output_s = output\n",
    "\n",
    "        if best_eval_auprc < auprc_eval:\n",
    "            best_eval_loss = avg_eval_loss\n",
    "            best_eval_auroc = auroc_eval\n",
    "            best_eval_auprc = auprc_eval\n",
    "                    \n",
    "            # torch.save({'model_state_dict': model.state_dict(),\n",
    "            #     'optimizer_state_dict': optimizer.state_dict(),\n",
    "            #     'loss': best_eval_loss,\n",
    "            #     'auroc': best_eval_auroc,\n",
    "            #     'auprc': best_eval_auprc,\n",
    "            #     'epochs': n_epoch}, best_eval_path)\n",
    "\n",
    "            # print('Model parameter saved at epoch {}'.format(n_epoch))\n",
    "        \n",
    "        print('Training End!')\n",
    "        print('Best eval auprc ', best_eval_auprc)\n",
    "        print('Best eval auroc', best_eval_auroc)\n",
    "        print(\n",
    "            f'Epochs: {epoch_num + 1} | Train Loss: {total_loss_train / len(train_data): .3f} \\\n",
    "            | Train Accuracy: {total_acc_train / len(train_data): .3f} \\\n",
    "            | Val Loss: {total_loss_val / len(val_data): .3f} \\\n",
    "            | Val Accuracy: {total_acc_val / len(val_data): .3f}')\n",
    "        print(best_eval_loss, best_eval_auroc)\n",
    "\n",
    "    return best_eval_auprc, best_eval_loss, best_eval_auroc, eval_auprc_log, eval_auroc_log, eval_loss_log\n",
    "\n",
    "\n",
    "# EPOCHS = 5\n",
    "# model = BertClassifier()\n",
    "# LR = 1e-6\n",
    "              \n",
    "# train(model, df_train, df_val, LR, EPOCHS)"
   ]
  },
  {
   "cell_type": "code",
   "execution_count": 44,
   "metadata": {},
   "outputs": [
    {
     "name": "stderr",
     "output_type": "stream",
     "text": [
      "100%|██████████| 422/422 [11:49<00:00,  1.68s/it]\n"
     ]
    },
    {
     "name": "stdout",
     "output_type": "stream",
     "text": [
      "[Train]  loss: 0.514,  auroc: 0.767,   auprc: 0.845\n",
      "[Valid]  loss: 0.402,  auroc: 0.924,   auprc: 0.959\n",
      "Training End!\n",
      "Best eval auprc  0.959310292132542\n",
      "Best eval auroc 0.9238072054527751\n",
      "Epochs: 1 | Train Loss:  0.257             | Train Accuracy:  0.708             | Val Loss:  0.203             | Val Accuracy:  0.905\n",
      "0.4015401001527624 0.9238072054527751\n"
     ]
    },
    {
     "name": "stderr",
     "output_type": "stream",
     "text": [
      "100%|██████████| 422/422 [11:22<00:00,  1.62s/it]\n"
     ]
    },
    {
     "name": "stdout",
     "output_type": "stream",
     "text": [
      "[Train]  loss: 0.322,  auroc: 0.935,   auprc: 0.953\n",
      "[Valid]  loss: 0.195,  auroc: 1.000,   auprc: 1.000\n",
      "Training End!\n",
      "Best eval auprc  1.0\n",
      "Best eval auroc 1.0\n",
      "Epochs: 2 | Train Loss:  0.161             | Train Accuracy:  0.931             | Val Loss:  0.098             | Val Accuracy:  1.000\n",
      "0.19486989882194772 1.0\n"
     ]
    },
    {
     "name": "stderr",
     "output_type": "stream",
     "text": [
      "100%|██████████| 422/422 [10:55<00:00,  1.55s/it]\n"
     ]
    },
    {
     "name": "stdout",
     "output_type": "stream",
     "text": [
      "[Train]  loss: 0.151,  auroc: 0.971,   auprc: 0.977\n",
      "[Valid]  loss: 0.054,  auroc: 1.000,   auprc: 1.000\n",
      "Training End!\n",
      "Best eval auprc  1.0\n",
      "Best eval auroc 1.0\n",
      "Epochs: 3 | Train Loss:  0.075             | Train Accuracy:  0.973             | Val Loss:  0.027             | Val Accuracy:  1.000\n",
      "0.19486989882194772 1.0\n"
     ]
    },
    {
     "name": "stderr",
     "output_type": "stream",
     "text": [
      "100%|██████████| 422/422 [10:56<00:00,  1.56s/it]\n"
     ]
    },
    {
     "name": "stdout",
     "output_type": "stream",
     "text": [
      "[Train]  loss: 0.041,  auroc: 0.999,   auprc: 0.999\n",
      "[Valid]  loss: 0.023,  auroc: 1.000,   auprc: 1.000\n",
      "Training End!\n",
      "Best eval auprc  1.0\n",
      "Best eval auroc 1.0\n",
      "Epochs: 4 | Train Loss:  0.021             | Train Accuracy:  0.999             | Val Loss:  0.012             | Val Accuracy:  1.000\n",
      "0.19486989882194772 1.0\n"
     ]
    },
    {
     "name": "stderr",
     "output_type": "stream",
     "text": [
      "100%|██████████| 422/422 [10:58<00:00,  1.56s/it]\n"
     ]
    },
    {
     "name": "stdout",
     "output_type": "stream",
     "text": [
      "[Train]  loss: 0.052,  auroc: 0.984,   auprc: 0.986\n",
      "[Valid]  loss: 0.016,  auroc: 1.000,   auprc: 1.000\n",
      "Training End!\n",
      "Best eval auprc  1.0\n",
      "Best eval auroc 1.0\n",
      "Epochs: 5 | Train Loss:  0.026             | Train Accuracy:  0.988             | Val Loss:  0.008             | Val Accuracy:  1.000\n",
      "0.19486989882194772 1.0\n"
     ]
    }
   ],
   "source": [
    "EPOCHS = 5\n",
    "model = BertClassifier()\n",
    "LR = 1e-6\n",
    "              \n",
    "best_eval_auprc,best_eval_loss, best_eval_auroc, eval_auprc_log, eval_auroc_log, eval_loss_log=train(model, df_train, df_val, LR, EPOCHS)"
   ]
  },
  {
   "cell_type": "code",
   "execution_count": null,
   "metadata": {},
   "outputs": [],
   "source": [
    "#os.makedirs('./BERT', exist_ok=True)"
   ]
  },
  {
   "cell_type": "code",
   "execution_count": 55,
   "metadata": {},
   "outputs": [],
   "source": [
    "\n",
    "# Save the model\n",
    "# Save the model\n",
    "torch.save(model.state_dict(), './BERT/Bert_qchatmodel_Feb2024_model.pth')"
   ]
  },
  {
   "cell_type": "code",
   "execution_count": 54,
   "metadata": {},
   "outputs": [],
   "source": [
    "model.load_state_dict(torch.load('./BERT/Bert_qchatmodel_Feb2024_model.pth')"
   ]
  },
  {
   "cell_type": "code",
   "execution_count": 46,
   "metadata": {},
   "outputs": [
    {
     "name": "stdout",
     "output_type": "stream",
     "text": [
      "Training End!\n",
      "Best eval auprc  1.0\n",
      "Best eval auroc 1.0\n",
      "Best eval loss 0.19486989882194772\n"
     ]
    }
   ],
   "source": [
    "print('Training End!') # eval_auprc_log\n",
    "print('Best eval auprc ', best_eval_auprc) #eval_auprc_log\n",
    "print('Best eval auroc', best_eval_auroc) # eval_auroc_log\n",
    "print('Best eval loss', best_eval_loss)"
   ]
  },
  {
   "cell_type": "code",
   "execution_count": null,
   "metadata": {},
   "outputs": [],
   "source": [
    "#Evaluate Model on Test Data"
   ]
  },
  {
   "cell_type": "code",
   "execution_count": 47,
   "metadata": {},
   "outputs": [],
   "source": [
    "from sklearn.metrics import accuracy_score, classification_report, confusion_matrix\n",
    "from sklearn.metrics import precision_recall_fscore_support\n",
    "from sklearn.metrics import roc_auc_score\n",
    "from sklearn.metrics import precision_recall_curve\n",
    "import seaborn as sns"
   ]
  },
  {
   "cell_type": "code",
   "execution_count": 48,
   "metadata": {},
   "outputs": [],
   "source": [
    "# Libraries\n",
    "\n",
    "import matplotlib.pyplot as plt\n",
    "import pandas as pd\n",
    "import torch\n",
    "\n",
    "# Preliminaries\n",
    "\n",
    "#from torchtext.data import Field, TabularDataset, BucketIterator, Iterator\n",
    "\n",
    "# Models\n",
    "\n",
    "import torch.nn as nn\n",
    "from transformers import BertTokenizer, BertForSequenceClassification\n",
    "\n",
    "# Training\n",
    "\n",
    "import torch.optim as optim\n",
    "\n",
    "# Evaluation\n",
    "\n",
    "from sklearn.metrics import accuracy_score, classification_report, confusion_matrix\n",
    "import seaborn as sns"
   ]
  },
  {
   "cell_type": "code",
   "execution_count": 49,
   "metadata": {},
   "outputs": [
    {
     "name": "stdout",
     "output_type": "stream",
     "text": [
      "f1: 1.0\n",
      "1.0\n",
      "Test Accuracy:  1.000\n",
      "1.0 1.0 1.0\n"
     ]
    },
    {
     "data": {
      "image/png": "[encoded data removed]",
      "text/plain": [
       "<Figure size 640x480 with 1 Axes>"
      ]
     },
     "metadata": {},
     "output_type": "display_data"
    },
    {
     "data": {
      "image/png": "[encoded data removed]",
      "text/plain": [
       "<Figure size 640x480 with 2 Axes>"
      ]
     },
     "metadata": {},
     "output_type": "display_data"
    }
   ],
   "source": [
    "criterion = nn.CrossEntropyLoss() \n",
    "from sklearn.metrics import roc_curve, auc, confusion_matrix, ConfusionMatrixDisplay\n",
    "import matplotlib.pyplot as plt\n",
    "\n",
    "def evaluate(model, test_data):\n",
    "\n",
    "    test = Dataset(test_data)\n",
    "\n",
    "    test_dataloader = torch.utils.data.DataLoader(test, batch_size=2)\n",
    "\n",
    "    use_cuda = torch.cuda.is_available()\n",
    "    device = torch.device(\"cuda:0\" if use_cuda else \"cpu\")\n",
    "\n",
    "    if use_cuda:\n",
    "\n",
    "        model = model.cuda()\n",
    "\n",
    "    total_acc_test = 0\n",
    "    preds_test = []\n",
    "    targets_test = []\n",
    "    avg_test_loss = 0.\n",
    "    \n",
    "    with torch.no_grad():\n",
    "\n",
    "        for test_input, test_label in test_dataloader:\n",
    "\n",
    "            test_label = test_label.to(device)\n",
    "            #print(f'test_label: {test_label}')\n",
    "            mask = test_input['attention_mask'].to(device)\n",
    "            input_id = test_input['input_ids'].squeeze(1).to(device)\n",
    "\n",
    "            output = model(input_id, mask)\n",
    "            #print(f'output : { output }')\n",
    "            #print(f'output.argmax(dim=1) : { output.argmax(dim=1) }')\n",
    "            acc = (output.argmax(dim=1) == test_label).sum().item()\n",
    "            total_acc_test += acc\n",
    "\n",
    "            loss = criterion(output, test_label) #BCELoss, \n",
    "            #print(f'LOSS: {loss}')\n",
    "            avg_test_loss +=   loss.item() / len(test_dataloader)\n",
    "            #print(f'Avg T LOSS: {avg_test_loss }')\n",
    "\n",
    "            #probs_test = output.detach().cpu().numpy()\n",
    "            probs_test =output.argmax(dim=1)\n",
    "            #print(f'Prob_T: {probs_test}')\n",
    "            preds_test += list(probs_test.flatten())\n",
    "            #print(f'Pred_T: {preds_test}')\n",
    "            targets_test += list(test_label.detach().cpu().numpy().flatten())         \n",
    "            #print(f'Target_T:{targets_test}')\n",
    "\n",
    "        precision, recall, f1, _ = precision_recall_fscore_support(targets_test, preds_test, average='binary')\n",
    "        acc = accuracy_score(targets_test, preds_test)\n",
    "        print(f'f1: {f1}')\n",
    "        #pr_curve = PrecisionRecallCurve(num_classes=2)\n",
    "        #precision, recall, thresholds = pr_curve(preds_test, targets_test)\n",
    "        auroc_test = roc_auc_score(targets_test, preds_test)\n",
    "        print(auroc_test )\n",
    "        #print(targets_test, preds_test)\n",
    "        #auprc_test = average_precision_score(targets_test, preds_test, average='micro')   \n",
    "        #print(auprc_test)\n",
    "    \n",
    "    print(f'Test Accuracy: {total_acc_test / len(test_data): .3f}')\n",
    "    print( precision, recall,  f1 )\n",
    "\n",
    "\n",
    "        # Compute ROC curve and ROC area\n",
    "    fpr, tpr, _ = roc_curve(targets_test, preds_test)\n",
    "    roc_auc = auc(fpr, tpr)\n",
    "\n",
    "    # Plot ROC curve\n",
    "    plt.figure()\n",
    "    lw = 2\n",
    "    plt.plot(fpr, tpr, color='darkorange', lw=lw, label='ROC curve (area = %0.2f)' % roc_auc)\n",
    "    plt.plot([0, 1], [0, 1], color='navy', lw=lw, linestyle='--')\n",
    "    plt.xlim([0.0, 1.0])\n",
    "    plt.ylim([0.0, 1.05])\n",
    "    plt.xlabel('False Positive Rate')\n",
    "    plt.ylabel('True Positive Rate')\n",
    "    plt.title('Receiver Operating Characteristic')\n",
    "    plt.legend(loc=\"lower right\")\n",
    "    plt.show()\n",
    "\n",
    "    # Compute confusion matrix\n",
    "    cm = confusion_matrix(targets_test, preds_test)\n",
    "\n",
    "    # Plot confusion matrix\n",
    "    disp = ConfusionMatrixDisplay(confusion_matrix=cm, display_labels=['Class 0', 'Class 1'])\n",
    "    disp.plot(cmap=plt.cm.Blues)\n",
    "    plt.show()\n",
    "\n",
    "# evaluate(model, df_test)\n",
    "    \n",
    "evaluate(model, df_test)"
   ]
  },
  {
   "cell_type": "code",
   "execution_count": 56,
   "metadata": {},
   "outputs": [],
   "source": [
    "import matplotlib.pyplot as plt"
   ]
  },
  {
   "cell_type": "code",
   "execution_count": 57,
   "metadata": {},
   "outputs": [],
   "source": [
    "x = np.arange(0,5) #config.n_epoch : 50"
   ]
  },
  {
   "cell_type": "code",
   "execution_count": 58,
   "metadata": {},
   "outputs": [
    {
     "data": {
      "image/png": "[encoded data removed]",
      "text/plain": [
       "<Figure size 640x480 with 1 Axes>"
      ]
     },
     "metadata": {},
     "output_type": "display_data"
    }
   ],
   "source": [
    "    # 도화지 생성\n",
    "    fig = plt.figure()\n",
    "    # 정확도 그래프 그리기\n",
    "    plt.plot(x,eval_loss_log, label='eval_loss', color='darkred')\n",
    "     # 축 이름\n",
    "    plt.xlabel('epochs')\n",
    "    plt.ylabel('loss(%)')\n",
    "    plt.title('eval_loss')\n",
    "    plt.grid(linestyle='--', color='lavender')\n",
    "     # 그래프 표시\n",
    "    plt.show()"
   ]
  },
  {
   "cell_type": "code",
   "execution_count": 59,
   "metadata": {},
   "outputs": [
    {
     "data": {
      "image/png": "[encoded data removed]",
      "text/plain": [
       "<Figure size 640x480 with 1 Axes>"
      ]
     },
     "metadata": {},
     "output_type": "display_data"
    }
   ],
   "source": [
    "# 도화지 생성\n",
    "fig = plt.figure()\n",
    "plt.plot(x, eval_auroc_log, label='eval_auroc', color='darkred')\n",
    "# 축 이름\n",
    "plt.xlabel('epochs')\n",
    "plt.ylabel('AUPROC(%)')\n",
    "plt.title('eval_auroc')\n",
    "plt.grid(linestyle='--', color='lavender')\n",
    "# 그래프 표시\n",
    "plt.show()"
   ]
  },
  {
   "cell_type": "code",
   "execution_count": 60,
   "metadata": {},
   "outputs": [
    {
     "data": {
      "image/png": "[encoded data removed]",
      "text/plain": [
       "<Figure size 640x480 with 1 Axes>"
      ]
     },
     "metadata": {},
     "output_type": "display_data"
    }
   ],
   "source": [
    "# 도화지 생성\n",
    "fig = plt.figure()\n",
    "plt.plot(x, eval_auprc_log, label='eval_auprc', color='darkred')\n",
    "# 축 이름\n",
    "plt.xlabel('epochs')\n",
    "plt.ylabel('AUPRC(%)')\n",
    "plt.title('eval_auprc')\n",
    "plt.grid(linestyle='--', color='lavender')\n",
    "# 그래프 표시\n",
    "plt.show()"
   ]
  }
 ],
 "metadata": {
  "kernelspec": {
   "display_name": "Python 3",
   "language": "python",
   "name": "python3"
  },
  "language_info": {
   "codemirror_mode": {
    "name": "ipython",
    "version": 3
   },
   "file_extension": ".py",
   "mimetype": "text/x-python",
   "name": "python",
   "nbconvert_exporter": "python",
   "pygments_lexer": "ipython3",
   "version": "3.9.16"
  },
  "orig_nbformat": 4
 },
 "nbformat": 4,
 "nbformat_minor": 2
}
