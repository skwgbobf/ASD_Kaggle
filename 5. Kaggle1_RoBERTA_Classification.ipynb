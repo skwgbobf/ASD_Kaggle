{
 "cells": [
  {
   "cell_type": "code",
   "execution_count": 2,
   "metadata": {},
   "outputs": [],
   "source": [
    "## Import Data\n",
    "\n",
    "import pandas as pd\n",
    "import matplotlib.pyplot as plt"
   ]
  },
  {
   "cell_type": "code",
   "execution_count": 3,
   "metadata": {},
   "outputs": [
    {
     "data": {
      "text/plain": [
       "'/home/skbae/Documents/skbae/ASD/paper/Pgm/Final'"
      ]
     },
     "execution_count": 3,
     "metadata": {},
     "output_type": "execute_result"
    }
   ],
   "source": [
    "import os\n",
    "pt=os.getcwd()\n",
    "pt"
   ]
  },
  {
   "cell_type": "code",
   "execution_count": 3,
   "metadata": {},
   "outputs": [],
   "source": [
    "# import QCHAT : Kaggle data"
   ]
  },
  {
   "cell_type": "code",
   "execution_count": 4,
   "metadata": {},
   "outputs": [],
   "source": [
    "# import :paper/Data\n",
    "#T_ASD.to_csv('./QCHAT_T_ASD_total_Jan222024.csv', header=True, index=False)\n",
    "QT_ASD = pd.read_csv('../../Data/QCHAT_T_ASD_total_Jan222024.csv')"
   ]
  },
  {
   "cell_type": "code",
   "execution_count": 5,
   "metadata": {},
   "outputs": [
    {
     "data": {
      "text/plain": [
       "Index(['Case_No', 'A1', 'A2', 'A3', 'A4', 'A5', 'A6', 'A7', 'A8', 'A9', 'A10',\n",
       "       'Age_Mons', 'Qchat-10-Score', 'Sex', 'Ethnicity', 'Jaundice',\n",
       "       'Family_mem_with_ASD', 'Who completed the test', 'Class/ASD Traits ',\n",
       "       'A1_C2977673', 'A2_C0870532', 'A3_C4036288', 'A4_C0424091',\n",
       "       'A5_C2371970', 'A6_C2370875', 'A7_C4064035', 'A8_C1854882',\n",
       "       'A9_C0566243', 'A10_C4064319', 'combined'],\n",
       "      dtype='object')"
      ]
     },
     "execution_count": 5,
     "metadata": {},
     "output_type": "execute_result"
    }
   ],
   "source": [
    "QT_ASD.columns"
   ]
  },
  {
   "cell_type": "code",
   "execution_count": 6,
   "metadata": {},
   "outputs": [
    {
     "data": {
      "text/plain": [
       "Yes    728\n",
       "No     326\n",
       "Name: Class/ASD Traits , dtype: int64"
      ]
     },
     "execution_count": 6,
     "metadata": {},
     "output_type": "execute_result"
    }
   ],
   "source": [
    "QT_ASD['Class/ASD Traits '].value_counts()"
   ]
  },
  {
   "cell_type": "code",
   "execution_count": 7,
   "metadata": {},
   "outputs": [],
   "source": [
    "df_q=QT_ASD[['Class/ASD Traits ','combined']]"
   ]
  },
  {
   "cell_type": "code",
   "execution_count": 8,
   "metadata": {},
   "outputs": [
    {
     "data": {
      "text/html": [
       "<div>\n",
       "<style scoped>\n",
       "    .dataframe tbody tr th:only-of-type {\n",
       "        vertical-align: middle;\n",
       "    }\n",
       "\n",
       "    .dataframe tbody tr th {\n",
       "        vertical-align: top;\n",
       "    }\n",
       "\n",
       "    .dataframe thead th {\n",
       "        text-align: right;\n",
       "    }\n",
       "</style>\n",
       "<table border=\"1\" class=\"dataframe\">\n",
       "  <thead>\n",
       "    <tr style=\"text-align: right;\">\n",
       "      <th></th>\n",
       "      <th>Class/ASD Traits</th>\n",
       "      <th>combined</th>\n",
       "    </tr>\n",
       "  </thead>\n",
       "  <tbody>\n",
       "    <tr>\n",
       "      <th>0</th>\n",
       "      <td>No</td>\n",
       "      <td>, , , , , ,social interaction impairment in s...</td>\n",
       "    </tr>\n",
       "    <tr>\n",
       "      <th>1</th>\n",
       "      <td>Yes</td>\n",
       "      <td>attention and concentration deficit ,contacts ...</td>\n",
       "    </tr>\n",
       "    <tr>\n",
       "      <th>2</th>\n",
       "      <td>Yes</td>\n",
       "      <td>attention and concentration deficit , , , , , ...</td>\n",
       "    </tr>\n",
       "    <tr>\n",
       "      <th>3</th>\n",
       "      <td>Yes</td>\n",
       "      <td>attention and concentration deficit ,contacts ...</td>\n",
       "    </tr>\n",
       "    <tr>\n",
       "      <th>4</th>\n",
       "      <td>Yes</td>\n",
       "      <td>attention and concentration deficit ,contacts ...</td>\n",
       "    </tr>\n",
       "  </tbody>\n",
       "</table>\n",
       "</div>"
      ],
      "text/plain": [
       "  Class/ASD Traits                                            combined\n",
       "0                No   , , , , , ,social interaction impairment in s...\n",
       "1               Yes  attention and concentration deficit ,contacts ...\n",
       "2               Yes  attention and concentration deficit , , , , , ...\n",
       "3               Yes  attention and concentration deficit ,contacts ...\n",
       "4               Yes  attention and concentration deficit ,contacts ..."
      ]
     },
     "execution_count": 8,
     "metadata": {},
     "output_type": "execute_result"
    }
   ],
   "source": [
    "df_q.head()"
   ]
  },
  {
   "cell_type": "code",
   "execution_count": 9,
   "metadata": {},
   "outputs": [],
   "source": [
    "df_q.columns =['Class','text']"
   ]
  },
  {
   "cell_type": "code",
   "execution_count": 10,
   "metadata": {},
   "outputs": [
    {
     "name": "stderr",
     "output_type": "stream",
     "text": [
      "/tmp/ipykernel_1184722/2840381628.py:6: SettingWithCopyWarning: \n",
      "A value is trying to be set on a copy of a slice from a DataFrame.\n",
      "Try using .loc[row_indexer,col_indexer] = value instead\n",
      "\n",
      "See the caveats in the documentation: https://pandas.pydata.org/pandas-docs/stable/user_guide/indexing.html#returning-a-view-versus-a-copy\n",
      "  df_q['label'] = df_q['Class'].replace(Q_ASD_mapping)\n"
     ]
    },
    {
     "data": {
      "text/plain": [
       "1    728\n",
       "0    326\n",
       "Name: label, dtype: int64"
      ]
     },
     "execution_count": 10,
     "metadata": {},
     "output_type": "execute_result"
    }
   ],
   "source": [
    "Q_ASD_mapping = {\n",
    "    'No': 0, # TD\n",
    "    'Yes': 1, # ASD\n",
    "}\n",
    "\n",
    "df_q['label'] = df_q['Class'].replace(Q_ASD_mapping)\n",
    "df_q.label.value_counts()"
   ]
  },
  {
   "cell_type": "code",
   "execution_count": 11,
   "metadata": {},
   "outputs": [],
   "source": [
    "# PART1. Roberta : QCHAT "
   ]
  },
  {
   "cell_type": "code",
   "execution_count": 23,
   "metadata": {},
   "outputs": [
    {
     "name": "stderr",
     "output_type": "stream",
     "text": [
      "2024-02-27 13:45:21.730850: I tensorflow/core/util/port.cc:110] oneDNN custom operations are on. You may see slightly different numerical results due to floating-point round-off errors from different computation orders. To turn them off, set the environment variable `TF_ENABLE_ONEDNN_OPTS=0`.\n",
      "2024-02-27 13:45:21.761135: I tensorflow/core/platform/cpu_feature_guard.cc:182] This TensorFlow binary is optimized to use available CPU instructions in performance-critical operations.\n",
      "To enable the following instructions: AVX2 AVX_VNNI FMA, in other operations, rebuild TensorFlow with the appropriate compiler flags.\n",
      "2024-02-27 13:45:22.546245: W tensorflow/compiler/tf2tensorrt/utils/py_utils.cc:38] TF-TRT Warning: Could not find TensorRT\n",
      "/home/skbae/anaconda3/envs/myNLP/lib/python3.9/site-packages/bitsandbytes/cextension.py:34: UserWarning: The installed version of bitsandbytes was compiled without GPU support. 8-bit optimizers, 8-bit multiplication, and GPU quantization are unavailable.\n",
      "  warn(\"The installed version of bitsandbytes was compiled without GPU support. \"\n"
     ]
    },
    {
     "name": "stdout",
     "output_type": "stream",
     "text": [
      "/home/skbae/anaconda3/envs/myNLP/lib/python3.9/site-packages/bitsandbytes/libbitsandbytes_cpu.so: undefined symbol: cadam32bit_grad_fp32\n"
     ]
    },
    {
     "name": "stderr",
     "output_type": "stream",
     "text": [
      "huggingface/tokenizers: The current process just got forked, after parallelism has already been used. Disabling parallelism to avoid deadlocks...\n",
      "To disable this warning, you can either:\n",
      "\t- Avoid using `tokenizers` before the fork if possible\n",
      "\t- Explicitly set the environment variable TOKENIZERS_PARALLELISM=(true | false)\n"
     ]
    }
   ],
   "source": [
    "import pandas as pd\n",
    "import torch\n",
    "import numpy as np\n",
    "import matplotlib.pyplot as plt\n",
    "import random\n",
    "from imblearn.over_sampling import RandomOverSampler\n",
    "from sklearn.model_selection import train_test_split\n",
    "from torch.utils.data import DataLoader\n",
    "from transformers import Trainer\n",
    "from transformers import DebertaTokenizer, AlbertTokenizer, BertTokenizer, RobertaTokenizer\n",
    "from transformers import DebertaForSequenceClassification, AlbertForSequenceClassification, BertForSequenceClassification, RobertaForSequenceClassification\n",
    "from transformers import TrainingArguments\n",
    "from sklearn.metrics import f1_score, precision_score, recall_score, accuracy_score, roc_auc_score, average_precision_score\n"
   ]
  },
  {
   "cell_type": "code",
   "execution_count": 16,
   "metadata": {},
   "outputs": [],
   "source": [
    "import torch\n",
    "\n",
    "if torch.cuda.is_available(): \n",
    "    print(\"GPU is available\")"
   ]
  },
  {
   "cell_type": "code",
   "execution_count": 17,
   "metadata": {},
   "outputs": [],
   "source": [
    "#set random seed \n",
    "def set_seed(random_seed):\n",
    "    torch.manual_seed(random_seed)\n",
    "    torch.cuda.manual_seed(random_seed)\n",
    "    # torch.cuda.manual_seed_all(random_seed)  # if use multi-GPU\n",
    "    torch.backends.cudnn.deterministic = True\n",
    "    torch.backends.cudnn.benchmark = False\n",
    "    np.random.seed(random_seed)\n",
    "    random.seed(random_seed)\n",
    "    \n",
    "random_seed = 42\n",
    "set_seed(random_seed)"
   ]
  },
  {
   "cell_type": "code",
   "execution_count": 10,
   "metadata": {},
   "outputs": [
    {
     "data": {
      "text/plain": [
       "Index(['Class', 'text', 'label'], dtype='object')"
      ]
     },
     "execution_count": 10,
     "metadata": {},
     "output_type": "execute_result"
    }
   ],
   "source": [
    "new_df=df_q\n",
    "new_df.columns"
   ]
  },
  {
   "cell_type": "code",
   "execution_count": 16,
   "metadata": {},
   "outputs": [],
   "source": [
    "from transformers import RobertaTokenizerFast\n",
    "tokenizer = RobertaTokenizerFast.from_pretrained('roberta-base')\n"
   ]
  },
  {
   "cell_type": "code",
   "execution_count": 11,
   "metadata": {},
   "outputs": [],
   "source": [
    "from sklearn.model_selection import train_test_split\n",
    "from torch.utils.data import DataLoader\n",
    "\n",
    "# Assuming 'd138' is your target variable\n",
    "train_df = new_df\n",
    "X = train_df.drop('label', axis=1)\n",
    "y =  train_df['label']\n",
    "\n",
    "# Split the data into training and validation sets\n",
    "X_train, X_test, y_train, y_test = train_test_split(X, y, test_size=0.3, stratify=y)\n",
    "\n",
    "# Combine X_train and y_train, and reset the index\n",
    "train_data = pd.concat([X_train, y_train], axis=1).reset_index(drop=True)\n",
    "\n",
    "# # Create Dataset and DataLoader for training set\n",
    "# Dset = NextVisit(token2idx=BertVocab, label2idx=labelVocab, age2idx=ageVocab, dataframe=train_data, max_len=global_params['max_len_seq'], code='disease_sequenceF', age='age2_sequenceF', label='d138')\n",
    "# trainload = DataLoader(dataset=Dset, batch_size=global_params['batch_size'], shuffle=False, num_workers=3)\n",
    "\n",
    "# Combine X_test and y_test, and reset the index\n",
    "test_data_unseen = pd.concat([X_test, y_test], axis=1).reset_index(drop=True)"
   ]
  },
  {
   "cell_type": "code",
   "execution_count": 12,
   "metadata": {},
   "outputs": [
    {
     "name": "stdout",
     "output_type": "stream",
     "text": [
      "737\n",
      "317\n"
     ]
    }
   ],
   "source": [
    "print(len(train_data))\n",
    "print(len(test_data_unseen))"
   ]
  },
  {
   "cell_type": "code",
   "execution_count": 13,
   "metadata": {},
   "outputs": [
    {
     "data": {
      "text/html": [
       "<div>\n",
       "<style scoped>\n",
       "    .dataframe tbody tr th:only-of-type {\n",
       "        vertical-align: middle;\n",
       "    }\n",
       "\n",
       "    .dataframe tbody tr th {\n",
       "        vertical-align: top;\n",
       "    }\n",
       "\n",
       "    .dataframe thead th {\n",
       "        text-align: right;\n",
       "    }\n",
       "</style>\n",
       "<table border=\"1\" class=\"dataframe\">\n",
       "  <thead>\n",
       "    <tr style=\"text-align: right;\">\n",
       "      <th></th>\n",
       "      <th>Class</th>\n",
       "      <th>text</th>\n",
       "      <th>label</th>\n",
       "    </tr>\n",
       "  </thead>\n",
       "  <tbody>\n",
       "    <tr>\n",
       "      <th>0</th>\n",
       "      <td>No</td>\n",
       "      <td>, , , , , , , , ,</td>\n",
       "      <td>0</td>\n",
       "    </tr>\n",
       "    <tr>\n",
       "      <th>1</th>\n",
       "      <td>Yes</td>\n",
       "      <td>attention and concentration deficit ,contacts ...</td>\n",
       "      <td>1</td>\n",
       "    </tr>\n",
       "    <tr>\n",
       "      <th>2</th>\n",
       "      <td>Yes</td>\n",
       "      <td>, , , , ,shifting attention ,social interacti...</td>\n",
       "      <td>1</td>\n",
       "    </tr>\n",
       "    <tr>\n",
       "      <th>3</th>\n",
       "      <td>Yes</td>\n",
       "      <td>, ,spontaneously pointing ,pointing to expres...</td>\n",
       "      <td>1</td>\n",
       "    </tr>\n",
       "    <tr>\n",
       "      <th>4</th>\n",
       "      <td>No</td>\n",
       "      <td>attention and concentration deficit , , , , , ...</td>\n",
       "      <td>0</td>\n",
       "    </tr>\n",
       "  </tbody>\n",
       "</table>\n",
       "</div>"
      ],
      "text/plain": [
       "  Class                                               text  label\n",
       "0    No                                  , , , , , , , , ,      0\n",
       "1   Yes  attention and concentration deficit ,contacts ...      1\n",
       "2   Yes   , , , , ,shifting attention ,social interacti...      1\n",
       "3   Yes   , ,spontaneously pointing ,pointing to expres...      1\n",
       "4    No  attention and concentration deficit , , , , , ...      0"
      ]
     },
     "execution_count": 13,
     "metadata": {},
     "output_type": "execute_result"
    }
   ],
   "source": [
    "test_data_unseen.head()"
   ]
  },
  {
   "cell_type": "code",
   "execution_count": 14,
   "metadata": {},
   "outputs": [],
   "source": [
    "#Train and valid from train_data\n",
    "new_df=train_data"
   ]
  },
  {
   "cell_type": "code",
   "execution_count": null,
   "metadata": {},
   "outputs": [],
   "source": [
    "# 1. MODEL build"
   ]
  },
  {
   "cell_type": "code",
   "execution_count": 19,
   "metadata": {},
   "outputs": [],
   "source": [
    "import pandas as pd\n",
    "from sklearn.model_selection import train_test_split\n",
    "# from transformers import RobertaTokenizerFast\n",
    "# # tokenizer = BertTokenizer.from_pretrained(\"bert-base-uncased\")\n",
    "# # Initialize the tokenizer\n",
    "# tokenizer = RobertaTokenizerFast.from_pretrained('roberta-base')\n",
    "\n",
    "# Tokenize the dataset (with attention mask)\n",
    "# encodings = tokenizer(df['clean_text'].tolist(), truncation=True, padding=True, max_length=512)\n",
    "# # Set a seed for reproducibility\n",
    "SEED = 42\n",
    "\n",
    "encodings = tokenizer(new_df['text'].tolist(), truncation=True, padding=True, max_length=512)\n",
    "labels = new_df['label'].tolist()\n",
    "\n",
    "# Extract 'input_ids' and 'attention_mask' from the encodings\n",
    "input_ids = encodings['input_ids']\n",
    "attention_masks = encodings['attention_mask']\n",
    "\n",
    "\n",
    "# Split the 'input_ids', 'attention_mask', and labels into training and testing sets\n",
    "train_input_ids, test_input_ids, train_attention_masks, test_attention_masks, train_labels, test_labels = train_test_split(\n",
    "    input_ids, attention_masks, labels, test_size=0.2\n",
    ")\n",
    "\n",
    "\n"
   ]
  },
  {
   "cell_type": "code",
   "execution_count": 18,
   "metadata": {},
   "outputs": [
    {
     "name": "stdout",
     "output_type": "stream",
     "text": [
      "0 : 182 / 1 : 407 / 2 : 0 / 3 : 0\n",
      "0 : 46 / 1 : 102 / 2 : 0 / 3 : 0\n"
     ]
    }
   ],
   "source": [
    "print(f\"0 : {train_labels.count(0)} / 1 : {train_labels.count(1)} / 2 : {train_labels.count(2)} / 3 : {train_labels.count(3)}\")\n",
    "print(f\"0 : {test_labels.count(0)} / 1 : {test_labels.count(1)} / 2 : {test_labels.count(2)} / 3 : {test_labels.count(3)}\")\n"
   ]
  },
  {
   "cell_type": "code",
   "execution_count": 21,
   "metadata": {},
   "outputs": [],
   "source": [
    "import torch\n",
    "\n",
    "class QCHATDataset(torch.utils.data.Dataset):\n",
    "    def __init__(self, input_ids, attention_masks, labels):\n",
    "        self.input_ids = input_ids\n",
    "        self.attention_masks = attention_masks\n",
    "        self.labels = labels\n",
    "\n",
    "    def __getitem__(self, idx):\n",
    "        return {\n",
    "            'input_ids': torch.tensor(self.input_ids[idx], dtype=torch.long),\n",
    "            'attention_mask': torch.tensor(self.attention_masks[idx], dtype=torch.long),\n",
    "            'labels': torch.tensor(self.labels[idx], dtype=torch.long)\n",
    "        }\n",
    "\n",
    "    def __len__(self):\n",
    "        return len(self.labels)\n",
    "\n",
    "# Create training and validation datasets\n",
    "train_dataset = QCHATDataset(train_input_ids, train_attention_masks, train_labels)\n",
    "test_dataset = QCHATDataset(test_input_ids, test_attention_masks, test_labels)\n",
    "\n",
    "\n",
    "# Text semantics and attention mask generation\n",
    "inputs_unseen = tokenizer(test_data_unseen['text'].tolist(), padding=True, truncation=True, return_tensors=\"pt\")\n",
    "input_ids_unseen = inputs_unseen['input_ids']\n",
    "attention_masks_unseen = inputs_unseen['attention_mask']\n",
    "\n",
    "# test dataset\n",
    "test_data_unseen = QCHATDataset(input_ids_unseen, attention_masks_unseen, test_data_unseen['label'].tolist())"
   ]
  },
  {
   "cell_type": "code",
   "execution_count": 26,
   "metadata": {},
   "outputs": [
    {
     "data": {
      "text/plain": [
       "<__main__.QCHATDataset at 0x7fc8bb5b5bb0>"
      ]
     },
     "execution_count": 26,
     "metadata": {},
     "output_type": "execute_result"
    }
   ],
   "source": [
    "train_dataset"
   ]
  },
  {
   "cell_type": "code",
   "execution_count": null,
   "metadata": {},
   "outputs": [],
   "source": [
    "# Train and validation data for model build"
   ]
  },
  {
   "cell_type": "code",
   "execution_count": 27,
   "metadata": {},
   "outputs": [
    {
     "name": "stderr",
     "output_type": "stream",
     "text": [
      "Some weights of RobertaForSequenceClassification were not initialized from the model checkpoint at roberta-base and are newly initialized: ['classifier.dense.weight', 'classifier.out_proj.bias', 'classifier.dense.bias', 'classifier.out_proj.weight']\n",
      "You should probably TRAIN this model on a down-stream task to be able to use it for predictions and inference.\n"
     ]
    }
   ],
   "source": [
    "import os\n",
    "# os.environ['CUDA_LAUNCH_BLOCKING'] = \"1\"\n",
    "# os.environ['TORCH_USE_CUDA_DSA']='1'\n",
    "os.environ['CUDA_VISIBLE_DEVICES'] = '0'\n",
    "model = RobertaForSequenceClassification.from_pretrained(\"roberta-base\", num_labels=2)\n",
    "\n",
    "training_args = TrainingArguments(\n",
    "    output_dir='./output', #         # output directory for model checkpoints\n",
    "    num_train_epochs=5,              # number of training epochs\n",
    "    per_device_train_batch_size = 16,  # batch size for training\n",
    "    per_device_eval_batch_size=8,   # batch size for evaluation\n",
    "    warmup_steps=0,                # number of warmup steps\n",
    "    weight_decay=1e-8,               # strength of weight decay\n",
    "    logging_dir='./Roberta/log',            # directory for storing logs\n",
    "    logging_steps=10,              # log saving step. 100\n",
    "    evaluation_strategy=\"epoch\",     # evaluate each `logging_steps`,\n",
    "    learning_rate=2e-5,              # learning rate\n",
    "\n",
    ")"
   ]
  },
  {
   "cell_type": "code",
   "execution_count": 28,
   "metadata": {},
   "outputs": [],
   "source": [
    "from sklearn.metrics import f1_score, precision_score, recall_score\n",
    "from sklearn.metrics import accuracy_score, roc_auc_score, average_precision_score\n",
    "from sklearn.preprocessing import label_binarize\n",
    "import numpy as np\n",
    "\n",
    "def compute_metrics_multiclass(p, num_classes=2):  # num_classes는 예시 값입니다. 실제 클래스 수로 변경하세요.\n",
    "    predictions, labels = p\n",
    "    predictions = np.argmax(predictions, axis=1)\n",
    "\n",
    "    # Multiclass\n",
    "    f1 = f1_score(labels, predictions, average='macro')\n",
    "    precision = precision_score(labels, predictions, average='macro')\n",
    "    recall = recall_score(labels, predictions, average='macro')\n",
    "    acc = accuracy_score(labels, predictions)\n",
    "\n",
    "    # Treat each class as a binary classification\n",
    "    labels_binarized = label_binarize(labels, classes=range(num_classes))\n",
    "    predictions_binarized = label_binarize(predictions, classes=range(num_classes))\n",
    "\n",
    "    # Multiclass AUROC , Average Precision\n",
    "    auroc = roc_auc_score(labels_binarized, predictions_binarized, multi_class='ovr')\n",
    "    avgprc = average_precision_score(labels_binarized, predictions_binarized)\n",
    "\n",
    "    return {\n",
    "        \"acc\": acc, \n",
    "        \"f1\": f1, \n",
    "        \"precision\": precision, \n",
    "        \"recall\": recall, \n",
    "        \"auroc\": auroc, \n",
    "        \"avgprc\": avgprc\n",
    "    }\n"
   ]
  },
  {
   "cell_type": "code",
   "execution_count": 29,
   "metadata": {},
   "outputs": [
    {
     "name": "stderr",
     "output_type": "stream",
     "text": [
      "huggingface/tokenizers: The current process just got forked, after parallelism has already been used. Disabling parallelism to avoid deadlocks...\n",
      "To disable this warning, you can either:\n",
      "\t- Avoid using `tokenizers` before the fork if possible\n",
      "\t- Explicitly set the environment variable TOKENIZERS_PARALLELISM=(true | false)\n",
      "huggingface/tokenizers: The current process just got forked, after parallelism has already been used. Disabling parallelism to avoid deadlocks...\n",
      "To disable this warning, you can either:\n",
      "\t- Avoid using `tokenizers` before the fork if possible\n",
      "\t- Explicitly set the environment variable TOKENIZERS_PARALLELISM=(true | false)\n",
      "huggingface/tokenizers: The current process just got forked, after parallelism has already been used. Disabling parallelism to avoid deadlocks...\n",
      "To disable this warning, you can either:\n",
      "\t- Avoid using `tokenizers` before the fork if possible\n",
      "\t- Explicitly set the environment variable TOKENIZERS_PARALLELISM=(true | false)\n",
      "huggingface/tokenizers: The current process just got forked, after parallelism has already been used. Disabling parallelism to avoid deadlocks...\n",
      "To disable this warning, you can either:\n",
      "\t- Avoid using `tokenizers` before the fork if possible\n",
      "\t- Explicitly set the environment variable TOKENIZERS_PARALLELISM=(true | false)\n",
      "Failed to detect the name of this notebook, you can set it manually with the WANDB_NOTEBOOK_NAME environment variable to enable code saving.\n",
      "huggingface/tokenizers: The current process just got forked, after parallelism has already been used. Disabling parallelism to avoid deadlocks...\n",
      "To disable this warning, you can either:\n",
      "\t- Avoid using `tokenizers` before the fork if possible\n",
      "\t- Explicitly set the environment variable TOKENIZERS_PARALLELISM=(true | false)\n",
      "\u001b[34m\u001b[1mwandb\u001b[0m: Currently logged in as: \u001b[33msookyungbae\u001b[0m. Use \u001b[1m`wandb login --relogin`\u001b[0m to force relogin\n"
     ]
    },
    {
     "data": {
      "text/html": [
       "wandb version 0.16.3 is available!  To upgrade, please run:\n",
       " $ pip install wandb --upgrade"
      ],
      "text/plain": [
       "<IPython.core.display.HTML object>"
      ]
     },
     "metadata": {},
     "output_type": "display_data"
    },
    {
     "data": {
      "text/html": [
       "Tracking run with wandb version 0.16.0"
      ],
      "text/plain": [
       "<IPython.core.display.HTML object>"
      ]
     },
     "metadata": {},
     "output_type": "display_data"
    },
    {
     "data": {
      "text/html": [
       "Run data is saved locally in <code>/home/skbae/Documents/skbae/ASD/paper/Pgm/Final/wandb/run-20240227_135126-bk4lkk1f</code>"
      ],
      "text/plain": [
       "<IPython.core.display.HTML object>"
      ]
     },
     "metadata": {},
     "output_type": "display_data"
    },
    {
     "data": {
      "text/html": [
       "Syncing run <strong><a href='https://wandb.ai/sookyungbae/huggingface/runs/bk4lkk1f' target=\"_blank\">rich-lion-24</a></strong> to <a href='https://wandb.ai/sookyungbae/huggingface' target=\"_blank\">Weights & Biases</a> (<a href='https://wandb.me/run' target=\"_blank\">docs</a>)<br/>"
      ],
      "text/plain": [
       "<IPython.core.display.HTML object>"
      ]
     },
     "metadata": {},
     "output_type": "display_data"
    },
    {
     "data": {
      "text/html": [
       " View project at <a href='https://wandb.ai/sookyungbae/huggingface' target=\"_blank\">https://wandb.ai/sookyungbae/huggingface</a>"
      ],
      "text/plain": [
       "<IPython.core.display.HTML object>"
      ]
     },
     "metadata": {},
     "output_type": "display_data"
    },
    {
     "data": {
      "text/html": [
       " View run at <a href='https://wandb.ai/sookyungbae/huggingface/runs/bk4lkk1f' target=\"_blank\">https://wandb.ai/sookyungbae/huggingface/runs/bk4lkk1f</a>"
      ],
      "text/plain": [
       "<IPython.core.display.HTML object>"
      ]
     },
     "metadata": {},
     "output_type": "display_data"
    },
    {
     "data": {
      "application/vnd.jupyter.widget-view+json": {
       "model_id": "e5f2120e14144ae180d1fc8ca304f797",
       "version_major": 2,
       "version_minor": 0
      },
      "text/plain": [
       "  0%|          | 0/185 [00:00<?, ?it/s]"
      ]
     },
     "metadata": {},
     "output_type": "display_data"
    },
    {
     "name": "stdout",
     "output_type": "stream",
     "text": [
      "{'loss': 0.5793, 'learning_rate': 1.891891891891892e-05, 'epoch': 0.27}\n",
      "{'loss': 0.3305, 'learning_rate': 1.783783783783784e-05, 'epoch': 0.54}\n",
      "{'loss': 0.1141, 'learning_rate': 1.6756756756756757e-05, 'epoch': 0.81}\n"
     ]
    },
    {
     "data": {
      "application/vnd.jupyter.widget-view+json": {
       "model_id": "146cefa1bbf64c3cb033948698c2212a",
       "version_major": 2,
       "version_minor": 0
      },
      "text/plain": [
       "  0%|          | 0/19 [00:00<?, ?it/s]"
      ]
     },
     "metadata": {},
     "output_type": "display_data"
    },
    {
     "name": "stdout",
     "output_type": "stream",
     "text": [
      "{'eval_loss': 0.017166221514344215, 'eval_acc': 1.0, 'eval_f1': 1.0, 'eval_precision': 1.0, 'eval_recall': 1.0, 'eval_auroc': 1.0, 'eval_avgprc': 1.0, 'eval_runtime': 4.2284, 'eval_samples_per_second': 35.001, 'eval_steps_per_second': 4.493, 'epoch': 1.0}\n",
      "{'loss': 0.1225, 'learning_rate': 1.5675675675675676e-05, 'epoch': 1.08}\n",
      "{'loss': 0.0207, 'learning_rate': 1.4594594594594596e-05, 'epoch': 1.35}\n",
      "{'loss': 0.0099, 'learning_rate': 1.3513513513513515e-05, 'epoch': 1.62}\n",
      "{'loss': 0.0088, 'learning_rate': 1.2432432432432433e-05, 'epoch': 1.89}\n"
     ]
    },
    {
     "data": {
      "application/vnd.jupyter.widget-view+json": {
       "model_id": "e78d73b724654d2487ce0e2f998e765e",
       "version_major": 2,
       "version_minor": 0
      },
      "text/plain": [
       "  0%|          | 0/19 [00:00<?, ?it/s]"
      ]
     },
     "metadata": {},
     "output_type": "display_data"
    },
    {
     "name": "stdout",
     "output_type": "stream",
     "text": [
      "{'eval_loss': 0.0006030671065673232, 'eval_acc': 1.0, 'eval_f1': 1.0, 'eval_precision': 1.0, 'eval_recall': 1.0, 'eval_auroc': 1.0, 'eval_avgprc': 1.0, 'eval_runtime': 4.5068, 'eval_samples_per_second': 32.839, 'eval_steps_per_second': 4.216, 'epoch': 2.0}\n",
      "{'loss': 0.0528, 'learning_rate': 1.1351351351351352e-05, 'epoch': 2.16}\n",
      "{'loss': 0.0016, 'learning_rate': 1.027027027027027e-05, 'epoch': 2.43}\n",
      "{'loss': 0.0323, 'learning_rate': 9.189189189189191e-06, 'epoch': 2.7}\n",
      "{'loss': 0.0029, 'learning_rate': 8.108108108108109e-06, 'epoch': 2.97}\n"
     ]
    },
    {
     "data": {
      "application/vnd.jupyter.widget-view+json": {
       "model_id": "920bdae8eabe496b8cfecb0d2bef8e20",
       "version_major": 2,
       "version_minor": 0
      },
      "text/plain": [
       "  0%|          | 0/19 [00:00<?, ?it/s]"
      ]
     },
     "metadata": {},
     "output_type": "display_data"
    },
    {
     "name": "stdout",
     "output_type": "stream",
     "text": [
      "{'eval_loss': 0.0008652894757688046, 'eval_acc': 1.0, 'eval_f1': 1.0, 'eval_precision': 1.0, 'eval_recall': 1.0, 'eval_auroc': 1.0, 'eval_avgprc': 1.0, 'eval_runtime': 4.3645, 'eval_samples_per_second': 33.91, 'eval_steps_per_second': 4.353, 'epoch': 3.0}\n",
      "{'loss': 0.02, 'learning_rate': 7.027027027027028e-06, 'epoch': 3.24}\n",
      "{'loss': 0.0352, 'learning_rate': 5.945945945945947e-06, 'epoch': 3.51}\n",
      "{'loss': 0.0275, 'learning_rate': 4.864864864864866e-06, 'epoch': 3.78}\n"
     ]
    },
    {
     "data": {
      "application/vnd.jupyter.widget-view+json": {
       "model_id": "1437ec51f5fd4d868f4042febd63e056",
       "version_major": 2,
       "version_minor": 0
      },
      "text/plain": [
       "  0%|          | 0/19 [00:00<?, ?it/s]"
      ]
     },
     "metadata": {},
     "output_type": "display_data"
    },
    {
     "name": "stdout",
     "output_type": "stream",
     "text": [
      "{'eval_loss': 0.0002653659612406045, 'eval_acc': 1.0, 'eval_f1': 1.0, 'eval_precision': 1.0, 'eval_recall': 1.0, 'eval_auroc': 1.0, 'eval_avgprc': 1.0, 'eval_runtime': 4.3367, 'eval_samples_per_second': 34.127, 'eval_steps_per_second': 4.381, 'epoch': 4.0}\n",
      "{'loss': 0.0076, 'learning_rate': 3.7837837837837844e-06, 'epoch': 4.05}\n",
      "{'loss': 0.0006, 'learning_rate': 2.702702702702703e-06, 'epoch': 4.32}\n",
      "{'loss': 0.0006, 'learning_rate': 1.6216216216216219e-06, 'epoch': 4.59}\n",
      "{'loss': 0.0005, 'learning_rate': 5.405405405405406e-07, 'epoch': 4.86}\n"
     ]
    },
    {
     "data": {
      "application/vnd.jupyter.widget-view+json": {
       "model_id": "5a44b62320b042109440e0b0dfd0860b",
       "version_major": 2,
       "version_minor": 0
      },
      "text/plain": [
       "  0%|          | 0/19 [00:00<?, ?it/s]"
      ]
     },
     "metadata": {},
     "output_type": "display_data"
    },
    {
     "name": "stdout",
     "output_type": "stream",
     "text": [
      "{'eval_loss': 0.00581448245793581, 'eval_acc': 1.0, 'eval_f1': 1.0, 'eval_precision': 1.0, 'eval_recall': 1.0, 'eval_auroc': 1.0, 'eval_avgprc': 1.0, 'eval_runtime': 4.1744, 'eval_samples_per_second': 35.454, 'eval_steps_per_second': 4.552, 'epoch': 5.0}\n",
      "{'train_runtime': 328.6504, 'train_samples_per_second': 8.961, 'train_steps_per_second': 0.563, 'train_loss': 0.07393967329927191, 'epoch': 5.0}\n"
     ]
    },
    {
     "data": {
      "text/plain": [
       "TrainOutput(global_step=185, training_loss=0.07393967329927191, metrics={'train_runtime': 328.6504, 'train_samples_per_second': 8.961, 'train_steps_per_second': 0.563, 'train_loss': 0.07393967329927191, 'epoch': 5.0})"
      ]
     },
     "execution_count": 29,
     "metadata": {},
     "output_type": "execute_result"
    }
   ],
   "source": [
    "def compute_metrics_wrapper(p):\n",
    "    return compute_metrics_multiclass(p, num_classes=2) #0,1\n",
    "\n",
    "trainer = Trainer(\n",
    "    model=model,\n",
    "    args=training_args,\n",
    "    train_dataset=train_dataset,\n",
    "    eval_dataset=test_dataset,\n",
    "    compute_metrics=compute_metrics_wrapper  # We will define compute_metrics function later\n",
    ")\n",
    "trainer.train() #\n"
   ]
  },
  {
   "cell_type": "code",
   "execution_count": 30,
   "metadata": {},
   "outputs": [],
   "source": [
    "trainer.save_model(\"./Roberta/ROBERTA_qchatmodel_Feb2024\")"
   ]
  },
  {
   "cell_type": "code",
   "execution_count": 31,
   "metadata": {},
   "outputs": [
    {
     "data": {
      "text/plain": [
       "[{'loss': 0.5793,\n",
       "  'learning_rate': 1.891891891891892e-05,\n",
       "  'epoch': 0.27,\n",
       "  'step': 10},\n",
       " {'loss': 0.3305,\n",
       "  'learning_rate': 1.783783783783784e-05,\n",
       "  'epoch': 0.54,\n",
       "  'step': 20},\n",
       " {'loss': 0.1141,\n",
       "  'learning_rate': 1.6756756756756757e-05,\n",
       "  'epoch': 0.81,\n",
       "  'step': 30},\n",
       " {'eval_loss': 0.017166221514344215,\n",
       "  'eval_acc': 1.0,\n",
       "  'eval_f1': 1.0,\n",
       "  'eval_precision': 1.0,\n",
       "  'eval_recall': 1.0,\n",
       "  'eval_auroc': 1.0,\n",
       "  'eval_avgprc': 1.0,\n",
       "  'eval_runtime': 4.2284,\n",
       "  'eval_samples_per_second': 35.001,\n",
       "  'eval_steps_per_second': 4.493,\n",
       "  'epoch': 1.0,\n",
       "  'step': 37},\n",
       " {'loss': 0.1225,\n",
       "  'learning_rate': 1.5675675675675676e-05,\n",
       "  'epoch': 1.08,\n",
       "  'step': 40},\n",
       " {'loss': 0.0207,\n",
       "  'learning_rate': 1.4594594594594596e-05,\n",
       "  'epoch': 1.35,\n",
       "  'step': 50},\n",
       " {'loss': 0.0099,\n",
       "  'learning_rate': 1.3513513513513515e-05,\n",
       "  'epoch': 1.62,\n",
       "  'step': 60},\n",
       " {'loss': 0.0088,\n",
       "  'learning_rate': 1.2432432432432433e-05,\n",
       "  'epoch': 1.89,\n",
       "  'step': 70},\n",
       " {'eval_loss': 0.0006030671065673232,\n",
       "  'eval_acc': 1.0,\n",
       "  'eval_f1': 1.0,\n",
       "  'eval_precision': 1.0,\n",
       "  'eval_recall': 1.0,\n",
       "  'eval_auroc': 1.0,\n",
       "  'eval_avgprc': 1.0,\n",
       "  'eval_runtime': 4.5068,\n",
       "  'eval_samples_per_second': 32.839,\n",
       "  'eval_steps_per_second': 4.216,\n",
       "  'epoch': 2.0,\n",
       "  'step': 74},\n",
       " {'loss': 0.0528,\n",
       "  'learning_rate': 1.1351351351351352e-05,\n",
       "  'epoch': 2.16,\n",
       "  'step': 80},\n",
       " {'loss': 0.0016,\n",
       "  'learning_rate': 1.027027027027027e-05,\n",
       "  'epoch': 2.43,\n",
       "  'step': 90},\n",
       " {'loss': 0.0323,\n",
       "  'learning_rate': 9.189189189189191e-06,\n",
       "  'epoch': 2.7,\n",
       "  'step': 100},\n",
       " {'loss': 0.0029,\n",
       "  'learning_rate': 8.108108108108109e-06,\n",
       "  'epoch': 2.97,\n",
       "  'step': 110},\n",
       " {'eval_loss': 0.0008652894757688046,\n",
       "  'eval_acc': 1.0,\n",
       "  'eval_f1': 1.0,\n",
       "  'eval_precision': 1.0,\n",
       "  'eval_recall': 1.0,\n",
       "  'eval_auroc': 1.0,\n",
       "  'eval_avgprc': 1.0,\n",
       "  'eval_runtime': 4.3645,\n",
       "  'eval_samples_per_second': 33.91,\n",
       "  'eval_steps_per_second': 4.353,\n",
       "  'epoch': 3.0,\n",
       "  'step': 111},\n",
       " {'loss': 0.02,\n",
       "  'learning_rate': 7.027027027027028e-06,\n",
       "  'epoch': 3.24,\n",
       "  'step': 120},\n",
       " {'loss': 0.0352,\n",
       "  'learning_rate': 5.945945945945947e-06,\n",
       "  'epoch': 3.51,\n",
       "  'step': 130},\n",
       " {'loss': 0.0275,\n",
       "  'learning_rate': 4.864864864864866e-06,\n",
       "  'epoch': 3.78,\n",
       "  'step': 140},\n",
       " {'eval_loss': 0.0002653659612406045,\n",
       "  'eval_acc': 1.0,\n",
       "  'eval_f1': 1.0,\n",
       "  'eval_precision': 1.0,\n",
       "  'eval_recall': 1.0,\n",
       "  'eval_auroc': 1.0,\n",
       "  'eval_avgprc': 1.0,\n",
       "  'eval_runtime': 4.3367,\n",
       "  'eval_samples_per_second': 34.127,\n",
       "  'eval_steps_per_second': 4.381,\n",
       "  'epoch': 4.0,\n",
       "  'step': 148},\n",
       " {'loss': 0.0076,\n",
       "  'learning_rate': 3.7837837837837844e-06,\n",
       "  'epoch': 4.05,\n",
       "  'step': 150},\n",
       " {'loss': 0.0006,\n",
       "  'learning_rate': 2.702702702702703e-06,\n",
       "  'epoch': 4.32,\n",
       "  'step': 160},\n",
       " {'loss': 0.0006,\n",
       "  'learning_rate': 1.6216216216216219e-06,\n",
       "  'epoch': 4.59,\n",
       "  'step': 170},\n",
       " {'loss': 0.0005,\n",
       "  'learning_rate': 5.405405405405406e-07,\n",
       "  'epoch': 4.86,\n",
       "  'step': 180},\n",
       " {'eval_loss': 0.00581448245793581,\n",
       "  'eval_acc': 1.0,\n",
       "  'eval_f1': 1.0,\n",
       "  'eval_precision': 1.0,\n",
       "  'eval_recall': 1.0,\n",
       "  'eval_auroc': 1.0,\n",
       "  'eval_avgprc': 1.0,\n",
       "  'eval_runtime': 4.1744,\n",
       "  'eval_samples_per_second': 35.454,\n",
       "  'eval_steps_per_second': 4.552,\n",
       "  'epoch': 5.0,\n",
       "  'step': 185},\n",
       " {'train_runtime': 328.6504,\n",
       "  'train_samples_per_second': 8.961,\n",
       "  'train_steps_per_second': 0.563,\n",
       "  'total_flos': 96857757254400.0,\n",
       "  'train_loss': 0.07393967329927191,\n",
       "  'epoch': 5.0,\n",
       "  'step': 185}]"
      ]
     },
     "execution_count": 31,
     "metadata": {},
     "output_type": "execute_result"
    }
   ],
   "source": [
    "trainer.state.log_history"
   ]
  },
  {
   "cell_type": "code",
   "execution_count": 32,
   "metadata": {},
   "outputs": [
    {
     "name": "stderr",
     "output_type": "stream",
     "text": [
      "/tmp/ipykernel_1075013/1400955301.py:11: UserWarning: To copy construct from a tensor, it is recommended to use sourceTensor.clone().detach() or sourceTensor.clone().detach().requires_grad_(True), rather than torch.tensor(sourceTensor).\n",
      "  'input_ids': torch.tensor(self.input_ids[idx], dtype=torch.long),\n",
      "/tmp/ipykernel_1075013/1400955301.py:12: UserWarning: To copy construct from a tensor, it is recommended to use sourceTensor.clone().detach() or sourceTensor.clone().detach().requires_grad_(True), rather than torch.tensor(sourceTensor).\n",
      "  'attention_mask': torch.tensor(self.attention_masks[idx], dtype=torch.long),\n"
     ]
    },
    {
     "data": {
      "application/vnd.jupyter.widget-view+json": {
       "model_id": "4f0b84a4245e48d48c968a899e985f94",
       "version_major": 2,
       "version_minor": 0
      },
      "text/plain": [
       "  0%|          | 0/40 [00:00<?, ?it/s]"
      ]
     },
     "metadata": {},
     "output_type": "display_data"
    },
    {
     "data": {
      "image/png": "[encoded data removed]",
      "text/plain": [
       "<Figure size 640x480 with 1 Axes>"
      ]
     },
     "metadata": {},
     "output_type": "display_data"
    }
   ],
   "source": [
    "from transformers import AutoModelForSequenceClassification\n",
    "from sklearn.metrics import roc_curve, auc\n",
    "import matplotlib.pyplot as plt\n",
    "from transformers import Trainer\n",
    "\n",
    "# load model\n",
    "# model = AutoModelForSequenceClassification.from_pretrained(\"./Roberta/ROBERTA_qchatmodel_Feb2024\")\n",
    "\n",
    "# Generate predictions for the evaluation dataset:test_data_unseen\n",
    "predictions_output = trainer.predict(test_data_unseen)\n",
    "\n",
    "# prediciton and lable\n",
    "predictions = np.argmax(predictions_output.predictions, axis=-1)\n",
    "true_labels = predictions_output.label_ids\n",
    "\n",
    "# ROC curve , ROC area calculation\n",
    "fpr, tpr, _ = roc_curve(true_labels, predictions)\n",
    "roc_auc = auc(fpr, tpr)\n",
    "\n",
    "# ROC curve \n",
    "plt.figure()\n",
    "lw = 2\n",
    "plt.plot(fpr, tpr, color='darkorange', lw=lw, label='ROC curve (area = %0.2f)' % roc_auc)\n",
    "plt.plot([0, 1], [0, 1], color='navy', lw=lw, linestyle='--')\n",
    "plt.xlim([0.0, 1.0])\n",
    "plt.ylim([0.0, 1.05])\n",
    "plt.xlabel('False Positive Rate')\n",
    "plt.ylabel('True Positive Rate')\n",
    "plt.title('Receiver Operating Characteristic')\n",
    "plt.legend(loc=\"lower right\")\n",
    "plt.show()"
   ]
  },
  {
   "cell_type": "code",
   "execution_count": 33,
   "metadata": {},
   "outputs": [
    {
     "data": {
      "application/vnd.jupyter.widget-view+json": {
       "model_id": "fc7ec34f9bcf425c9f5fc482efc944fe",
       "version_major": 2,
       "version_minor": 0
      },
      "text/plain": [
       "  0%|          | 0/19 [00:00<?, ?it/s]"
      ]
     },
     "metadata": {},
     "output_type": "display_data"
    },
    {
     "data": {
      "text/plain": [
       "{'eval_loss': 0.00581448245793581,\n",
       " 'eval_acc': 1.0,\n",
       " 'eval_f1': 1.0,\n",
       " 'eval_precision': 1.0,\n",
       " 'eval_recall': 1.0,\n",
       " 'eval_auroc': 1.0,\n",
       " 'eval_avgprc': 1.0,\n",
       " 'eval_runtime': 4.0241,\n",
       " 'eval_samples_per_second': 36.779,\n",
       " 'eval_steps_per_second': 4.722,\n",
       " 'epoch': 5.0}"
      ]
     },
     "execution_count": 33,
     "metadata": {},
     "output_type": "execute_result"
    }
   ],
   "source": [
    "# 학습 과정 중 최종 평가\n",
    "trainer.evaluate()"
   ]
  },
  {
   "cell_type": "code",
   "execution_count": 34,
   "metadata": {},
   "outputs": [
    {
     "name": "stdout",
     "output_type": "stream",
     "text": [
      "[{'loss': 0.5793, 'learning_rate': 1.891891891891892e-05, 'epoch': 0.27, 'step': 10}, {'loss': 0.3305, 'learning_rate': 1.783783783783784e-05, 'epoch': 0.54, 'step': 20}, {'loss': 0.1141, 'learning_rate': 1.6756756756756757e-05, 'epoch': 0.81, 'step': 30}, {'eval_loss': 0.017166221514344215, 'eval_acc': 1.0, 'eval_f1': 1.0, 'eval_precision': 1.0, 'eval_recall': 1.0, 'eval_auroc': 1.0, 'eval_avgprc': 1.0, 'eval_runtime': 4.2284, 'eval_samples_per_second': 35.001, 'eval_steps_per_second': 4.493, 'epoch': 1.0, 'step': 37}, {'loss': 0.1225, 'learning_rate': 1.5675675675675676e-05, 'epoch': 1.08, 'step': 40}, {'loss': 0.0207, 'learning_rate': 1.4594594594594596e-05, 'epoch': 1.35, 'step': 50}, {'loss': 0.0099, 'learning_rate': 1.3513513513513515e-05, 'epoch': 1.62, 'step': 60}, {'loss': 0.0088, 'learning_rate': 1.2432432432432433e-05, 'epoch': 1.89, 'step': 70}, {'eval_loss': 0.0006030671065673232, 'eval_acc': 1.0, 'eval_f1': 1.0, 'eval_precision': 1.0, 'eval_recall': 1.0, 'eval_auroc': 1.0, 'eval_avgprc': 1.0, 'eval_runtime': 4.5068, 'eval_samples_per_second': 32.839, 'eval_steps_per_second': 4.216, 'epoch': 2.0, 'step': 74}, {'loss': 0.0528, 'learning_rate': 1.1351351351351352e-05, 'epoch': 2.16, 'step': 80}, {'loss': 0.0016, 'learning_rate': 1.027027027027027e-05, 'epoch': 2.43, 'step': 90}, {'loss': 0.0323, 'learning_rate': 9.189189189189191e-06, 'epoch': 2.7, 'step': 100}, {'loss': 0.0029, 'learning_rate': 8.108108108108109e-06, 'epoch': 2.97, 'step': 110}, {'eval_loss': 0.0008652894757688046, 'eval_acc': 1.0, 'eval_f1': 1.0, 'eval_precision': 1.0, 'eval_recall': 1.0, 'eval_auroc': 1.0, 'eval_avgprc': 1.0, 'eval_runtime': 4.3645, 'eval_samples_per_second': 33.91, 'eval_steps_per_second': 4.353, 'epoch': 3.0, 'step': 111}, {'loss': 0.02, 'learning_rate': 7.027027027027028e-06, 'epoch': 3.24, 'step': 120}, {'loss': 0.0352, 'learning_rate': 5.945945945945947e-06, 'epoch': 3.51, 'step': 130}, {'loss': 0.0275, 'learning_rate': 4.864864864864866e-06, 'epoch': 3.78, 'step': 140}, {'eval_loss': 0.0002653659612406045, 'eval_acc': 1.0, 'eval_f1': 1.0, 'eval_precision': 1.0, 'eval_recall': 1.0, 'eval_auroc': 1.0, 'eval_avgprc': 1.0, 'eval_runtime': 4.3367, 'eval_samples_per_second': 34.127, 'eval_steps_per_second': 4.381, 'epoch': 4.0, 'step': 148}, {'loss': 0.0076, 'learning_rate': 3.7837837837837844e-06, 'epoch': 4.05, 'step': 150}, {'loss': 0.0006, 'learning_rate': 2.702702702702703e-06, 'epoch': 4.32, 'step': 160}, {'loss': 0.0006, 'learning_rate': 1.6216216216216219e-06, 'epoch': 4.59, 'step': 170}, {'loss': 0.0005, 'learning_rate': 5.405405405405406e-07, 'epoch': 4.86, 'step': 180}, {'eval_loss': 0.00581448245793581, 'eval_acc': 1.0, 'eval_f1': 1.0, 'eval_precision': 1.0, 'eval_recall': 1.0, 'eval_auroc': 1.0, 'eval_avgprc': 1.0, 'eval_runtime': 4.1744, 'eval_samples_per_second': 35.454, 'eval_steps_per_second': 4.552, 'epoch': 5.0, 'step': 185}, {'train_runtime': 328.6504, 'train_samples_per_second': 8.961, 'train_steps_per_second': 0.563, 'total_flos': 96857757254400.0, 'train_loss': 0.07393967329927191, 'epoch': 5.0, 'step': 185}, {'eval_loss': 0.00581448245793581, 'eval_acc': 1.0, 'eval_f1': 1.0, 'eval_precision': 1.0, 'eval_recall': 1.0, 'eval_auroc': 1.0, 'eval_avgprc': 1.0, 'eval_runtime': 4.0241, 'eval_samples_per_second': 36.779, 'eval_steps_per_second': 4.722, 'epoch': 5.0, 'step': 185}]\n"
     ]
    }
   ],
   "source": [
    "# log 저장\n",
    "log_result = trainer.state.log_history\n",
    "print(log_result)"
   ]
  },
  {
   "cell_type": "code",
   "execution_count": 40,
   "metadata": {},
   "outputs": [
    {
     "name": "stderr",
     "output_type": "stream",
     "text": [
      "/tmp/ipykernel_1075013/1400955301.py:11: UserWarning: To copy construct from a tensor, it is recommended to use sourceTensor.clone().detach() or sourceTensor.clone().detach().requires_grad_(True), rather than torch.tensor(sourceTensor).\n",
      "  'input_ids': torch.tensor(self.input_ids[idx], dtype=torch.long),\n",
      "/tmp/ipykernel_1075013/1400955301.py:12: UserWarning: To copy construct from a tensor, it is recommended to use sourceTensor.clone().detach() or sourceTensor.clone().detach().requires_grad_(True), rather than torch.tensor(sourceTensor).\n",
      "  'attention_mask': torch.tensor(self.attention_masks[idx], dtype=torch.long),\n"
     ]
    },
    {
     "data": {
      "application/vnd.jupyter.widget-view+json": {
       "model_id": "7457823cd7234529bca491badb61788e",
       "version_major": 2,
       "version_minor": 0
      },
      "text/plain": [
       "  0%|          | 0/40 [00:00<?, ?it/s]"
      ]
     },
     "metadata": {},
     "output_type": "display_data"
    },
    {
     "name": "stdout",
     "output_type": "stream",
     "text": [
      "{'eval_loss': 0.0341116264462471, 'eval_acc': 0.9936908517350158, 'eval_f1': 0.9925726335520151, 'eval_precision': 0.995475113122172, 'eval_recall': 0.9897959183673469, 'eval_auroc': 0.9897959183673469, 'eval_avgprc': 0.9909502262443439, 'eval_runtime': 8.6072, 'eval_samples_per_second': 36.83, 'eval_steps_per_second': 4.647, 'epoch': 5.0}\n"
     ]
    }
   ],
   "source": [
    "# Evaluate the model\n",
    "results = trainer.evaluate(test_data_unseen)\n",
    "\n",
    "print(results)"
   ]
  },
  {
   "cell_type": "code",
   "execution_count": null,
   "metadata": {},
   "outputs": [],
   "source": [
    "# Evaluate the model\n",
    "results = trainer.evaluate(test_dataset)\n",
    "print(results)"
   ]
  },
  {
   "cell_type": "code",
   "execution_count": null,
   "metadata": {},
   "outputs": [],
   "source": [
    "# 2. need to allpy the unseen data "
   ]
  },
  {
   "cell_type": "code",
   "execution_count": 35,
   "metadata": {},
   "outputs": [
    {
     "name": "stdout",
     "output_type": "stream",
     "text": [
      "{'loss': 0.5793, 'learning_rate': 1.891891891891892e-05, 'epoch': 0.27, 'step': 10}\n",
      "{'loss': 0.3305, 'learning_rate': 1.783783783783784e-05, 'epoch': 0.54, 'step': 20}\n",
      "{'loss': 0.1141, 'learning_rate': 1.6756756756756757e-05, 'epoch': 0.81, 'step': 30}\n",
      "{'eval_loss': 0.017166221514344215, 'eval_acc': 1.0, 'eval_f1': 1.0, 'eval_precision': 1.0, 'eval_recall': 1.0, 'eval_auroc': 1.0, 'eval_avgprc': 1.0, 'eval_runtime': 4.2284, 'eval_samples_per_second': 35.001, 'eval_steps_per_second': 4.493, 'epoch': 1.0, 'step': 37}\n",
      "{'loss': 0.1225, 'learning_rate': 1.5675675675675676e-05, 'epoch': 1.08, 'step': 40}\n",
      "{'loss': 0.0207, 'learning_rate': 1.4594594594594596e-05, 'epoch': 1.35, 'step': 50}\n",
      "{'loss': 0.0099, 'learning_rate': 1.3513513513513515e-05, 'epoch': 1.62, 'step': 60}\n",
      "{'loss': 0.0088, 'learning_rate': 1.2432432432432433e-05, 'epoch': 1.89, 'step': 70}\n",
      "{'eval_loss': 0.0006030671065673232, 'eval_acc': 1.0, 'eval_f1': 1.0, 'eval_precision': 1.0, 'eval_recall': 1.0, 'eval_auroc': 1.0, 'eval_avgprc': 1.0, 'eval_runtime': 4.5068, 'eval_samples_per_second': 32.839, 'eval_steps_per_second': 4.216, 'epoch': 2.0, 'step': 74}\n",
      "{'loss': 0.0528, 'learning_rate': 1.1351351351351352e-05, 'epoch': 2.16, 'step': 80}\n",
      "{'loss': 0.0016, 'learning_rate': 1.027027027027027e-05, 'epoch': 2.43, 'step': 90}\n",
      "{'loss': 0.0323, 'learning_rate': 9.189189189189191e-06, 'epoch': 2.7, 'step': 100}\n",
      "{'loss': 0.0029, 'learning_rate': 8.108108108108109e-06, 'epoch': 2.97, 'step': 110}\n",
      "{'eval_loss': 0.0008652894757688046, 'eval_acc': 1.0, 'eval_f1': 1.0, 'eval_precision': 1.0, 'eval_recall': 1.0, 'eval_auroc': 1.0, 'eval_avgprc': 1.0, 'eval_runtime': 4.3645, 'eval_samples_per_second': 33.91, 'eval_steps_per_second': 4.353, 'epoch': 3.0, 'step': 111}\n",
      "{'loss': 0.02, 'learning_rate': 7.027027027027028e-06, 'epoch': 3.24, 'step': 120}\n",
      "{'loss': 0.0352, 'learning_rate': 5.945945945945947e-06, 'epoch': 3.51, 'step': 130}\n",
      "{'loss': 0.0275, 'learning_rate': 4.864864864864866e-06, 'epoch': 3.78, 'step': 140}\n",
      "{'eval_loss': 0.0002653659612406045, 'eval_acc': 1.0, 'eval_f1': 1.0, 'eval_precision': 1.0, 'eval_recall': 1.0, 'eval_auroc': 1.0, 'eval_avgprc': 1.0, 'eval_runtime': 4.3367, 'eval_samples_per_second': 34.127, 'eval_steps_per_second': 4.381, 'epoch': 4.0, 'step': 148}\n",
      "{'loss': 0.0076, 'learning_rate': 3.7837837837837844e-06, 'epoch': 4.05, 'step': 150}\n",
      "{'loss': 0.0006, 'learning_rate': 2.702702702702703e-06, 'epoch': 4.32, 'step': 160}\n",
      "{'loss': 0.0006, 'learning_rate': 1.6216216216216219e-06, 'epoch': 4.59, 'step': 170}\n",
      "{'loss': 0.0005, 'learning_rate': 5.405405405405406e-07, 'epoch': 4.86, 'step': 180}\n",
      "{'eval_loss': 0.00581448245793581, 'eval_acc': 1.0, 'eval_f1': 1.0, 'eval_precision': 1.0, 'eval_recall': 1.0, 'eval_auroc': 1.0, 'eval_avgprc': 1.0, 'eval_runtime': 4.1744, 'eval_samples_per_second': 35.454, 'eval_steps_per_second': 4.552, 'epoch': 5.0, 'step': 185}\n",
      "{'train_runtime': 328.6504, 'train_samples_per_second': 8.961, 'train_steps_per_second': 0.563, 'total_flos': 96857757254400.0, 'train_loss': 0.07393967329927191, 'epoch': 5.0, 'step': 185}\n",
      "{'eval_loss': 0.00581448245793581, 'eval_acc': 1.0, 'eval_f1': 1.0, 'eval_precision': 1.0, 'eval_recall': 1.0, 'eval_auroc': 1.0, 'eval_avgprc': 1.0, 'eval_runtime': 4.0241, 'eval_samples_per_second': 36.779, 'eval_steps_per_second': 4.722, 'epoch': 5.0, 'step': 185}\n"
     ]
    },
    {
     "data": {
      "image/png": "[encoded data removed]",
      "text/plain": [
       "<Figure size 640x480 with 1 Axes>"
      ]
     },
     "metadata": {},
     "output_type": "display_data"
    }
   ],
   "source": [
    "train_losses = []\n",
    "eval_losses = []\n",
    "for elem in trainer.state.log_history:\n",
    "      print(elem)\n",
    "      if 'loss' in elem.keys():\n",
    "        train_losses.append(elem['loss'])\n",
    "\n",
    "# Plot the training and validation losses\n",
    "import matplotlib.pyplot as plt\n",
    "plt.plot(train_losses, label='Training Loss')\n",
    "plt.xlabel('Steps')\n",
    "plt.ylabel('Loss')\n",
    "plt.title('Training Losses')\n",
    "plt.legend()\n",
    "plt.show()"
   ]
  },
  {
   "cell_type": "code",
   "execution_count": 36,
   "metadata": {},
   "outputs": [
    {
     "data": {
      "application/vnd.jupyter.widget-view+json": {
       "model_id": "77f47826a1354f3697797ccb7365ba3c",
       "version_major": 2,
       "version_minor": 0
      },
      "text/plain": [
       "  0%|          | 0/19 [00:00<?, ?it/s]"
      ]
     },
     "metadata": {},
     "output_type": "display_data"
    }
   ],
   "source": [
    "# Generate predictions\n",
    "predictions_output = trainer.predict(test_dataset)\n",
    "\n",
    "# Extract the predictions and true labels\n",
    "predictions = np.argmax(predictions_output.predictions, axis=-1)\n",
    "true_labels = predictions_output.label_ids"
   ]
  },
  {
   "cell_type": "code",
   "execution_count": 37,
   "metadata": {},
   "outputs": [
    {
     "name": "stderr",
     "output_type": "stream",
     "text": [
      "/tmp/ipykernel_1075013/1400955301.py:11: UserWarning: To copy construct from a tensor, it is recommended to use sourceTensor.clone().detach() or sourceTensor.clone().detach().requires_grad_(True), rather than torch.tensor(sourceTensor).\n",
      "  'input_ids': torch.tensor(self.input_ids[idx], dtype=torch.long),\n",
      "/tmp/ipykernel_1075013/1400955301.py:12: UserWarning: To copy construct from a tensor, it is recommended to use sourceTensor.clone().detach() or sourceTensor.clone().detach().requires_grad_(True), rather than torch.tensor(sourceTensor).\n",
      "  'attention_mask': torch.tensor(self.attention_masks[idx], dtype=torch.long),\n"
     ]
    },
    {
     "data": {
      "application/vnd.jupyter.widget-view+json": {
       "model_id": "01da85a6f0644ce39796ce754a97f5df",
       "version_major": 2,
       "version_minor": 0
      },
      "text/plain": [
       "  0%|          | 0/40 [00:00<?, ?it/s]"
      ]
     },
     "metadata": {},
     "output_type": "display_data"
    }
   ],
   "source": [
    "# Generate predictions\n",
    "predictions_output = trainer.predict(test_data_unseen)\n",
    "\n",
    "# Extract the predictions and true labels\n",
    "predictions = np.argmax(predictions_output.predictions, axis=-1)\n",
    "true_labels = predictions_output.label_ids"
   ]
  },
  {
   "cell_type": "code",
   "execution_count": 38,
   "metadata": {},
   "outputs": [
    {
     "name": "stdout",
     "output_type": "stream",
     "text": [
      "   True_Labels  Predictions\n",
      "0            0            0\n",
      "1            1            1\n",
      "2            1            1\n",
      "3            1            1\n",
      "4            0            0\n"
     ]
    }
   ],
   "source": [
    "df_results = pd.DataFrame({'True_Labels': true_labels, 'Predictions': predictions})\n",
    "\n",
    "# Display the DataFrame\n",
    "print(df_results.head())"
   ]
  },
  {
   "cell_type": "code",
   "execution_count": 39,
   "metadata": {},
   "outputs": [
    {
     "data": {
      "image/png": "[encoded data removed]",
      "text/plain": [
       "<Figure size 640x480 with 2 Axes>"
      ]
     },
     "metadata": {},
     "output_type": "display_data"
    }
   ],
   "source": [
    "from sklearn.metrics import confusion_matrix\n",
    "import seaborn as sns\n",
    "import matplotlib.pyplot as plt\n",
    "\n",
    "# Compute confusion matrix\n",
    "conf_matrix = confusion_matrix(df_results['True_Labels'], df_results['Predictions'])\n",
    "\n",
    "# Plot the confusion matrix\n",
    "sns.heatmap(conf_matrix, annot=True, fmt='g')\n",
    "plt.xlabel('Predicted Labels')\n",
    "plt.ylabel('True Labels')\n",
    "plt.show()"
   ]
  }
 ],
 "metadata": {
  "kernelspec": {
   "display_name": "Python 3",
   "language": "python",
   "name": "python3"
  },
  "language_info": {
   "codemirror_mode": {
    "name": "ipython",
    "version": 3
   },
   "file_extension": ".py",
   "mimetype": "text/x-python",
   "name": "python",
   "nbconvert_exporter": "python",
   "pygments_lexer": "ipython3",
   "version": "3.9.16"
  },
  "orig_nbformat": 4
 },
 "nbformat": 4,
 "nbformat_minor": 2
}
