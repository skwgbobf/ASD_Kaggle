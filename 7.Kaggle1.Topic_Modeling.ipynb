{
 "cells": [
  {
   "cell_type": "markdown",
   "metadata": {},
   "source": [
    "7. Kaggle1_Topic Modeling\n",
    "•\tLDA Topic Modeling on Data1 toddler\n",
    "\n",
    "\n",
    "- Soo Kyung Bae(Scarlett), Ph.D. Student\n",
    "- Dept. of Integrated Medicine(Major in Digital Healthcare)\n",
    "- Yonsei University College of Medicine"
   ]
  },
  {
   "cell_type": "code",
   "execution_count": 3,
   "metadata": {},
   "outputs": [],
   "source": [
    "## Import Data\n",
    "\n",
    "import pandas as pd\n",
    "import matplotlib.pyplot as plt"
   ]
  },
  {
   "cell_type": "code",
   "execution_count": 7,
   "metadata": {},
   "outputs": [],
   "source": [
    "# import pandas as pd\n",
    "\n",
    "# Convert the column names to a DataFrame and save to CSV :/home/skbae/Documents/skbae/ASD/paper/Pgm/Final/T_ASD_Toddler_feb2024.csv\n",
    "# pd.DataFrame(T_ASD2).to_csv('./T_ASD_Toddler_feb2024.csv', header=True, index=False)"
   ]
  },
  {
   "cell_type": "code",
   "execution_count": 4,
   "metadata": {},
   "outputs": [
    {
     "data": {
      "text/plain": [
       "'/home/skbae/Documents/skbae/ASD/paper/Pgm/Final'"
      ]
     },
     "execution_count": 4,
     "metadata": {},
     "output_type": "execute_result"
    }
   ],
   "source": [
    "os.getcwd()"
   ]
  },
  {
   "cell_type": "code",
   "execution_count": 1,
   "metadata": {},
   "outputs": [],
   "source": [
    "import pandas as pd\n",
    "\n",
    "# Load the CSV file into a DataFrame\n",
    "T_ASD2 = pd.read_csv('./T_ASD_Toddler_feb2024.csv')"
   ]
  },
  {
   "cell_type": "code",
   "execution_count": null,
   "metadata": {},
   "outputs": [],
   "source": [
    "#3.  Tokenize words and clean up the text"
   ]
  },
  {
   "cell_type": "code",
   "execution_count": 6,
   "metadata": {},
   "outputs": [
    {
     "name": "stderr",
     "output_type": "stream",
     "text": [
      "/home/skbae/anaconda3/envs/myNLP/lib/python3.9/site-packages/paramiko/transport.py:219: CryptographyDeprecationWarning: Blowfish has been deprecated\n",
      "  \"class\": algorithms.Blowfish,\n",
      "/home/skbae/anaconda3/envs/myNLP/lib/python3.9/site-packages/torch/cuda/__init__.py:546: UserWarning: Can't initialize NVML\n",
      "  warnings.warn(\"Can't initialize NVML\")\n",
      "2024-02-22 16:09:38.666669: I tensorflow/core/util/port.cc:110] oneDNN custom operations are on. You may see slightly different numerical results due to floating-point round-off errors from different computation orders. To turn them off, set the environment variable `TF_ENABLE_ONEDNN_OPTS=0`.\n",
      "2024-02-22 16:09:38.719812: I tensorflow/core/platform/cpu_feature_guard.cc:182] This TensorFlow binary is optimized to use available CPU instructions in performance-critical operations.\n",
      "To enable the following instructions: AVX2 AVX_VNNI FMA, in other operations, rebuild TensorFlow with the appropriate compiler flags.\n",
      "2024-02-22 16:09:39.394227: W tensorflow/compiler/tf2tensorrt/utils/py_utils.cc:38] TF-TRT Warning: Could not find TensorRT\n",
      "2024-02-22 16:09:40.210769: E tensorflow/compiler/xla/stream_executor/cuda/cuda_driver.cc:268] failed call to cuInit: CUDA_ERROR_NO_DEVICE: no CUDA-capable device is detected\n"
     ]
    }
   ],
   "source": [
    "import re\n",
    "import numpy as np\n",
    "import pandas as  pd\n",
    "from pprint import pprint# Gensim\n",
    "import gensim\n",
    "import gensim.corpora as corpora\n",
    "from gensim.utils import simple_preprocess\n",
    "from gensim.models import CoherenceModel# spaCy for preprocessing\n",
    "import spacy# Plotting tools\n",
    "import pyLDAvis\n",
    "import pyLDAvis.gensim\n",
    "import matplotlib.pyplot as plt\n",
    "%matplotlib inline"
   ]
  },
  {
   "cell_type": "code",
   "execution_count": 7,
   "metadata": {},
   "outputs": [],
   "source": [
    "data = T_ASD2.combined.values.tolist() "
   ]
  },
  {
   "cell_type": "code",
   "execution_count": 8,
   "metadata": {},
   "outputs": [
    {
     "name": "stdout",
     "output_type": "stream",
     "text": [
      "[['social', 'interaction', 'impairment', 'in', 'social', 'emotional', 'reciprocity', 'absent', 'speech', 'play', 'impairment', 'stares', 'blankly', 'at', 'play', 'objects', 'rather', 'than', 'manipulating', 'them']]\n"
     ]
    }
   ],
   "source": [
    "def sent_to_words(sentences):\n",
    "  for sentence in sentences:\n",
    "    yield(gensim.utils.simple_preprocess(str(sentence), deacc=True))            #deacc=True removes punctuations\n",
    "data_words = list(sent_to_words(data))\n",
    "print(data_words[:1])"
   ]
  },
  {
   "cell_type": "code",
   "execution_count": null,
   "metadata": {},
   "outputs": [],
   "source": [
    "#4.Creating Bigram and Trigram models"
   ]
  },
  {
   "cell_type": "code",
   "execution_count": 30,
   "metadata": {},
   "outputs": [
    {
     "name": "stdout",
     "output_type": "stream",
     "text": [
      "['social', 'interaction', 'impairment', 'in', 'social', 'emotional', 'reciprocity', 'absent', 'speech', 'play', 'impairment', 'stares', 'blankly', 'at', 'play', 'objects', 'rather', 'than', 'manipulating', 'them']\n"
     ]
    }
   ],
   "source": [
    "# Build the bigram and trigram models\n",
    "bigram = gensim.models.Phrases(data_words, min_count=5, threshold=100) # higher threshold fewer phrases.\n",
    "trigram = gensim.models.Phrases(bigram[data_words], threshold=100)\n",
    "# Faster way to get a sentence clubbed as a trigram/bigram\n",
    "bigram_mod = gensim.models.phrases.Phraser(bigram)\n",
    "trigram_mod = gensim.models.phrases.Phraser(trigram)\n",
    "# See trigram example\n",
    "print(trigram_mod[bigram_mod[data_words[0]]])"
   ]
  },
  {
   "cell_type": "code",
   "execution_count": null,
   "metadata": {},
   "outputs": [],
   "source": [
    "#5. Remove Stopwords, make bigrams and lemmatize"
   ]
  },
  {
   "cell_type": "code",
   "execution_count": 31,
   "metadata": {},
   "outputs": [],
   "source": [
    "# Define function for stopwords, bigrams, trigrams and lemmatization\n",
    "def remove_stopwords(texts):\n",
    "    return [[word for word in simple_preprocess(str(doc)) if word not in stop_words] for doc in texts]\n",
    "\n",
    "def make_bigrams(texts):\n",
    "    return [bigram_mod[doc] for doc in texts]\n",
    "\n",
    "def make_trigrams(texts):\n",
    "    return [trigram_mod[bigram_mod[doc]] for doc in texts]\n",
    "\n",
    "def lemmatization(texts, allowed_postags=['NOUN', 'ADJ', 'VERB', 'ADV']):\n",
    "    \"\"\"https://spacy.io/api/annotation\"\"\"\n",
    "    texts_out = []\n",
    "    for sent in texts:\n",
    "        doc = nlp(\" \".join(sent)) \n",
    "        texts_out.append([token.lemma_ for token in doc if token.pos_ in allowed_postags])\n",
    "    return texts_out"
   ]
  },
  {
   "cell_type": "code",
   "execution_count": null,
   "metadata": {},
   "outputs": [],
   "source": [
    "#6. Call the functions in order"
   ]
  },
  {
   "cell_type": "code",
   "execution_count": null,
   "metadata": {},
   "outputs": [],
   "source": [
    "#7. Create Dictionary and Corpus needed for Topic Modeling"
   ]
  },
  {
   "cell_type": "code",
   "execution_count": 9,
   "metadata": {},
   "outputs": [
    {
     "name": "stdout",
     "output_type": "stream",
     "text": [
      "[[(0, 1), (1, 1), (2, 1), (3, 1), (4, 2), (5, 1), (6, 1), (7, 1), (8, 1), (9, 2), (10, 1), (11, 1), (12, 2), (13, 1), (14, 1), (15, 1), (16, 1)]]\n"
     ]
    }
   ],
   "source": [
    "# Create Dictionary \n",
    "id2word = corpora.Dictionary(data_words)  \n",
    "# # wiithout lemmatized\n",
    "#id2word = corpora.Dictionary(data_words_bigrams)  \n",
    "# Create Corpus \n",
    "texts = data_words  # data_words_bigrams\n",
    "# build the corpus i.e. vectors with the number of occurence of each word per note\n",
    "# Term Document Frequency \n",
    "corpus = [id2word.doc2bow(text) for text in texts]  \n",
    "# View \n",
    "print(corpus[:1])"
   ]
  },
  {
   "cell_type": "code",
   "execution_count": 11,
   "metadata": {},
   "outputs": [
    {
     "data": {
      "text/plain": [
       "Yes    728\n",
       "No     326\n",
       "Name: Class/ASD Traits , dtype: int64"
      ]
     },
     "execution_count": 11,
     "metadata": {},
     "output_type": "execute_result"
    }
   ],
   "source": [
    "T_ASD2['Class/ASD Traits '].value_counts()"
   ]
  },
  {
   "cell_type": "code",
   "execution_count": 34,
   "metadata": {},
   "outputs": [
    {
     "data": {
      "text/plain": [
       "1054"
      ]
     },
     "execution_count": 34,
     "metadata": {},
     "output_type": "execute_result"
    }
   ],
   "source": [
    "728+ 326"
   ]
  },
  {
   "cell_type": "code",
   "execution_count": 68,
   "metadata": {},
   "outputs": [
    {
     "data": {
      "image/png": "[encoded data removed]",
      "text/plain": [
       "<Figure size 1000x500 with 1 Axes>"
      ]
     },
     "metadata": {},
     "output_type": "display_data"
    }
   ],
   "source": [
    "# build a dictionary where for each tweet, each word has its own id.\n",
    "# # We have 6882 tweets and 10893 words in the dictionary.\n",
    "#tweets_dictionary = Dictionary(df_tweets_clean.tokenized_text)\n",
    "# build the corpus i.e. vectors with the number of occurence of each word per tweet\n",
    "#tweets_corpus = [tweets_dictionary.doc2bow(tweet) for tweet in df_tweets_clean.tokenized_text]\n",
    "# compute coherence\n",
    "t_coherence = []\n",
    "for nb_topics in range(1,11):    \n",
    "    #lda = LdaModel(tweets_corpus, num_topics = nb_topics, id2word = tweets_dictionary, passes=10) \n",
    "    lda_model = gensim.models.ldamodel.LdaModel(corpus=corpus,\n",
    "                                           id2word=id2word,\n",
    "                                           num_topics = nb_topics,#num_topics=20, \n",
    "                                           random_state= 10, # 100 - 10-1\n",
    "                                           update_every=1,\n",
    "                                           chunksize=100,\n",
    "                                           passes=10,\n",
    "                                           alpha='auto',\n",
    "                                           per_word_topics=True)   \n",
    "    cohm = CoherenceModel(model=lda_model, texts=data_words, dictionary=id2word, coherence='c_v')\n",
    "    #cohm = CoherenceModel(model=lda, corpus=tweets_corpus, dictionary=tweets_dictionary, coherence='u_mass')    \n",
    "    coh = cohm.get_coherence()    \n",
    "    t_coherence.append(coh)\n",
    "# visualize coherence\n",
    "plt.figure(figsize=(10,5))\n",
    "plt.plot(range(1,11),t_coherence) #36\n",
    "plt.xlabel(\"Number of Topics\")\n",
    "plt.ylabel(\"Coherence Score\");"
   ]
  },
  {
   "cell_type": "code",
   "execution_count": null,
   "metadata": {},
   "outputs": [],
   "source": [
    "# Topic Modeling"
   ]
  },
  {
   "cell_type": "code",
   "execution_count": 35,
   "metadata": {},
   "outputs": [],
   "source": [
    "#k=5\n",
    "lda_model_5_0 = gensim.models.ldamodel.LdaModel(corpus=corpus,\n",
    "                                           id2word=id2word,\n",
    "                                           num_topics=5, \n",
    "                                           random_state=10,\n",
    "                                           update_every=1,\n",
    "                                           chunksize=100,\n",
    "                                           passes=30,\n",
    "                                           alpha='auto',\n",
    "                                           per_word_topics=True)"
   ]
  },
  {
   "cell_type": "code",
   "execution_count": 36,
   "metadata": {},
   "outputs": [
    {
     "name": "stdout",
     "output_type": "stream",
     "text": [
      "[(0,\n",
      "  '0.314*\"speech\" + 0.314*\"absent\" + 0.090*\"pretend\" + 0.090*\"does\" + '\n",
      "  '0.055*\"play\" + 0.033*\"shifting\" + 0.028*\"attention\" + 0.028*\"eye\" + '\n",
      "  '0.028*\"contacts\" + 0.009*\"spontaneously\"'),\n",
      " (1,\n",
      "  '0.146*\"pointing\" + 0.085*\"interest\" + 0.085*\"express\" + 0.085*\"to\" + '\n",
      "  '0.071*\"social\" + 0.061*\"spontaneously\" + 0.041*\"difficulty\" + '\n",
      "  '0.041*\"gesture\" + 0.041*\"imitating\" + 0.036*\"reciprocity\"'),\n",
      " (2,\n",
      "  '0.158*\"play\" + 0.093*\"impairment\" + 0.078*\"manipulating\" + 0.078*\"at\" + '\n",
      "  '0.078*\"stares\" + 0.078*\"rather\" + 0.078*\"objects\" + 0.078*\"than\" + '\n",
      "  '0.078*\"them\" + 0.078*\"blankly\"'),\n",
      " (3,\n",
      "  '0.126*\"attention\" + 0.112*\"social\" + 0.088*\"and\" + 0.088*\"deficit\" + '\n",
      "  '0.088*\"concentration\" + 0.059*\"impairment\" + 0.056*\"reciprocity\" + '\n",
      "  '0.056*\"emotional\" + 0.056*\"interaction\" + 0.056*\"in\"'),\n",
      " (4,\n",
      "  '0.072*\"attention\" + 0.059*\"social\" + 0.056*\"pointing\" + 0.051*\"gesture\" + '\n",
      "  '0.051*\"difficulty\" + 0.051*\"imitating\" + 0.039*\"absent\" + 0.039*\"speech\" + '\n",
      "  '0.037*\"pretend\" + 0.037*\"does\"')]\n"
     ]
    }
   ],
   "source": [
    "# 9. # Print the keyword of topics :lda_model_4_0 : k=4\n",
    "pprint(lda_model_5_0.print_topics(num_words=10))\n",
    "doc_lda_5_0 = lda_model_5_0[corpus]"
   ]
  },
  {
   "cell_type": "code",
   "execution_count": null,
   "metadata": {},
   "outputs": [],
   "source": [
    "#10. Evaluate topic models"
   ]
  },
  {
   "cell_type": "code",
   "execution_count": 37,
   "metadata": {},
   "outputs": [
    {
     "name": "stdout",
     "output_type": "stream",
     "text": [
      "\n",
      "Perplexity:  -3.463192340563126\n",
      "\n",
      "Coherence Score:  0.7929938531155167\n"
     ]
    }
   ],
   "source": [
    "# Compute Perplexity\n",
    "print('\\nPerplexity: ', lda_model_5_0.log_perplexity(corpus))  \n",
    "# a measure of how good the model is. lower the better.\n",
    "\n",
    "# Compute Coherence Score\n",
    "coherence_model_lda_5_0 = CoherenceModel(model=lda_model_5_0, texts=data_words, dictionary=id2word, coherence='c_v')\n",
    "coherence_lda_5_0 = coherence_model_lda_5_0.get_coherence()\n",
    "print('\\nCoherence Score: ', coherence_lda_5_0)"
   ]
  },
  {
   "cell_type": "code",
   "execution_count": null,
   "metadata": {},
   "outputs": [],
   "source": [
    "#11. Visualize the topic model"
   ]
  },
  {
   "cell_type": "code",
   "execution_count": 38,
   "metadata": {},
   "outputs": [
    {
     "name": "stderr",
     "output_type": "stream",
     "text": [
      "/home/skbae/anaconda3/envs/myNLP/lib/python3.9/site-packages/pyLDAvis/_prepare.py:243: FutureWarning: In a future version of pandas all arguments of DataFrame.drop except for the argument 'labels' will be keyword-only.\n",
      "  default_term_info = default_term_info.sort_values(\n"
     ]
    },
    {
     "data": {
      "text/html": [
       "\n",
       "<link rel=\"stylesheet\" type=\"text/css\" href=\"https://cdn.jsdelivr.net/gh/bmabey/pyLDAvis@3.4.0/pyLDAvis/js/ldavis.v1.0.0.css\">\n",
       "\n",
       "\n",
       "<div id=\"ldavis_el609201405049882124641385287885\" style=\"background-color:white;\"></div>\n",
       "<script type=\"text/javascript\">\n",
       "\n",
       "var ldavis_el609201405049882124641385287885_data = {\"mdsDat\": {\"x\": [-0.315105390298144, 0.0901244873959581, -0.003694901081161063, -0.04060112759651043, 0.26927693157985744], \"y\": [0.17105838054689806, -0.09726109064491138, -0.19708411521722408, -0.09274783585784842, 0.21603466117308612], \"topics\": [1, 2, 3, 4, 5], \"cluster\": [1, 1, 1, 1, 1], \"Freq\": [34.1218819605574, 29.459887076211405, 16.74540975023338, 16.68714458464928, 2.985676628348536]}, \"tinfo\": {\"Term\": [\"absent\", \"speech\", \"pointing\", \"pretend\", \"does\", \"than\", \"blankly\", \"manipulating\", \"objects\", \"rather\", \"at\", \"them\", \"stares\", \"deficit\", \"concentration\", \"and\", \"attention\", \"to\", \"express\", \"interest\", \"play\", \"imitating\", \"gesture\", \"difficulty\", \"spontaneously\", \"social\", \"eye\", \"contacts\", \"shifting\", \"reciprocity\", \"at\", \"blankly\", \"manipulating\", \"objects\", \"rather\", \"stares\", \"than\", \"them\", \"play\", \"impairment\", \"social\", \"emotional\", \"in\", \"interaction\", \"reciprocity\", \"contacts\", \"eye\", \"shifting\", \"attention\", \"spontaneously\", \"absent\", \"speech\", \"difficulty\", \"gesture\", \"imitating\", \"express\", \"interest\", \"to\", \"does\", \"pretend\", \"and\", \"concentration\", \"deficit\", \"pointing\", \"difficulty\", \"gesture\", \"imitating\", \"absent\", \"speech\", \"pretend\", \"does\", \"contacts\", \"eye\", \"spontaneously\", \"and\", \"concentration\", \"deficit\", \"attention\", \"shifting\", \"pointing\", \"express\", \"interest\", \"to\", \"social\", \"emotional\", \"in\", \"interaction\", \"reciprocity\", \"impairment\", \"play\", \"at\", \"blankly\", \"manipulating\", \"objects\", \"express\", \"interest\", \"to\", \"pointing\", \"spontaneously\", \"difficulty\", \"gesture\", \"imitating\", \"pretend\", \"does\", \"social\", \"emotional\", \"in\", \"interaction\", \"reciprocity\", \"shifting\", \"impairment\", \"attention\", \"play\", \"contacts\", \"eye\", \"absent\", \"speech\", \"and\", \"concentration\", \"deficit\", \"at\", \"blankly\", \"manipulating\", \"objects\", \"rather\", \"stares\", \"and\", \"concentration\", \"deficit\", \"attention\", \"contacts\", \"eye\", \"emotional\", \"in\", \"interaction\", \"reciprocity\", \"social\", \"shifting\", \"pretend\", \"does\", \"impairment\", \"play\", \"spontaneously\", \"absent\", \"speech\", \"difficulty\", \"gesture\", \"imitating\", \"express\", \"interest\", \"to\", \"at\", \"blankly\", \"manipulating\", \"objects\", \"rather\", \"stares\", \"than\", \"pointing\", \"them\", \"absent\", \"speech\", \"pretend\", \"does\", \"contacts\", \"eye\", \"shifting\", \"play\", \"attention\", \"spontaneously\", \"pointing\", \"difficulty\", \"gesture\", \"imitating\", \"express\", \"interest\", \"to\", \"and\", \"concentration\", \"deficit\", \"at\", \"blankly\", \"manipulating\", \"objects\", \"rather\", \"stares\", \"than\", \"them\", \"emotional\", \"in\", \"interaction\", \"reciprocity\", \"impairment\", \"social\"], \"Freq\": [485.0, 485.0, 961.0, 551.0, 551.0, 617.0, 617.0, 617.0, 617.0, 617.0, 617.0, 617.0, 617.0, 592.0, 592.0, 592.0, 1187.0, 536.0, 536.0, 536.0, 1786.0, 513.0, 513.0, 513.0, 425.0, 1388.0, 464.0, 464.0, 596.0, 694.0, 617.0347638760851, 617.0347638760851, 617.0347638760851, 617.0347638760851, 617.0347638760851, 617.0347638760851, 617.0347638760851, 617.0347638760851, 1255.830904951136, 737.2709007916143, 270.3053283569588, 135.16213185683014, 135.16213185683014, 135.16213185683014, 135.16213185683014, 49.99215310338858, 49.99215310338858, 51.43726678260448, 59.592453033020014, 0.20941417416486924, 0.20874526588203857, 0.20874526588203857, 0.20902028080160948, 0.20902028080160948, 0.20902028080160948, 0.208830821899265, 0.208830821899265, 0.208830821899265, 0.2134014925973326, 0.2134008559552291, 0.2096006958320544, 0.2096006958320544, 0.2096006958320544, 0.20909139661839754, 351.4103458168518, 351.4103458168518, 351.4103458168518, 266.30582163426686, 266.30582163426686, 254.21184295230995, 254.21184295230995, 213.2767284354659, 213.2767284354659, 181.4301219530325, 250.23921525818997, 250.23921525818997, 250.23921525818997, 492.851748774251, 243.3371273809146, 385.50450574644475, 204.2095191932483, 204.2095191932483, 204.2095191932483, 405.3778778709512, 202.8266711249904, 202.8266711249904, 202.8266711249904, 202.8266711249904, 208.79660105205255, 252.28727641450863, 0.2038504632510187, 0.2038504632510187, 0.2038504632510187, 0.2038504632510187, 331.96407347975304, 331.96407347975304, 331.96407347975304, 571.6745571133621, 237.55864793046726, 161.86183197703986, 161.86183197703986, 161.86183197703986, 134.35098261589758, 134.35098261589758, 278.6921137032144, 139.4258363384453, 139.4258363384453, 139.4258363384453, 139.4258363384453, 108.21886704770974, 136.5172443582197, 123.19452086997899, 137.02849620642982, 0.19603685362411544, 0.19603685362411544, 0.19440298050866422, 0.19440298050866422, 0.19515218281555632, 0.19515218281555632, 0.19515218281555632, 0.19448975192549883, 0.19448975192549883, 0.19448975192549883, 0.19448975192549883, 0.19448975192549883, 0.19448975192549883, 341.70796188713706, 341.70796188713706, 341.70796188713706, 492.0957548493369, 181.3883445159202, 181.3883445159202, 217.33801230295504, 217.33801230295504, 217.33801230295504, 217.33801230295504, 434.3451193373646, 170.11004549814584, 100.27832441079447, 100.27832441079447, 228.69846521261803, 103.4123526423271, 0.20273107847091273, 0.20134622204734698, 0.20134622204734698, 0.2024600652318214, 0.2024600652318214, 0.2024600652318214, 0.20191052397400644, 0.20191052397400644, 0.20191052397400644, 0.20191090608144535, 0.20191090608144535, 0.20191090608144535, 0.20191090608144535, 0.20191090608144535, 0.20191090608144535, 0.20191090608144535, 0.2022897019225691, 0.20191090608144535, 218.34514223697002, 218.34514223697002, 62.55682992176663, 62.55682992176663, 19.252086340805082, 19.252086340805082, 22.945067044294515, 38.048984811662294, 19.68327451308765, 6.467381146411398, 4.058980630425424, 0.19445239050186078, 0.19445239050186078, 0.19445239050186078, 0.19590144582137484, 0.19590144582137484, 0.19590144582137484, 0.1954657812037554, 0.1954657812037554, 0.1954657812037554, 0.1958941128325071, 0.1958941128325071, 0.1958941128325071, 0.1958941128325071, 0.1958941128325071, 0.1958941128325071, 0.1958941128325071, 0.1958941128325071, 0.1973849985995677, 0.1973849985995677, 0.1973849985995677, 0.1973849985995677, 0.1975732659988403, 0.1973798533532351], \"Total\": [485.0, 485.0, 961.0, 551.0, 551.0, 617.0, 617.0, 617.0, 617.0, 617.0, 617.0, 617.0, 617.0, 592.0, 592.0, 592.0, 1187.0, 536.0, 536.0, 536.0, 1786.0, 513.0, 513.0, 513.0, 425.0, 1388.0, 464.0, 464.0, 596.0, 694.0, 617.8309091101756, 617.8309091101756, 617.8309091101756, 617.8309091101756, 617.8309091101756, 617.8309091101756, 617.8309091101756, 617.8309091101756, 1786.6080150260636, 1311.4807846805033, 1388.917819121842, 694.9500366218203, 694.9500366218203, 694.9500366218203, 694.9500366218203, 464.10534924920387, 464.10534924920387, 596.0483737536692, 1187.4177520396745, 425.86829628254696, 485.2554583396749, 485.2554583396749, 513.878110530427, 513.878110530427, 513.878110530427, 536.780235464696, 536.780235464696, 536.780235464696, 551.6113813933661, 551.6113807567239, 592.5473958051784, 592.5473958051784, 592.5473958051784, 961.6494245887732, 513.878110530427, 513.878110530427, 513.878110530427, 485.2554583396749, 485.2554583396749, 551.6113807567239, 551.6113813933661, 464.10534924920387, 464.10534924920387, 425.86829628254696, 592.5473958051784, 592.5473958051784, 592.5473958051784, 1187.4177520396745, 596.0483737536692, 961.6494245887732, 536.780235464696, 536.780235464696, 536.780235464696, 1388.917819121842, 694.9500366218203, 694.9500366218203, 694.9500366218203, 694.9500366218203, 1311.4807846805033, 1786.6080150260636, 617.8309091101756, 617.8309091101756, 617.8309091101756, 617.8309091101756, 536.780235464696, 536.780235464696, 536.780235464696, 961.6494245887732, 425.86829628254696, 513.878110530427, 513.878110530427, 513.878110530427, 551.6113807567239, 551.6113813933661, 1388.917819121842, 694.9500366218203, 694.9500366218203, 694.9500366218203, 694.9500366218203, 596.0483737536692, 1311.4807846805033, 1187.4177520396745, 1786.6080150260636, 464.10534924920387, 464.10534924920387, 485.2554583396749, 485.2554583396749, 592.5473958051784, 592.5473958051784, 592.5473958051784, 617.8309091101756, 617.8309091101756, 617.8309091101756, 617.8309091101756, 617.8309091101756, 617.8309091101756, 592.5473958051784, 592.5473958051784, 592.5473958051784, 1187.4177520396745, 464.10534924920387, 464.10534924920387, 694.9500366218203, 694.9500366218203, 694.9500366218203, 694.9500366218203, 1388.917819121842, 596.0483737536692, 551.6113807567239, 551.6113813933661, 1311.4807846805033, 1786.6080150260636, 425.86829628254696, 485.2554583396749, 485.2554583396749, 513.878110530427, 513.878110530427, 513.878110530427, 536.780235464696, 536.780235464696, 536.780235464696, 617.8309091101756, 617.8309091101756, 617.8309091101756, 617.8309091101756, 617.8309091101756, 617.8309091101756, 617.8309091101756, 961.6494245887732, 617.8309091101756, 485.2554583396749, 485.2554583396749, 551.6113807567239, 551.6113813933661, 464.10534924920387, 464.10534924920387, 596.0483737536692, 1786.6080150260636, 1187.4177520396745, 425.86829628254696, 961.6494245887732, 513.878110530427, 513.878110530427, 513.878110530427, 536.780235464696, 536.780235464696, 536.780235464696, 592.5473958051784, 592.5473958051784, 592.5473958051784, 617.8309091101756, 617.8309091101756, 617.8309091101756, 617.8309091101756, 617.8309091101756, 617.8309091101756, 617.8309091101756, 617.8309091101756, 694.9500366218203, 694.9500366218203, 694.9500366218203, 694.9500366218203, 1311.4807846805033, 1388.917819121842], \"Category\": [\"Default\", \"Default\", \"Default\", \"Default\", \"Default\", \"Default\", \"Default\", \"Default\", \"Default\", \"Default\", \"Default\", \"Default\", \"Default\", \"Default\", \"Default\", \"Default\", \"Default\", \"Default\", \"Default\", \"Default\", \"Default\", \"Default\", \"Default\", \"Default\", \"Default\", \"Default\", \"Default\", \"Default\", \"Default\", \"Default\", \"Topic1\", \"Topic1\", \"Topic1\", \"Topic1\", \"Topic1\", \"Topic1\", \"Topic1\", \"Topic1\", \"Topic1\", \"Topic1\", \"Topic1\", \"Topic1\", \"Topic1\", \"Topic1\", \"Topic1\", \"Topic1\", \"Topic1\", \"Topic1\", \"Topic1\", \"Topic1\", \"Topic1\", \"Topic1\", \"Topic1\", \"Topic1\", \"Topic1\", \"Topic1\", \"Topic1\", \"Topic1\", \"Topic1\", \"Topic1\", \"Topic1\", \"Topic1\", \"Topic1\", \"Topic1\", \"Topic2\", \"Topic2\", \"Topic2\", \"Topic2\", \"Topic2\", \"Topic2\", \"Topic2\", \"Topic2\", \"Topic2\", \"Topic2\", \"Topic2\", \"Topic2\", \"Topic2\", \"Topic2\", \"Topic2\", \"Topic2\", \"Topic2\", \"Topic2\", \"Topic2\", \"Topic2\", \"Topic2\", \"Topic2\", \"Topic2\", \"Topic2\", \"Topic2\", \"Topic2\", \"Topic2\", \"Topic2\", \"Topic2\", \"Topic2\", \"Topic3\", \"Topic3\", \"Topic3\", \"Topic3\", \"Topic3\", \"Topic3\", \"Topic3\", \"Topic3\", \"Topic3\", \"Topic3\", \"Topic3\", \"Topic3\", \"Topic3\", \"Topic3\", \"Topic3\", \"Topic3\", \"Topic3\", \"Topic3\", \"Topic3\", \"Topic3\", \"Topic3\", \"Topic3\", \"Topic3\", \"Topic3\", \"Topic3\", \"Topic3\", \"Topic3\", \"Topic3\", \"Topic3\", \"Topic3\", \"Topic3\", \"Topic3\", \"Topic4\", \"Topic4\", \"Topic4\", \"Topic4\", \"Topic4\", \"Topic4\", \"Topic4\", \"Topic4\", \"Topic4\", \"Topic4\", \"Topic4\", \"Topic4\", \"Topic4\", \"Topic4\", \"Topic4\", \"Topic4\", \"Topic4\", \"Topic4\", \"Topic4\", \"Topic4\", \"Topic4\", \"Topic4\", \"Topic4\", \"Topic4\", \"Topic4\", \"Topic4\", \"Topic4\", \"Topic4\", \"Topic4\", \"Topic4\", \"Topic4\", \"Topic4\", \"Topic4\", \"Topic4\", \"Topic5\", \"Topic5\", \"Topic5\", \"Topic5\", \"Topic5\", \"Topic5\", \"Topic5\", \"Topic5\", \"Topic5\", \"Topic5\", \"Topic5\", \"Topic5\", \"Topic5\", \"Topic5\", \"Topic5\", \"Topic5\", \"Topic5\", \"Topic5\", \"Topic5\", \"Topic5\", \"Topic5\", \"Topic5\", \"Topic5\", \"Topic5\", \"Topic5\", \"Topic5\", \"Topic5\", \"Topic5\", \"Topic5\", \"Topic5\", \"Topic5\", \"Topic5\", \"Topic5\", \"Topic5\"], \"logprob\": [30.0, 29.0, 28.0, 27.0, 26.0, 25.0, 24.0, 23.0, 22.0, 21.0, 20.0, 19.0, 18.0, 17.0, 16.0, 15.0, 14.0, 13.0, 12.0, 11.0, 10.0, 9.0, 8.0, 7.0, 6.0, 5.0, 4.0, 3.0, 2.0, 1.0, -2.5566, -2.5566, -2.5566, -2.5566, -2.5566, -2.5566, -2.5566, -2.5566, -1.8459, -2.3785, -3.3819, -4.075, -4.075, -4.075, -4.075, -5.0696, -5.0696, -5.0411, -4.894, -10.5449, -10.5481, -10.5481, -10.5468, -10.5468, -10.5468, -10.5477, -10.5477, -10.5477, -10.5261, -10.5261, -10.544, -10.544, -10.544, -10.5465, -2.9726, -2.9726, -2.9726, -3.2499, -3.2499, -3.2964, -3.2964, -3.472, -3.472, -3.6337, -3.3122, -3.3122, -3.3122, -2.6344, -3.3401, -2.88, -3.5154, -3.5154, -3.5154, -2.8298, -3.5222, -3.5222, -3.5222, -3.5222, -3.4932, -3.304, -10.425, -10.425, -10.425, -10.425, -2.4647, -2.4647, -2.4647, -1.9211, -2.7993, -3.1829, -3.1829, -3.1829, -3.3692, -3.3692, -2.6396, -3.3321, -3.3321, -3.3321, -3.3321, -3.5855, -3.3532, -3.4559, -3.3495, -9.8991, -9.8991, -9.9075, -9.9075, -9.9037, -9.9037, -9.9037, -9.9071, -9.9071, -9.9071, -9.9071, -9.9071, -9.9071, -2.4322, -2.4322, -2.4322, -2.0675, -3.0656, -3.0656, -2.8847, -2.8847, -2.8847, -2.8847, -2.1924, -3.1297, -3.6582, -3.6582, -2.8338, -3.6275, -9.8621, -9.8689, -9.8689, -9.8634, -9.8634, -9.8634, -9.8661, -9.8661, -9.8661, -9.8661, -9.8661, -9.8661, -9.8661, -9.8661, -9.8661, -9.8661, -9.8642, -9.8661, -1.1593, -1.1593, -2.4093, -2.4093, -3.5878, -3.5878, -3.4123, -2.9065, -3.5656, -4.6786, -5.1444, -8.1829, -8.1829, -8.1829, -8.1755, -8.1755, -8.1755, -8.1777, -8.1777, -8.1777, -8.1756, -8.1756, -8.1756, -8.1756, -8.1756, -8.1756, -8.1756, -8.1756, -8.168, -8.168, -8.168, -8.168, -8.167, -8.168], \"loglift\": [30.0, 29.0, 28.0, 27.0, 26.0, 25.0, 24.0, 23.0, 22.0, 21.0, 20.0, 19.0, 18.0, 17.0, 16.0, 15.0, 14.0, 13.0, 12.0, 11.0, 10.0, 9.0, 8.0, 7.0, 6.0, 5.0, 4.0, 3.0, 2.0, 1.0, 1.0739, 1.0739, 1.0739, 1.0739, 1.0739, 1.0739, 1.0739, 1.0739, 0.7227, 0.4993, -0.5615, -0.5621, -0.5621, -0.5621, -0.5621, -1.153, -1.153, -1.3747, -1.9168, -6.5423, -6.6761, -6.6761, -6.7321, -6.7321, -6.7321, -6.7766, -6.7766, -6.7766, -6.7822, -6.7822, -6.8718, -6.8718, -6.8718, -7.3584, 0.8421, 0.8421, 0.8421, 0.6221, 0.6221, 0.4475, 0.4475, 0.4446, 0.4446, 0.3689, 0.3601, 0.3601, 0.3601, 0.3428, 0.3263, 0.308, 0.2557, 0.2557, 0.2557, -0.0093, -0.0093, -0.0093, -0.0093, -0.0093, -0.6154, -0.7354, -6.7944, -6.7944, -6.7944, -6.7944, 1.3065, 1.3065, 1.3065, 1.267, 1.2033, 0.6318, 0.6318, 0.6318, 0.3747, 0.3747, 0.1809, 0.1807, 0.1807, 0.1807, 0.1807, 0.0809, -0.4754, -0.4787, -0.7808, -5.9825, -5.9825, -6.0355, -6.0355, -6.2314, -6.2314, -6.2314, -6.2765, -6.2765, -6.2765, -6.2765, -6.2765, -6.2765, 1.2401, 1.2401, 1.2401, 0.9097, 0.8511, 0.8511, 0.6281, 0.6281, 0.6281, 0.6281, 0.6281, 0.5367, 0.0856, 0.0856, 0.044, -1.0588, -5.8595, -5.9969, -5.9969, -6.0487, -6.0487, -6.0487, -6.095, -6.095, -6.095, -6.2356, -6.2356, -6.2356, -6.2356, -6.2356, -6.2356, -6.2356, -6.6762, -6.2356, 2.7127, 2.7127, 1.3346, 1.3346, 0.3289, 0.3289, 0.2541, -0.3379, -0.5884, -0.676, -1.9564, -4.3682, -4.3682, -4.3682, -4.4044, -4.4044, -4.4044, -4.5055, -4.5055, -4.5055, -4.5451, -4.5451, -4.5451, -4.5451, -4.5451, -4.5451, -4.5451, -4.5451, -4.6551, -4.6551, -4.6551, -4.6551, -5.2892, -5.3476]}, \"token.table\": {\"Topic\": [2, 5, 2, 4, 1, 1, 2, 3, 4, 5, 1, 2, 4, 1, 2, 4, 5, 2, 4, 2, 3, 2, 3, 4, 5, 1, 2, 3, 4, 2, 3, 1, 2, 4, 5, 2, 3, 2, 3, 1, 2, 3, 4, 1, 2, 3, 4, 1, 2, 3, 4, 2, 3, 1, 1, 1, 2, 3, 4, 5, 2, 3, 5, 2, 3, 4, 5, 1, 1, 2, 3, 4, 1, 2, 3, 4, 5, 1, 2, 3, 4, 2, 5, 2, 3, 5, 1, 1, 1, 2, 3], \"Freq\": [0.5481648798142981, 0.4492479090207405, 0.42190717868279454, 0.577169020438063, 0.998655118904018, 0.05052981555727597, 0.4151866511622842, 0.10358612189241573, 0.4143444875696629, 0.01684327185242532, 0.998655118904018, 0.42190717868279454, 0.577169020438063, 0.10773416010155105, 0.4589475220326075, 0.38999765956761484, 0.040938980838589406, 0.42190717868279454, 0.577169020438063, 0.6830413532066902, 0.31524985532616473, 0.46046910663517854, 0.24292464680753512, 0.18128704985636948, 0.11421084140951278, 0.19425856951708406, 0.2921073304590227, 0.20001437898425692, 0.31225266359412773, 0.3800437991599954, 0.6185026535348945, 0.10773416010155105, 0.4589475220326075, 0.38999765956761484, 0.040938980838589406, 0.6830413532066902, 0.31524985532616473, 0.6830413532066902, 0.31524985532616473, 0.5619601969079131, 0.15936184688433355, 0.10446207188111817, 0.17461178438522673, 0.19425856951708406, 0.2921073304590227, 0.20001437898425692, 0.31225266359412773, 0.19425856951708406, 0.2921073304590227, 0.20001437898425692, 0.31225266359412773, 0.3800437991599954, 0.6185026535348945, 0.998655118904018, 0.998655118904018, 0.7030081525642753, 0.1410494064062081, 0.07668162173670837, 0.057651146269204104, 0.021269354934269475, 0.4013936785383757, 0.5948113578340697, 0.004159519984853634, 0.46046910716662887, 0.24292464708790656, 0.18128705006560192, 0.11421084154132921, 0.998655118904018, 0.19425856951708406, 0.2921073304590227, 0.20001437898425692, 0.31225266359412773, 0.0855635251193168, 0.4076850314508623, 0.1811933473114944, 0.2852117503977226, 0.03858747211263306, 0.19439595077749838, 0.2915939261662476, 0.200875815803415, 0.31247349124975665, 0.5481648798142981, 0.4492479090207405, 0.4250140279987256, 0.5588582246613077, 0.01408886280658759, 0.998655118904018, 0.998655118904018, 0.998655118904018, 0.3800437991599954, 0.6185026535348945], \"Term\": [\"absent\", \"absent\", \"and\", \"and\", \"at\", \"attention\", \"attention\", \"attention\", \"attention\", \"attention\", \"blankly\", \"concentration\", \"concentration\", \"contacts\", \"contacts\", \"contacts\", \"contacts\", \"deficit\", \"deficit\", \"difficulty\", \"difficulty\", \"does\", \"does\", \"does\", \"does\", \"emotional\", \"emotional\", \"emotional\", \"emotional\", \"express\", \"express\", \"eye\", \"eye\", \"eye\", \"eye\", \"gesture\", \"gesture\", \"imitating\", \"imitating\", \"impairment\", \"impairment\", \"impairment\", \"impairment\", \"in\", \"in\", \"in\", \"in\", \"interaction\", \"interaction\", \"interaction\", \"interaction\", \"interest\", \"interest\", \"manipulating\", \"objects\", \"play\", \"play\", \"play\", \"play\", \"play\", \"pointing\", \"pointing\", \"pointing\", \"pretend\", \"pretend\", \"pretend\", \"pretend\", \"rather\", \"reciprocity\", \"reciprocity\", \"reciprocity\", \"reciprocity\", \"shifting\", \"shifting\", \"shifting\", \"shifting\", \"shifting\", \"social\", \"social\", \"social\", \"social\", \"speech\", \"speech\", \"spontaneously\", \"spontaneously\", \"spontaneously\", \"stares\", \"than\", \"them\", \"to\", \"to\"]}, \"R\": 30, \"lambda.step\": 0.01, \"plot.opts\": {\"xlab\": \"PC1\", \"ylab\": \"PC2\"}, \"topic.order\": [3, 5, 2, 4, 1]};\n",
       "\n",
       "function LDAvis_load_lib(url, callback){\n",
       "  var s = document.createElement('script');\n",
       "  s.src = url;\n",
       "  s.async = true;\n",
       "  s.onreadystatechange = s.onload = callback;\n",
       "  s.onerror = function(){console.warn(\"failed to load library \" + url);};\n",
       "  document.getElementsByTagName(\"head\")[0].appendChild(s);\n",
       "}\n",
       "\n",
       "if(typeof(LDAvis) !== \"undefined\"){\n",
       "   // already loaded: just create the visualization\n",
       "   !function(LDAvis){\n",
       "       new LDAvis(\"#\" + \"ldavis_el609201405049882124641385287885\", ldavis_el609201405049882124641385287885_data);\n",
       "   }(LDAvis);\n",
       "}else if(typeof define === \"function\" && define.amd){\n",
       "   // require.js is available: use it to load d3/LDAvis\n",
       "   require.config({paths: {d3: \"https://d3js.org/d3.v5\"}});\n",
       "   require([\"d3\"], function(d3){\n",
       "      window.d3 = d3;\n",
       "      LDAvis_load_lib(\"https://cdn.jsdelivr.net/gh/bmabey/pyLDAvis@3.4.0/pyLDAvis/js/ldavis.v3.0.0.js\", function(){\n",
       "        new LDAvis(\"#\" + \"ldavis_el609201405049882124641385287885\", ldavis_el609201405049882124641385287885_data);\n",
       "      });\n",
       "    });\n",
       "}else{\n",
       "    // require.js not available: dynamically load d3 & LDAvis\n",
       "    LDAvis_load_lib(\"https://d3js.org/d3.v5.js\", function(){\n",
       "         LDAvis_load_lib(\"https://cdn.jsdelivr.net/gh/bmabey/pyLDAvis@3.4.0/pyLDAvis/js/ldavis.v3.0.0.js\", function(){\n",
       "                 new LDAvis(\"#\" + \"ldavis_el609201405049882124641385287885\", ldavis_el609201405049882124641385287885_data);\n",
       "            })\n",
       "         });\n",
       "}\n",
       "</script>"
      ],
      "text/plain": [
       "PreparedData(topic_coordinates=              x         y  topics  cluster       Freq\n",
       "topic                                                \n",
       "2     -0.315105  0.171058       1        1  34.121882\n",
       "4      0.090124 -0.097261       2        1  29.459887\n",
       "1     -0.003695 -0.197084       3        1  16.745410\n",
       "3     -0.040601 -0.092748       4        1  16.687145\n",
       "0      0.269277  0.216035       5        1   2.985677, topic_info=           Term        Freq        Total Category  logprob  loglift\n",
       "0        absent  485.000000   485.000000  Default   30.000  30.0000\n",
       "13       speech  485.000000   485.000000  Default   29.000  29.0000\n",
       "30     pointing  961.000000   961.000000  Default   28.000  28.0000\n",
       "31      pretend  551.000000   551.000000  Default   27.000  27.0000\n",
       "25         does  551.000000   551.000000  Default   26.000  26.0000\n",
       "..          ...         ...          ...      ...      ...      ...\n",
       "5            in    0.197385   694.950037   Topic5   -8.168  -4.6551\n",
       "6   interaction    0.197385   694.950037   Topic5   -8.168  -4.6551\n",
       "11  reciprocity    0.197385   694.950037   Topic5   -8.168  -4.6551\n",
       "4    impairment    0.197573  1311.480785   Topic5   -8.167  -5.2892\n",
       "12       social    0.197380  1388.917819   Topic5   -8.168  -5.3476\n",
       "\n",
       "[194 rows x 6 columns], token_table=      Topic      Freq    Term\n",
       "term                         \n",
       "0         2  0.548165  absent\n",
       "0         5  0.449248  absent\n",
       "17        2  0.421907     and\n",
       "17        4  0.577169     and\n",
       "1         1  0.998655      at\n",
       "...     ...       ...     ...\n",
       "14        1  0.998655  stares\n",
       "15        1  0.998655    than\n",
       "16        1  0.998655    them\n",
       "33        2  0.380044      to\n",
       "33        3  0.618503      to\n",
       "\n",
       "[91 rows x 3 columns], R=30, lambda_step=0.01, plot_opts={'xlab': 'PC1', 'ylab': 'PC2'}, topic_order=[3, 5, 2, 4, 1])"
      ]
     },
     "execution_count": 38,
     "metadata": {},
     "output_type": "execute_result"
    }
   ],
   "source": [
    "#lda_model_4_0\n",
    "# Visualize the topics\n",
    "pyLDAvis.enable_notebook()\n",
    "vis5_0 = pyLDAvis.gensim.prepare(lda_model_5_0, corpus, id2word)\n",
    "vis5_0"
   ]
  },
  {
   "cell_type": "code",
   "execution_count": null,
   "metadata": {},
   "outputs": [],
   "source": [
    "# Save the model"
   ]
  },
  {
   "cell_type": "code",
   "execution_count": 39,
   "metadata": {},
   "outputs": [
    {
     "data": {
      "text/plain": [
       "['./lda_model_5_0.joblib']"
      ]
     },
     "execution_count": 39,
     "metadata": {},
     "output_type": "execute_result"
    }
   ],
   "source": [
    "from joblib import dump\n",
    "\n",
    "# Assuming that lda is your trained model\n",
    "dump(lda_model_5_0 , './lda_model_5_0.joblib') "
   ]
  },
  {
   "cell_type": "code",
   "execution_count": null,
   "metadata": {},
   "outputs": [],
   "source": [
    "# load the model"
   ]
  },
  {
   "cell_type": "code",
   "execution_count": 40,
   "metadata": {},
   "outputs": [],
   "source": [
    "from joblib import load\n",
    "\n",
    "lda_model_5_0 = load('./lda_model_5_0.joblib') "
   ]
  },
  {
   "cell_type": "code",
   "execution_count": null,
   "metadata": {},
   "outputs": [],
   "source": [
    "#12. #Assinging the topics to the document"
   ]
  },
  {
   "cell_type": "code",
   "execution_count": 41,
   "metadata": {},
   "outputs": [],
   "source": [
    "def format_topics_sentences(ldamodel=None, corpus=corpus, texts=data):\n",
    "    # Init output\n",
    "    sent_topics_df = pd.DataFrame()\n",
    "\n",
    "    # Get main topic in each document\n",
    "    for i, row_list in enumerate(ldamodel[corpus]):\n",
    "        row = row_list[0] if ldamodel.per_word_topics else row_list            \n",
    "        # print(row)\n",
    "        row = sorted(row, key=lambda x: (x[1]), reverse=True)\n",
    "        # Get the Dominant topic, Perc Contribution and Keywords for each document\n",
    "        for j, (topic_num, prop_topic) in enumerate(row):\n",
    "            if j == 0:  # => dominant topic\n",
    "                wp = ldamodel.show_topic(topic_num)\n",
    "                topic_keywords = \", \".join([word for word, prop in wp])\n",
    "                sent_topics_df = sent_topics_df.append(pd.Series([int(topic_num), round(prop_topic,4), topic_keywords]), ignore_index=True)\n",
    "            else:\n",
    "                break\n",
    "    sent_topics_df.columns = ['Dominant_Topic', 'Perc_Contribution', 'Topic_Keywords']\n",
    "\n",
    "    # Add original text to the end of the output\n",
    "    contents = pd.Series(texts)\n",
    "    sent_topics_df = pd.concat([sent_topics_df, contents], axis=1)\n",
    "    return(sent_topics_df)"
   ]
  },
  {
   "cell_type": "code",
   "execution_count": null,
   "metadata": {},
   "outputs": [],
   "source": [
    "# vis5_0 = pyLDAvis.gensim.prepare(lda_model_5_0, corpus, id2word)"
   ]
  },
  {
   "cell_type": "code",
   "execution_count": 42,
   "metadata": {},
   "outputs": [
    {
     "name": "stderr",
     "output_type": "stream",
     "text": [
      "/tmp/ipykernel_60920/731305557.py:15: FutureWarning: The frame.append method is deprecated and will be removed from pandas in a future version. Use pandas.concat instead.\n",
      "  sent_topics_df = sent_topics_df.append(pd.Series([int(topic_num), round(prop_topic,4), topic_keywords]), ignore_index=True)\n",
      "/tmp/ipykernel_60920/731305557.py:15: FutureWarning: The frame.append method is deprecated and will be removed from pandas in a future version. Use pandas.concat instead.\n",
      "  sent_topics_df = sent_topics_df.append(pd.Series([int(topic_num), round(prop_topic,4), topic_keywords]), ignore_index=True)\n"
     ]
    },
    {
     "data": {
      "text/html": [
       "<div>\n",
       "<style scoped>\n",
       "    .dataframe tbody tr th:only-of-type {\n",
       "        vertical-align: middle;\n",
       "    }\n",
       "\n",
       "    .dataframe tbody tr th {\n",
       "        vertical-align: top;\n",
       "    }\n",
       "\n",
       "    .dataframe thead th {\n",
       "        text-align: right;\n",
       "    }\n",
       "</style>\n",
       "<table border=\"1\" class=\"dataframe\">\n",
       "  <thead>\n",
       "    <tr style=\"text-align: right;\">\n",
       "      <th></th>\n",
       "      <th>Document_No</th>\n",
       "      <th>Dominant_Topic</th>\n",
       "      <th>Topic_Perc_Contrib</th>\n",
       "      <th>Keywords</th>\n",
       "      <th>Text</th>\n",
       "    </tr>\n",
       "  </thead>\n",
       "  <tbody>\n",
       "    <tr>\n",
       "      <th>0</th>\n",
       "      <td>0</td>\n",
       "      <td>2</td>\n",
       "      <td>0.8787</td>\n",
       "      <td>play, impairment, manipulating, at, stares, ra...</td>\n",
       "      <td>[social, interaction, impairment, in, social, ...</td>\n",
       "    </tr>\n",
       "    <tr>\n",
       "      <th>1</th>\n",
       "      <td>1</td>\n",
       "      <td>3</td>\n",
       "      <td>0.9653</td>\n",
       "      <td>attention, social, and, deficit, concentration...</td>\n",
       "      <td>[attention, and, concentration, deficit, conta...</td>\n",
       "    </tr>\n",
       "    <tr>\n",
       "      <th>2</th>\n",
       "      <td>2</td>\n",
       "      <td>2</td>\n",
       "      <td>0.5417</td>\n",
       "      <td>play, impairment, manipulating, at, stares, ra...</td>\n",
       "      <td>[attention, and, concentration, deficit, socia...</td>\n",
       "    </tr>\n",
       "    <tr>\n",
       "      <th>3</th>\n",
       "      <td>3</td>\n",
       "      <td>4</td>\n",
       "      <td>0.6718</td>\n",
       "      <td>attention, social, pointing, gesture, difficul...</td>\n",
       "      <td>[attention, and, concentration, deficit, conta...</td>\n",
       "    </tr>\n",
       "    <tr>\n",
       "      <th>4</th>\n",
       "      <td>4</td>\n",
       "      <td>4</td>\n",
       "      <td>0.6477</td>\n",
       "      <td>attention, social, pointing, gesture, difficul...</td>\n",
       "      <td>[attention, and, concentration, deficit, conta...</td>\n",
       "    </tr>\n",
       "  </tbody>\n",
       "</table>\n",
       "</div>"
      ],
      "text/plain": [
       "   Document_No  Dominant_Topic  Topic_Perc_Contrib  \\\n",
       "0            0               2              0.8787   \n",
       "1            1               3              0.9653   \n",
       "2            2               2              0.5417   \n",
       "3            3               4              0.6718   \n",
       "4            4               4              0.6477   \n",
       "\n",
       "                                            Keywords  \\\n",
       "0  play, impairment, manipulating, at, stares, ra...   \n",
       "1  attention, social, and, deficit, concentration...   \n",
       "2  play, impairment, manipulating, at, stares, ra...   \n",
       "3  attention, social, pointing, gesture, difficul...   \n",
       "4  attention, social, pointing, gesture, difficul...   \n",
       "\n",
       "                                                Text  \n",
       "0  [social, interaction, impairment, in, social, ...  \n",
       "1  [attention, and, concentration, deficit, conta...  \n",
       "2  [attention, and, concentration, deficit, socia...  \n",
       "3  [attention, and, concentration, deficit, conta...  \n",
       "4  [attention, and, concentration, deficit, conta...  "
      ]
     },
     "execution_count": 42,
     "metadata": {},
     "output_type": "execute_result"
    }
   ],
   "source": [
    "#2. 5 topics\n",
    "df_topic_sents_keywords_5tp = format_topics_sentences(ldamodel=lda_model_5_0, corpus=corpus, texts=data_words  )\n",
    "\n",
    "# Format\n",
    "df_dominant_topic_5tp = df_topic_sents_keywords_5tp.reset_index()\n",
    "df_dominant_topic_5tp.columns = ['Document_No', 'Dominant_Topic', 'Topic_Perc_Contrib', 'Keywords', 'Text']\n",
    "df_dominant_topic_5tp.head(5)"
   ]
  },
  {
   "cell_type": "code",
   "execution_count": 45,
   "metadata": {},
   "outputs": [
    {
     "data": {
      "text/plain": [
       "1054"
      ]
     },
     "execution_count": 45,
     "metadata": {},
     "output_type": "execute_result"
    }
   ],
   "source": [
    "len(df_dominant_topic_5tp)"
   ]
  },
  {
   "cell_type": "code",
   "execution_count": 37,
   "metadata": {},
   "outputs": [],
   "source": [
    "# 5 topics\n",
    "T_ASD_topics_5tp = pd.concat([df_dominant_topic_5tp, T_ASD], axis=1)\n"
   ]
  },
  {
   "cell_type": "code",
   "execution_count": 38,
   "metadata": {},
   "outputs": [
    {
     "data": {
      "text/html": [
       "<div>\n",
       "<style scoped>\n",
       "    .dataframe tbody tr th:only-of-type {\n",
       "        vertical-align: middle;\n",
       "    }\n",
       "\n",
       "    .dataframe tbody tr th {\n",
       "        vertical-align: top;\n",
       "    }\n",
       "\n",
       "    .dataframe thead th {\n",
       "        text-align: right;\n",
       "    }\n",
       "</style>\n",
       "<table border=\"1\" class=\"dataframe\">\n",
       "  <thead>\n",
       "    <tr style=\"text-align: right;\">\n",
       "      <th></th>\n",
       "      <th>Case_No</th>\n",
       "      <th>A1</th>\n",
       "      <th>A2</th>\n",
       "      <th>A3</th>\n",
       "      <th>A4</th>\n",
       "      <th>A5</th>\n",
       "      <th>A6</th>\n",
       "      <th>A7</th>\n",
       "      <th>A8</th>\n",
       "      <th>A9</th>\n",
       "      <th>...</th>\n",
       "      <th>A2_C0870532</th>\n",
       "      <th>A3_C4036288</th>\n",
       "      <th>A4_C0424091</th>\n",
       "      <th>A5_C2371970</th>\n",
       "      <th>A6_C2370875</th>\n",
       "      <th>A7_C4064035</th>\n",
       "      <th>A8_C1854882</th>\n",
       "      <th>A9_C0566243</th>\n",
       "      <th>A10_C4064319</th>\n",
       "      <th>combined</th>\n",
       "    </tr>\n",
       "  </thead>\n",
       "  <tbody>\n",
       "    <tr>\n",
       "      <th>0</th>\n",
       "      <td>1</td>\n",
       "      <td>0</td>\n",
       "      <td>0</td>\n",
       "      <td>0</td>\n",
       "      <td>0</td>\n",
       "      <td>0</td>\n",
       "      <td>0</td>\n",
       "      <td>1</td>\n",
       "      <td>1</td>\n",
       "      <td>0</td>\n",
       "      <td>...</td>\n",
       "      <td></td>\n",
       "      <td></td>\n",
       "      <td></td>\n",
       "      <td></td>\n",
       "      <td></td>\n",
       "      <td>social interaction impairment in social/emotio...</td>\n",
       "      <td>absent speech</td>\n",
       "      <td></td>\n",
       "      <td>play impairment stares blankly at play objects...</td>\n",
       "      <td>, , , , , ,social interaction impairment in s...</td>\n",
       "    </tr>\n",
       "    <tr>\n",
       "      <th>1</th>\n",
       "      <td>2</td>\n",
       "      <td>1</td>\n",
       "      <td>1</td>\n",
       "      <td>0</td>\n",
       "      <td>0</td>\n",
       "      <td>0</td>\n",
       "      <td>1</td>\n",
       "      <td>1</td>\n",
       "      <td>0</td>\n",
       "      <td>0</td>\n",
       "      <td>...</td>\n",
       "      <td>contacts eye</td>\n",
       "      <td></td>\n",
       "      <td></td>\n",
       "      <td></td>\n",
       "      <td>shifting attention</td>\n",
       "      <td>social interaction impairment in social/emotio...</td>\n",
       "      <td></td>\n",
       "      <td></td>\n",
       "      <td></td>\n",
       "      <td>attention and concentration deficit ,contacts ...</td>\n",
       "    </tr>\n",
       "    <tr>\n",
       "      <th>2</th>\n",
       "      <td>3</td>\n",
       "      <td>1</td>\n",
       "      <td>0</td>\n",
       "      <td>0</td>\n",
       "      <td>0</td>\n",
       "      <td>0</td>\n",
       "      <td>0</td>\n",
       "      <td>1</td>\n",
       "      <td>1</td>\n",
       "      <td>0</td>\n",
       "      <td>...</td>\n",
       "      <td></td>\n",
       "      <td></td>\n",
       "      <td></td>\n",
       "      <td></td>\n",
       "      <td></td>\n",
       "      <td>social interaction impairment in social/emotio...</td>\n",
       "      <td>absent speech</td>\n",
       "      <td></td>\n",
       "      <td>play impairment stares blankly at play objects...</td>\n",
       "      <td>attention and concentration deficit , , , , , ...</td>\n",
       "    </tr>\n",
       "    <tr>\n",
       "      <th>3</th>\n",
       "      <td>4</td>\n",
       "      <td>1</td>\n",
       "      <td>1</td>\n",
       "      <td>1</td>\n",
       "      <td>1</td>\n",
       "      <td>1</td>\n",
       "      <td>1</td>\n",
       "      <td>1</td>\n",
       "      <td>1</td>\n",
       "      <td>1</td>\n",
       "      <td>...</td>\n",
       "      <td>contacts eye</td>\n",
       "      <td>spontaneously pointing</td>\n",
       "      <td>pointing to express interest</td>\n",
       "      <td>does pretend play</td>\n",
       "      <td>shifting attention</td>\n",
       "      <td>social interaction impairment in social/emotio...</td>\n",
       "      <td>absent speech</td>\n",
       "      <td>difficulty imitating gesture</td>\n",
       "      <td>play impairment stares blankly at play objects...</td>\n",
       "      <td>attention and concentration deficit ,contacts ...</td>\n",
       "    </tr>\n",
       "    <tr>\n",
       "      <th>4</th>\n",
       "      <td>5</td>\n",
       "      <td>1</td>\n",
       "      <td>1</td>\n",
       "      <td>0</td>\n",
       "      <td>1</td>\n",
       "      <td>1</td>\n",
       "      <td>1</td>\n",
       "      <td>1</td>\n",
       "      <td>1</td>\n",
       "      <td>1</td>\n",
       "      <td>...</td>\n",
       "      <td>contacts eye</td>\n",
       "      <td></td>\n",
       "      <td>pointing to express interest</td>\n",
       "      <td>does pretend play</td>\n",
       "      <td>shifting attention</td>\n",
       "      <td>social interaction impairment in social/emotio...</td>\n",
       "      <td>absent speech</td>\n",
       "      <td>difficulty imitating gesture</td>\n",
       "      <td>play impairment stares blankly at play objects...</td>\n",
       "      <td>attention and concentration deficit ,contacts ...</td>\n",
       "    </tr>\n",
       "  </tbody>\n",
       "</table>\n",
       "<p>5 rows × 30 columns</p>\n",
       "</div>"
      ],
      "text/plain": [
       "   Case_No  A1  A2  A3  A4  A5  A6  A7  A8  A9  ...   A2_C0870532  \\\n",
       "0        1   0   0   0   0   0   0   1   1   0  ...                 \n",
       "1        2   1   1   0   0   0   1   1   0   0  ...  contacts eye   \n",
       "2        3   1   0   0   0   0   0   1   1   0  ...                 \n",
       "3        4   1   1   1   1   1   1   1   1   1  ...  contacts eye   \n",
       "4        5   1   1   0   1   1   1   1   1   1  ...  contacts eye   \n",
       "\n",
       "              A3_C4036288                   A4_C0424091        A5_C2371970  \\\n",
       "0                                                                            \n",
       "1                                                                            \n",
       "2                                                                            \n",
       "3  spontaneously pointing  pointing to express interest  does pretend play   \n",
       "4                          pointing to express interest  does pretend play   \n",
       "\n",
       "          A6_C2370875                                        A7_C4064035  \\\n",
       "0                      social interaction impairment in social/emotio...   \n",
       "1  shifting attention  social interaction impairment in social/emotio...   \n",
       "2                      social interaction impairment in social/emotio...   \n",
       "3  shifting attention  social interaction impairment in social/emotio...   \n",
       "4  shifting attention  social interaction impairment in social/emotio...   \n",
       "\n",
       "     A8_C1854882                   A9_C0566243  \\\n",
       "0  absent speech                                 \n",
       "1                                                \n",
       "2  absent speech                                 \n",
       "3  absent speech  difficulty imitating gesture   \n",
       "4  absent speech  difficulty imitating gesture   \n",
       "\n",
       "                                        A10_C4064319  \\\n",
       "0  play impairment stares blankly at play objects...   \n",
       "1                                                      \n",
       "2  play impairment stares blankly at play objects...   \n",
       "3  play impairment stares blankly at play objects...   \n",
       "4  play impairment stares blankly at play objects...   \n",
       "\n",
       "                                            combined  \n",
       "0   , , , , , ,social interaction impairment in s...  \n",
       "1  attention and concentration deficit ,contacts ...  \n",
       "2  attention and concentration deficit , , , , , ...  \n",
       "3  attention and concentration deficit ,contacts ...  \n",
       "4  attention and concentration deficit ,contacts ...  \n",
       "\n",
       "[5 rows x 30 columns]"
      ]
     },
     "execution_count": 38,
     "metadata": {},
     "output_type": "execute_result"
    }
   ],
   "source": [
    "T_ASD.head()"
   ]
  },
  {
   "cell_type": "code",
   "execution_count": 39,
   "metadata": {},
   "outputs": [
    {
     "data": {
      "text/plain": [
       "Index(['Case_No', 'A1', 'A2', 'A3', 'A4', 'A5', 'A6', 'A7', 'A8', 'A9', 'A10',\n",
       "       'Age_Mons', 'Qchat-10-Score', 'Sex', 'Ethnicity', 'Jaundice',\n",
       "       'Family_mem_with_ASD', 'Who completed the test', 'Class/ASD Traits ',\n",
       "       'A1_C2977673', 'A2_C0870532', 'A3_C4036288', 'A4_C0424091',\n",
       "       'A5_C2371970', 'A6_C2370875', 'A7_C4064035', 'A8_C1854882',\n",
       "       'A9_C0566243', 'A10_C4064319', 'combined'],\n",
       "      dtype='object')"
      ]
     },
     "execution_count": 39,
     "metadata": {},
     "output_type": "execute_result"
    }
   ],
   "source": [
    "T_ASD.columns"
   ]
  },
  {
   "cell_type": "code",
   "execution_count": 40,
   "metadata": {},
   "outputs": [
    {
     "data": {
      "text/plain": [
       "Yes    728\n",
       "No     326\n",
       "Name: Class/ASD Traits , dtype: int64"
      ]
     },
     "execution_count": 40,
     "metadata": {},
     "output_type": "execute_result"
    }
   ],
   "source": [
    "T_ASD['Class/ASD Traits '].value_counts()"
   ]
  },
  {
   "cell_type": "code",
   "execution_count": 108,
   "metadata": {},
   "outputs": [
    {
     "data": {
      "text/plain": [
       "Index(['Document_No', 'Dominant_Topic', 'Topic_Perc_Contrib', 'Keywords',\n",
       "       'Text', 'Case_No', 'A1', 'A2', 'A3', 'A4', 'A5', 'A6', 'A7', 'A8', 'A9',\n",
       "       'A10', 'Age_Mons', 'Qchat-10-Score', 'Sex', 'Ethnicity', 'Jaundice',\n",
       "       'Family_mem_with_ASD', 'Who completed the test', 'Class/ASD Traits ',\n",
       "       'A1_C2977673', 'A2_C0870532', 'A3_C4036288', 'A4_C0424091',\n",
       "       'A5_C2371970', 'A6_C2370875', 'A7_C4064035', 'A8_C1854882',\n",
       "       'A9_C0566243', 'A10_C4064319', 'combined'],\n",
       "      dtype='object')"
      ]
     },
     "execution_count": 108,
     "metadata": {},
     "output_type": "execute_result"
    }
   ],
   "source": [
    "T_ASD_topics_5tp.columns"
   ]
  },
  {
   "cell_type": "code",
   "execution_count": 41,
   "metadata": {},
   "outputs": [],
   "source": [
    "df=T_ASD[['Class/ASD Traits ','combined']]"
   ]
  },
  {
   "cell_type": "code",
   "execution_count": 42,
   "metadata": {},
   "outputs": [
    {
     "data": {
      "text/html": [
       "<div>\n",
       "<style scoped>\n",
       "    .dataframe tbody tr th:only-of-type {\n",
       "        vertical-align: middle;\n",
       "    }\n",
       "\n",
       "    .dataframe tbody tr th {\n",
       "        vertical-align: top;\n",
       "    }\n",
       "\n",
       "    .dataframe thead th {\n",
       "        text-align: right;\n",
       "    }\n",
       "</style>\n",
       "<table border=\"1\" class=\"dataframe\">\n",
       "  <thead>\n",
       "    <tr style=\"text-align: right;\">\n",
       "      <th></th>\n",
       "      <th>Class/ASD Traits</th>\n",
       "      <th>combined</th>\n",
       "    </tr>\n",
       "  </thead>\n",
       "  <tbody>\n",
       "    <tr>\n",
       "      <th>0</th>\n",
       "      <td>No</td>\n",
       "      <td>, , , , , ,social interaction impairment in s...</td>\n",
       "    </tr>\n",
       "    <tr>\n",
       "      <th>1</th>\n",
       "      <td>Yes</td>\n",
       "      <td>attention and concentration deficit ,contacts ...</td>\n",
       "    </tr>\n",
       "    <tr>\n",
       "      <th>2</th>\n",
       "      <td>Yes</td>\n",
       "      <td>attention and concentration deficit , , , , , ...</td>\n",
       "    </tr>\n",
       "    <tr>\n",
       "      <th>3</th>\n",
       "      <td>Yes</td>\n",
       "      <td>attention and concentration deficit ,contacts ...</td>\n",
       "    </tr>\n",
       "    <tr>\n",
       "      <th>4</th>\n",
       "      <td>Yes</td>\n",
       "      <td>attention and concentration deficit ,contacts ...</td>\n",
       "    </tr>\n",
       "  </tbody>\n",
       "</table>\n",
       "</div>"
      ],
      "text/plain": [
       "  Class/ASD Traits                                            combined\n",
       "0                No   , , , , , ,social interaction impairment in s...\n",
       "1               Yes  attention and concentration deficit ,contacts ...\n",
       "2               Yes  attention and concentration deficit , , , , , ...\n",
       "3               Yes  attention and concentration deficit ,contacts ...\n",
       "4               Yes  attention and concentration deficit ,contacts ..."
      ]
     },
     "execution_count": 42,
     "metadata": {},
     "output_type": "execute_result"
    }
   ],
   "source": [
    "df.head()"
   ]
  },
  {
   "cell_type": "code",
   "execution_count": 43,
   "metadata": {},
   "outputs": [],
   "source": [
    "df.columns =['Class/ASD Traits ','text']"
   ]
  },
  {
   "cell_type": "code",
   "execution_count": 44,
   "metadata": {},
   "outputs": [
    {
     "data": {
      "text/html": [
       "<div>\n",
       "<style scoped>\n",
       "    .dataframe tbody tr th:only-of-type {\n",
       "        vertical-align: middle;\n",
       "    }\n",
       "\n",
       "    .dataframe tbody tr th {\n",
       "        vertical-align: top;\n",
       "    }\n",
       "\n",
       "    .dataframe thead th {\n",
       "        text-align: right;\n",
       "    }\n",
       "</style>\n",
       "<table border=\"1\" class=\"dataframe\">\n",
       "  <thead>\n",
       "    <tr style=\"text-align: right;\">\n",
       "      <th></th>\n",
       "      <th>Class/ASD Traits</th>\n",
       "      <th>text</th>\n",
       "    </tr>\n",
       "  </thead>\n",
       "  <tbody>\n",
       "    <tr>\n",
       "      <th>0</th>\n",
       "      <td>No</td>\n",
       "      <td>, , , , , ,social interaction impairment in s...</td>\n",
       "    </tr>\n",
       "    <tr>\n",
       "      <th>1</th>\n",
       "      <td>Yes</td>\n",
       "      <td>attention and concentration deficit ,contacts ...</td>\n",
       "    </tr>\n",
       "    <tr>\n",
       "      <th>2</th>\n",
       "      <td>Yes</td>\n",
       "      <td>attention and concentration deficit , , , , , ...</td>\n",
       "    </tr>\n",
       "    <tr>\n",
       "      <th>3</th>\n",
       "      <td>Yes</td>\n",
       "      <td>attention and concentration deficit ,contacts ...</td>\n",
       "    </tr>\n",
       "    <tr>\n",
       "      <th>4</th>\n",
       "      <td>Yes</td>\n",
       "      <td>attention and concentration deficit ,contacts ...</td>\n",
       "    </tr>\n",
       "  </tbody>\n",
       "</table>\n",
       "</div>"
      ],
      "text/plain": [
       "  Class/ASD Traits                                                text\n",
       "0                No   , , , , , ,social interaction impairment in s...\n",
       "1               Yes  attention and concentration deficit ,contacts ...\n",
       "2               Yes  attention and concentration deficit , , , , , ...\n",
       "3               Yes  attention and concentration deficit ,contacts ...\n",
       "4               Yes  attention and concentration deficit ,contacts ..."
      ]
     },
     "execution_count": 44,
     "metadata": {},
     "output_type": "execute_result"
    }
   ],
   "source": [
    "df.head()"
   ]
  },
  {
   "cell_type": "code",
   "execution_count": null,
   "metadata": {},
   "outputs": [],
   "source": [
    "# Assigning topics to the document"
   ]
  },
  {
   "cell_type": "code",
   "execution_count": 79,
   "metadata": {},
   "outputs": [
    {
     "data": {
      "text/plain": [
       "2    428\n",
       "4    297\n",
       "1    177\n",
       "3    133\n",
       "0     19\n",
       "Name: Dominant_Topic, dtype: int64"
      ]
     },
     "execution_count": 79,
     "metadata": {},
     "output_type": "execute_result"
    }
   ],
   "source": [
    "T_ASD_topics_5tp.Dominant_Topic.value_counts()"
   ]
  },
  {
   "cell_type": "code",
   "execution_count": 80,
   "metadata": {},
   "outputs": [
    {
     "data": {
      "text/plain": [
       "Index(['Document_No', 'Dominant_Topic', 'Topic_Perc_Contrib', 'Keywords',\n",
       "       'Text', 'Case_No', 'A1', 'A2', 'A3', 'A4', 'A5', 'A6', 'A7', 'A8', 'A9',\n",
       "       'A10', 'Age_Mons', 'Qchat-10-Score', 'Sex', 'Ethnicity', 'Jaundice',\n",
       "       'Family_mem_with_ASD', 'Who completed the test', 'Class/ASD Traits ',\n",
       "       'A1_C2977673', 'A2_C0870532', 'A3_C4036288', 'A4_C0424091',\n",
       "       'A5_C2371970', 'A6_C2370875', 'A7_C4064035', 'A8_C1854882',\n",
       "       'A9_C0566243', 'A10_C4064319', 'combined'],\n",
       "      dtype='object')"
      ]
     },
     "execution_count": 80,
     "metadata": {},
     "output_type": "execute_result"
    }
   ],
   "source": [
    "T_ASD_topics_5tp.columns"
   ]
  },
  {
   "cell_type": "code",
   "execution_count": 95,
   "metadata": {},
   "outputs": [
    {
     "data": {
      "text/plain": [
       "no     884\n",
       "yes    170\n",
       "Name: Family_mem_with_ASD, dtype: int64"
      ]
     },
     "execution_count": 95,
     "metadata": {},
     "output_type": "execute_result"
    }
   ],
   "source": [
    "T_ASD_topics_5tp['Family_mem_with_ASD'].value_counts()"
   ]
  },
  {
   "cell_type": "code",
   "execution_count": 85,
   "metadata": {},
   "outputs": [],
   "source": [
    "#Class/ASD Traits Vs topic comparison\n",
    "\n",
    "table_5tp = pd.pivot_table(T_ASD_topics_5tp, values='Case_No', index=['Dominant_Topic','Keywords'],\n",
    "                       columns=['Class/ASD Traits '], aggfunc=len)"
   ]
  },
  {
   "cell_type": "code",
   "execution_count": 86,
   "metadata": {},
   "outputs": [
    {
     "data": {
      "text/html": [
       "<div>\n",
       "<style scoped>\n",
       "    .dataframe tbody tr th:only-of-type {\n",
       "        vertical-align: middle;\n",
       "    }\n",
       "\n",
       "    .dataframe tbody tr th {\n",
       "        vertical-align: top;\n",
       "    }\n",
       "\n",
       "    .dataframe thead th {\n",
       "        text-align: right;\n",
       "    }\n",
       "</style>\n",
       "<table border=\"1\" class=\"dataframe\">\n",
       "  <thead>\n",
       "    <tr style=\"text-align: right;\">\n",
       "      <th></th>\n",
       "      <th>Class/ASD Traits</th>\n",
       "      <th>No</th>\n",
       "      <th>Yes</th>\n",
       "    </tr>\n",
       "    <tr>\n",
       "      <th>Dominant_Topic</th>\n",
       "      <th>Keywords</th>\n",
       "      <th></th>\n",
       "      <th></th>\n",
       "    </tr>\n",
       "  </thead>\n",
       "  <tbody>\n",
       "    <tr>\n",
       "      <th>0</th>\n",
       "      <th>speech, absent, pretend, does, play, shifting, attention, eye, contacts, spontaneously</th>\n",
       "      <td>19.0</td>\n",
       "      <td>NaN</td>\n",
       "    </tr>\n",
       "    <tr>\n",
       "      <th>1</th>\n",
       "      <th>pointing, interest, express, to, social, spontaneously, difficulty, gesture, imitating, reciprocity</th>\n",
       "      <td>33.0</td>\n",
       "      <td>144.0</td>\n",
       "    </tr>\n",
       "    <tr>\n",
       "      <th>2</th>\n",
       "      <th>play, impairment, manipulating, at, stares, rather, objects, than, them, blankly</th>\n",
       "      <td>202.0</td>\n",
       "      <td>226.0</td>\n",
       "    </tr>\n",
       "    <tr>\n",
       "      <th>3</th>\n",
       "      <th>attention, social, and, deficit, concentration, impairment, reciprocity, emotional, interaction, in</th>\n",
       "      <td>61.0</td>\n",
       "      <td>72.0</td>\n",
       "    </tr>\n",
       "    <tr>\n",
       "      <th>4</th>\n",
       "      <th>attention, social, pointing, gesture, difficulty, imitating, absent, speech, pretend, does</th>\n",
       "      <td>11.0</td>\n",
       "      <td>286.0</td>\n",
       "    </tr>\n",
       "  </tbody>\n",
       "</table>\n",
       "</div>"
      ],
      "text/plain": [
       "Class/ASD Traits                                                      No  \\\n",
       "Dominant_Topic Keywords                                                    \n",
       "0              speech, absent, pretend, does, play, shifting, ...   19.0   \n",
       "1              pointing, interest, express, to, social, sponta...   33.0   \n",
       "2              play, impairment, manipulating, at, stares, rat...  202.0   \n",
       "3              attention, social, and, deficit, concentration,...   61.0   \n",
       "4              attention, social, pointing, gesture, difficult...   11.0   \n",
       "\n",
       "Class/ASD Traits                                                     Yes  \n",
       "Dominant_Topic Keywords                                                   \n",
       "0              speech, absent, pretend, does, play, shifting, ...    NaN  \n",
       "1              pointing, interest, express, to, social, sponta...  144.0  \n",
       "2              play, impairment, manipulating, at, stares, rat...  226.0  \n",
       "3              attention, social, and, deficit, concentration,...   72.0  \n",
       "4              attention, social, pointing, gesture, difficult...  286.0  "
      ]
     },
     "execution_count": 86,
     "metadata": {},
     "output_type": "execute_result"
    }
   ],
   "source": [
    "table_5tp"
   ]
  },
  {
   "cell_type": "code",
   "execution_count": 89,
   "metadata": {},
   "outputs": [],
   "source": [
    "table_5tp_Age_Mons = pd.pivot_table(T_ASD_topics_5tp, values='Case_No', index=['Dominant_Topic','Keywords'],\n",
    "                       columns=['Age_Mons'], aggfunc=len)"
   ]
  },
  {
   "cell_type": "code",
   "execution_count": 90,
   "metadata": {},
   "outputs": [
    {
     "data": {
      "text/html": [
       "<div>\n",
       "<style scoped>\n",
       "    .dataframe tbody tr th:only-of-type {\n",
       "        vertical-align: middle;\n",
       "    }\n",
       "\n",
       "    .dataframe tbody tr th {\n",
       "        vertical-align: top;\n",
       "    }\n",
       "\n",
       "    .dataframe thead th {\n",
       "        text-align: right;\n",
       "    }\n",
       "</style>\n",
       "<table border=\"1\" class=\"dataframe\">\n",
       "  <thead>\n",
       "    <tr style=\"text-align: right;\">\n",
       "      <th></th>\n",
       "      <th>Age_Mons</th>\n",
       "      <th>12</th>\n",
       "      <th>13</th>\n",
       "      <th>14</th>\n",
       "      <th>15</th>\n",
       "      <th>16</th>\n",
       "      <th>17</th>\n",
       "      <th>18</th>\n",
       "      <th>19</th>\n",
       "      <th>20</th>\n",
       "      <th>21</th>\n",
       "      <th>...</th>\n",
       "      <th>27</th>\n",
       "      <th>28</th>\n",
       "      <th>29</th>\n",
       "      <th>30</th>\n",
       "      <th>31</th>\n",
       "      <th>32</th>\n",
       "      <th>33</th>\n",
       "      <th>34</th>\n",
       "      <th>35</th>\n",
       "      <th>36</th>\n",
       "    </tr>\n",
       "    <tr>\n",
       "      <th>Dominant_Topic</th>\n",
       "      <th>Keywords</th>\n",
       "      <th></th>\n",
       "      <th></th>\n",
       "      <th></th>\n",
       "      <th></th>\n",
       "      <th></th>\n",
       "      <th></th>\n",
       "      <th></th>\n",
       "      <th></th>\n",
       "      <th></th>\n",
       "      <th></th>\n",
       "      <th></th>\n",
       "      <th></th>\n",
       "      <th></th>\n",
       "      <th></th>\n",
       "      <th></th>\n",
       "      <th></th>\n",
       "      <th></th>\n",
       "      <th></th>\n",
       "      <th></th>\n",
       "      <th></th>\n",
       "      <th></th>\n",
       "    </tr>\n",
       "  </thead>\n",
       "  <tbody>\n",
       "    <tr>\n",
       "      <th>0</th>\n",
       "      <th>speech, absent, pretend, does, play, shifting, attention, eye, contacts, spontaneously</th>\n",
       "      <td>NaN</td>\n",
       "      <td>NaN</td>\n",
       "      <td>NaN</td>\n",
       "      <td>NaN</td>\n",
       "      <td>NaN</td>\n",
       "      <td>NaN</td>\n",
       "      <td>NaN</td>\n",
       "      <td>NaN</td>\n",
       "      <td>NaN</td>\n",
       "      <td>NaN</td>\n",
       "      <td>...</td>\n",
       "      <td>NaN</td>\n",
       "      <td>1.0</td>\n",
       "      <td>1.0</td>\n",
       "      <td>2.0</td>\n",
       "      <td>NaN</td>\n",
       "      <td>1.0</td>\n",
       "      <td>NaN</td>\n",
       "      <td>1.0</td>\n",
       "      <td>NaN</td>\n",
       "      <td>10.0</td>\n",
       "    </tr>\n",
       "    <tr>\n",
       "      <th>1</th>\n",
       "      <th>pointing, interest, express, to, social, spontaneously, difficulty, gesture, imitating, reciprocity</th>\n",
       "      <td>12.0</td>\n",
       "      <td>1.0</td>\n",
       "      <td>6.0</td>\n",
       "      <td>7.0</td>\n",
       "      <td>4.0</td>\n",
       "      <td>6.0</td>\n",
       "      <td>5.0</td>\n",
       "      <td>3.0</td>\n",
       "      <td>4.0</td>\n",
       "      <td>3.0</td>\n",
       "      <td>...</td>\n",
       "      <td>1.0</td>\n",
       "      <td>4.0</td>\n",
       "      <td>3.0</td>\n",
       "      <td>13.0</td>\n",
       "      <td>10.0</td>\n",
       "      <td>4.0</td>\n",
       "      <td>5.0</td>\n",
       "      <td>5.0</td>\n",
       "      <td>4.0</td>\n",
       "      <td>46.0</td>\n",
       "    </tr>\n",
       "    <tr>\n",
       "      <th>2</th>\n",
       "      <th>play, impairment, manipulating, at, stares, rather, objects, than, them, blankly</th>\n",
       "      <td>35.0</td>\n",
       "      <td>11.0</td>\n",
       "      <td>6.0</td>\n",
       "      <td>16.0</td>\n",
       "      <td>5.0</td>\n",
       "      <td>2.0</td>\n",
       "      <td>4.0</td>\n",
       "      <td>6.0</td>\n",
       "      <td>9.0</td>\n",
       "      <td>4.0</td>\n",
       "      <td>...</td>\n",
       "      <td>12.0</td>\n",
       "      <td>11.0</td>\n",
       "      <td>7.0</td>\n",
       "      <td>24.0</td>\n",
       "      <td>13.0</td>\n",
       "      <td>14.0</td>\n",
       "      <td>19.0</td>\n",
       "      <td>13.0</td>\n",
       "      <td>14.0</td>\n",
       "      <td>133.0</td>\n",
       "    </tr>\n",
       "    <tr>\n",
       "      <th>3</th>\n",
       "      <th>attention, social, and, deficit, concentration, impairment, reciprocity, emotional, interaction, in</th>\n",
       "      <td>5.0</td>\n",
       "      <td>NaN</td>\n",
       "      <td>3.0</td>\n",
       "      <td>1.0</td>\n",
       "      <td>NaN</td>\n",
       "      <td>3.0</td>\n",
       "      <td>2.0</td>\n",
       "      <td>1.0</td>\n",
       "      <td>NaN</td>\n",
       "      <td>1.0</td>\n",
       "      <td>...</td>\n",
       "      <td>3.0</td>\n",
       "      <td>5.0</td>\n",
       "      <td>3.0</td>\n",
       "      <td>8.0</td>\n",
       "      <td>4.0</td>\n",
       "      <td>5.0</td>\n",
       "      <td>5.0</td>\n",
       "      <td>5.0</td>\n",
       "      <td>2.0</td>\n",
       "      <td>54.0</td>\n",
       "    </tr>\n",
       "    <tr>\n",
       "      <th>4</th>\n",
       "      <th>attention, social, pointing, gesture, difficulty, imitating, absent, speech, pretend, does</th>\n",
       "      <td>15.0</td>\n",
       "      <td>6.0</td>\n",
       "      <td>4.0</td>\n",
       "      <td>7.0</td>\n",
       "      <td>4.0</td>\n",
       "      <td>1.0</td>\n",
       "      <td>5.0</td>\n",
       "      <td>11.0</td>\n",
       "      <td>8.0</td>\n",
       "      <td>5.0</td>\n",
       "      <td>...</td>\n",
       "      <td>7.0</td>\n",
       "      <td>21.0</td>\n",
       "      <td>10.0</td>\n",
       "      <td>20.0</td>\n",
       "      <td>3.0</td>\n",
       "      <td>6.0</td>\n",
       "      <td>7.0</td>\n",
       "      <td>10.0</td>\n",
       "      <td>10.0</td>\n",
       "      <td>77.0</td>\n",
       "    </tr>\n",
       "  </tbody>\n",
       "</table>\n",
       "<p>5 rows × 25 columns</p>\n",
       "</div>"
      ],
      "text/plain": [
       "Age_Mons                                                             12    13  \\\n",
       "Dominant_Topic Keywords                                                         \n",
       "0              speech, absent, pretend, does, play, shifting, ...   NaN   NaN   \n",
       "1              pointing, interest, express, to, social, sponta...  12.0   1.0   \n",
       "2              play, impairment, manipulating, at, stares, rat...  35.0  11.0   \n",
       "3              attention, social, and, deficit, concentration,...   5.0   NaN   \n",
       "4              attention, social, pointing, gesture, difficult...  15.0   6.0   \n",
       "\n",
       "Age_Mons                                                            14    15  \\\n",
       "Dominant_Topic Keywords                                                        \n",
       "0              speech, absent, pretend, does, play, shifting, ...  NaN   NaN   \n",
       "1              pointing, interest, express, to, social, sponta...  6.0   7.0   \n",
       "2              play, impairment, manipulating, at, stares, rat...  6.0  16.0   \n",
       "3              attention, social, and, deficit, concentration,...  3.0   1.0   \n",
       "4              attention, social, pointing, gesture, difficult...  4.0   7.0   \n",
       "\n",
       "Age_Mons                                                            16   17  \\\n",
       "Dominant_Topic Keywords                                                       \n",
       "0              speech, absent, pretend, does, play, shifting, ...  NaN  NaN   \n",
       "1              pointing, interest, express, to, social, sponta...  4.0  6.0   \n",
       "2              play, impairment, manipulating, at, stares, rat...  5.0  2.0   \n",
       "3              attention, social, and, deficit, concentration,...  NaN  3.0   \n",
       "4              attention, social, pointing, gesture, difficult...  4.0  1.0   \n",
       "\n",
       "Age_Mons                                                            18    19  \\\n",
       "Dominant_Topic Keywords                                                        \n",
       "0              speech, absent, pretend, does, play, shifting, ...  NaN   NaN   \n",
       "1              pointing, interest, express, to, social, sponta...  5.0   3.0   \n",
       "2              play, impairment, manipulating, at, stares, rat...  4.0   6.0   \n",
       "3              attention, social, and, deficit, concentration,...  2.0   1.0   \n",
       "4              attention, social, pointing, gesture, difficult...  5.0  11.0   \n",
       "\n",
       "Age_Mons                                                            20   21  \\\n",
       "Dominant_Topic Keywords                                                       \n",
       "0              speech, absent, pretend, does, play, shifting, ...  NaN  NaN   \n",
       "1              pointing, interest, express, to, social, sponta...  4.0  3.0   \n",
       "2              play, impairment, manipulating, at, stares, rat...  9.0  4.0   \n",
       "3              attention, social, and, deficit, concentration,...  NaN  1.0   \n",
       "4              attention, social, pointing, gesture, difficult...  8.0  5.0   \n",
       "\n",
       "Age_Mons                                                           ...    27  \\\n",
       "Dominant_Topic Keywords                                            ...         \n",
       "0              speech, absent, pretend, does, play, shifting, ...  ...   NaN   \n",
       "1              pointing, interest, express, to, social, sponta...  ...   1.0   \n",
       "2              play, impairment, manipulating, at, stares, rat...  ...  12.0   \n",
       "3              attention, social, and, deficit, concentration,...  ...   3.0   \n",
       "4              attention, social, pointing, gesture, difficult...  ...   7.0   \n",
       "\n",
       "Age_Mons                                                             28    29  \\\n",
       "Dominant_Topic Keywords                                                         \n",
       "0              speech, absent, pretend, does, play, shifting, ...   1.0   1.0   \n",
       "1              pointing, interest, express, to, social, sponta...   4.0   3.0   \n",
       "2              play, impairment, manipulating, at, stares, rat...  11.0   7.0   \n",
       "3              attention, social, and, deficit, concentration,...   5.0   3.0   \n",
       "4              attention, social, pointing, gesture, difficult...  21.0  10.0   \n",
       "\n",
       "Age_Mons                                                             30    31  \\\n",
       "Dominant_Topic Keywords                                                         \n",
       "0              speech, absent, pretend, does, play, shifting, ...   2.0   NaN   \n",
       "1              pointing, interest, express, to, social, sponta...  13.0  10.0   \n",
       "2              play, impairment, manipulating, at, stares, rat...  24.0  13.0   \n",
       "3              attention, social, and, deficit, concentration,...   8.0   4.0   \n",
       "4              attention, social, pointing, gesture, difficult...  20.0   3.0   \n",
       "\n",
       "Age_Mons                                                             32    33  \\\n",
       "Dominant_Topic Keywords                                                         \n",
       "0              speech, absent, pretend, does, play, shifting, ...   1.0   NaN   \n",
       "1              pointing, interest, express, to, social, sponta...   4.0   5.0   \n",
       "2              play, impairment, manipulating, at, stares, rat...  14.0  19.0   \n",
       "3              attention, social, and, deficit, concentration,...   5.0   5.0   \n",
       "4              attention, social, pointing, gesture, difficult...   6.0   7.0   \n",
       "\n",
       "Age_Mons                                                             34    35  \\\n",
       "Dominant_Topic Keywords                                                         \n",
       "0              speech, absent, pretend, does, play, shifting, ...   1.0   NaN   \n",
       "1              pointing, interest, express, to, social, sponta...   5.0   4.0   \n",
       "2              play, impairment, manipulating, at, stares, rat...  13.0  14.0   \n",
       "3              attention, social, and, deficit, concentration,...   5.0   2.0   \n",
       "4              attention, social, pointing, gesture, difficult...  10.0  10.0   \n",
       "\n",
       "Age_Mons                                                              36  \n",
       "Dominant_Topic Keywords                                                   \n",
       "0              speech, absent, pretend, does, play, shifting, ...   10.0  \n",
       "1              pointing, interest, express, to, social, sponta...   46.0  \n",
       "2              play, impairment, manipulating, at, stares, rat...  133.0  \n",
       "3              attention, social, and, deficit, concentration,...   54.0  \n",
       "4              attention, social, pointing, gesture, difficult...   77.0  \n",
       "\n",
       "[5 rows x 25 columns]"
      ]
     },
     "execution_count": 90,
     "metadata": {},
     "output_type": "execute_result"
    }
   ],
   "source": [
    "table_5tp_Age_Mons"
   ]
  },
  {
   "cell_type": "code",
   "execution_count": 91,
   "metadata": {},
   "outputs": [],
   "source": [
    "#'Sex'\n",
    "\n",
    "table_5tp_Sex = pd.pivot_table(T_ASD_topics_5tp, values='Case_No', index=['Dominant_Topic','Keywords'],\n",
    "                       columns=['Sex'], aggfunc=len)"
   ]
  },
  {
   "cell_type": "code",
   "execution_count": 92,
   "metadata": {},
   "outputs": [
    {
     "data": {
      "text/html": [
       "<div>\n",
       "<style scoped>\n",
       "    .dataframe tbody tr th:only-of-type {\n",
       "        vertical-align: middle;\n",
       "    }\n",
       "\n",
       "    .dataframe tbody tr th {\n",
       "        vertical-align: top;\n",
       "    }\n",
       "\n",
       "    .dataframe thead th {\n",
       "        text-align: right;\n",
       "    }\n",
       "</style>\n",
       "<table border=\"1\" class=\"dataframe\">\n",
       "  <thead>\n",
       "    <tr style=\"text-align: right;\">\n",
       "      <th></th>\n",
       "      <th>Sex</th>\n",
       "      <th>f</th>\n",
       "      <th>m</th>\n",
       "    </tr>\n",
       "    <tr>\n",
       "      <th>Dominant_Topic</th>\n",
       "      <th>Keywords</th>\n",
       "      <th></th>\n",
       "      <th></th>\n",
       "    </tr>\n",
       "  </thead>\n",
       "  <tbody>\n",
       "    <tr>\n",
       "      <th>0</th>\n",
       "      <th>speech, absent, pretend, does, play, shifting, attention, eye, contacts, spontaneously</th>\n",
       "      <td>8</td>\n",
       "      <td>11</td>\n",
       "    </tr>\n",
       "    <tr>\n",
       "      <th>1</th>\n",
       "      <th>pointing, interest, express, to, social, spontaneously, difficulty, gesture, imitating, reciprocity</th>\n",
       "      <td>54</td>\n",
       "      <td>123</td>\n",
       "    </tr>\n",
       "    <tr>\n",
       "      <th>2</th>\n",
       "      <th>play, impairment, manipulating, at, stares, rather, objects, than, them, blankly</th>\n",
       "      <td>149</td>\n",
       "      <td>279</td>\n",
       "    </tr>\n",
       "    <tr>\n",
       "      <th>3</th>\n",
       "      <th>attention, social, and, deficit, concentration, impairment, reciprocity, emotional, interaction, in</th>\n",
       "      <td>34</td>\n",
       "      <td>99</td>\n",
       "    </tr>\n",
       "    <tr>\n",
       "      <th>4</th>\n",
       "      <th>attention, social, pointing, gesture, difficulty, imitating, absent, speech, pretend, does</th>\n",
       "      <td>74</td>\n",
       "      <td>223</td>\n",
       "    </tr>\n",
       "  </tbody>\n",
       "</table>\n",
       "</div>"
      ],
      "text/plain": [
       "Sex                                                                  f    m\n",
       "Dominant_Topic Keywords                                                    \n",
       "0              speech, absent, pretend, does, play, shifting, ...    8   11\n",
       "1              pointing, interest, express, to, social, sponta...   54  123\n",
       "2              play, impairment, manipulating, at, stares, rat...  149  279\n",
       "3              attention, social, and, deficit, concentration,...   34   99\n",
       "4              attention, social, pointing, gesture, difficult...   74  223"
      ]
     },
     "execution_count": 92,
     "metadata": {},
     "output_type": "execute_result"
    }
   ],
   "source": [
    "table_5tp_Sex "
   ]
  },
  {
   "cell_type": "code",
   "execution_count": null,
   "metadata": {},
   "outputs": [],
   "source": [
    "# Family_mem_with_ASD"
   ]
  },
  {
   "cell_type": "code",
   "execution_count": 96,
   "metadata": {},
   "outputs": [],
   "source": [
    "table_5tp_Family = pd.pivot_table(T_ASD_topics_5tp, values='Case_No', index=['Dominant_Topic','Keywords'],\n",
    "                       columns=['Family_mem_with_ASD'], aggfunc=len)"
   ]
  },
  {
   "cell_type": "code",
   "execution_count": 97,
   "metadata": {},
   "outputs": [
    {
     "data": {
      "text/html": [
       "<div>\n",
       "<style scoped>\n",
       "    .dataframe tbody tr th:only-of-type {\n",
       "        vertical-align: middle;\n",
       "    }\n",
       "\n",
       "    .dataframe tbody tr th {\n",
       "        vertical-align: top;\n",
       "    }\n",
       "\n",
       "    .dataframe thead th {\n",
       "        text-align: right;\n",
       "    }\n",
       "</style>\n",
       "<table border=\"1\" class=\"dataframe\">\n",
       "  <thead>\n",
       "    <tr style=\"text-align: right;\">\n",
       "      <th></th>\n",
       "      <th>Family_mem_with_ASD</th>\n",
       "      <th>no</th>\n",
       "      <th>yes</th>\n",
       "    </tr>\n",
       "    <tr>\n",
       "      <th>Dominant_Topic</th>\n",
       "      <th>Keywords</th>\n",
       "      <th></th>\n",
       "      <th></th>\n",
       "    </tr>\n",
       "  </thead>\n",
       "  <tbody>\n",
       "    <tr>\n",
       "      <th>0</th>\n",
       "      <th>speech, absent, pretend, does, play, shifting, attention, eye, contacts, spontaneously</th>\n",
       "      <td>17</td>\n",
       "      <td>2</td>\n",
       "    </tr>\n",
       "    <tr>\n",
       "      <th>1</th>\n",
       "      <th>pointing, interest, express, to, social, spontaneously, difficulty, gesture, imitating, reciprocity</th>\n",
       "      <td>155</td>\n",
       "      <td>22</td>\n",
       "    </tr>\n",
       "    <tr>\n",
       "      <th>2</th>\n",
       "      <th>play, impairment, manipulating, at, stares, rather, objects, than, them, blankly</th>\n",
       "      <td>359</td>\n",
       "      <td>69</td>\n",
       "    </tr>\n",
       "    <tr>\n",
       "      <th>3</th>\n",
       "      <th>attention, social, and, deficit, concentration, impairment, reciprocity, emotional, interaction, in</th>\n",
       "      <td>101</td>\n",
       "      <td>32</td>\n",
       "    </tr>\n",
       "    <tr>\n",
       "      <th>4</th>\n",
       "      <th>attention, social, pointing, gesture, difficulty, imitating, absent, speech, pretend, does</th>\n",
       "      <td>252</td>\n",
       "      <td>45</td>\n",
       "    </tr>\n",
       "  </tbody>\n",
       "</table>\n",
       "</div>"
      ],
      "text/plain": [
       "Family_mem_with_ASD                                                 no  yes\n",
       "Dominant_Topic Keywords                                                    \n",
       "0              speech, absent, pretend, does, play, shifting, ...   17    2\n",
       "1              pointing, interest, express, to, social, sponta...  155   22\n",
       "2              play, impairment, manipulating, at, stares, rat...  359   69\n",
       "3              attention, social, and, deficit, concentration,...  101   32\n",
       "4              attention, social, pointing, gesture, difficult...  252   45"
      ]
     },
     "execution_count": 97,
     "metadata": {},
     "output_type": "execute_result"
    }
   ],
   "source": [
    "table_5tp_Family"
   ]
  },
  {
   "cell_type": "code",
   "execution_count": null,
   "metadata": {},
   "outputs": [],
   "source": [
    "# \"Who completed the test\""
   ]
  },
  {
   "cell_type": "code",
   "execution_count": 98,
   "metadata": {},
   "outputs": [],
   "source": [
    "table_5tp_who = pd.pivot_table(T_ASD_topics_5tp, values='Case_No', index=['Dominant_Topic','Keywords'],\n",
    "                       columns=['Who completed the test'], aggfunc=len)"
   ]
  },
  {
   "cell_type": "code",
   "execution_count": 99,
   "metadata": {},
   "outputs": [
    {
     "data": {
      "text/html": [
       "<div>\n",
       "<style scoped>\n",
       "    .dataframe tbody tr th:only-of-type {\n",
       "        vertical-align: middle;\n",
       "    }\n",
       "\n",
       "    .dataframe tbody tr th {\n",
       "        vertical-align: top;\n",
       "    }\n",
       "\n",
       "    .dataframe thead th {\n",
       "        text-align: right;\n",
       "    }\n",
       "</style>\n",
       "<table border=\"1\" class=\"dataframe\">\n",
       "  <thead>\n",
       "    <tr style=\"text-align: right;\">\n",
       "      <th></th>\n",
       "      <th>Who completed the test</th>\n",
       "      <th>Health Care Professional</th>\n",
       "      <th>Health care professional</th>\n",
       "      <th>Others</th>\n",
       "      <th>Self</th>\n",
       "      <th>family member</th>\n",
       "    </tr>\n",
       "    <tr>\n",
       "      <th>Dominant_Topic</th>\n",
       "      <th>Keywords</th>\n",
       "      <th></th>\n",
       "      <th></th>\n",
       "      <th></th>\n",
       "      <th></th>\n",
       "      <th></th>\n",
       "    </tr>\n",
       "  </thead>\n",
       "  <tbody>\n",
       "    <tr>\n",
       "      <th>0</th>\n",
       "      <th>speech, absent, pretend, does, play, shifting, attention, eye, contacts, spontaneously</th>\n",
       "      <td>NaN</td>\n",
       "      <td>NaN</td>\n",
       "      <td>NaN</td>\n",
       "      <td>NaN</td>\n",
       "      <td>19.0</td>\n",
       "    </tr>\n",
       "    <tr>\n",
       "      <th>1</th>\n",
       "      <th>pointing, interest, express, to, social, spontaneously, difficulty, gesture, imitating, reciprocity</th>\n",
       "      <td>1.0</td>\n",
       "      <td>NaN</td>\n",
       "      <td>NaN</td>\n",
       "      <td>1.0</td>\n",
       "      <td>175.0</td>\n",
       "    </tr>\n",
       "    <tr>\n",
       "      <th>2</th>\n",
       "      <th>play, impairment, manipulating, at, stares, rather, objects, than, them, blankly</th>\n",
       "      <td>7.0</td>\n",
       "      <td>3.0</td>\n",
       "      <td>1.0</td>\n",
       "      <td>2.0</td>\n",
       "      <td>415.0</td>\n",
       "    </tr>\n",
       "    <tr>\n",
       "      <th>3</th>\n",
       "      <th>attention, social, and, deficit, concentration, impairment, reciprocity, emotional, interaction, in</th>\n",
       "      <td>5.0</td>\n",
       "      <td>NaN</td>\n",
       "      <td>1.0</td>\n",
       "      <td>1.0</td>\n",
       "      <td>126.0</td>\n",
       "    </tr>\n",
       "    <tr>\n",
       "      <th>4</th>\n",
       "      <th>attention, social, pointing, gesture, difficulty, imitating, absent, speech, pretend, does</th>\n",
       "      <td>11.0</td>\n",
       "      <td>2.0</td>\n",
       "      <td>1.0</td>\n",
       "      <td>NaN</td>\n",
       "      <td>283.0</td>\n",
       "    </tr>\n",
       "  </tbody>\n",
       "</table>\n",
       "</div>"
      ],
      "text/plain": [
       "Who completed the test                                             Health Care Professional  \\\n",
       "Dominant_Topic Keywords                                                                       \n",
       "0              speech, absent, pretend, does, play, shifting, ...                       NaN   \n",
       "1              pointing, interest, express, to, social, sponta...                       1.0   \n",
       "2              play, impairment, manipulating, at, stares, rat...                       7.0   \n",
       "3              attention, social, and, deficit, concentration,...                       5.0   \n",
       "4              attention, social, pointing, gesture, difficult...                      11.0   \n",
       "\n",
       "Who completed the test                                             Health care professional  \\\n",
       "Dominant_Topic Keywords                                                                       \n",
       "0              speech, absent, pretend, does, play, shifting, ...                       NaN   \n",
       "1              pointing, interest, express, to, social, sponta...                       NaN   \n",
       "2              play, impairment, manipulating, at, stares, rat...                       3.0   \n",
       "3              attention, social, and, deficit, concentration,...                       NaN   \n",
       "4              attention, social, pointing, gesture, difficult...                       2.0   \n",
       "\n",
       "Who completed the test                                             Others  \\\n",
       "Dominant_Topic Keywords                                                     \n",
       "0              speech, absent, pretend, does, play, shifting, ...     NaN   \n",
       "1              pointing, interest, express, to, social, sponta...     NaN   \n",
       "2              play, impairment, manipulating, at, stares, rat...     1.0   \n",
       "3              attention, social, and, deficit, concentration,...     1.0   \n",
       "4              attention, social, pointing, gesture, difficult...     1.0   \n",
       "\n",
       "Who completed the test                                             Self  \\\n",
       "Dominant_Topic Keywords                                                   \n",
       "0              speech, absent, pretend, does, play, shifting, ...   NaN   \n",
       "1              pointing, interest, express, to, social, sponta...   1.0   \n",
       "2              play, impairment, manipulating, at, stares, rat...   2.0   \n",
       "3              attention, social, and, deficit, concentration,...   1.0   \n",
       "4              attention, social, pointing, gesture, difficult...   NaN   \n",
       "\n",
       "Who completed the test                                             family member  \n",
       "Dominant_Topic Keywords                                                           \n",
       "0              speech, absent, pretend, does, play, shifting, ...           19.0  \n",
       "1              pointing, interest, express, to, social, sponta...          175.0  \n",
       "2              play, impairment, manipulating, at, stares, rat...          415.0  \n",
       "3              attention, social, and, deficit, concentration,...          126.0  \n",
       "4              attention, social, pointing, gesture, difficult...          283.0  "
      ]
     },
     "execution_count": 99,
     "metadata": {},
     "output_type": "execute_result"
    }
   ],
   "source": [
    "table_5tp_who"
   ]
  },
  {
   "cell_type": "code",
   "execution_count": null,
   "metadata": {},
   "outputs": [],
   "source": [
    "# ChiS- test"
   ]
  },
  {
   "cell_type": "code",
   "execution_count": 105,
   "metadata": {},
   "outputs": [],
   "source": [
    "#Class/ASD Traits Vs topic comparison\n",
    "\n",
    "table_5tp_pct = pd.pivot_table(T_ASD_topics_5tp, values='Case_No', index=['Dominant_Topic','Keywords'],\n",
    "                       columns=['Class/ASD Traits '], aggfunc=sum,\n",
    "               fill_value=0).apply(lambda x: x*100/sum(x))"
   ]
  },
  {
   "cell_type": "code",
   "execution_count": null,
   "metadata": {},
   "outputs": [],
   "source": [
    "pd.pivot_table(data=df, index='Salesperson',\n",
    "               columns='Product',\n",
    "               values='Sales',\n",
    "               aggfunc=sum,\n",
    "               fill_value=0).apply(lambda x: x*100/sum(x))"
   ]
  },
  {
   "cell_type": "code",
   "execution_count": 106,
   "metadata": {},
   "outputs": [
    {
     "data": {
      "text/html": [
       "<div>\n",
       "<style scoped>\n",
       "    .dataframe tbody tr th:only-of-type {\n",
       "        vertical-align: middle;\n",
       "    }\n",
       "\n",
       "    .dataframe tbody tr th {\n",
       "        vertical-align: top;\n",
       "    }\n",
       "\n",
       "    .dataframe thead th {\n",
       "        text-align: right;\n",
       "    }\n",
       "</style>\n",
       "<table border=\"1\" class=\"dataframe\">\n",
       "  <thead>\n",
       "    <tr style=\"text-align: right;\">\n",
       "      <th></th>\n",
       "      <th>Class/ASD Traits</th>\n",
       "      <th>No</th>\n",
       "      <th>Yes</th>\n",
       "    </tr>\n",
       "    <tr>\n",
       "      <th>Dominant_Topic</th>\n",
       "      <th>Keywords</th>\n",
       "      <th></th>\n",
       "      <th></th>\n",
       "    </tr>\n",
       "  </thead>\n",
       "  <tbody>\n",
       "    <tr>\n",
       "      <th>0</th>\n",
       "      <th>speech, absent, pretend, does, play, shifting, attention, eye, contacts, spontaneously</th>\n",
       "      <td>5.448061</td>\n",
       "      <td>0.000000</td>\n",
       "    </tr>\n",
       "    <tr>\n",
       "      <th>1</th>\n",
       "      <th>pointing, interest, express, to, social, spontaneously, difficulty, gesture, imitating, reciprocity</th>\n",
       "      <td>11.552538</td>\n",
       "      <td>20.841533</td>\n",
       "    </tr>\n",
       "    <tr>\n",
       "      <th>2</th>\n",
       "      <th>play, impairment, manipulating, at, stares, rather, objects, than, them, blankly</th>\n",
       "      <td>59.742555</td>\n",
       "      <td>29.712054</td>\n",
       "    </tr>\n",
       "    <tr>\n",
       "      <th>3</th>\n",
       "      <th>attention, social, and, deficit, concentration, impairment, reciprocity, emotional, interaction, in</th>\n",
       "      <td>18.459578</td>\n",
       "      <td>10.202009</td>\n",
       "    </tr>\n",
       "    <tr>\n",
       "      <th>4</th>\n",
       "      <th>attention, social, pointing, gesture, difficulty, imitating, absent, speech, pretend, does</th>\n",
       "      <td>4.797267</td>\n",
       "      <td>39.244404</td>\n",
       "    </tr>\n",
       "  </tbody>\n",
       "</table>\n",
       "</div>"
      ],
      "text/plain": [
       "Class/ASD Traits                                                          No  \\\n",
       "Dominant_Topic Keywords                                                        \n",
       "0              speech, absent, pretend, does, play, shifting, ...   5.448061   \n",
       "1              pointing, interest, express, to, social, sponta...  11.552538   \n",
       "2              play, impairment, manipulating, at, stares, rat...  59.742555   \n",
       "3              attention, social, and, deficit, concentration,...  18.459578   \n",
       "4              attention, social, pointing, gesture, difficult...   4.797267   \n",
       "\n",
       "Class/ASD Traits                                                         Yes  \n",
       "Dominant_Topic Keywords                                                       \n",
       "0              speech, absent, pretend, does, play, shifting, ...   0.000000  \n",
       "1              pointing, interest, express, to, social, sponta...  20.841533  \n",
       "2              play, impairment, manipulating, at, stares, rat...  29.712054  \n",
       "3              attention, social, and, deficit, concentration,...  10.202009  \n",
       "4              attention, social, pointing, gesture, difficult...  39.244404  "
      ]
     },
     "execution_count": 106,
     "metadata": {},
     "output_type": "execute_result"
    }
   ],
   "source": [
    "table_5tp_pct"
   ]
  },
  {
   "cell_type": "code",
   "execution_count": 103,
   "metadata": {},
   "outputs": [],
   "source": [
    "import pandas as pd\n",
    "import scipy.stats as stats"
   ]
  },
  {
   "cell_type": "code",
   "execution_count": 107,
   "metadata": {},
   "outputs": [],
   "source": [
    "# create contingency table :T_ASD_topics_5tp['Dominant_Topic'],['Class/ASD Traits '],\n",
    "data_crosstab = pd.crosstab(T_ASD_topics_5tp['Dominant_Topic'],\n",
    "                            T_ASD_topics_5tp['Class/ASD Traits '],\n",
    "                           margins=True, margins_name=\"Total\")"
   ]
  },
  {
   "cell_type": "code",
   "execution_count": 108,
   "metadata": {},
   "outputs": [
    {
     "data": {
      "text/html": [
       "<div>\n",
       "<style scoped>\n",
       "    .dataframe tbody tr th:only-of-type {\n",
       "        vertical-align: middle;\n",
       "    }\n",
       "\n",
       "    .dataframe tbody tr th {\n",
       "        vertical-align: top;\n",
       "    }\n",
       "\n",
       "    .dataframe thead th {\n",
       "        text-align: right;\n",
       "    }\n",
       "</style>\n",
       "<table border=\"1\" class=\"dataframe\">\n",
       "  <thead>\n",
       "    <tr style=\"text-align: right;\">\n",
       "      <th>Class/ASD Traits</th>\n",
       "      <th>No</th>\n",
       "      <th>Yes</th>\n",
       "      <th>Total</th>\n",
       "    </tr>\n",
       "    <tr>\n",
       "      <th>Dominant_Topic</th>\n",
       "      <th></th>\n",
       "      <th></th>\n",
       "      <th></th>\n",
       "    </tr>\n",
       "  </thead>\n",
       "  <tbody>\n",
       "    <tr>\n",
       "      <th>0</th>\n",
       "      <td>19</td>\n",
       "      <td>0</td>\n",
       "      <td>19</td>\n",
       "    </tr>\n",
       "    <tr>\n",
       "      <th>1</th>\n",
       "      <td>33</td>\n",
       "      <td>144</td>\n",
       "      <td>177</td>\n",
       "    </tr>\n",
       "    <tr>\n",
       "      <th>2</th>\n",
       "      <td>202</td>\n",
       "      <td>226</td>\n",
       "      <td>428</td>\n",
       "    </tr>\n",
       "    <tr>\n",
       "      <th>3</th>\n",
       "      <td>61</td>\n",
       "      <td>72</td>\n",
       "      <td>133</td>\n",
       "    </tr>\n",
       "    <tr>\n",
       "      <th>4</th>\n",
       "      <td>11</td>\n",
       "      <td>286</td>\n",
       "      <td>297</td>\n",
       "    </tr>\n",
       "    <tr>\n",
       "      <th>Total</th>\n",
       "      <td>326</td>\n",
       "      <td>728</td>\n",
       "      <td>1054</td>\n",
       "    </tr>\n",
       "  </tbody>\n",
       "</table>\n",
       "</div>"
      ],
      "text/plain": [
       "Class/ASD Traits    No  Yes  Total\n",
       "Dominant_Topic                    \n",
       "0                   19    0     19\n",
       "1                   33  144    177\n",
       "2                  202  226    428\n",
       "3                   61   72    133\n",
       "4                   11  286    297\n",
       "Total              326  728   1054"
      ]
     },
     "execution_count": 108,
     "metadata": {},
     "output_type": "execute_result"
    }
   ],
   "source": [
    "data_crosstab "
   ]
  },
  {
   "cell_type": "code",
   "execution_count": 110,
   "metadata": {},
   "outputs": [
    {
     "data": {
      "text/plain": [
       "''"
      ]
     },
     "execution_count": 110,
     "metadata": {},
     "output_type": "execute_result"
    }
   ],
   "source": [
    "\"\"\"\n",
    "According to five steps process of hypothesis testing:\n",
    "H₀: whether Dominant_Topic and their Class/ASD Traits are independent, i.e. no relationship\n",
    "H₁: whether Dominant_Topic and their their Class/ASD Traits are dependent, i.e. ∃ a relationship\n",
    "α = 0.05\n",
    "Following χ2 independence test statistics:\n",
    "\n",
    "\n",
    "Conclusion: We have enough evidence that there is an association \n",
    "between Dominant_Topic and their Class/ASD Traits, at 5% significance level.\n",
    "\"\"\"\n",
    "\n",
    "\n",
    "\n"
   ]
  },
  {
   "cell_type": "code",
   "execution_count": 109,
   "metadata": {},
   "outputs": [
    {
     "name": "stdout",
     "output_type": "stream",
     "text": [
      "Approach 1: The p-value approach to hypothesis testing in the decision rule\n",
      "chisquare-score is: 224.88467035209206  and p value is: 0.0\n",
      "Null Hypothesis is rejected.\n",
      "\n",
      "--------------------------------------------------------------------------------------\n",
      "Approach 2: The critical value approach to hypothesis testing in the decision rule\n",
      "chisquare-score is: 224.88467035209206  and critical value is: 9.487729036781154\n",
      "Null Hypothesis is rejected.\n"
     ]
    }
   ],
   "source": [
    "# significance level\n",
    "alpha = 0.05\n",
    "\n",
    "# Calcualtion of Chisquare\n",
    "chi_square = 0\n",
    "rows = T_ASD_topics_5tp['Dominant_Topic'].unique()\n",
    "columns = T_ASD_topics_5tp['Class/ASD Traits '].unique()\n",
    "for i in columns:\n",
    "    for j in rows:\n",
    "        O = data_crosstab[i][j]\n",
    "        E = data_crosstab[i]['Total'] * data_crosstab['Total'][j] / data_crosstab['Total']['Total']\n",
    "        chi_square += (O-E)**2/E\n",
    "\n",
    "# The p-value approach\n",
    "print(\"Approach 1: The p-value approach to hypothesis testing in the decision rule\")\n",
    "p_value = 1 - stats.chi2.cdf(chi_square, (len(rows)-1)*(len(columns)-1))\n",
    "conclusion = \"Failed to reject the null hypothesis.\"\n",
    "if p_value <= alpha:\n",
    "    conclusion = \"Null Hypothesis is rejected.\"\n",
    "        \n",
    "print(\"chisquare-score is:\", chi_square, \" and p value is:\", p_value)\n",
    "print(conclusion)\n",
    "    \n",
    "# The critical value approach\n",
    "print(\"\\n--------------------------------------------------------------------------------------\")\n",
    "print(\"Approach 2: The critical value approach to hypothesis testing in the decision rule\")\n",
    "critical_value = stats.chi2.ppf(1-alpha, (len(rows)-1)*(len(columns)-1))\n",
    "conclusion = \"Failed to reject the null hypothesis.\"\n",
    "if chi_square > critical_value:\n",
    "    conclusion = \"Null Hypothesis is rejected.\"\n",
    "        \n",
    "print(\"chisquare-score is:\", chi_square, \" and critical value is:\", critical_value)\n",
    "print(conclusion)"
   ]
  }
 ],
 "metadata": {
  "kernelspec": {
   "display_name": "Python 3",
   "language": "python",
   "name": "python3"
  },
  "language_info": {
   "codemirror_mode": {
    "name": "ipython",
    "version": 3
   },
   "file_extension": ".py",
   "mimetype": "text/x-python",
   "name": "python",
   "nbconvert_exporter": "python",
   "pygments_lexer": "ipython3",
   "version": "3.9.16"
  },
  "orig_nbformat": 4
 },
 "nbformat": 4,
 "nbformat_minor": 2
}
