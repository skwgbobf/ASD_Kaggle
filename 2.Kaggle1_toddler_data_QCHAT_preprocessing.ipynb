{
 "cells": [
  {
   "cell_type": "markdown",
   "metadata": {},
   "source": [
    "2. Kaggle1_toddler_QCHAT_preporicessing\n",
    "The Toddler Kaggle Dataset (QCHAT with additional features) served as the primary input. ASD-specific terms were mapped onto the existing features to create an enhanced dataset tailored for deep learning classification model development\n",
    "\n",
    "\n",
    "- Soo Kyung Bae(Scarlett), Ph.D. Student\n",
    "- Dept. of Integrated Medicine(Major in Digital Healthcare)\n",
    "- Yonsei University College of Medicine"
   ]
  },
  {
   "cell_type": "code",
   "execution_count": null,
   "metadata": {},
   "outputs": [],
   "source": [
    "## Import Data : /home/skbae/Documents/skbae/ASD/paper/Data/qchat.csv\n",
    "\n",
    "import pandas as pd\n",
    "import matplotlib.pyplot as plt"
   ]
  },
  {
   "cell_type": "code",
   "execution_count": null,
   "metadata": {},
   "outputs": [],
   "source": [
    "import os\n",
    "pt0='/home/skbae/Documents/skbae/ASD/paper/Data/'"
   ]
  },
  {
   "cell_type": "code",
   "execution_count": null,
   "metadata": {},
   "outputs": [],
   "source": [
    "#Reading the train file\n",
    "qchat= pd.read_csv(pt0 + \"/qchat.csv\")"
   ]
  },
  {
   "cell_type": "code",
   "execution_count": null,
   "metadata": {},
   "outputs": [
    {
     "data": {
      "text/html": [
       "<div>\n",
       "<style scoped>\n",
       "    .dataframe tbody tr th:only-of-type {\n",
       "        vertical-align: middle;\n",
       "    }\n",
       "\n",
       "    .dataframe tbody tr th {\n",
       "        vertical-align: top;\n",
       "    }\n",
       "\n",
       "    .dataframe thead th {\n",
       "        text-align: right;\n",
       "    }\n",
       "</style>\n",
       "<table border=\"1\" class=\"dataframe\">\n",
       "  <thead>\n",
       "    <tr style=\"text-align: right;\">\n",
       "      <th></th>\n",
       "      <th>Var</th>\n",
       "      <th>Q_chat_10_T</th>\n",
       "    </tr>\n",
       "  </thead>\n",
       "  <tbody>\n",
       "    <tr>\n",
       "      <th>0</th>\n",
       "      <td>A1</td>\n",
       "      <td>Does your child look at you when you call his...</td>\n",
       "    </tr>\n",
       "    <tr>\n",
       "      <th>1</th>\n",
       "      <td>A2</td>\n",
       "      <td>How easy is it for you to get eye contact with...</td>\n",
       "    </tr>\n",
       "    <tr>\n",
       "      <th>2</th>\n",
       "      <td>A3</td>\n",
       "      <td>Does your child point to indicate that s/he wa...</td>\n",
       "    </tr>\n",
       "    <tr>\n",
       "      <th>3</th>\n",
       "      <td>A4</td>\n",
       "      <td>Does your child point to share interest with y...</td>\n",
       "    </tr>\n",
       "    <tr>\n",
       "      <th>4</th>\n",
       "      <td>A5</td>\n",
       "      <td>Does your child pretend? (e.g. care for dolls,...</td>\n",
       "    </tr>\n",
       "  </tbody>\n",
       "</table>\n",
       "</div>"
      ],
      "text/plain": [
       "  Var                                        Q_chat_10_T\n",
       "0  A1   Does your child look at you when you call his...\n",
       "1  A2  How easy is it for you to get eye contact with...\n",
       "2  A3  Does your child point to indicate that s/he wa...\n",
       "3  A4  Does your child point to share interest with y...\n",
       "4  A5  Does your child pretend? (e.g. care for dolls,..."
      ]
     },
     "execution_count": 6,
     "metadata": {},
     "output_type": "execute_result"
    }
   ],
   "source": [
    "qchat.head()"
   ]
  },
  {
   "cell_type": "code",
   "execution_count": null,
   "metadata": {},
   "outputs": [
    {
     "data": {
      "text/plain": [
       "'How easy is it for you to get eye contact with your child? '"
      ]
     },
     "execution_count": 7,
     "metadata": {},
     "output_type": "execute_result"
    }
   ],
   "source": [
    "qchat.Q_chat_10_T[1]"
   ]
  },
  {
   "cell_type": "code",
   "execution_count": null,
   "metadata": {},
   "outputs": [],
   "source": [
    "# QCHT_ASD term\n",
    "\n",
    "# QCHAT_ASD_terms.csv\n",
    "#Reading the train file\n",
    "QCHAT_ASD_t= pd.read_csv(pt0 + \"/QCHAT_ASD_Term1.csv\") # /ASD_TD/"
   ]
  },
  {
   "cell_type": "code",
   "execution_count": null,
   "metadata": {},
   "outputs": [
    {
     "data": {
      "text/html": [
       "<div>\n",
       "<style scoped>\n",
       "    .dataframe tbody tr th:only-of-type {\n",
       "        vertical-align: middle;\n",
       "    }\n",
       "\n",
       "    .dataframe tbody tr th {\n",
       "        vertical-align: top;\n",
       "    }\n",
       "\n",
       "    .dataframe thead th {\n",
       "        text-align: right;\n",
       "    }\n",
       "</style>\n",
       "<table border=\"1\" class=\"dataframe\">\n",
       "  <thead>\n",
       "    <tr style=\"text-align: right;\">\n",
       "      <th></th>\n",
       "      <th>Var</th>\n",
       "      <th>Q_chat_10_T</th>\n",
       "      <th>ID</th>\n",
       "      <th>Name</th>\n",
       "      <th>DSM5 Criteria</th>\n",
       "      <th>Symptom of DSM5 Criteria</th>\n",
       "      <th>CUI</th>\n",
       "    </tr>\n",
       "  </thead>\n",
       "  <tbody>\n",
       "    <tr>\n",
       "      <th>0</th>\n",
       "      <td>A1</td>\n",
       "      <td>Does your child look at you when you call his/...</td>\n",
       "      <td>ASD0194</td>\n",
       "      <td>attention and concentration deficit</td>\n",
       "      <td>A2</td>\n",
       "      <td>deficits in understanding and use of gestures</td>\n",
       "      <td>C2977673</td>\n",
       "    </tr>\n",
       "    <tr>\n",
       "      <th>1</th>\n",
       "      <td>A2</td>\n",
       "      <td>How easy is it for you to get eye contact with...</td>\n",
       "      <td>ASD0250</td>\n",
       "      <td>contacts eye</td>\n",
       "      <td>A2</td>\n",
       "      <td>abnormalities in eye contact</td>\n",
       "      <td>C0870532</td>\n",
       "    </tr>\n",
       "    <tr>\n",
       "      <th>2</th>\n",
       "      <td>A3</td>\n",
       "      <td>Does your child point to indicate that s/he wa...</td>\n",
       "      <td>S1049</td>\n",
       "      <td>spontaneously pointing</td>\n",
       "      <td>B3</td>\n",
       "      <td>excessively circumscribed interest</td>\n",
       "      <td>C4036288</td>\n",
       "    </tr>\n",
       "    <tr>\n",
       "      <th>3</th>\n",
       "      <td>A4</td>\n",
       "      <td>Does your child point to share interest with y...</td>\n",
       "      <td>S0769</td>\n",
       "      <td>pointing to express interest</td>\n",
       "      <td>B3</td>\n",
       "      <td>highly restricted interests</td>\n",
       "      <td>C0424091</td>\n",
       "    </tr>\n",
       "    <tr>\n",
       "      <th>4</th>\n",
       "      <td>A5</td>\n",
       "      <td>Does your child pretend? (e.g. care for dolls,...</td>\n",
       "      <td>S1268</td>\n",
       "      <td>does pretend play</td>\n",
       "      <td>B2</td>\n",
       "      <td>need to take same route</td>\n",
       "      <td>C2371970</td>\n",
       "    </tr>\n",
       "    <tr>\n",
       "      <th>5</th>\n",
       "      <td>A6</td>\n",
       "      <td>Does your child follow where you’re looking?</td>\n",
       "      <td>ASD0642</td>\n",
       "      <td>shifting attention</td>\n",
       "      <td>B3</td>\n",
       "      <td>highly fixated interests</td>\n",
       "      <td>C2370875</td>\n",
       "    </tr>\n",
       "    <tr>\n",
       "      <th>6</th>\n",
       "      <td>A7</td>\n",
       "      <td>If you or someone else in the family is visibl...</td>\n",
       "      <td>ASD0019</td>\n",
       "      <td>social interaction impairment in social/emotio...</td>\n",
       "      <td>A1</td>\n",
       "      <td>social-emotional reciprocity</td>\n",
       "      <td>C4064035</td>\n",
       "    </tr>\n",
       "    <tr>\n",
       "      <th>7</th>\n",
       "      <td>A8</td>\n",
       "      <td>Would you describe your child’s first words as:</td>\n",
       "      <td>ASD0372</td>\n",
       "      <td>absent speech</td>\n",
       "      <td>B1</td>\n",
       "      <td>echolalia</td>\n",
       "      <td>C1854882</td>\n",
       "    </tr>\n",
       "    <tr>\n",
       "      <th>8</th>\n",
       "      <td>A9</td>\n",
       "      <td>Does your child use simple gestures? (e.g. wav...</td>\n",
       "      <td>ASD0216</td>\n",
       "      <td>difficulty imitating gesture</td>\n",
       "      <td>A2</td>\n",
       "      <td>deficits in understanding and use of gestures</td>\n",
       "      <td>C0566243</td>\n",
       "    </tr>\n",
       "    <tr>\n",
       "      <th>9</th>\n",
       "      <td>A10</td>\n",
       "      <td>Does your child stare at nothing with no appar...</td>\n",
       "      <td>ASD0350</td>\n",
       "      <td>play impairment stares blankly at play objects...</td>\n",
       "      <td>A3</td>\n",
       "      <td>difficulties in sharing imaginative play</td>\n",
       "      <td>C4064319</td>\n",
       "    </tr>\n",
       "  </tbody>\n",
       "</table>\n",
       "</div>"
      ],
      "text/plain": [
       "   Var                                        Q_chat_10_T       ID  \\\n",
       "0   A1  Does your child look at you when you call his/...  ASD0194   \n",
       "1   A2  How easy is it for you to get eye contact with...  ASD0250   \n",
       "2   A3  Does your child point to indicate that s/he wa...    S1049   \n",
       "3   A4  Does your child point to share interest with y...    S0769   \n",
       "4   A5  Does your child pretend? (e.g. care for dolls,...    S1268   \n",
       "5   A6       Does your child follow where you’re looking?  ASD0642   \n",
       "6   A7  If you or someone else in the family is visibl...  ASD0019   \n",
       "7   A8    Would you describe your child’s first words as:  ASD0372   \n",
       "8   A9  Does your child use simple gestures? (e.g. wav...  ASD0216   \n",
       "9  A10  Does your child stare at nothing with no appar...  ASD0350   \n",
       "\n",
       "                                                Name DSM5 Criteria  \\\n",
       "0                attention and concentration deficit            A2   \n",
       "1                                       contacts eye            A2   \n",
       "2                             spontaneously pointing            B3   \n",
       "3                       pointing to express interest            B3   \n",
       "4                                  does pretend play            B2   \n",
       "5                                 shifting attention            B3   \n",
       "6  social interaction impairment in social/emotio...            A1   \n",
       "7                                      absent speech            B1   \n",
       "8                       difficulty imitating gesture            A2   \n",
       "9  play impairment stares blankly at play objects...            A3   \n",
       "\n",
       "                        Symptom of DSM5 Criteria       CUI  \n",
       "0  deficits in understanding and use of gestures  C2977673  \n",
       "1                   abnormalities in eye contact  C0870532  \n",
       "2             excessively circumscribed interest  C4036288  \n",
       "3                    highly restricted interests  C0424091  \n",
       "4                        need to take same route  C2371970  \n",
       "5                       highly fixated interests  C2370875  \n",
       "6                   social-emotional reciprocity  C4064035  \n",
       "7                                      echolalia  C1854882  \n",
       "8  deficits in understanding and use of gestures  C0566243  \n",
       "9       difficulties in sharing imaginative play  C4064319  "
      ]
     },
     "execution_count": 11,
     "metadata": {},
     "output_type": "execute_result"
    }
   ],
   "source": [
    "QCHAT_ASD_t"
   ]
  },
  {
   "cell_type": "code",
   "execution_count": null,
   "metadata": {},
   "outputs": [],
   "source": [
    "# Toddler Autism dataset July 2018.csv\n",
    "\n",
    "T_ASD= pd.read_csv('/home/skbae/Documents/skbae/ASD/Kaggle_ASD_TD/Toddler Autism dataset July 2018.csv')\n",
    "#Reading the train file\n",
    "# T_ASD= pd.read_csv(pt0 + \"/ASD_TD/Toddler Autism dataset July 2018.csv\")"
   ]
  },
  {
   "cell_type": "code",
   "execution_count": null,
   "metadata": {},
   "outputs": [
    {
     "name": "stdout",
     "output_type": "stream",
     "text": [
      "1054\n"
     ]
    }
   ],
   "source": [
    "T_ASD.head()\n",
    "print(len(T_ASD))"
   ]
  },
  {
   "attachments": {},
   "cell_type": "markdown",
   "metadata": {},
   "source": [
    "\"\"\"\n",
    "A1-A10: Items within Q-Chat-10  in which questions possible answers : \n",
    "“Always, Usually, Sometimes, Rarly & Never” items’ values are mapped to “1” or “0” in the dataset. \n",
    "\n",
    "For questions 1-9 (A1-A9) in Q-chat-10,  if the respose was  Sometimes / Rarly / Never “1” is assigned to the question (A1-A9). \n",
    "However, for question 10 (A10), if the respose was Always / Usually / Sometimes then “1” is assigned to that question. \n",
    "If the user obtained More than 3 Add points together for all ten questions. \n",
    "If your child scores more than 3 (Q-chat-10- score) then there is a potential ASD traits otherwise no ASD traits are observed.\n",
    "\n",
    "\n",
    "\"\"\""
   ]
  },
  {
   "cell_type": "code",
   "execution_count": null,
   "metadata": {},
   "outputs": [
    {
     "data": {
      "text/html": [
       "<div>\n",
       "<style scoped>\n",
       "    .dataframe tbody tr th:only-of-type {\n",
       "        vertical-align: middle;\n",
       "    }\n",
       "\n",
       "    .dataframe tbody tr th {\n",
       "        vertical-align: top;\n",
       "    }\n",
       "\n",
       "    .dataframe thead th {\n",
       "        text-align: right;\n",
       "    }\n",
       "</style>\n",
       "<table border=\"1\" class=\"dataframe\">\n",
       "  <thead>\n",
       "    <tr style=\"text-align: right;\">\n",
       "      <th></th>\n",
       "      <th>Case_No</th>\n",
       "      <th>A1</th>\n",
       "      <th>A2</th>\n",
       "      <th>A3</th>\n",
       "      <th>A4</th>\n",
       "      <th>A5</th>\n",
       "      <th>A6</th>\n",
       "      <th>A7</th>\n",
       "      <th>A8</th>\n",
       "      <th>A9</th>\n",
       "      <th>A10</th>\n",
       "      <th>Age_Mons</th>\n",
       "      <th>Qchat-10-Score</th>\n",
       "      <th>Sex</th>\n",
       "      <th>Ethnicity</th>\n",
       "      <th>Jaundice</th>\n",
       "      <th>Family_mem_with_ASD</th>\n",
       "      <th>Who completed the test</th>\n",
       "      <th>Class/ASD Traits</th>\n",
       "    </tr>\n",
       "  </thead>\n",
       "  <tbody>\n",
       "    <tr>\n",
       "      <th>0</th>\n",
       "      <td>1</td>\n",
       "      <td>0</td>\n",
       "      <td>0</td>\n",
       "      <td>0</td>\n",
       "      <td>0</td>\n",
       "      <td>0</td>\n",
       "      <td>0</td>\n",
       "      <td>1</td>\n",
       "      <td>1</td>\n",
       "      <td>0</td>\n",
       "      <td>1</td>\n",
       "      <td>28</td>\n",
       "      <td>3</td>\n",
       "      <td>f</td>\n",
       "      <td>middle eastern</td>\n",
       "      <td>yes</td>\n",
       "      <td>no</td>\n",
       "      <td>family member</td>\n",
       "      <td>No</td>\n",
       "    </tr>\n",
       "    <tr>\n",
       "      <th>1</th>\n",
       "      <td>2</td>\n",
       "      <td>1</td>\n",
       "      <td>1</td>\n",
       "      <td>0</td>\n",
       "      <td>0</td>\n",
       "      <td>0</td>\n",
       "      <td>1</td>\n",
       "      <td>1</td>\n",
       "      <td>0</td>\n",
       "      <td>0</td>\n",
       "      <td>0</td>\n",
       "      <td>36</td>\n",
       "      <td>4</td>\n",
       "      <td>m</td>\n",
       "      <td>White European</td>\n",
       "      <td>yes</td>\n",
       "      <td>no</td>\n",
       "      <td>family member</td>\n",
       "      <td>Yes</td>\n",
       "    </tr>\n",
       "    <tr>\n",
       "      <th>2</th>\n",
       "      <td>3</td>\n",
       "      <td>1</td>\n",
       "      <td>0</td>\n",
       "      <td>0</td>\n",
       "      <td>0</td>\n",
       "      <td>0</td>\n",
       "      <td>0</td>\n",
       "      <td>1</td>\n",
       "      <td>1</td>\n",
       "      <td>0</td>\n",
       "      <td>1</td>\n",
       "      <td>36</td>\n",
       "      <td>4</td>\n",
       "      <td>m</td>\n",
       "      <td>middle eastern</td>\n",
       "      <td>yes</td>\n",
       "      <td>no</td>\n",
       "      <td>family member</td>\n",
       "      <td>Yes</td>\n",
       "    </tr>\n",
       "    <tr>\n",
       "      <th>3</th>\n",
       "      <td>4</td>\n",
       "      <td>1</td>\n",
       "      <td>1</td>\n",
       "      <td>1</td>\n",
       "      <td>1</td>\n",
       "      <td>1</td>\n",
       "      <td>1</td>\n",
       "      <td>1</td>\n",
       "      <td>1</td>\n",
       "      <td>1</td>\n",
       "      <td>1</td>\n",
       "      <td>24</td>\n",
       "      <td>10</td>\n",
       "      <td>m</td>\n",
       "      <td>Hispanic</td>\n",
       "      <td>no</td>\n",
       "      <td>no</td>\n",
       "      <td>family member</td>\n",
       "      <td>Yes</td>\n",
       "    </tr>\n",
       "    <tr>\n",
       "      <th>4</th>\n",
       "      <td>5</td>\n",
       "      <td>1</td>\n",
       "      <td>1</td>\n",
       "      <td>0</td>\n",
       "      <td>1</td>\n",
       "      <td>1</td>\n",
       "      <td>1</td>\n",
       "      <td>1</td>\n",
       "      <td>1</td>\n",
       "      <td>1</td>\n",
       "      <td>1</td>\n",
       "      <td>20</td>\n",
       "      <td>9</td>\n",
       "      <td>f</td>\n",
       "      <td>White European</td>\n",
       "      <td>no</td>\n",
       "      <td>yes</td>\n",
       "      <td>family member</td>\n",
       "      <td>Yes</td>\n",
       "    </tr>\n",
       "  </tbody>\n",
       "</table>\n",
       "</div>"
      ],
      "text/plain": [
       "   Case_No  A1  A2  A3  A4  A5  A6  A7  A8  A9  A10  Age_Mons  Qchat-10-Score  \\\n",
       "0        1   0   0   0   0   0   0   1   1   0    1        28               3   \n",
       "1        2   1   1   0   0   0   1   1   0   0    0        36               4   \n",
       "2        3   1   0   0   0   0   0   1   1   0    1        36               4   \n",
       "3        4   1   1   1   1   1   1   1   1   1    1        24              10   \n",
       "4        5   1   1   0   1   1   1   1   1   1    1        20               9   \n",
       "\n",
       "  Sex       Ethnicity Jaundice Family_mem_with_ASD Who completed the test  \\\n",
       "0   f  middle eastern      yes                  no          family member   \n",
       "1   m  White European      yes                  no          family member   \n",
       "2   m  middle eastern      yes                  no          family member   \n",
       "3   m        Hispanic       no                  no          family member   \n",
       "4   f  White European       no                 yes          family member   \n",
       "\n",
       "  Class/ASD Traits   \n",
       "0                No  \n",
       "1               Yes  \n",
       "2               Yes  \n",
       "3               Yes  \n",
       "4               Yes  "
      ]
     },
     "execution_count": 15,
     "metadata": {},
     "output_type": "execute_result"
    }
   ],
   "source": [
    "T_ASD.head()"
   ]
  },
  {
   "cell_type": "code",
   "execution_count": null,
   "metadata": {},
   "outputs": [
    {
     "data": {
      "text/plain": [
       "Index(['Var', 'Q_chat_10_T', 'ID', 'Name', 'DSM5 Criteria',\n",
       "       'Symptom of DSM5 Criteria', 'CUI'],\n",
       "      dtype='object')"
      ]
     },
     "execution_count": 16,
     "metadata": {},
     "output_type": "execute_result"
    }
   ],
   "source": [
    "QCHAT_ASD_t.columns"
   ]
  },
  {
   "cell_type": "code",
   "execution_count": null,
   "metadata": {},
   "outputs": [
    {
     "data": {
      "text/html": [
       "<div>\n",
       "<style scoped>\n",
       "    .dataframe tbody tr th:only-of-type {\n",
       "        vertical-align: middle;\n",
       "    }\n",
       "\n",
       "    .dataframe tbody tr th {\n",
       "        vertical-align: top;\n",
       "    }\n",
       "\n",
       "    .dataframe thead th {\n",
       "        text-align: right;\n",
       "    }\n",
       "</style>\n",
       "<table border=\"1\" class=\"dataframe\">\n",
       "  <thead>\n",
       "    <tr style=\"text-align: right;\">\n",
       "      <th></th>\n",
       "      <th>Var</th>\n",
       "      <th>Name</th>\n",
       "      <th>CUI</th>\n",
       "    </tr>\n",
       "  </thead>\n",
       "  <tbody>\n",
       "    <tr>\n",
       "      <th>0</th>\n",
       "      <td>A1</td>\n",
       "      <td>attention and concentration deficit</td>\n",
       "      <td>C2977673</td>\n",
       "    </tr>\n",
       "    <tr>\n",
       "      <th>1</th>\n",
       "      <td>A2</td>\n",
       "      <td>contacts eye</td>\n",
       "      <td>C0870532</td>\n",
       "    </tr>\n",
       "    <tr>\n",
       "      <th>2</th>\n",
       "      <td>A3</td>\n",
       "      <td>spontaneously pointing</td>\n",
       "      <td>C4036288</td>\n",
       "    </tr>\n",
       "    <tr>\n",
       "      <th>3</th>\n",
       "      <td>A4</td>\n",
       "      <td>pointing to express interest</td>\n",
       "      <td>C0424091</td>\n",
       "    </tr>\n",
       "    <tr>\n",
       "      <th>4</th>\n",
       "      <td>A5</td>\n",
       "      <td>does pretend play</td>\n",
       "      <td>C2371970</td>\n",
       "    </tr>\n",
       "    <tr>\n",
       "      <th>5</th>\n",
       "      <td>A6</td>\n",
       "      <td>shifting attention</td>\n",
       "      <td>C2370875</td>\n",
       "    </tr>\n",
       "    <tr>\n",
       "      <th>6</th>\n",
       "      <td>A7</td>\n",
       "      <td>social interaction impairment in social/emotio...</td>\n",
       "      <td>C4064035</td>\n",
       "    </tr>\n",
       "    <tr>\n",
       "      <th>7</th>\n",
       "      <td>A8</td>\n",
       "      <td>absent speech</td>\n",
       "      <td>C1854882</td>\n",
       "    </tr>\n",
       "    <tr>\n",
       "      <th>8</th>\n",
       "      <td>A9</td>\n",
       "      <td>difficulty imitating gesture</td>\n",
       "      <td>C0566243</td>\n",
       "    </tr>\n",
       "    <tr>\n",
       "      <th>9</th>\n",
       "      <td>A10</td>\n",
       "      <td>play impairment stares blankly at play objects...</td>\n",
       "      <td>C4064319</td>\n",
       "    </tr>\n",
       "  </tbody>\n",
       "</table>\n",
       "</div>"
      ],
      "text/plain": [
       "   Var                                               Name       CUI\n",
       "0   A1                attention and concentration deficit  C2977673\n",
       "1   A2                                       contacts eye  C0870532\n",
       "2   A3                             spontaneously pointing  C4036288\n",
       "3   A4                       pointing to express interest  C0424091\n",
       "4   A5                                  does pretend play  C2371970\n",
       "5   A6                                 shifting attention  C2370875\n",
       "6   A7  social interaction impairment in social/emotio...  C4064035\n",
       "7   A8                                      absent speech  C1854882\n",
       "8   A9                       difficulty imitating gesture  C0566243\n",
       "9  A10  play impairment stares blankly at play objects...  C4064319"
      ]
     },
     "execution_count": 17,
     "metadata": {},
     "output_type": "execute_result"
    }
   ],
   "source": [
    "QCHAT_ASD_t[['Var','Name','CUI']]"
   ]
  },
  {
   "cell_type": "code",
   "execution_count": null,
   "metadata": {},
   "outputs": [
    {
     "data": {
      "text/plain": [
       "'play impairment stares blankly at play objects rather than manipulating them'"
      ]
     },
     "execution_count": 18,
     "metadata": {},
     "output_type": "execute_result"
    }
   ],
   "source": [
    "QCHAT_ASD_t['Name'][9]"
   ]
  },
  {
   "cell_type": "code",
   "execution_count": null,
   "metadata": {},
   "outputs": [
    {
     "data": {
      "text/plain": [
       "Index(['Case_No', 'A1', 'A2', 'A3', 'A4', 'A5', 'A6', 'A7', 'A8', 'A9', 'A10',\n",
       "       'Age_Mons', 'Qchat-10-Score', 'Sex', 'Ethnicity', 'Jaundice',\n",
       "       'Family_mem_with_ASD', 'Who completed the test', 'Class/ASD Traits '],\n",
       "      dtype='object')"
      ]
     },
     "execution_count": 19,
     "metadata": {},
     "output_type": "execute_result"
    }
   ],
   "source": [
    "T_ASD.columns"
   ]
  },
  {
   "cell_type": "code",
   "execution_count": null,
   "metadata": {},
   "outputs": [],
   "source": [
    "T_ASD['A1_C2977673']=['attention and concentration deficit' if x ==1 else '' for x in T_ASD['A1']]"
   ]
  },
  {
   "cell_type": "code",
   "execution_count": null,
   "metadata": {},
   "outputs": [],
   "source": [
    "T_ASD['A2_C0870532']=['contacts eye' if x ==1 else '' for x in T_ASD['A2']]\n",
    "T_ASD['A3_C4036288']=['spontaneously pointing' if x ==1 else '' for x in T_ASD['A3']]\n",
    "T_ASD['A4_C0424091']=['pointing to express interest' if x ==1 else '' for x in T_ASD['A4']]\n",
    "T_ASD['A5_C2371970']=['does pretend play' if x ==1 else '' for x in T_ASD['A5']]\n",
    "T_ASD['A6_C2370875']=['shifting attention' if x ==1 else '' for x in T_ASD['A6']]\n",
    "T_ASD['A7_C4064035']=['social interaction impairment in social/emotional reciprocity' if x ==1 else '' for x in T_ASD['A7']]\n",
    "T_ASD['A8_C1854882']=['absent speech' if x ==1 else '' for x in T_ASD['A8']]\n",
    "T_ASD['A9_C0566243']=['difficulty imitating gesture' if x ==1 else '' for x in T_ASD['A9']]\n",
    "T_ASD['A10_C4064319']=['play impairment stares blankly at play objects rather than manipulating them' if x ==1 else '' for x in T_ASD['A10']]"
   ]
  },
  {
   "cell_type": "code",
   "execution_count": null,
   "metadata": {},
   "outputs": [
    {
     "data": {
      "text/plain": [
       "Index(['Case_No', 'A1', 'A2', 'A3', 'A4', 'A5', 'A6', 'A7', 'A8', 'A9', 'A10',\n",
       "       'Age_Mons', 'Qchat-10-Score', 'Sex', 'Ethnicity', 'Jaundice',\n",
       "       'Family_mem_with_ASD', 'Who completed the test', 'Class/ASD Traits ',\n",
       "       'A1_C2977673', 'A2_C0870532', 'A3_C4036288', 'A4_C0424091',\n",
       "       'A5_C2371970', 'A6_C2370875', 'A7_C4064035', 'A8_C1854882',\n",
       "       'A9_C0566243', 'A10_C4064319'],\n",
       "      dtype='object')"
      ]
     },
     "execution_count": 22,
     "metadata": {},
     "output_type": "execute_result"
    }
   ],
   "source": [
    "T_ASD.columns"
   ]
  },
  {
   "cell_type": "code",
   "execution_count": null,
   "metadata": {},
   "outputs": [],
   "source": [
    "\n",
    "T_ASD['combined']=T_ASD[[T_ASD.columns[19],T_ASD.columns[20],T_ASD.columns[21],\\\n",
    "                         T_ASD.columns[22],T_ASD.columns[23],T_ASD.columns[24],\\\n",
    "                        T_ASD.columns[25],T_ASD.columns[26],T_ASD.columns[27],\\\n",
    "                        T_ASD.columns[28]]].apply(lambda x: \" ,\".join(x), axis =1)"
   ]
  },
  {
   "cell_type": "code",
   "execution_count": null,
   "metadata": {},
   "outputs": [
    {
     "data": {
      "text/html": [
       "<div>\n",
       "<style scoped>\n",
       "    .dataframe tbody tr th:only-of-type {\n",
       "        vertical-align: middle;\n",
       "    }\n",
       "\n",
       "    .dataframe tbody tr th {\n",
       "        vertical-align: top;\n",
       "    }\n",
       "\n",
       "    .dataframe thead th {\n",
       "        text-align: right;\n",
       "    }\n",
       "</style>\n",
       "<table border=\"1\" class=\"dataframe\">\n",
       "  <thead>\n",
       "    <tr style=\"text-align: right;\">\n",
       "      <th></th>\n",
       "      <th>A1_C2977673</th>\n",
       "      <th>A2_C0870532</th>\n",
       "      <th>combined</th>\n",
       "    </tr>\n",
       "  </thead>\n",
       "  <tbody>\n",
       "    <tr>\n",
       "      <th>0</th>\n",
       "      <td></td>\n",
       "      <td></td>\n",
       "      <td>, , , , , ,social interaction impairment in s...</td>\n",
       "    </tr>\n",
       "    <tr>\n",
       "      <th>1</th>\n",
       "      <td>attention and concentration deficit</td>\n",
       "      <td>contacts eye</td>\n",
       "      <td>attention and concentration deficit ,contacts ...</td>\n",
       "    </tr>\n",
       "    <tr>\n",
       "      <th>2</th>\n",
       "      <td>attention and concentration deficit</td>\n",
       "      <td></td>\n",
       "      <td>attention and concentration deficit , , , , , ...</td>\n",
       "    </tr>\n",
       "    <tr>\n",
       "      <th>3</th>\n",
       "      <td>attention and concentration deficit</td>\n",
       "      <td>contacts eye</td>\n",
       "      <td>attention and concentration deficit ,contacts ...</td>\n",
       "    </tr>\n",
       "    <tr>\n",
       "      <th>4</th>\n",
       "      <td>attention and concentration deficit</td>\n",
       "      <td>contacts eye</td>\n",
       "      <td>attention and concentration deficit ,contacts ...</td>\n",
       "    </tr>\n",
       "  </tbody>\n",
       "</table>\n",
       "</div>"
      ],
      "text/plain": [
       "                           A1_C2977673   A2_C0870532  \\\n",
       "0                                                      \n",
       "1  attention and concentration deficit  contacts eye   \n",
       "2  attention and concentration deficit                 \n",
       "3  attention and concentration deficit  contacts eye   \n",
       "4  attention and concentration deficit  contacts eye   \n",
       "\n",
       "                                            combined  \n",
       "0   , , , , , ,social interaction impairment in s...  \n",
       "1  attention and concentration deficit ,contacts ...  \n",
       "2  attention and concentration deficit , , , , , ...  \n",
       "3  attention and concentration deficit ,contacts ...  \n",
       "4  attention and concentration deficit ,contacts ...  "
      ]
     },
     "execution_count": 24,
     "metadata": {},
     "output_type": "execute_result"
    }
   ],
   "source": [
    "T_ASD[['A1_C2977673', 'A2_C0870532','combined']].head()"
   ]
  },
  {
   "cell_type": "code",
   "execution_count": null,
   "metadata": {},
   "outputs": [],
   "source": [
    "data = T_ASD.combined.values.tolist() "
   ]
  },
  {
   "cell_type": "code",
   "execution_count": null,
   "metadata": {},
   "outputs": [
    {
     "data": {
      "text/plain": [
       "Yes    728\n",
       "No     326\n",
       "Name: Class/ASD Traits , dtype: int64"
      ]
     },
     "execution_count": 28,
     "metadata": {},
     "output_type": "execute_result"
    }
   ],
   "source": [
    "T_ASD['Class/ASD Traits '].value_counts()"
   ]
  },
  {
   "cell_type": "code",
   "execution_count": null,
   "metadata": {},
   "outputs": [],
   "source": [
    "df=T_ASD[['Class/ASD Traits ','combined']]"
   ]
  },
  {
   "cell_type": "code",
   "execution_count": null,
   "metadata": {},
   "outputs": [
    {
     "data": {
      "text/html": [
       "<div>\n",
       "<style scoped>\n",
       "    .dataframe tbody tr th:only-of-type {\n",
       "        vertical-align: middle;\n",
       "    }\n",
       "\n",
       "    .dataframe tbody tr th {\n",
       "        vertical-align: top;\n",
       "    }\n",
       "\n",
       "    .dataframe thead th {\n",
       "        text-align: right;\n",
       "    }\n",
       "</style>\n",
       "<table border=\"1\" class=\"dataframe\">\n",
       "  <thead>\n",
       "    <tr style=\"text-align: right;\">\n",
       "      <th></th>\n",
       "      <th>Class/ASD Traits</th>\n",
       "      <th>combined</th>\n",
       "    </tr>\n",
       "  </thead>\n",
       "  <tbody>\n",
       "    <tr>\n",
       "      <th>0</th>\n",
       "      <td>No</td>\n",
       "      <td>, , , , , ,social interaction impairment in s...</td>\n",
       "    </tr>\n",
       "    <tr>\n",
       "      <th>1</th>\n",
       "      <td>Yes</td>\n",
       "      <td>attention and concentration deficit ,contacts ...</td>\n",
       "    </tr>\n",
       "    <tr>\n",
       "      <th>2</th>\n",
       "      <td>Yes</td>\n",
       "      <td>attention and concentration deficit , , , , , ...</td>\n",
       "    </tr>\n",
       "    <tr>\n",
       "      <th>3</th>\n",
       "      <td>Yes</td>\n",
       "      <td>attention and concentration deficit ,contacts ...</td>\n",
       "    </tr>\n",
       "    <tr>\n",
       "      <th>4</th>\n",
       "      <td>Yes</td>\n",
       "      <td>attention and concentration deficit ,contacts ...</td>\n",
       "    </tr>\n",
       "  </tbody>\n",
       "</table>\n",
       "</div>"
      ],
      "text/plain": [
       "  Class/ASD Traits                                            combined\n",
       "0                No   , , , , , ,social interaction impairment in s...\n",
       "1               Yes  attention and concentration deficit ,contacts ...\n",
       "2               Yes  attention and concentration deficit , , , , , ...\n",
       "3               Yes  attention and concentration deficit ,contacts ...\n",
       "4               Yes  attention and concentration deficit ,contacts ..."
      ]
     },
     "execution_count": 30,
     "metadata": {},
     "output_type": "execute_result"
    }
   ],
   "source": [
    "df.head()"
   ]
  },
  {
   "cell_type": "code",
   "execution_count": null,
   "metadata": {},
   "outputs": [],
   "source": [
    "df.columns =['Class/ASD Traits ','text']"
   ]
  },
  {
   "cell_type": "code",
   "execution_count": null,
   "metadata": {},
   "outputs": [],
   "source": [
    "# import :paper/Data\n",
    "T_ASD.to_csv('./QCHAT_T_ASD_total_Jan222024.csv', header=True, index=False)"
   ]
  }
 ],
 "metadata": {
  "kernelspec": {
   "display_name": "Python 3",
   "language": "python",
   "name": "python3"
  },
  "language_info": {
   "codemirror_mode": {
    "name": "ipython",
    "version": 3
   },
   "file_extension": ".py",
   "mimetype": "text/x-python",
   "name": "python",
   "nbconvert_exporter": "python",
   "pygments_lexer": "ipython3",
   "version": "3.9.16"
  },
  "orig_nbformat": 4
 },
 "nbformat": 4,
 "nbformat_minor": 2
}
